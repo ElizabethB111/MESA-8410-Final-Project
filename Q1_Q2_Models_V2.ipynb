{
  "cells": [
    {
      "cell_type": "markdown",
      "metadata": {
        "id": "view-in-github",
        "colab_type": "text"
      },
      "source": [
        "<a href=\"https://colab.research.google.com/github/ElizabethB111/MESA-8410-Final-Project/blob/main/Q1_Q2_Models_V2.ipynb\" target=\"_parent\"><img src=\"https://colab.research.google.com/assets/colab-badge.svg\" alt=\"Open In Colab\"/></a>"
      ]
    },
    {
      "cell_type": "code",
      "execution_count": null,
      "metadata": {
        "id": "n-VwsNHNf4u8"
      },
      "outputs": [],
      "source": [
        "# IMPORT LIBRARIES BELOW\n",
        "import pandas as pd\n",
        "import seaborn as sns\n",
        "import matplotlib.pyplot as plt\n",
        "import numpy as np\n",
        "from scipy.stats import ttest_ind"
      ]
    },
    {
      "cell_type": "markdown",
      "metadata": {
        "id": "IKG02a90f4u9"
      },
      "source": [
        "### Reading in the data\n",
        "First mount the google drive;\n",
        "The data is in csv format and stored in \"Colab Notebooks/Final Project/Data/\". Import the data into a dataframe named `q1q2_focused_df_for_modelng`."
      ]
    },
    {
      "cell_type": "code",
      "execution_count": null,
      "metadata": {
        "id": "xEipUI-mf4u9",
        "colab": {
          "base_uri": "https://localhost:8080/"
        },
        "outputId": "a95c6762-be87-43b2-be1c-26580bfd4133"
      },
      "outputs": [
        {
          "output_type": "stream",
          "name": "stdout",
          "text": [
            "Drive already mounted at /content/drive; to attempt to forcibly remount, call drive.mount(\"/content/drive\", force_remount=True).\n"
          ]
        }
      ],
      "source": [
        "# the code below allows you to access Google Drive.\n",
        "from google.colab import drive\n",
        "\n",
        "drive.mount('/content/drive')\n",
        "\n",
        "# root_dir is the path to your My_Drive folder.\n",
        "root_dir = \"/content/drive/My Drive/\"\n",
        "\n",
        "# Store the dataframes in the following directory.\n",
        "data_folder = root_dir + \"Colab Notebooks/Final Project/Data/\"\n",
        "\n",
        "# the CSV data file contains admin_wide_data with dropped columns and checked for no missing values\n",
        "inputfile1 = \"/content/drive/My Drive/Colab Notebooks/Final Project/Data/q1q2_focused_df_for_modeling.csv\"\n",
        "\n",
        "\n",
        "# Read the CSV file into a dataframe\n",
        "q1q2_focused_df_for_modeling = pd.read_csv(inputfile1)\n"
      ]
    },
    {
      "cell_type": "code",
      "source": [
        "q1q2_focused_df_for_modeling.head()"
      ],
      "metadata": {
        "colab": {
          "base_uri": "https://localhost:8080/",
          "height": 206
        },
        "id": "MscBd8m30K4N",
        "outputId": "44284ed5-80e8-4b00-b433-0b2bb1162da5"
      },
      "execution_count": null,
      "outputs": [
        {
          "output_type": "execute_result",
          "data": {
            "text/plain": [
              "   ps_code  month  treatment  women_whd  e_dir_count  e_fir_caw_count  \\\n",
              "0   1001.0    1.0  Treatment        1.0            0               11   \n",
              "1   1002.0    1.0    Control        0.0            0                2   \n",
              "2   1003.0    1.0    Control        0.0            0               14   \n",
              "3   1004.0    1.0  Treatment        0.0            2                2   \n",
              "4   1005.0    1.0  Treatment        1.0            0                0   \n",
              "\n",
              "   e_fir_bywomen_count  e_arrest_count  yyyymm  \n",
              "0                    3              13  201901  \n",
              "1                    2               2  201901  \n",
              "2                    9              19  201901  \n",
              "3                    1               4  201901  \n",
              "4                    0               0  201901  "
            ],
            "text/html": [
              "\n",
              "  <div id=\"df-335ee275-dacf-4b6b-ae5b-c70abfbaf2fd\" class=\"colab-df-container\">\n",
              "    <div>\n",
              "<style scoped>\n",
              "    .dataframe tbody tr th:only-of-type {\n",
              "        vertical-align: middle;\n",
              "    }\n",
              "\n",
              "    .dataframe tbody tr th {\n",
              "        vertical-align: top;\n",
              "    }\n",
              "\n",
              "    .dataframe thead th {\n",
              "        text-align: right;\n",
              "    }\n",
              "</style>\n",
              "<table border=\"1\" class=\"dataframe\">\n",
              "  <thead>\n",
              "    <tr style=\"text-align: right;\">\n",
              "      <th></th>\n",
              "      <th>ps_code</th>\n",
              "      <th>month</th>\n",
              "      <th>treatment</th>\n",
              "      <th>women_whd</th>\n",
              "      <th>e_dir_count</th>\n",
              "      <th>e_fir_caw_count</th>\n",
              "      <th>e_fir_bywomen_count</th>\n",
              "      <th>e_arrest_count</th>\n",
              "      <th>yyyymm</th>\n",
              "    </tr>\n",
              "  </thead>\n",
              "  <tbody>\n",
              "    <tr>\n",
              "      <th>0</th>\n",
              "      <td>1001.0</td>\n",
              "      <td>1.0</td>\n",
              "      <td>Treatment</td>\n",
              "      <td>1.0</td>\n",
              "      <td>0</td>\n",
              "      <td>11</td>\n",
              "      <td>3</td>\n",
              "      <td>13</td>\n",
              "      <td>201901</td>\n",
              "    </tr>\n",
              "    <tr>\n",
              "      <th>1</th>\n",
              "      <td>1002.0</td>\n",
              "      <td>1.0</td>\n",
              "      <td>Control</td>\n",
              "      <td>0.0</td>\n",
              "      <td>0</td>\n",
              "      <td>2</td>\n",
              "      <td>2</td>\n",
              "      <td>2</td>\n",
              "      <td>201901</td>\n",
              "    </tr>\n",
              "    <tr>\n",
              "      <th>2</th>\n",
              "      <td>1003.0</td>\n",
              "      <td>1.0</td>\n",
              "      <td>Control</td>\n",
              "      <td>0.0</td>\n",
              "      <td>0</td>\n",
              "      <td>14</td>\n",
              "      <td>9</td>\n",
              "      <td>19</td>\n",
              "      <td>201901</td>\n",
              "    </tr>\n",
              "    <tr>\n",
              "      <th>3</th>\n",
              "      <td>1004.0</td>\n",
              "      <td>1.0</td>\n",
              "      <td>Treatment</td>\n",
              "      <td>0.0</td>\n",
              "      <td>2</td>\n",
              "      <td>2</td>\n",
              "      <td>1</td>\n",
              "      <td>4</td>\n",
              "      <td>201901</td>\n",
              "    </tr>\n",
              "    <tr>\n",
              "      <th>4</th>\n",
              "      <td>1005.0</td>\n",
              "      <td>1.0</td>\n",
              "      <td>Treatment</td>\n",
              "      <td>1.0</td>\n",
              "      <td>0</td>\n",
              "      <td>0</td>\n",
              "      <td>0</td>\n",
              "      <td>0</td>\n",
              "      <td>201901</td>\n",
              "    </tr>\n",
              "  </tbody>\n",
              "</table>\n",
              "</div>\n",
              "    <div class=\"colab-df-buttons\">\n",
              "\n",
              "  <div class=\"colab-df-container\">\n",
              "    <button class=\"colab-df-convert\" onclick=\"convertToInteractive('df-335ee275-dacf-4b6b-ae5b-c70abfbaf2fd')\"\n",
              "            title=\"Convert this dataframe to an interactive table.\"\n",
              "            style=\"display:none;\">\n",
              "\n",
              "  <svg xmlns=\"http://www.w3.org/2000/svg\" height=\"24px\" viewBox=\"0 -960 960 960\">\n",
              "    <path d=\"M120-120v-720h720v720H120Zm60-500h600v-160H180v160Zm220 220h160v-160H400v160Zm0 220h160v-160H400v160ZM180-400h160v-160H180v160Zm440 0h160v-160H620v160ZM180-180h160v-160H180v160Zm440 0h160v-160H620v160Z\"/>\n",
              "  </svg>\n",
              "    </button>\n",
              "\n",
              "  <style>\n",
              "    .colab-df-container {\n",
              "      display:flex;\n",
              "      gap: 12px;\n",
              "    }\n",
              "\n",
              "    .colab-df-convert {\n",
              "      background-color: #E8F0FE;\n",
              "      border: none;\n",
              "      border-radius: 50%;\n",
              "      cursor: pointer;\n",
              "      display: none;\n",
              "      fill: #1967D2;\n",
              "      height: 32px;\n",
              "      padding: 0 0 0 0;\n",
              "      width: 32px;\n",
              "    }\n",
              "\n",
              "    .colab-df-convert:hover {\n",
              "      background-color: #E2EBFA;\n",
              "      box-shadow: 0px 1px 2px rgba(60, 64, 67, 0.3), 0px 1px 3px 1px rgba(60, 64, 67, 0.15);\n",
              "      fill: #174EA6;\n",
              "    }\n",
              "\n",
              "    .colab-df-buttons div {\n",
              "      margin-bottom: 4px;\n",
              "    }\n",
              "\n",
              "    [theme=dark] .colab-df-convert {\n",
              "      background-color: #3B4455;\n",
              "      fill: #D2E3FC;\n",
              "    }\n",
              "\n",
              "    [theme=dark] .colab-df-convert:hover {\n",
              "      background-color: #434B5C;\n",
              "      box-shadow: 0px 1px 3px 1px rgba(0, 0, 0, 0.15);\n",
              "      filter: drop-shadow(0px 1px 2px rgba(0, 0, 0, 0.3));\n",
              "      fill: #FFFFFF;\n",
              "    }\n",
              "  </style>\n",
              "\n",
              "    <script>\n",
              "      const buttonEl =\n",
              "        document.querySelector('#df-335ee275-dacf-4b6b-ae5b-c70abfbaf2fd button.colab-df-convert');\n",
              "      buttonEl.style.display =\n",
              "        google.colab.kernel.accessAllowed ? 'block' : 'none';\n",
              "\n",
              "      async function convertToInteractive(key) {\n",
              "        const element = document.querySelector('#df-335ee275-dacf-4b6b-ae5b-c70abfbaf2fd');\n",
              "        const dataTable =\n",
              "          await google.colab.kernel.invokeFunction('convertToInteractive',\n",
              "                                                    [key], {});\n",
              "        if (!dataTable) return;\n",
              "\n",
              "        const docLinkHtml = 'Like what you see? Visit the ' +\n",
              "          '<a target=\"_blank\" href=https://colab.research.google.com/notebooks/data_table.ipynb>data table notebook</a>'\n",
              "          + ' to learn more about interactive tables.';\n",
              "        element.innerHTML = '';\n",
              "        dataTable['output_type'] = 'display_data';\n",
              "        await google.colab.output.renderOutput(dataTable, element);\n",
              "        const docLink = document.createElement('div');\n",
              "        docLink.innerHTML = docLinkHtml;\n",
              "        element.appendChild(docLink);\n",
              "      }\n",
              "    </script>\n",
              "  </div>\n",
              "\n",
              "\n",
              "<div id=\"df-e1a689e3-4a89-4174-ae27-147a79a076bd\">\n",
              "  <button class=\"colab-df-quickchart\" onclick=\"quickchart('df-e1a689e3-4a89-4174-ae27-147a79a076bd')\"\n",
              "            title=\"Suggest charts\"\n",
              "            style=\"display:none;\">\n",
              "\n",
              "<svg xmlns=\"http://www.w3.org/2000/svg\" height=\"24px\"viewBox=\"0 0 24 24\"\n",
              "     width=\"24px\">\n",
              "    <g>\n",
              "        <path d=\"M19 3H5c-1.1 0-2 .9-2 2v14c0 1.1.9 2 2 2h14c1.1 0 2-.9 2-2V5c0-1.1-.9-2-2-2zM9 17H7v-7h2v7zm4 0h-2V7h2v10zm4 0h-2v-4h2v4z\"/>\n",
              "    </g>\n",
              "</svg>\n",
              "  </button>\n",
              "\n",
              "<style>\n",
              "  .colab-df-quickchart {\n",
              "      --bg-color: #E8F0FE;\n",
              "      --fill-color: #1967D2;\n",
              "      --hover-bg-color: #E2EBFA;\n",
              "      --hover-fill-color: #174EA6;\n",
              "      --disabled-fill-color: #AAA;\n",
              "      --disabled-bg-color: #DDD;\n",
              "  }\n",
              "\n",
              "  [theme=dark] .colab-df-quickchart {\n",
              "      --bg-color: #3B4455;\n",
              "      --fill-color: #D2E3FC;\n",
              "      --hover-bg-color: #434B5C;\n",
              "      --hover-fill-color: #FFFFFF;\n",
              "      --disabled-bg-color: #3B4455;\n",
              "      --disabled-fill-color: #666;\n",
              "  }\n",
              "\n",
              "  .colab-df-quickchart {\n",
              "    background-color: var(--bg-color);\n",
              "    border: none;\n",
              "    border-radius: 50%;\n",
              "    cursor: pointer;\n",
              "    display: none;\n",
              "    fill: var(--fill-color);\n",
              "    height: 32px;\n",
              "    padding: 0;\n",
              "    width: 32px;\n",
              "  }\n",
              "\n",
              "  .colab-df-quickchart:hover {\n",
              "    background-color: var(--hover-bg-color);\n",
              "    box-shadow: 0 1px 2px rgba(60, 64, 67, 0.3), 0 1px 3px 1px rgba(60, 64, 67, 0.15);\n",
              "    fill: var(--button-hover-fill-color);\n",
              "  }\n",
              "\n",
              "  .colab-df-quickchart-complete:disabled,\n",
              "  .colab-df-quickchart-complete:disabled:hover {\n",
              "    background-color: var(--disabled-bg-color);\n",
              "    fill: var(--disabled-fill-color);\n",
              "    box-shadow: none;\n",
              "  }\n",
              "\n",
              "  .colab-df-spinner {\n",
              "    border: 2px solid var(--fill-color);\n",
              "    border-color: transparent;\n",
              "    border-bottom-color: var(--fill-color);\n",
              "    animation:\n",
              "      spin 1s steps(1) infinite;\n",
              "  }\n",
              "\n",
              "  @keyframes spin {\n",
              "    0% {\n",
              "      border-color: transparent;\n",
              "      border-bottom-color: var(--fill-color);\n",
              "      border-left-color: var(--fill-color);\n",
              "    }\n",
              "    20% {\n",
              "      border-color: transparent;\n",
              "      border-left-color: var(--fill-color);\n",
              "      border-top-color: var(--fill-color);\n",
              "    }\n",
              "    30% {\n",
              "      border-color: transparent;\n",
              "      border-left-color: var(--fill-color);\n",
              "      border-top-color: var(--fill-color);\n",
              "      border-right-color: var(--fill-color);\n",
              "    }\n",
              "    40% {\n",
              "      border-color: transparent;\n",
              "      border-right-color: var(--fill-color);\n",
              "      border-top-color: var(--fill-color);\n",
              "    }\n",
              "    60% {\n",
              "      border-color: transparent;\n",
              "      border-right-color: var(--fill-color);\n",
              "    }\n",
              "    80% {\n",
              "      border-color: transparent;\n",
              "      border-right-color: var(--fill-color);\n",
              "      border-bottom-color: var(--fill-color);\n",
              "    }\n",
              "    90% {\n",
              "      border-color: transparent;\n",
              "      border-bottom-color: var(--fill-color);\n",
              "    }\n",
              "  }\n",
              "</style>\n",
              "\n",
              "  <script>\n",
              "    async function quickchart(key) {\n",
              "      const quickchartButtonEl =\n",
              "        document.querySelector('#' + key + ' button');\n",
              "      quickchartButtonEl.disabled = true;  // To prevent multiple clicks.\n",
              "      quickchartButtonEl.classList.add('colab-df-spinner');\n",
              "      try {\n",
              "        const charts = await google.colab.kernel.invokeFunction(\n",
              "            'suggestCharts', [key], {});\n",
              "      } catch (error) {\n",
              "        console.error('Error during call to suggestCharts:', error);\n",
              "      }\n",
              "      quickchartButtonEl.classList.remove('colab-df-spinner');\n",
              "      quickchartButtonEl.classList.add('colab-df-quickchart-complete');\n",
              "    }\n",
              "    (() => {\n",
              "      let quickchartButtonEl =\n",
              "        document.querySelector('#df-e1a689e3-4a89-4174-ae27-147a79a076bd button');\n",
              "      quickchartButtonEl.style.display =\n",
              "        google.colab.kernel.accessAllowed ? 'block' : 'none';\n",
              "    })();\n",
              "  </script>\n",
              "</div>\n",
              "\n",
              "    </div>\n",
              "  </div>\n"
            ],
            "application/vnd.google.colaboratory.intrinsic+json": {
              "type": "dataframe",
              "variable_name": "q1q2_focused_df_for_modeling",
              "summary": "{\n  \"name\": \"q1q2_focused_df_for_modeling\",\n  \"rows\": 1980,\n  \"fields\": [\n    {\n      \"column\": \"ps_code\",\n      \"properties\": {\n        \"dtype\": \"number\",\n        \"std\": 3110.226317949082,\n        \"min\": 1001.0,\n        \"max\": 12180.0,\n        \"num_unique_values\": 180,\n        \"samples\": [\n          2020.0,\n          3043.0,\n          10154.0\n        ],\n        \"semantic_type\": \"\",\n        \"description\": \"\"\n      }\n    },\n    {\n      \"column\": \"month\",\n      \"properties\": {\n        \"dtype\": \"number\",\n        \"std\": 3.5194347639169163,\n        \"min\": 1.0,\n        \"max\": 12.0,\n        \"num_unique_values\": 11,\n        \"samples\": [\n          7.0,\n          1.0,\n          11.0\n        ],\n        \"semantic_type\": \"\",\n        \"description\": \"\"\n      }\n    },\n    {\n      \"column\": \"treatment\",\n      \"properties\": {\n        \"dtype\": \"category\",\n        \"num_unique_values\": 2,\n        \"samples\": [\n          \"Control\",\n          \"Treatment\"\n        ],\n        \"semantic_type\": \"\",\n        \"description\": \"\"\n      }\n    },\n    {\n      \"column\": \"women_whd\",\n      \"properties\": {\n        \"dtype\": \"number\",\n        \"std\": 0.4695219323774397,\n        \"min\": 0.0,\n        \"max\": 1.0,\n        \"num_unique_values\": 2,\n        \"samples\": [\n          0.0,\n          1.0\n        ],\n        \"semantic_type\": \"\",\n        \"description\": \"\"\n      }\n    },\n    {\n      \"column\": \"e_dir_count\",\n      \"properties\": {\n        \"dtype\": \"number\",\n        \"std\": 2,\n        \"min\": 0,\n        \"max\": 33,\n        \"num_unique_values\": 27,\n        \"samples\": [\n          10,\n          7\n        ],\n        \"semantic_type\": \"\",\n        \"description\": \"\"\n      }\n    },\n    {\n      \"column\": \"e_fir_caw_count\",\n      \"properties\": {\n        \"dtype\": \"number\",\n        \"std\": 3,\n        \"min\": 0,\n        \"max\": 23,\n        \"num_unique_values\": 24,\n        \"samples\": [\n          12,\n          19\n        ],\n        \"semantic_type\": \"\",\n        \"description\": \"\"\n      }\n    },\n    {\n      \"column\": \"e_fir_bywomen_count\",\n      \"properties\": {\n        \"dtype\": \"number\",\n        \"std\": 2,\n        \"min\": 0,\n        \"max\": 11,\n        \"num_unique_values\": 12,\n        \"samples\": [\n          7,\n          10\n        ],\n        \"semantic_type\": \"\",\n        \"description\": \"\"\n      }\n    },\n    {\n      \"column\": \"e_arrest_count\",\n      \"properties\": {\n        \"dtype\": \"number\",\n        \"std\": 4,\n        \"min\": 0,\n        \"max\": 37,\n        \"num_unique_values\": 32,\n        \"samples\": [\n          34,\n          10\n        ],\n        \"semantic_type\": \"\",\n        \"description\": \"\"\n      }\n    },\n    {\n      \"column\": \"yyyymm\",\n      \"properties\": {\n        \"dtype\": \"number\",\n        \"std\": 41,\n        \"min\": 201805,\n        \"max\": 201903,\n        \"num_unique_values\": 11,\n        \"samples\": [\n          201807,\n          201901\n        ],\n        \"semantic_type\": \"\",\n        \"description\": \"\"\n      }\n    }\n  ]\n}"
            }
          },
          "metadata": {},
          "execution_count": 3
        }
      ]
    },
    {
      "cell_type": "code",
      "source": [
        "# T-Test for DIR Reporting Differences ->  Treatment Vs.  Control\n",
        "\n",
        "group1 = q1q2_focused_df_for_modeling[q1q2_focused_df_for_modeling['treatment']=='Treatment']\n",
        "group2 = q1q2_focused_df_for_modeling[q1q2_focused_df_for_modeling['treatment']=='Control']\n",
        "\n",
        "#perform independent two sample t-test\n",
        "\n",
        "group1_mean = q1q2_focused_df_for_modeling.query('treatment == \"Treatment\"')['e_dir_count'].mean()\n",
        "group2_mean = q1q2_focused_df_for_modeling.query('treatment == \"Control\"')['e_dir_count'].mean()\n",
        "\n",
        "print(\"Treatment Mean:\", group1_mean)\n",
        "print(\"Control Mean:\", group2_mean)\n",
        "\n",
        "ttest_ind(group1['e_dir_count'], group2['e_dir_count'])\n",
        "\n"
      ],
      "metadata": {
        "colab": {
          "base_uri": "https://localhost:8080/"
        },
        "id": "MxxmYqs97nw1",
        "outputId": "688c1e51-784d-481e-b82a-73a38621164b"
      },
      "execution_count": null,
      "outputs": [
        {
          "output_type": "stream",
          "name": "stdout",
          "text": [
            "Treatment Mean: 1.4666666666666666\n",
            "Control Mean: 0.04696969696969697\n"
          ]
        },
        {
          "output_type": "execute_result",
          "data": {
            "text/plain": [
              "TtestResult(statistic=10.414187207995175, pvalue=9.207741364918299e-25, df=1978.0)"
            ]
          },
          "metadata": {},
          "execution_count": 29
        }
      ]
    },
    {
      "cell_type": "code",
      "source": [
        "# T-Test for FIR CAW Reporting Differences ->  Treatment Vs.  Control\n",
        "\n",
        "group1 = q1q2_focused_df_for_modeling[q1q2_focused_df_for_modeling['treatment']=='Treatment']\n",
        "group2 = q1q2_focused_df_for_modeling[q1q2_focused_df_for_modeling['treatment']=='Control']\n",
        "\n",
        "#perform independent two sample t-test\n",
        "\n",
        "group1_mean = q1q2_focused_df_for_modeling.query('treatment == \"Treatment\"')['e_fir_caw_count'].mean()\n",
        "group2_mean = q1q2_focused_df_for_modeling.query('treatment == \"Control\"')['e_fir_caw_count'].mean()\n",
        "\n",
        "print(\"Treatment Mean:\", group1_mean)\n",
        "print(\"Control Mean:\", group2_mean)\n",
        "\n",
        "ttest_ind(group1['e_fir_caw_count'], group2['e_fir_caw_count'])\n"
      ],
      "metadata": {
        "colab": {
          "base_uri": "https://localhost:8080/"
        },
        "id": "iD_MuTpz3cKm",
        "outputId": "3ee91bf7-d343-46a0-e59c-11428c802ed6"
      },
      "execution_count": null,
      "outputs": [
        {
          "output_type": "stream",
          "name": "stdout",
          "text": [
            "Treatment Mean: 4.468939393939394\n",
            "Control Mean: 3.846969696969697\n"
          ]
        },
        {
          "output_type": "execute_result",
          "data": {
            "text/plain": [
              "TtestResult(statistic=3.2845347219409935, pvalue=0.0010393409161110288, df=1978.0)"
            ]
          },
          "metadata": {},
          "execution_count": 31
        }
      ]
    },
    {
      "cell_type": "code",
      "source": [
        "# T-Test for FIR By Women Reporting Differences ->  Treatment Vs.  Control\n",
        "\n",
        "group1 = q1q2_focused_df_for_modeling[q1q2_focused_df_for_modeling['treatment']=='Treatment']\n",
        "group2 = q1q2_focused_df_for_modeling[q1q2_focused_df_for_modeling['treatment']=='Control']\n",
        "\n",
        "#perform independent two sample t-test\n",
        "group1_mean = q1q2_focused_df_for_modeling.query('treatment == \"Treatment\"')['e_fir_bywomen_count'].mean()\n",
        "group2_mean = q1q2_focused_df_for_modeling.query('treatment == \"Control\"')['e_fir_bywomen_count'].mean()\n",
        "\n",
        "print(\"Treatment Mean:\", group1_mean)\n",
        "print(\"Control Mean:\", group2_mean)\n",
        "\n",
        "\n",
        "ttest_ind(group1['e_fir_bywomen_count'], group2['e_fir_bywomen_count'])"
      ],
      "metadata": {
        "colab": {
          "base_uri": "https://localhost:8080/"
        },
        "id": "5OeQc4cm3kpM",
        "outputId": "bc0b6bef-f33d-4538-d494-72f346d8b967"
      },
      "execution_count": null,
      "outputs": [
        {
          "output_type": "stream",
          "name": "stdout",
          "text": [
            "Treatment Mean: 2.8863636363636362\n",
            "Control Mean: 2.577272727272727\n"
          ]
        },
        {
          "output_type": "execute_result",
          "data": {
            "text/plain": [
              "TtestResult(statistic=3.033117380248414, pvalue=0.002451887479690261, df=1978.0)"
            ]
          },
          "metadata": {},
          "execution_count": 32
        }
      ]
    },
    {
      "cell_type": "code",
      "source": [
        "# T-Test for Arrest Count Differences ->  Treatment Vs.  Control\n",
        "\n",
        "group1 = q1q2_focused_df_for_modeling[q1q2_focused_df_for_modeling['treatment']=='Treatment']\n",
        "group2 = q1q2_focused_df_for_modeling[q1q2_focused_df_for_modeling['treatment']=='Control']\n",
        "\n",
        "#perform independent two sample t-test\n",
        "\n",
        "group1_mean = q1q2_focused_df_for_modeling.query('treatment == \"Treatment\"')['e_arrest_count'].mean()\n",
        "group2_mean = q1q2_focused_df_for_modeling.query('treatment == \"Control\"')['e_arrest_count'].mean()\n",
        "\n",
        "print(\"Treatment Mean:\", group1_mean)\n",
        "print(\"Control Mean:\", group2_mean)\n",
        "\n",
        "ttest_ind(group1['e_arrest_count'], group2['e_arrest_count'])"
      ],
      "metadata": {
        "colab": {
          "base_uri": "https://localhost:8080/"
        },
        "id": "3v3wLN9A3wBw",
        "outputId": "5963afdc-afee-48d6-a691-e0c37ca5e71d"
      },
      "execution_count": null,
      "outputs": [
        {
          "output_type": "stream",
          "name": "stdout",
          "text": [
            "Treatment Mean: 3.661363636363636\n",
            "Control Mean: 3.433333333333333\n"
          ]
        },
        {
          "output_type": "execute_result",
          "data": {
            "text/plain": [
              "TtestResult(statistic=1.00822149019351, pvalue=0.31347146019782873, df=1978.0)"
            ]
          },
          "metadata": {},
          "execution_count": 33
        }
      ]
    },
    {
      "cell_type": "code",
      "source": [
        "#Subsetting Data to Treatment Records Only;\n",
        "\n",
        "q1q2_focused_df_for_modeling_treat = q1q2_focused_df_for_modeling[q1q2_focused_df_for_modeling['treatment']=='Treatment'] # Changed to DataFrame subset\n",
        "\n",
        "q1q2_focused_df_for_modeling_treat.describe()"
      ],
      "metadata": {
        "id": "6Z8rOfJU5XWr",
        "colab": {
          "base_uri": "https://localhost:8080/",
          "height": 300
        },
        "outputId": "c1b14e06-8d39-4e1b-dc5d-5cdd2271f889"
      },
      "execution_count": null,
      "outputs": [
        {
          "output_type": "execute_result",
          "data": {
            "text/plain": [
              "            ps_code        month    women_whd  e_dir_count  e_fir_caw_count  \\\n",
              "count   1320.000000  1320.000000  1320.000000  1320.000000      1320.000000   \n",
              "mean    5899.450000     6.727273     0.491667     1.466667         4.468939   \n",
              "std     3126.598303     3.519879     0.500120     3.482931         4.131897   \n",
              "min     1001.000000     1.000000     0.000000     0.000000         0.000000   \n",
              "25%     3046.250000     3.000000     0.000000     0.000000         1.000000   \n",
              "50%     5092.500000     7.000000     0.000000     0.000000         3.000000   \n",
              "75%     8136.250000    10.000000     1.000000     2.000000         7.000000   \n",
              "max    12180.000000    12.000000     1.000000    33.000000        23.000000   \n",
              "\n",
              "       e_fir_bywomen_count  e_arrest_count         yyyymm  \n",
              "count          1320.000000     1320.000000    1320.000000  \n",
              "mean              2.886364        3.661364  201834.000000  \n",
              "std               2.152798        4.795881      41.705128  \n",
              "min               0.000000        0.000000  201805.000000  \n",
              "25%               1.000000        0.000000  201807.000000  \n",
              "50%               3.000000        2.000000  201810.000000  \n",
              "75%               4.000000        5.000000  201901.000000  \n",
              "max              11.000000       37.000000  201903.000000  "
            ],
            "text/html": [
              "\n",
              "  <div id=\"df-65580279-ca5b-4391-a80b-3348639c89ba\" class=\"colab-df-container\">\n",
              "    <div>\n",
              "<style scoped>\n",
              "    .dataframe tbody tr th:only-of-type {\n",
              "        vertical-align: middle;\n",
              "    }\n",
              "\n",
              "    .dataframe tbody tr th {\n",
              "        vertical-align: top;\n",
              "    }\n",
              "\n",
              "    .dataframe thead th {\n",
              "        text-align: right;\n",
              "    }\n",
              "</style>\n",
              "<table border=\"1\" class=\"dataframe\">\n",
              "  <thead>\n",
              "    <tr style=\"text-align: right;\">\n",
              "      <th></th>\n",
              "      <th>ps_code</th>\n",
              "      <th>month</th>\n",
              "      <th>women_whd</th>\n",
              "      <th>e_dir_count</th>\n",
              "      <th>e_fir_caw_count</th>\n",
              "      <th>e_fir_bywomen_count</th>\n",
              "      <th>e_arrest_count</th>\n",
              "      <th>yyyymm</th>\n",
              "    </tr>\n",
              "  </thead>\n",
              "  <tbody>\n",
              "    <tr>\n",
              "      <th>count</th>\n",
              "      <td>1320.000000</td>\n",
              "      <td>1320.000000</td>\n",
              "      <td>1320.000000</td>\n",
              "      <td>1320.000000</td>\n",
              "      <td>1320.000000</td>\n",
              "      <td>1320.000000</td>\n",
              "      <td>1320.000000</td>\n",
              "      <td>1320.000000</td>\n",
              "    </tr>\n",
              "    <tr>\n",
              "      <th>mean</th>\n",
              "      <td>5899.450000</td>\n",
              "      <td>6.727273</td>\n",
              "      <td>0.491667</td>\n",
              "      <td>1.466667</td>\n",
              "      <td>4.468939</td>\n",
              "      <td>2.886364</td>\n",
              "      <td>3.661364</td>\n",
              "      <td>201834.000000</td>\n",
              "    </tr>\n",
              "    <tr>\n",
              "      <th>std</th>\n",
              "      <td>3126.598303</td>\n",
              "      <td>3.519879</td>\n",
              "      <td>0.500120</td>\n",
              "      <td>3.482931</td>\n",
              "      <td>4.131897</td>\n",
              "      <td>2.152798</td>\n",
              "      <td>4.795881</td>\n",
              "      <td>41.705128</td>\n",
              "    </tr>\n",
              "    <tr>\n",
              "      <th>min</th>\n",
              "      <td>1001.000000</td>\n",
              "      <td>1.000000</td>\n",
              "      <td>0.000000</td>\n",
              "      <td>0.000000</td>\n",
              "      <td>0.000000</td>\n",
              "      <td>0.000000</td>\n",
              "      <td>0.000000</td>\n",
              "      <td>201805.000000</td>\n",
              "    </tr>\n",
              "    <tr>\n",
              "      <th>25%</th>\n",
              "      <td>3046.250000</td>\n",
              "      <td>3.000000</td>\n",
              "      <td>0.000000</td>\n",
              "      <td>0.000000</td>\n",
              "      <td>1.000000</td>\n",
              "      <td>1.000000</td>\n",
              "      <td>0.000000</td>\n",
              "      <td>201807.000000</td>\n",
              "    </tr>\n",
              "    <tr>\n",
              "      <th>50%</th>\n",
              "      <td>5092.500000</td>\n",
              "      <td>7.000000</td>\n",
              "      <td>0.000000</td>\n",
              "      <td>0.000000</td>\n",
              "      <td>3.000000</td>\n",
              "      <td>3.000000</td>\n",
              "      <td>2.000000</td>\n",
              "      <td>201810.000000</td>\n",
              "    </tr>\n",
              "    <tr>\n",
              "      <th>75%</th>\n",
              "      <td>8136.250000</td>\n",
              "      <td>10.000000</td>\n",
              "      <td>1.000000</td>\n",
              "      <td>2.000000</td>\n",
              "      <td>7.000000</td>\n",
              "      <td>4.000000</td>\n",
              "      <td>5.000000</td>\n",
              "      <td>201901.000000</td>\n",
              "    </tr>\n",
              "    <tr>\n",
              "      <th>max</th>\n",
              "      <td>12180.000000</td>\n",
              "      <td>12.000000</td>\n",
              "      <td>1.000000</td>\n",
              "      <td>33.000000</td>\n",
              "      <td>23.000000</td>\n",
              "      <td>11.000000</td>\n",
              "      <td>37.000000</td>\n",
              "      <td>201903.000000</td>\n",
              "    </tr>\n",
              "  </tbody>\n",
              "</table>\n",
              "</div>\n",
              "    <div class=\"colab-df-buttons\">\n",
              "\n",
              "  <div class=\"colab-df-container\">\n",
              "    <button class=\"colab-df-convert\" onclick=\"convertToInteractive('df-65580279-ca5b-4391-a80b-3348639c89ba')\"\n",
              "            title=\"Convert this dataframe to an interactive table.\"\n",
              "            style=\"display:none;\">\n",
              "\n",
              "  <svg xmlns=\"http://www.w3.org/2000/svg\" height=\"24px\" viewBox=\"0 -960 960 960\">\n",
              "    <path d=\"M120-120v-720h720v720H120Zm60-500h600v-160H180v160Zm220 220h160v-160H400v160Zm0 220h160v-160H400v160ZM180-400h160v-160H180v160Zm440 0h160v-160H620v160ZM180-180h160v-160H180v160Zm440 0h160v-160H620v160Z\"/>\n",
              "  </svg>\n",
              "    </button>\n",
              "\n",
              "  <style>\n",
              "    .colab-df-container {\n",
              "      display:flex;\n",
              "      gap: 12px;\n",
              "    }\n",
              "\n",
              "    .colab-df-convert {\n",
              "      background-color: #E8F0FE;\n",
              "      border: none;\n",
              "      border-radius: 50%;\n",
              "      cursor: pointer;\n",
              "      display: none;\n",
              "      fill: #1967D2;\n",
              "      height: 32px;\n",
              "      padding: 0 0 0 0;\n",
              "      width: 32px;\n",
              "    }\n",
              "\n",
              "    .colab-df-convert:hover {\n",
              "      background-color: #E2EBFA;\n",
              "      box-shadow: 0px 1px 2px rgba(60, 64, 67, 0.3), 0px 1px 3px 1px rgba(60, 64, 67, 0.15);\n",
              "      fill: #174EA6;\n",
              "    }\n",
              "\n",
              "    .colab-df-buttons div {\n",
              "      margin-bottom: 4px;\n",
              "    }\n",
              "\n",
              "    [theme=dark] .colab-df-convert {\n",
              "      background-color: #3B4455;\n",
              "      fill: #D2E3FC;\n",
              "    }\n",
              "\n",
              "    [theme=dark] .colab-df-convert:hover {\n",
              "      background-color: #434B5C;\n",
              "      box-shadow: 0px 1px 3px 1px rgba(0, 0, 0, 0.15);\n",
              "      filter: drop-shadow(0px 1px 2px rgba(0, 0, 0, 0.3));\n",
              "      fill: #FFFFFF;\n",
              "    }\n",
              "  </style>\n",
              "\n",
              "    <script>\n",
              "      const buttonEl =\n",
              "        document.querySelector('#df-65580279-ca5b-4391-a80b-3348639c89ba button.colab-df-convert');\n",
              "      buttonEl.style.display =\n",
              "        google.colab.kernel.accessAllowed ? 'block' : 'none';\n",
              "\n",
              "      async function convertToInteractive(key) {\n",
              "        const element = document.querySelector('#df-65580279-ca5b-4391-a80b-3348639c89ba');\n",
              "        const dataTable =\n",
              "          await google.colab.kernel.invokeFunction('convertToInteractive',\n",
              "                                                    [key], {});\n",
              "        if (!dataTable) return;\n",
              "\n",
              "        const docLinkHtml = 'Like what you see? Visit the ' +\n",
              "          '<a target=\"_blank\" href=https://colab.research.google.com/notebooks/data_table.ipynb>data table notebook</a>'\n",
              "          + ' to learn more about interactive tables.';\n",
              "        element.innerHTML = '';\n",
              "        dataTable['output_type'] = 'display_data';\n",
              "        await google.colab.output.renderOutput(dataTable, element);\n",
              "        const docLink = document.createElement('div');\n",
              "        docLink.innerHTML = docLinkHtml;\n",
              "        element.appendChild(docLink);\n",
              "      }\n",
              "    </script>\n",
              "  </div>\n",
              "\n",
              "\n",
              "<div id=\"df-b993e4cb-685d-48d1-9195-d9c5dd5b42f0\">\n",
              "  <button class=\"colab-df-quickchart\" onclick=\"quickchart('df-b993e4cb-685d-48d1-9195-d9c5dd5b42f0')\"\n",
              "            title=\"Suggest charts\"\n",
              "            style=\"display:none;\">\n",
              "\n",
              "<svg xmlns=\"http://www.w3.org/2000/svg\" height=\"24px\"viewBox=\"0 0 24 24\"\n",
              "     width=\"24px\">\n",
              "    <g>\n",
              "        <path d=\"M19 3H5c-1.1 0-2 .9-2 2v14c0 1.1.9 2 2 2h14c1.1 0 2-.9 2-2V5c0-1.1-.9-2-2-2zM9 17H7v-7h2v7zm4 0h-2V7h2v10zm4 0h-2v-4h2v4z\"/>\n",
              "    </g>\n",
              "</svg>\n",
              "  </button>\n",
              "\n",
              "<style>\n",
              "  .colab-df-quickchart {\n",
              "      --bg-color: #E8F0FE;\n",
              "      --fill-color: #1967D2;\n",
              "      --hover-bg-color: #E2EBFA;\n",
              "      --hover-fill-color: #174EA6;\n",
              "      --disabled-fill-color: #AAA;\n",
              "      --disabled-bg-color: #DDD;\n",
              "  }\n",
              "\n",
              "  [theme=dark] .colab-df-quickchart {\n",
              "      --bg-color: #3B4455;\n",
              "      --fill-color: #D2E3FC;\n",
              "      --hover-bg-color: #434B5C;\n",
              "      --hover-fill-color: #FFFFFF;\n",
              "      --disabled-bg-color: #3B4455;\n",
              "      --disabled-fill-color: #666;\n",
              "  }\n",
              "\n",
              "  .colab-df-quickchart {\n",
              "    background-color: var(--bg-color);\n",
              "    border: none;\n",
              "    border-radius: 50%;\n",
              "    cursor: pointer;\n",
              "    display: none;\n",
              "    fill: var(--fill-color);\n",
              "    height: 32px;\n",
              "    padding: 0;\n",
              "    width: 32px;\n",
              "  }\n",
              "\n",
              "  .colab-df-quickchart:hover {\n",
              "    background-color: var(--hover-bg-color);\n",
              "    box-shadow: 0 1px 2px rgba(60, 64, 67, 0.3), 0 1px 3px 1px rgba(60, 64, 67, 0.15);\n",
              "    fill: var(--button-hover-fill-color);\n",
              "  }\n",
              "\n",
              "  .colab-df-quickchart-complete:disabled,\n",
              "  .colab-df-quickchart-complete:disabled:hover {\n",
              "    background-color: var(--disabled-bg-color);\n",
              "    fill: var(--disabled-fill-color);\n",
              "    box-shadow: none;\n",
              "  }\n",
              "\n",
              "  .colab-df-spinner {\n",
              "    border: 2px solid var(--fill-color);\n",
              "    border-color: transparent;\n",
              "    border-bottom-color: var(--fill-color);\n",
              "    animation:\n",
              "      spin 1s steps(1) infinite;\n",
              "  }\n",
              "\n",
              "  @keyframes spin {\n",
              "    0% {\n",
              "      border-color: transparent;\n",
              "      border-bottom-color: var(--fill-color);\n",
              "      border-left-color: var(--fill-color);\n",
              "    }\n",
              "    20% {\n",
              "      border-color: transparent;\n",
              "      border-left-color: var(--fill-color);\n",
              "      border-top-color: var(--fill-color);\n",
              "    }\n",
              "    30% {\n",
              "      border-color: transparent;\n",
              "      border-left-color: var(--fill-color);\n",
              "      border-top-color: var(--fill-color);\n",
              "      border-right-color: var(--fill-color);\n",
              "    }\n",
              "    40% {\n",
              "      border-color: transparent;\n",
              "      border-right-color: var(--fill-color);\n",
              "      border-top-color: var(--fill-color);\n",
              "    }\n",
              "    60% {\n",
              "      border-color: transparent;\n",
              "      border-right-color: var(--fill-color);\n",
              "    }\n",
              "    80% {\n",
              "      border-color: transparent;\n",
              "      border-right-color: var(--fill-color);\n",
              "      border-bottom-color: var(--fill-color);\n",
              "    }\n",
              "    90% {\n",
              "      border-color: transparent;\n",
              "      border-bottom-color: var(--fill-color);\n",
              "    }\n",
              "  }\n",
              "</style>\n",
              "\n",
              "  <script>\n",
              "    async function quickchart(key) {\n",
              "      const quickchartButtonEl =\n",
              "        document.querySelector('#' + key + ' button');\n",
              "      quickchartButtonEl.disabled = true;  // To prevent multiple clicks.\n",
              "      quickchartButtonEl.classList.add('colab-df-spinner');\n",
              "      try {\n",
              "        const charts = await google.colab.kernel.invokeFunction(\n",
              "            'suggestCharts', [key], {});\n",
              "      } catch (error) {\n",
              "        console.error('Error during call to suggestCharts:', error);\n",
              "      }\n",
              "      quickchartButtonEl.classList.remove('colab-df-spinner');\n",
              "      quickchartButtonEl.classList.add('colab-df-quickchart-complete');\n",
              "    }\n",
              "    (() => {\n",
              "      let quickchartButtonEl =\n",
              "        document.querySelector('#df-b993e4cb-685d-48d1-9195-d9c5dd5b42f0 button');\n",
              "      quickchartButtonEl.style.display =\n",
              "        google.colab.kernel.accessAllowed ? 'block' : 'none';\n",
              "    })();\n",
              "  </script>\n",
              "</div>\n",
              "\n",
              "    </div>\n",
              "  </div>\n"
            ],
            "application/vnd.google.colaboratory.intrinsic+json": {
              "type": "dataframe",
              "summary": "{\n  \"name\": \"q1q2_focused_df_for_modeling_treat\",\n  \"rows\": 8,\n  \"fields\": [\n    {\n      \"column\": \"ps_code\",\n      \"properties\": {\n        \"dtype\": \"number\",\n        \"std\": 3761.8822508495437,\n        \"min\": 1001.0,\n        \"max\": 12180.0,\n        \"num_unique_values\": 8,\n        \"samples\": [\n          5899.45,\n          5092.5,\n          1320.0\n        ],\n        \"semantic_type\": \"\",\n        \"description\": \"\"\n      }\n    },\n    {\n      \"column\": \"month\",\n      \"properties\": {\n        \"dtype\": \"number\",\n        \"std\": 464.520535608055,\n        \"min\": 1.0,\n        \"max\": 1320.0,\n        \"num_unique_values\": 8,\n        \"samples\": [\n          6.7272727272727275,\n          7.0,\n          1320.0\n        ],\n        \"semantic_type\": \"\",\n        \"description\": \"\"\n      }\n    },\n    {\n      \"column\": \"women_whd\",\n      \"properties\": {\n        \"dtype\": \"number\",\n        \"std\": 466.5395532763556,\n        \"min\": 0.0,\n        \"max\": 1320.0,\n        \"num_unique_values\": 5,\n        \"samples\": [\n          0.49166666666666664,\n          1.0,\n          0.5001200260284274\n        ],\n        \"semantic_type\": \"\",\n        \"description\": \"\"\n      }\n    },\n    {\n      \"column\": \"e_dir_count\",\n      \"properties\": {\n        \"dtype\": \"number\",\n        \"std\": 464.8078586899692,\n        \"min\": 0.0,\n        \"max\": 1320.0,\n        \"num_unique_values\": 6,\n        \"samples\": [\n          1320.0,\n          1.4666666666666666,\n          33.0\n        ],\n        \"semantic_type\": \"\",\n        \"description\": \"\"\n      }\n    },\n    {\n      \"column\": \"e_fir_caw_count\",\n      \"properties\": {\n        \"dtype\": \"number\",\n        \"std\": 464.59504855364617,\n        \"min\": 0.0,\n        \"max\": 1320.0,\n        \"num_unique_values\": 8,\n        \"samples\": [\n          4.468939393939394,\n          3.0,\n          1320.0\n        ],\n        \"semantic_type\": \"\",\n        \"description\": \"\"\n      }\n    },\n    {\n      \"column\": \"e_fir_bywomen_count\",\n      \"properties\": {\n        \"dtype\": \"number\",\n        \"std\": 465.48819338875575,\n        \"min\": 0.0,\n        \"max\": 1320.0,\n        \"num_unique_values\": 8,\n        \"samples\": [\n          2.8863636363636362,\n          3.0,\n          1320.0\n        ],\n        \"semantic_type\": \"\",\n        \"description\": \"\"\n      }\n    },\n    {\n      \"column\": \"e_arrest_count\",\n      \"properties\": {\n        \"dtype\": \"number\",\n        \"std\": 464.20124098424276,\n        \"min\": 0.0,\n        \"max\": 1320.0,\n        \"num_unique_values\": 7,\n        \"samples\": [\n          1320.0,\n          3.661363636363636,\n          5.0\n        ],\n        \"semantic_type\": \"\",\n        \"description\": \"\"\n      }\n    },\n    {\n      \"column\": \"yyyymm\",\n      \"properties\": {\n        \"dtype\": \"number\",\n        \"std\": 93120.76904771474,\n        \"min\": 41.705127561220216,\n        \"max\": 201903.0,\n        \"num_unique_values\": 8,\n        \"samples\": [\n          201834.0,\n          201810.0,\n          1320.0\n        ],\n        \"semantic_type\": \"\",\n        \"description\": \"\"\n      }\n    }\n  ]\n}"
            }
          },
          "metadata": {},
          "execution_count": 39
        }
      ]
    },
    {
      "cell_type": "code",
      "source": [
        "# T-Test for DIR Reporting Differences ->  Treatment Groups Only: WHD vs/ Regular WHD\n",
        "\n",
        "# Creating groups based on 'women_whd' column within the treatment subset:\n",
        "group1 = q1q2_focused_df_for_modeling_treat[q1q2_focused_df_for_modeling_treat['women_whd']==1]\n",
        "group2 = q1q2_focused_df_for_modeling_treat[q1q2_focused_df_for_modeling_treat['women_whd']==0]\n",
        "\n",
        "# Perform independent two sample t-test\n",
        "\n",
        "group1_mean = q1q2_focused_df_for_modeling_treat.query('women_whd == 1')['e_dir_count'].mean()\n",
        "group2_mean = q1q2_focused_df_for_modeling_treat.query('women_whd == 0')['e_dir_count'].mean()\n",
        "\n",
        "print(\"Women Run WHD Mean:\", group1_mean)\n",
        "print(\"Regular WHD Mean:\", group2_mean)\n",
        "\n",
        "\n",
        "ttest_ind(group1['e_dir_count'], group2['e_dir_count'])"
      ],
      "metadata": {
        "colab": {
          "base_uri": "https://localhost:8080/"
        },
        "id": "MZtdCPHJ386M",
        "outputId": "bb62500f-be87-4320-a96b-6e83a8a44fa6"
      },
      "execution_count": null,
      "outputs": [
        {
          "output_type": "stream",
          "name": "stdout",
          "text": [
            "Women Run WHD Mean: 1.4052388289676425\n",
            "Regular WHD Mean: 1.526080476900149\n"
          ]
        },
        {
          "output_type": "execute_result",
          "data": {
            "text/plain": [
              "TtestResult(statistic=-0.6300414869487984, pvalue=0.5287766505497269, df=1318.0)"
            ]
          },
          "metadata": {},
          "execution_count": 34
        }
      ]
    },
    {
      "cell_type": "code",
      "source": [
        "# T-Test for FIR CAW Reporting Differences ->  Treatment Groups Only: WHD vs/ Regular WHD\n",
        "\n",
        "# Creating groups based on 'women_whd' column within the treatment subset:\n",
        "group1 = q1q2_focused_df_for_modeling_treat[q1q2_focused_df_for_modeling_treat['women_whd']==1]\n",
        "group2 = q1q2_focused_df_for_modeling_treat[q1q2_focused_df_for_modeling_treat['women_whd']==0]\n",
        "\n",
        "# Perform independent two sample t-test\n",
        "\n",
        "group1_mean = q1q2_focused_df_for_modeling_treat.query('women_whd == 1')['e_fir_caw_count'].mean()\n",
        "group2_mean = q1q2_focused_df_for_modeling_treat.query('women_whd == 0')['e_fir_caw_count'].mean()\n",
        "\n",
        "print(\"Women Run WHD Mean:\", group1_mean)\n",
        "print(\"Regular WHD Mean:\", group2_mean)\n",
        "\n",
        "\n",
        "ttest_ind(group1['e_fir_caw_count'], group2['e_fir_caw_count'])"
      ],
      "metadata": {
        "colab": {
          "base_uri": "https://localhost:8080/"
        },
        "id": "QHxs2z7U62G4",
        "outputId": "d3980e12-f59d-4ef0-b284-675e45efc1d2"
      },
      "execution_count": null,
      "outputs": [
        {
          "output_type": "stream",
          "name": "stdout",
          "text": [
            "Women Run WHD Mean: 4.932203389830509\n",
            "Regular WHD Mean: 4.020864381520119\n"
          ]
        },
        {
          "output_type": "execute_result",
          "data": {
            "text/plain": [
              "TtestResult(statistic=4.029218216959122, pvalue=5.9161211812798175e-05, df=1318.0)"
            ]
          },
          "metadata": {},
          "execution_count": 35
        }
      ]
    },
    {
      "cell_type": "code",
      "source": [
        "# T-Test for DIR Reporting Differences ->  Treatment Groups Only: WHD vs/ Regular WHD\n",
        "\n",
        "# Creating groups based on 'women_whd' column within the treatment subset:\n",
        "group1 = q1q2_focused_df_for_modeling_treat[q1q2_focused_df_for_modeling_treat['women_whd']==1]\n",
        "group2 = q1q2_focused_df_for_modeling_treat[q1q2_focused_df_for_modeling_treat['women_whd']==0]\n",
        "\n",
        "# Perform independent two sample t-test\n",
        "group1_mean = q1q2_focused_df_for_modeling_treat.query('women_whd == 1')['e_fir_bywomen_count'].mean()\n",
        "group2_mean = q1q2_focused_df_for_modeling_treat.query('women_whd == 0')['e_fir_bywomen_count'].mean()\n",
        "\n",
        "print(\"Women Run WHD Mean:\", group1_mean)\n",
        "print(\"Regular WHD Mean:\", group2_mean)\n",
        "\n",
        "ttest_ind(group1['e_fir_bywomen_count'], group2['e_fir_bywomen_count'])"
      ],
      "metadata": {
        "colab": {
          "base_uri": "https://localhost:8080/"
        },
        "id": "Ntgju0-s6_De",
        "outputId": "2b8ce49c-4b82-4eef-f86e-653f183afb94"
      },
      "execution_count": null,
      "outputs": [
        {
          "output_type": "stream",
          "name": "stdout",
          "text": [
            "Women Run WHD Mean: 3.0816640986132513\n",
            "Regular WHD Mean: 2.697466467958271\n"
          ]
        },
        {
          "output_type": "execute_result",
          "data": {
            "text/plain": [
              "TtestResult(statistic=3.2532707868975157, pvalue=0.00116976128289602, df=1318.0)"
            ]
          },
          "metadata": {},
          "execution_count": 36
        }
      ]
    },
    {
      "cell_type": "code",
      "source": [
        "# T-Test for DIR Reporting Differences ->  Treatment Groups Only: WHD vs/ Regular WHD\n",
        "\n",
        "# Creating groups based on 'women_whd' column within the treatment subset:\n",
        "group1 = q1q2_focused_df_for_modeling_treat[q1q2_focused_df_for_modeling_treat['women_whd']==1]\n",
        "group2 = q1q2_focused_df_for_modeling_treat[q1q2_focused_df_for_modeling_treat['women_whd']==0]\n",
        "\n",
        "# Perform independent two sample t-test\n",
        "\n",
        "group1_mean = q1q2_focused_df_for_modeling_treat.query('women_whd == 1')['e_arrest_count'].mean()\n",
        "group2_mean = q1q2_focused_df_for_modeling_treat.query('women_whd == 0')['e_arrest_count'].mean()\n",
        "\n",
        "print(\"Women Run WHD Mean:\", group1_mean)\n",
        "print(\"Regular WHD Mean:\", group2_mean)\n",
        "\n",
        "\n",
        "ttest_ind(group1['e_arrest_count'], group2['e_arrest_count'])"
      ],
      "metadata": {
        "colab": {
          "base_uri": "https://localhost:8080/"
        },
        "id": "nW8AVpQG7KYI",
        "outputId": "df7c5565-c8b3-4f79-fa62-9c431f12694a"
      },
      "execution_count": null,
      "outputs": [
        {
          "output_type": "stream",
          "name": "stdout",
          "text": [
            "Women Run WHD Mean: 3.904468412942989\n",
            "Regular WHD Mean: 3.4262295081967213\n"
          ]
        },
        {
          "output_type": "execute_result",
          "data": {
            "text/plain": [
              "TtestResult(statistic=1.8127970217599476, pvalue=0.07009055399099764, df=1318.0)"
            ]
          },
          "metadata": {},
          "execution_count": 37
        }
      ]
    }
  ],
  "metadata": {
    "colab": {
      "provenance": [],
      "include_colab_link": true
    },
    "kernelspec": {
      "display_name": "Python 3 (ipykernel)",
      "language": "python",
      "name": "python3"
    },
    "language_info": {
      "codemirror_mode": {
        "name": "ipython",
        "version": 3
      },
      "file_extension": ".py",
      "mimetype": "text/x-python",
      "name": "python",
      "nbconvert_exporter": "python",
      "pygments_lexer": "ipython3",
      "version": "3.12.4"
    }
  },
  "nbformat": 4,
  "nbformat_minor": 0
}