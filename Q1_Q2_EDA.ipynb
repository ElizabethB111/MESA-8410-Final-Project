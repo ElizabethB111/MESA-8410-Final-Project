{
  "cells": [
    {
      "cell_type": "markdown",
      "metadata": {
        "id": "view-in-github",
        "colab_type": "text"
      },
      "source": [
        "<a href=\"https://colab.research.google.com/github/ElizabethB111/MESA-8410-Final-Project/blob/main/Q1_Q2_EDA.ipynb\" target=\"_parent\"><img src=\"https://colab.research.google.com/assets/colab-badge.svg\" alt=\"Open In Colab\"/></a>"
      ]
    },
    {
      "cell_type": "markdown",
      "metadata": {
        "id": "ZYdSEUesf4u5"
      },
      "source": [
        "# **EDA for Q1:**\n",
        "#Addressing Question 1: Are WHD more effective when women or men are running them, with effectiveness indicated by actions (FIR, DIR, arrests) and lessening of CAW?\n",
        "\n",
        "FIR = First Information Reports\n",
        "\n",
        "DIR = Domestic Incidence Reports\n",
        "\n",
        "CAW = Crimes Against Women\n",
        "\n",
        "**Further down the document, see EDA for Q2.**"
      ]
    },
    {
      "cell_type": "code",
      "execution_count": null,
      "metadata": {
        "id": "n-VwsNHNf4u8"
      },
      "outputs": [],
      "source": [
        "# IMPORT LIBRARIES BELOW\n",
        "import pandas as pd\n",
        "import seaborn as sns\n",
        "import matplotlib.pyplot as plt\n",
        "import numpy as np\n",
        "# Add a special library for working with tables:\n",
        "from tabulate import tabulate\n"
      ]
    },
    {
      "cell_type": "markdown",
      "metadata": {
        "id": "IKG02a90f4u9"
      },
      "source": [
        "### Reading in the data\n",
        "First mount the google drive;\n",
        "The data is in csv format and stored in \"Colab Notebooks/Final Project/Data/\". Import the data into a dataframe named `admin_wide_cleaned_data`."
      ]
    },
    {
      "cell_type": "code",
      "execution_count": null,
      "metadata": {
        "id": "xEipUI-mf4u9",
        "colab": {
          "base_uri": "https://localhost:8080/"
        },
        "outputId": "cb4839db-62f0-47d6-96c9-8ae05ba312c3"
      },
      "outputs": [
        {
          "output_type": "stream",
          "name": "stdout",
          "text": [
            "Mounted at /content/drive\n"
          ]
        }
      ],
      "source": [
        "# the code below allows you to access Google Drive.\n",
        "from google.colab import drive\n",
        "\n",
        "drive.mount('/content/drive')\n",
        "\n",
        "# root_dir is the path to your My_Drive folder.\n",
        "root_dir = \"/content/drive/My Drive/\"\n",
        "\n",
        "# Store the dataframes in the following directory.\n",
        "data_folder = root_dir + \"Colab Notebooks/Final Project/Data/\"\n",
        "\n",
        "# the CSV data file contains admin_wide_data with dropped columns and checked for no missing values\n",
        "inputfile1 = \"/content/drive/My Drive/Colab Notebooks/Final Project/Data/admin_wide_station_level_means_data.csv\"\n",
        "\n",
        "\n",
        "# Read the CSV file into a dataframe\n",
        "admin_wide_station_level_means_data = pd.read_csv(inputfile1)\n"
      ]
    },
    {
      "cell_type": "markdown",
      "metadata": {
        "id": "Dv_tR4LAf4u9"
      },
      "source": [
        "### Double-Checking Sample Records and Descriptive Stats of the Data\n"
      ]
    },
    {
      "cell_type": "code",
      "source": [
        "# Use `head()` to get an overview of the first few records in the dataset\n",
        "admin_wide_station_level_means_data.head(5)"
      ],
      "metadata": {
        "id": "rCzbHvIPkORM",
        "colab": {
          "base_uri": "https://localhost:8080/",
          "height": 226
        },
        "outputId": "10895670-824f-493a-ce4b-f978f341aa8e"
      },
      "execution_count": null,
      "outputs": [
        {
          "output_type": "execute_result",
          "data": {
            "text/plain": [
              "   ps_code  treatment  women_whd  regular_whd  e_caw_rate  \\\n",
              "0   1001.0  Treatment        1.0          0.0    0.000000   \n",
              "1   1002.0    Control        0.0          0.0    0.114887   \n",
              "2   1003.0    Control        0.0          0.0    0.043200   \n",
              "3   1004.0  Treatment        0.0          1.0    0.000000   \n",
              "4   1005.0  Treatment        1.0          0.0    0.000000   \n",
              "\n",
              "   e_fir_overall_count  e_fir_caw_count  e_fir_bywomen_count  e_arrest_count  \\\n",
              "0               33.500           10.375                5.000          14.000   \n",
              "1               17.000            2.000                1.625           3.125   \n",
              "2               42.625            8.250                5.000          12.875   \n",
              "3               13.000            2.625                2.000           4.375   \n",
              "4               11.000            1.250                1.125           1.625   \n",
              "\n",
              "   e_dir_count  \n",
              "0        0.500  \n",
              "1        0.000  \n",
              "2        0.000  \n",
              "3        1.125  \n",
              "4        0.000  "
            ],
            "text/html": [
              "\n",
              "  <div id=\"df-59b7f85d-f0bd-48be-a108-96b4363da471\" class=\"colab-df-container\">\n",
              "    <div>\n",
              "<style scoped>\n",
              "    .dataframe tbody tr th:only-of-type {\n",
              "        vertical-align: middle;\n",
              "    }\n",
              "\n",
              "    .dataframe tbody tr th {\n",
              "        vertical-align: top;\n",
              "    }\n",
              "\n",
              "    .dataframe thead th {\n",
              "        text-align: right;\n",
              "    }\n",
              "</style>\n",
              "<table border=\"1\" class=\"dataframe\">\n",
              "  <thead>\n",
              "    <tr style=\"text-align: right;\">\n",
              "      <th></th>\n",
              "      <th>ps_code</th>\n",
              "      <th>treatment</th>\n",
              "      <th>women_whd</th>\n",
              "      <th>regular_whd</th>\n",
              "      <th>e_caw_rate</th>\n",
              "      <th>e_fir_overall_count</th>\n",
              "      <th>e_fir_caw_count</th>\n",
              "      <th>e_fir_bywomen_count</th>\n",
              "      <th>e_arrest_count</th>\n",
              "      <th>e_dir_count</th>\n",
              "    </tr>\n",
              "  </thead>\n",
              "  <tbody>\n",
              "    <tr>\n",
              "      <th>0</th>\n",
              "      <td>1001.0</td>\n",
              "      <td>Treatment</td>\n",
              "      <td>1.0</td>\n",
              "      <td>0.0</td>\n",
              "      <td>0.000000</td>\n",
              "      <td>33.500</td>\n",
              "      <td>10.375</td>\n",
              "      <td>5.000</td>\n",
              "      <td>14.000</td>\n",
              "      <td>0.500</td>\n",
              "    </tr>\n",
              "    <tr>\n",
              "      <th>1</th>\n",
              "      <td>1002.0</td>\n",
              "      <td>Control</td>\n",
              "      <td>0.0</td>\n",
              "      <td>0.0</td>\n",
              "      <td>0.114887</td>\n",
              "      <td>17.000</td>\n",
              "      <td>2.000</td>\n",
              "      <td>1.625</td>\n",
              "      <td>3.125</td>\n",
              "      <td>0.000</td>\n",
              "    </tr>\n",
              "    <tr>\n",
              "      <th>2</th>\n",
              "      <td>1003.0</td>\n",
              "      <td>Control</td>\n",
              "      <td>0.0</td>\n",
              "      <td>0.0</td>\n",
              "      <td>0.043200</td>\n",
              "      <td>42.625</td>\n",
              "      <td>8.250</td>\n",
              "      <td>5.000</td>\n",
              "      <td>12.875</td>\n",
              "      <td>0.000</td>\n",
              "    </tr>\n",
              "    <tr>\n",
              "      <th>3</th>\n",
              "      <td>1004.0</td>\n",
              "      <td>Treatment</td>\n",
              "      <td>0.0</td>\n",
              "      <td>1.0</td>\n",
              "      <td>0.000000</td>\n",
              "      <td>13.000</td>\n",
              "      <td>2.625</td>\n",
              "      <td>2.000</td>\n",
              "      <td>4.375</td>\n",
              "      <td>1.125</td>\n",
              "    </tr>\n",
              "    <tr>\n",
              "      <th>4</th>\n",
              "      <td>1005.0</td>\n",
              "      <td>Treatment</td>\n",
              "      <td>1.0</td>\n",
              "      <td>0.0</td>\n",
              "      <td>0.000000</td>\n",
              "      <td>11.000</td>\n",
              "      <td>1.250</td>\n",
              "      <td>1.125</td>\n",
              "      <td>1.625</td>\n",
              "      <td>0.000</td>\n",
              "    </tr>\n",
              "  </tbody>\n",
              "</table>\n",
              "</div>\n",
              "    <div class=\"colab-df-buttons\">\n",
              "\n",
              "  <div class=\"colab-df-container\">\n",
              "    <button class=\"colab-df-convert\" onclick=\"convertToInteractive('df-59b7f85d-f0bd-48be-a108-96b4363da471')\"\n",
              "            title=\"Convert this dataframe to an interactive table.\"\n",
              "            style=\"display:none;\">\n",
              "\n",
              "  <svg xmlns=\"http://www.w3.org/2000/svg\" height=\"24px\" viewBox=\"0 -960 960 960\">\n",
              "    <path d=\"M120-120v-720h720v720H120Zm60-500h600v-160H180v160Zm220 220h160v-160H400v160Zm0 220h160v-160H400v160ZM180-400h160v-160H180v160Zm440 0h160v-160H620v160ZM180-180h160v-160H180v160Zm440 0h160v-160H620v160Z\"/>\n",
              "  </svg>\n",
              "    </button>\n",
              "\n",
              "  <style>\n",
              "    .colab-df-container {\n",
              "      display:flex;\n",
              "      gap: 12px;\n",
              "    }\n",
              "\n",
              "    .colab-df-convert {\n",
              "      background-color: #E8F0FE;\n",
              "      border: none;\n",
              "      border-radius: 50%;\n",
              "      cursor: pointer;\n",
              "      display: none;\n",
              "      fill: #1967D2;\n",
              "      height: 32px;\n",
              "      padding: 0 0 0 0;\n",
              "      width: 32px;\n",
              "    }\n",
              "\n",
              "    .colab-df-convert:hover {\n",
              "      background-color: #E2EBFA;\n",
              "      box-shadow: 0px 1px 2px rgba(60, 64, 67, 0.3), 0px 1px 3px 1px rgba(60, 64, 67, 0.15);\n",
              "      fill: #174EA6;\n",
              "    }\n",
              "\n",
              "    .colab-df-buttons div {\n",
              "      margin-bottom: 4px;\n",
              "    }\n",
              "\n",
              "    [theme=dark] .colab-df-convert {\n",
              "      background-color: #3B4455;\n",
              "      fill: #D2E3FC;\n",
              "    }\n",
              "\n",
              "    [theme=dark] .colab-df-convert:hover {\n",
              "      background-color: #434B5C;\n",
              "      box-shadow: 0px 1px 3px 1px rgba(0, 0, 0, 0.15);\n",
              "      filter: drop-shadow(0px 1px 2px rgba(0, 0, 0, 0.3));\n",
              "      fill: #FFFFFF;\n",
              "    }\n",
              "  </style>\n",
              "\n",
              "    <script>\n",
              "      const buttonEl =\n",
              "        document.querySelector('#df-59b7f85d-f0bd-48be-a108-96b4363da471 button.colab-df-convert');\n",
              "      buttonEl.style.display =\n",
              "        google.colab.kernel.accessAllowed ? 'block' : 'none';\n",
              "\n",
              "      async function convertToInteractive(key) {\n",
              "        const element = document.querySelector('#df-59b7f85d-f0bd-48be-a108-96b4363da471');\n",
              "        const dataTable =\n",
              "          await google.colab.kernel.invokeFunction('convertToInteractive',\n",
              "                                                    [key], {});\n",
              "        if (!dataTable) return;\n",
              "\n",
              "        const docLinkHtml = 'Like what you see? Visit the ' +\n",
              "          '<a target=\"_blank\" href=https://colab.research.google.com/notebooks/data_table.ipynb>data table notebook</a>'\n",
              "          + ' to learn more about interactive tables.';\n",
              "        element.innerHTML = '';\n",
              "        dataTable['output_type'] = 'display_data';\n",
              "        await google.colab.output.renderOutput(dataTable, element);\n",
              "        const docLink = document.createElement('div');\n",
              "        docLink.innerHTML = docLinkHtml;\n",
              "        element.appendChild(docLink);\n",
              "      }\n",
              "    </script>\n",
              "  </div>\n",
              "\n",
              "\n",
              "<div id=\"df-e73287ae-c7ad-4f06-86dd-41dc5dab6f02\">\n",
              "  <button class=\"colab-df-quickchart\" onclick=\"quickchart('df-e73287ae-c7ad-4f06-86dd-41dc5dab6f02')\"\n",
              "            title=\"Suggest charts\"\n",
              "            style=\"display:none;\">\n",
              "\n",
              "<svg xmlns=\"http://www.w3.org/2000/svg\" height=\"24px\"viewBox=\"0 0 24 24\"\n",
              "     width=\"24px\">\n",
              "    <g>\n",
              "        <path d=\"M19 3H5c-1.1 0-2 .9-2 2v14c0 1.1.9 2 2 2h14c1.1 0 2-.9 2-2V5c0-1.1-.9-2-2-2zM9 17H7v-7h2v7zm4 0h-2V7h2v10zm4 0h-2v-4h2v4z\"/>\n",
              "    </g>\n",
              "</svg>\n",
              "  </button>\n",
              "\n",
              "<style>\n",
              "  .colab-df-quickchart {\n",
              "      --bg-color: #E8F0FE;\n",
              "      --fill-color: #1967D2;\n",
              "      --hover-bg-color: #E2EBFA;\n",
              "      --hover-fill-color: #174EA6;\n",
              "      --disabled-fill-color: #AAA;\n",
              "      --disabled-bg-color: #DDD;\n",
              "  }\n",
              "\n",
              "  [theme=dark] .colab-df-quickchart {\n",
              "      --bg-color: #3B4455;\n",
              "      --fill-color: #D2E3FC;\n",
              "      --hover-bg-color: #434B5C;\n",
              "      --hover-fill-color: #FFFFFF;\n",
              "      --disabled-bg-color: #3B4455;\n",
              "      --disabled-fill-color: #666;\n",
              "  }\n",
              "\n",
              "  .colab-df-quickchart {\n",
              "    background-color: var(--bg-color);\n",
              "    border: none;\n",
              "    border-radius: 50%;\n",
              "    cursor: pointer;\n",
              "    display: none;\n",
              "    fill: var(--fill-color);\n",
              "    height: 32px;\n",
              "    padding: 0;\n",
              "    width: 32px;\n",
              "  }\n",
              "\n",
              "  .colab-df-quickchart:hover {\n",
              "    background-color: var(--hover-bg-color);\n",
              "    box-shadow: 0 1px 2px rgba(60, 64, 67, 0.3), 0 1px 3px 1px rgba(60, 64, 67, 0.15);\n",
              "    fill: var(--button-hover-fill-color);\n",
              "  }\n",
              "\n",
              "  .colab-df-quickchart-complete:disabled,\n",
              "  .colab-df-quickchart-complete:disabled:hover {\n",
              "    background-color: var(--disabled-bg-color);\n",
              "    fill: var(--disabled-fill-color);\n",
              "    box-shadow: none;\n",
              "  }\n",
              "\n",
              "  .colab-df-spinner {\n",
              "    border: 2px solid var(--fill-color);\n",
              "    border-color: transparent;\n",
              "    border-bottom-color: var(--fill-color);\n",
              "    animation:\n",
              "      spin 1s steps(1) infinite;\n",
              "  }\n",
              "\n",
              "  @keyframes spin {\n",
              "    0% {\n",
              "      border-color: transparent;\n",
              "      border-bottom-color: var(--fill-color);\n",
              "      border-left-color: var(--fill-color);\n",
              "    }\n",
              "    20% {\n",
              "      border-color: transparent;\n",
              "      border-left-color: var(--fill-color);\n",
              "      border-top-color: var(--fill-color);\n",
              "    }\n",
              "    30% {\n",
              "      border-color: transparent;\n",
              "      border-left-color: var(--fill-color);\n",
              "      border-top-color: var(--fill-color);\n",
              "      border-right-color: var(--fill-color);\n",
              "    }\n",
              "    40% {\n",
              "      border-color: transparent;\n",
              "      border-right-color: var(--fill-color);\n",
              "      border-top-color: var(--fill-color);\n",
              "    }\n",
              "    60% {\n",
              "      border-color: transparent;\n",
              "      border-right-color: var(--fill-color);\n",
              "    }\n",
              "    80% {\n",
              "      border-color: transparent;\n",
              "      border-right-color: var(--fill-color);\n",
              "      border-bottom-color: var(--fill-color);\n",
              "    }\n",
              "    90% {\n",
              "      border-color: transparent;\n",
              "      border-bottom-color: var(--fill-color);\n",
              "    }\n",
              "  }\n",
              "</style>\n",
              "\n",
              "  <script>\n",
              "    async function quickchart(key) {\n",
              "      const quickchartButtonEl =\n",
              "        document.querySelector('#' + key + ' button');\n",
              "      quickchartButtonEl.disabled = true;  // To prevent multiple clicks.\n",
              "      quickchartButtonEl.classList.add('colab-df-spinner');\n",
              "      try {\n",
              "        const charts = await google.colab.kernel.invokeFunction(\n",
              "            'suggestCharts', [key], {});\n",
              "      } catch (error) {\n",
              "        console.error('Error during call to suggestCharts:', error);\n",
              "      }\n",
              "      quickchartButtonEl.classList.remove('colab-df-spinner');\n",
              "      quickchartButtonEl.classList.add('colab-df-quickchart-complete');\n",
              "    }\n",
              "    (() => {\n",
              "      let quickchartButtonEl =\n",
              "        document.querySelector('#df-e73287ae-c7ad-4f06-86dd-41dc5dab6f02 button');\n",
              "      quickchartButtonEl.style.display =\n",
              "        google.colab.kernel.accessAllowed ? 'block' : 'none';\n",
              "    })();\n",
              "  </script>\n",
              "</div>\n",
              "\n",
              "    </div>\n",
              "  </div>\n"
            ],
            "application/vnd.google.colaboratory.intrinsic+json": {
              "type": "dataframe",
              "variable_name": "admin_wide_station_level_means_data",
              "summary": "{\n  \"name\": \"admin_wide_station_level_means_data\",\n  \"rows\": 180,\n  \"fields\": [\n    {\n      \"column\": \"ps_code\",\n      \"properties\": {\n        \"dtype\": \"number\",\n        \"std\": 3118.1142999751473,\n        \"min\": 1001.0,\n        \"max\": 12180.0,\n        \"num_unique_values\": 180,\n        \"samples\": [\n          2020.0,\n          3043.0,\n          10154.0\n        ],\n        \"semantic_type\": \"\",\n        \"description\": \"\"\n      }\n    },\n    {\n      \"column\": \"treatment\",\n      \"properties\": {\n        \"dtype\": \"category\",\n        \"num_unique_values\": 2,\n        \"samples\": [\n          \"Control\",\n          \"Treatment\"\n        ],\n        \"semantic_type\": \"\",\n        \"description\": \"\"\n      }\n    },\n    {\n      \"column\": \"women_whd\",\n      \"properties\": {\n        \"dtype\": \"number\",\n        \"std\": 0.4707127076409763,\n        \"min\": 0.0,\n        \"max\": 1.0,\n        \"num_unique_values\": 2,\n        \"samples\": [\n          0.0,\n          1.0\n        ],\n        \"semantic_type\": \"\",\n        \"description\": \"\"\n      }\n    },\n    {\n      \"column\": \"regular_whd\",\n      \"properties\": {\n        \"dtype\": \"number\",\n        \"std\": 0.4746523442695149,\n        \"min\": 0.0,\n        \"max\": 1.0,\n        \"num_unique_values\": 2,\n        \"samples\": [\n          1.0,\n          0.0\n        ],\n        \"semantic_type\": \"\",\n        \"description\": \"\"\n      }\n    },\n    {\n      \"column\": \"e_caw_rate\",\n      \"properties\": {\n        \"dtype\": \"number\",\n        \"std\": 0.14009606128228683,\n        \"min\": 0.0,\n        \"max\": 1.0016975,\n        \"num_unique_values\": 106,\n        \"samples\": [\n          0.45370898,\n          0.11811343\n        ],\n        \"semantic_type\": \"\",\n        \"description\": \"\"\n      }\n    },\n    {\n      \"column\": \"e_fir_overall_count\",\n      \"properties\": {\n        \"dtype\": \"number\",\n        \"std\": 17.64512181722628,\n        \"min\": 4.375,\n        \"max\": 99.375,\n        \"num_unique_values\": 151,\n        \"samples\": [\n          63.5,\n          26.875\n        ],\n        \"semantic_type\": \"\",\n        \"description\": \"\"\n      }\n    },\n    {\n      \"column\": \"e_fir_caw_count\",\n      \"properties\": {\n        \"dtype\": \"number\",\n        \"std\": 3.1286539779659766,\n        \"min\": 0.0,\n        \"max\": 14.625,\n        \"num_unique_values\": 78,\n        \"samples\": [\n          5.375,\n          10.375\n        ],\n        \"semantic_type\": \"\",\n        \"description\": \"\"\n      }\n    },\n    {\n      \"column\": \"e_fir_bywomen_count\",\n      \"properties\": {\n        \"dtype\": \"number\",\n        \"std\": 1.6501062734994776,\n        \"min\": 0.0,\n        \"max\": 7.0,\n        \"num_unique_values\": 47,\n        \"samples\": [\n          2.25,\n          0.0\n        ],\n        \"semantic_type\": \"\",\n        \"description\": \"\"\n      }\n    },\n    {\n      \"column\": \"e_arrest_count\",\n      \"properties\": {\n        \"dtype\": \"number\",\n        \"std\": 3.5031407717810823,\n        \"min\": 0.0,\n        \"max\": 17.125,\n        \"num_unique_values\": 74,\n        \"samples\": [\n          1.625,\n          3.25\n        ],\n        \"semantic_type\": \"\",\n        \"description\": \"\"\n      }\n    },\n    {\n      \"column\": \"e_dir_count\",\n      \"properties\": {\n        \"dtype\": \"number\",\n        \"std\": 1.0227955431821745,\n        \"min\": 0.0,\n        \"max\": 6.5,\n        \"num_unique_values\": 30,\n        \"samples\": [\n          3.5,\n          1.25\n        ],\n        \"semantic_type\": \"\",\n        \"description\": \"\"\n      }\n    }\n  ]\n}"
            }
          },
          "metadata": {},
          "execution_count": 4
        }
      ]
    },
    {
      "cell_type": "code",
      "source": [
        "#Double-checking for no missing values\n",
        "admin_wide_station_level_means_data.shape\n",
        "admin_wide_station_level_means_data.info()\n",
        "#There are no missing values"
      ],
      "metadata": {
        "colab": {
          "base_uri": "https://localhost:8080/"
        },
        "id": "Q9ovZtr2lrN_",
        "outputId": "4577bb5c-95b7-420a-9820-20e28b3de985"
      },
      "execution_count": null,
      "outputs": [
        {
          "output_type": "stream",
          "name": "stdout",
          "text": [
            "<class 'pandas.core.frame.DataFrame'>\n",
            "RangeIndex: 180 entries, 0 to 179\n",
            "Data columns (total 10 columns):\n",
            " #   Column               Non-Null Count  Dtype  \n",
            "---  ------               --------------  -----  \n",
            " 0   ps_code              180 non-null    float64\n",
            " 1   treatment            180 non-null    object \n",
            " 2   women_whd            180 non-null    float64\n",
            " 3   regular_whd          180 non-null    float64\n",
            " 4   e_caw_rate           180 non-null    float64\n",
            " 5   e_fir_overall_count  180 non-null    float64\n",
            " 6   e_fir_caw_count      180 non-null    float64\n",
            " 7   e_fir_bywomen_count  180 non-null    float64\n",
            " 8   e_arrest_count       180 non-null    float64\n",
            " 9   e_dir_count          180 non-null    float64\n",
            "dtypes: float64(9), object(1)\n",
            "memory usage: 14.2+ KB\n"
          ]
        }
      ]
    },
    {
      "cell_type": "code",
      "source": [
        "admin_wide_station_level_means_data['women_whd'].value_counts()"
      ],
      "metadata": {
        "colab": {
          "base_uri": "https://localhost:8080/",
          "height": 178
        },
        "id": "cqq4dy4DoC2J",
        "outputId": "6e337bbb-2604-40d6-f60c-e7740bf81be6"
      },
      "execution_count": null,
      "outputs": [
        {
          "output_type": "execute_result",
          "data": {
            "text/plain": [
              "women_whd\n",
              "0.0    121\n",
              "1.0     59\n",
              "Name: count, dtype: int64"
            ],
            "text/html": [
              "<div>\n",
              "<style scoped>\n",
              "    .dataframe tbody tr th:only-of-type {\n",
              "        vertical-align: middle;\n",
              "    }\n",
              "\n",
              "    .dataframe tbody tr th {\n",
              "        vertical-align: top;\n",
              "    }\n",
              "\n",
              "    .dataframe thead th {\n",
              "        text-align: right;\n",
              "    }\n",
              "</style>\n",
              "<table border=\"1\" class=\"dataframe\">\n",
              "  <thead>\n",
              "    <tr style=\"text-align: right;\">\n",
              "      <th></th>\n",
              "      <th>count</th>\n",
              "    </tr>\n",
              "    <tr>\n",
              "      <th>women_whd</th>\n",
              "      <th></th>\n",
              "    </tr>\n",
              "  </thead>\n",
              "  <tbody>\n",
              "    <tr>\n",
              "      <th>0.0</th>\n",
              "      <td>121</td>\n",
              "    </tr>\n",
              "    <tr>\n",
              "      <th>1.0</th>\n",
              "      <td>59</td>\n",
              "    </tr>\n",
              "  </tbody>\n",
              "</table>\n",
              "</div><br><label><b>dtype:</b> int64</label>"
            ]
          },
          "metadata": {},
          "execution_count": 6
        }
      ]
    },
    {
      "cell_type": "code",
      "source": [
        "admin_wide_station_level_means_data['regular_whd'].value_counts()"
      ],
      "metadata": {
        "colab": {
          "base_uri": "https://localhost:8080/",
          "height": 178
        },
        "id": "mJMUEEsJoYBT",
        "outputId": "557ff630-0f4b-4f8e-edd2-4dbf2d32dd78"
      },
      "execution_count": null,
      "outputs": [
        {
          "output_type": "execute_result",
          "data": {
            "text/plain": [
              "regular_whd\n",
              "0.0    119\n",
              "1.0     61\n",
              "Name: count, dtype: int64"
            ],
            "text/html": [
              "<div>\n",
              "<style scoped>\n",
              "    .dataframe tbody tr th:only-of-type {\n",
              "        vertical-align: middle;\n",
              "    }\n",
              "\n",
              "    .dataframe tbody tr th {\n",
              "        vertical-align: top;\n",
              "    }\n",
              "\n",
              "    .dataframe thead th {\n",
              "        text-align: right;\n",
              "    }\n",
              "</style>\n",
              "<table border=\"1\" class=\"dataframe\">\n",
              "  <thead>\n",
              "    <tr style=\"text-align: right;\">\n",
              "      <th></th>\n",
              "      <th>count</th>\n",
              "    </tr>\n",
              "    <tr>\n",
              "      <th>regular_whd</th>\n",
              "      <th></th>\n",
              "    </tr>\n",
              "  </thead>\n",
              "  <tbody>\n",
              "    <tr>\n",
              "      <th>0.0</th>\n",
              "      <td>119</td>\n",
              "    </tr>\n",
              "    <tr>\n",
              "      <th>1.0</th>\n",
              "      <td>61</td>\n",
              "    </tr>\n",
              "  </tbody>\n",
              "</table>\n",
              "</div><br><label><b>dtype:</b> int64</label>"
            ]
          },
          "metadata": {},
          "execution_count": 7
        }
      ]
    },
    {
      "cell_type": "markdown",
      "source": [
        "\n",
        "\n",
        "Remove control row (which has no whd run by either men or women) to focus on the research question in some graphs."
      ],
      "metadata": {
        "id": "Fw5sL0pbsBaA"
      }
    },
    {
      "cell_type": "code",
      "source": [
        "#Code in 4 rows below was partially inspired by Gemini.\n",
        "# Create a boolean mask for rows where both columns are 0\n",
        "mask = (admin_wide_station_level_means_data['regular_whd'] == 0) & (admin_wide_station_level_means_data['women_whd'] == 0)\n",
        "\n",
        "# Apply the inverted mask to filter admin_wide_cleaned_data\n",
        "filtered_admin_wide_station_level_means_data = admin_wide_station_level_means_data[~mask]\n",
        "\n",
        "\n"
      ],
      "metadata": {
        "id": "Y3jUlz8tpCZu"
      },
      "execution_count": null,
      "outputs": []
    },
    {
      "cell_type": "markdown",
      "source": [
        "After removing control rows, make sure the resulting value counts are expected for regular_whd and women_whd."
      ],
      "metadata": {
        "id": "9l-7nubDrwPJ"
      }
    },
    {
      "cell_type": "code",
      "source": [
        "filtered_admin_wide_station_level_means_data['regular_whd'].value_counts()"
      ],
      "metadata": {
        "id": "tgb3PHy9qOrj",
        "colab": {
          "base_uri": "https://localhost:8080/",
          "height": 178
        },
        "outputId": "b9c0f37b-22ba-463e-a1b1-34325771b884"
      },
      "execution_count": null,
      "outputs": [
        {
          "output_type": "execute_result",
          "data": {
            "text/plain": [
              "regular_whd\n",
              "1.0    61\n",
              "0.0    59\n",
              "Name: count, dtype: int64"
            ],
            "text/html": [
              "<div>\n",
              "<style scoped>\n",
              "    .dataframe tbody tr th:only-of-type {\n",
              "        vertical-align: middle;\n",
              "    }\n",
              "\n",
              "    .dataframe tbody tr th {\n",
              "        vertical-align: top;\n",
              "    }\n",
              "\n",
              "    .dataframe thead th {\n",
              "        text-align: right;\n",
              "    }\n",
              "</style>\n",
              "<table border=\"1\" class=\"dataframe\">\n",
              "  <thead>\n",
              "    <tr style=\"text-align: right;\">\n",
              "      <th></th>\n",
              "      <th>count</th>\n",
              "    </tr>\n",
              "    <tr>\n",
              "      <th>regular_whd</th>\n",
              "      <th></th>\n",
              "    </tr>\n",
              "  </thead>\n",
              "  <tbody>\n",
              "    <tr>\n",
              "      <th>1.0</th>\n",
              "      <td>61</td>\n",
              "    </tr>\n",
              "    <tr>\n",
              "      <th>0.0</th>\n",
              "      <td>59</td>\n",
              "    </tr>\n",
              "  </tbody>\n",
              "</table>\n",
              "</div><br><label><b>dtype:</b> int64</label>"
            ]
          },
          "metadata": {},
          "execution_count": 9
        }
      ]
    },
    {
      "cell_type": "code",
      "source": [
        "filtered_admin_wide_station_level_means_data['women_whd'].value_counts()"
      ],
      "metadata": {
        "id": "K_etVaSyqWrW",
        "colab": {
          "base_uri": "https://localhost:8080/",
          "height": 178
        },
        "outputId": "78449081-ac2a-466a-8960-046e83ef81d8"
      },
      "execution_count": null,
      "outputs": [
        {
          "output_type": "execute_result",
          "data": {
            "text/plain": [
              "women_whd\n",
              "0.0    61\n",
              "1.0    59\n",
              "Name: count, dtype: int64"
            ],
            "text/html": [
              "<div>\n",
              "<style scoped>\n",
              "    .dataframe tbody tr th:only-of-type {\n",
              "        vertical-align: middle;\n",
              "    }\n",
              "\n",
              "    .dataframe tbody tr th {\n",
              "        vertical-align: top;\n",
              "    }\n",
              "\n",
              "    .dataframe thead th {\n",
              "        text-align: right;\n",
              "    }\n",
              "</style>\n",
              "<table border=\"1\" class=\"dataframe\">\n",
              "  <thead>\n",
              "    <tr style=\"text-align: right;\">\n",
              "      <th></th>\n",
              "      <th>count</th>\n",
              "    </tr>\n",
              "    <tr>\n",
              "      <th>women_whd</th>\n",
              "      <th></th>\n",
              "    </tr>\n",
              "  </thead>\n",
              "  <tbody>\n",
              "    <tr>\n",
              "      <th>0.0</th>\n",
              "      <td>61</td>\n",
              "    </tr>\n",
              "    <tr>\n",
              "      <th>1.0</th>\n",
              "      <td>59</td>\n",
              "    </tr>\n",
              "  </tbody>\n",
              "</table>\n",
              "</div><br><label><b>dtype:</b> int64</label>"
            ]
          },
          "metadata": {},
          "execution_count": 10
        }
      ]
    },
    {
      "cell_type": "code",
      "source": [
        "# make a list called `FIR_DIR_Arrests` that holds the names of these columns.\n",
        "FIR_DIR_ARRESTS = ['e_fir_overall_count', 'e_fir_bywomen_count', 'e_arrest_count', 'e_dir_count']\n",
        "#\n",
        "# make a copy of data with just these columns\n",
        "FIR_DIR_ARRESTS_DATA = filtered_admin_wide_station_level_means_data[FIR_DIR_ARRESTS]"
      ],
      "metadata": {
        "id": "kjmhgnbssSIo"
      },
      "execution_count": null,
      "outputs": []
    },
    {
      "cell_type": "code",
      "source": [
        "filtered_admin_wide_station_level_means_data.groupby(['regular_whd', 'women_whd'])[FIR_DIR_ARRESTS].agg(sum)"
      ],
      "metadata": {
        "colab": {
          "base_uri": "https://localhost:8080/",
          "height": 198
        },
        "id": "HJ0YM8nUu8OQ",
        "outputId": "ffa45bd1-76f3-4ae3-d0fb-d49d11da6862"
      },
      "execution_count": null,
      "outputs": [
        {
          "output_type": "stream",
          "name": "stderr",
          "text": [
            "<ipython-input-12-6d66ad9faeaa>:1: FutureWarning: The provided callable <built-in function sum> is currently using DataFrameGroupBy.sum. In a future version of pandas, the provided callable will be used directly. To keep current behavior pass the string \"sum\" instead.\n",
            "  filtered_admin_wide_station_level_means_data.groupby(['regular_whd', 'women_whd'])[FIR_DIR_ARRESTS].agg(sum)\n"
          ]
        },
        {
          "output_type": "execute_result",
          "data": {
            "text/plain": [
              "                       e_fir_overall_count  e_fir_bywomen_count  \\\n",
              "regular_whd women_whd                                             \n",
              "0.0         1.0                    1981.25              184.375   \n",
              "1.0         0.0                    1974.00              165.625   \n",
              "\n",
              "                       e_arrest_count  e_dir_count  \n",
              "regular_whd women_whd                               \n",
              "0.0         1.0               243.125        52.25  \n",
              "1.0         0.0               219.875        55.25  "
            ],
            "text/html": [
              "\n",
              "  <div id=\"df-d6922102-8cfc-4fbb-9963-fc8c919d598f\" class=\"colab-df-container\">\n",
              "    <div>\n",
              "<style scoped>\n",
              "    .dataframe tbody tr th:only-of-type {\n",
              "        vertical-align: middle;\n",
              "    }\n",
              "\n",
              "    .dataframe tbody tr th {\n",
              "        vertical-align: top;\n",
              "    }\n",
              "\n",
              "    .dataframe thead th {\n",
              "        text-align: right;\n",
              "    }\n",
              "</style>\n",
              "<table border=\"1\" class=\"dataframe\">\n",
              "  <thead>\n",
              "    <tr style=\"text-align: right;\">\n",
              "      <th></th>\n",
              "      <th></th>\n",
              "      <th>e_fir_overall_count</th>\n",
              "      <th>e_fir_bywomen_count</th>\n",
              "      <th>e_arrest_count</th>\n",
              "      <th>e_dir_count</th>\n",
              "    </tr>\n",
              "    <tr>\n",
              "      <th>regular_whd</th>\n",
              "      <th>women_whd</th>\n",
              "      <th></th>\n",
              "      <th></th>\n",
              "      <th></th>\n",
              "      <th></th>\n",
              "    </tr>\n",
              "  </thead>\n",
              "  <tbody>\n",
              "    <tr>\n",
              "      <th>0.0</th>\n",
              "      <th>1.0</th>\n",
              "      <td>1981.25</td>\n",
              "      <td>184.375</td>\n",
              "      <td>243.125</td>\n",
              "      <td>52.25</td>\n",
              "    </tr>\n",
              "    <tr>\n",
              "      <th>1.0</th>\n",
              "      <th>0.0</th>\n",
              "      <td>1974.00</td>\n",
              "      <td>165.625</td>\n",
              "      <td>219.875</td>\n",
              "      <td>55.25</td>\n",
              "    </tr>\n",
              "  </tbody>\n",
              "</table>\n",
              "</div>\n",
              "    <div class=\"colab-df-buttons\">\n",
              "\n",
              "  <div class=\"colab-df-container\">\n",
              "    <button class=\"colab-df-convert\" onclick=\"convertToInteractive('df-d6922102-8cfc-4fbb-9963-fc8c919d598f')\"\n",
              "            title=\"Convert this dataframe to an interactive table.\"\n",
              "            style=\"display:none;\">\n",
              "\n",
              "  <svg xmlns=\"http://www.w3.org/2000/svg\" height=\"24px\" viewBox=\"0 -960 960 960\">\n",
              "    <path d=\"M120-120v-720h720v720H120Zm60-500h600v-160H180v160Zm220 220h160v-160H400v160Zm0 220h160v-160H400v160ZM180-400h160v-160H180v160Zm440 0h160v-160H620v160ZM180-180h160v-160H180v160Zm440 0h160v-160H620v160Z\"/>\n",
              "  </svg>\n",
              "    </button>\n",
              "\n",
              "  <style>\n",
              "    .colab-df-container {\n",
              "      display:flex;\n",
              "      gap: 12px;\n",
              "    }\n",
              "\n",
              "    .colab-df-convert {\n",
              "      background-color: #E8F0FE;\n",
              "      border: none;\n",
              "      border-radius: 50%;\n",
              "      cursor: pointer;\n",
              "      display: none;\n",
              "      fill: #1967D2;\n",
              "      height: 32px;\n",
              "      padding: 0 0 0 0;\n",
              "      width: 32px;\n",
              "    }\n",
              "\n",
              "    .colab-df-convert:hover {\n",
              "      background-color: #E2EBFA;\n",
              "      box-shadow: 0px 1px 2px rgba(60, 64, 67, 0.3), 0px 1px 3px 1px rgba(60, 64, 67, 0.15);\n",
              "      fill: #174EA6;\n",
              "    }\n",
              "\n",
              "    .colab-df-buttons div {\n",
              "      margin-bottom: 4px;\n",
              "    }\n",
              "\n",
              "    [theme=dark] .colab-df-convert {\n",
              "      background-color: #3B4455;\n",
              "      fill: #D2E3FC;\n",
              "    }\n",
              "\n",
              "    [theme=dark] .colab-df-convert:hover {\n",
              "      background-color: #434B5C;\n",
              "      box-shadow: 0px 1px 3px 1px rgba(0, 0, 0, 0.15);\n",
              "      filter: drop-shadow(0px 1px 2px rgba(0, 0, 0, 0.3));\n",
              "      fill: #FFFFFF;\n",
              "    }\n",
              "  </style>\n",
              "\n",
              "    <script>\n",
              "      const buttonEl =\n",
              "        document.querySelector('#df-d6922102-8cfc-4fbb-9963-fc8c919d598f button.colab-df-convert');\n",
              "      buttonEl.style.display =\n",
              "        google.colab.kernel.accessAllowed ? 'block' : 'none';\n",
              "\n",
              "      async function convertToInteractive(key) {\n",
              "        const element = document.querySelector('#df-d6922102-8cfc-4fbb-9963-fc8c919d598f');\n",
              "        const dataTable =\n",
              "          await google.colab.kernel.invokeFunction('convertToInteractive',\n",
              "                                                    [key], {});\n",
              "        if (!dataTable) return;\n",
              "\n",
              "        const docLinkHtml = 'Like what you see? Visit the ' +\n",
              "          '<a target=\"_blank\" href=https://colab.research.google.com/notebooks/data_table.ipynb>data table notebook</a>'\n",
              "          + ' to learn more about interactive tables.';\n",
              "        element.innerHTML = '';\n",
              "        dataTable['output_type'] = 'display_data';\n",
              "        await google.colab.output.renderOutput(dataTable, element);\n",
              "        const docLink = document.createElement('div');\n",
              "        docLink.innerHTML = docLinkHtml;\n",
              "        element.appendChild(docLink);\n",
              "      }\n",
              "    </script>\n",
              "  </div>\n",
              "\n",
              "\n",
              "<div id=\"df-636d9504-e175-410a-b158-8ff5f7164c41\">\n",
              "  <button class=\"colab-df-quickchart\" onclick=\"quickchart('df-636d9504-e175-410a-b158-8ff5f7164c41')\"\n",
              "            title=\"Suggest charts\"\n",
              "            style=\"display:none;\">\n",
              "\n",
              "<svg xmlns=\"http://www.w3.org/2000/svg\" height=\"24px\"viewBox=\"0 0 24 24\"\n",
              "     width=\"24px\">\n",
              "    <g>\n",
              "        <path d=\"M19 3H5c-1.1 0-2 .9-2 2v14c0 1.1.9 2 2 2h14c1.1 0 2-.9 2-2V5c0-1.1-.9-2-2-2zM9 17H7v-7h2v7zm4 0h-2V7h2v10zm4 0h-2v-4h2v4z\"/>\n",
              "    </g>\n",
              "</svg>\n",
              "  </button>\n",
              "\n",
              "<style>\n",
              "  .colab-df-quickchart {\n",
              "      --bg-color: #E8F0FE;\n",
              "      --fill-color: #1967D2;\n",
              "      --hover-bg-color: #E2EBFA;\n",
              "      --hover-fill-color: #174EA6;\n",
              "      --disabled-fill-color: #AAA;\n",
              "      --disabled-bg-color: #DDD;\n",
              "  }\n",
              "\n",
              "  [theme=dark] .colab-df-quickchart {\n",
              "      --bg-color: #3B4455;\n",
              "      --fill-color: #D2E3FC;\n",
              "      --hover-bg-color: #434B5C;\n",
              "      --hover-fill-color: #FFFFFF;\n",
              "      --disabled-bg-color: #3B4455;\n",
              "      --disabled-fill-color: #666;\n",
              "  }\n",
              "\n",
              "  .colab-df-quickchart {\n",
              "    background-color: var(--bg-color);\n",
              "    border: none;\n",
              "    border-radius: 50%;\n",
              "    cursor: pointer;\n",
              "    display: none;\n",
              "    fill: var(--fill-color);\n",
              "    height: 32px;\n",
              "    padding: 0;\n",
              "    width: 32px;\n",
              "  }\n",
              "\n",
              "  .colab-df-quickchart:hover {\n",
              "    background-color: var(--hover-bg-color);\n",
              "    box-shadow: 0 1px 2px rgba(60, 64, 67, 0.3), 0 1px 3px 1px rgba(60, 64, 67, 0.15);\n",
              "    fill: var(--button-hover-fill-color);\n",
              "  }\n",
              "\n",
              "  .colab-df-quickchart-complete:disabled,\n",
              "  .colab-df-quickchart-complete:disabled:hover {\n",
              "    background-color: var(--disabled-bg-color);\n",
              "    fill: var(--disabled-fill-color);\n",
              "    box-shadow: none;\n",
              "  }\n",
              "\n",
              "  .colab-df-spinner {\n",
              "    border: 2px solid var(--fill-color);\n",
              "    border-color: transparent;\n",
              "    border-bottom-color: var(--fill-color);\n",
              "    animation:\n",
              "      spin 1s steps(1) infinite;\n",
              "  }\n",
              "\n",
              "  @keyframes spin {\n",
              "    0% {\n",
              "      border-color: transparent;\n",
              "      border-bottom-color: var(--fill-color);\n",
              "      border-left-color: var(--fill-color);\n",
              "    }\n",
              "    20% {\n",
              "      border-color: transparent;\n",
              "      border-left-color: var(--fill-color);\n",
              "      border-top-color: var(--fill-color);\n",
              "    }\n",
              "    30% {\n",
              "      border-color: transparent;\n",
              "      border-left-color: var(--fill-color);\n",
              "      border-top-color: var(--fill-color);\n",
              "      border-right-color: var(--fill-color);\n",
              "    }\n",
              "    40% {\n",
              "      border-color: transparent;\n",
              "      border-right-color: var(--fill-color);\n",
              "      border-top-color: var(--fill-color);\n",
              "    }\n",
              "    60% {\n",
              "      border-color: transparent;\n",
              "      border-right-color: var(--fill-color);\n",
              "    }\n",
              "    80% {\n",
              "      border-color: transparent;\n",
              "      border-right-color: var(--fill-color);\n",
              "      border-bottom-color: var(--fill-color);\n",
              "    }\n",
              "    90% {\n",
              "      border-color: transparent;\n",
              "      border-bottom-color: var(--fill-color);\n",
              "    }\n",
              "  }\n",
              "</style>\n",
              "\n",
              "  <script>\n",
              "    async function quickchart(key) {\n",
              "      const quickchartButtonEl =\n",
              "        document.querySelector('#' + key + ' button');\n",
              "      quickchartButtonEl.disabled = true;  // To prevent multiple clicks.\n",
              "      quickchartButtonEl.classList.add('colab-df-spinner');\n",
              "      try {\n",
              "        const charts = await google.colab.kernel.invokeFunction(\n",
              "            'suggestCharts', [key], {});\n",
              "      } catch (error) {\n",
              "        console.error('Error during call to suggestCharts:', error);\n",
              "      }\n",
              "      quickchartButtonEl.classList.remove('colab-df-spinner');\n",
              "      quickchartButtonEl.classList.add('colab-df-quickchart-complete');\n",
              "    }\n",
              "    (() => {\n",
              "      let quickchartButtonEl =\n",
              "        document.querySelector('#df-636d9504-e175-410a-b158-8ff5f7164c41 button');\n",
              "      quickchartButtonEl.style.display =\n",
              "        google.colab.kernel.accessAllowed ? 'block' : 'none';\n",
              "    })();\n",
              "  </script>\n",
              "</div>\n",
              "\n",
              "    </div>\n",
              "  </div>\n"
            ],
            "application/vnd.google.colaboratory.intrinsic+json": {
              "type": "dataframe",
              "summary": "{\n  \"name\": \"filtered_admin_wide_station_level_means_data\",\n  \"rows\": 2,\n  \"fields\": [\n    {\n      \"column\": \"e_fir_overall_count\",\n      \"properties\": {\n        \"dtype\": \"number\",\n        \"std\": 5.126524163602469,\n        \"min\": 1974.0,\n        \"max\": 1981.25,\n        \"num_unique_values\": 2,\n        \"samples\": [\n          1974.0,\n          1981.25\n        ],\n        \"semantic_type\": \"\",\n        \"description\": \"\"\n      }\n    },\n    {\n      \"column\": \"e_fir_bywomen_count\",\n      \"properties\": {\n        \"dtype\": \"number\",\n        \"std\": 13.258252147247767,\n        \"min\": 165.625,\n        \"max\": 184.375,\n        \"num_unique_values\": 2,\n        \"samples\": [\n          165.625,\n          184.375\n        ],\n        \"semantic_type\": \"\",\n        \"description\": \"\"\n      }\n    },\n    {\n      \"column\": \"e_arrest_count\",\n      \"properties\": {\n        \"dtype\": \"number\",\n        \"std\": 16.44023266258723,\n        \"min\": 219.875,\n        \"max\": 243.125,\n        \"num_unique_values\": 2,\n        \"samples\": [\n          219.875,\n          243.125\n        ],\n        \"semantic_type\": \"\",\n        \"description\": \"\"\n      }\n    },\n    {\n      \"column\": \"e_dir_count\",\n      \"properties\": {\n        \"dtype\": \"number\",\n        \"std\": 2.1213203435596424,\n        \"min\": 52.25,\n        \"max\": 55.25,\n        \"num_unique_values\": 2,\n        \"samples\": [\n          55.25,\n          52.25\n        ],\n        \"semantic_type\": \"\",\n        \"description\": \"\"\n      }\n    }\n  ]\n}"
            }
          },
          "metadata": {},
          "execution_count": 12
        }
      ]
    },
    {
      "cell_type": "markdown",
      "source": [
        "# It's an ok table, but maybe could be better visualized if narrower. Split into before/end categories."
      ],
      "metadata": {
        "id": "LurAEm82wPGJ"
      }
    },
    {
      "cell_type": "code",
      "source": [
        "FIR = ['e_fir_caw_count', 'e_fir_bywomen_count']\n",
        "DIR = ['e_dir_count']\n",
        "ARRESTS = ['e_arrest_count']\n"
      ],
      "metadata": {
        "id": "Z5jvQu4TwJH4"
      },
      "execution_count": null,
      "outputs": []
    },
    {
      "cell_type": "code",
      "source": [
        "filtered_admin_wide_station_level_means_data.groupby(['regular_whd', 'women_whd'])[FIR].agg(sum)"
      ],
      "metadata": {
        "colab": {
          "base_uri": "https://localhost:8080/",
          "height": 198
        },
        "id": "IaodLui1wfEW",
        "outputId": "cc9eba2b-c8e2-47cd-f523-4e0c988e8073"
      },
      "execution_count": null,
      "outputs": [
        {
          "output_type": "stream",
          "name": "stderr",
          "text": [
            "<ipython-input-14-dd86be2c827d>:1: FutureWarning: The provided callable <built-in function sum> is currently using DataFrameGroupBy.sum. In a future version of pandas, the provided callable will be used directly. To keep current behavior pass the string \"sum\" instead.\n",
            "  filtered_admin_wide_station_level_means_data.groupby(['regular_whd', 'women_whd'])[FIR].agg(sum)\n"
          ]
        },
        {
          "output_type": "execute_result",
          "data": {
            "text/plain": [
              "                       e_fir_caw_count  e_fir_bywomen_count\n",
              "regular_whd women_whd                                      \n",
              "0.0         1.0                 293.25              184.375\n",
              "1.0         0.0                 250.00              165.625"
            ],
            "text/html": [
              "\n",
              "  <div id=\"df-ebb50a93-7a5c-442b-9910-5467de352186\" class=\"colab-df-container\">\n",
              "    <div>\n",
              "<style scoped>\n",
              "    .dataframe tbody tr th:only-of-type {\n",
              "        vertical-align: middle;\n",
              "    }\n",
              "\n",
              "    .dataframe tbody tr th {\n",
              "        vertical-align: top;\n",
              "    }\n",
              "\n",
              "    .dataframe thead th {\n",
              "        text-align: right;\n",
              "    }\n",
              "</style>\n",
              "<table border=\"1\" class=\"dataframe\">\n",
              "  <thead>\n",
              "    <tr style=\"text-align: right;\">\n",
              "      <th></th>\n",
              "      <th></th>\n",
              "      <th>e_fir_caw_count</th>\n",
              "      <th>e_fir_bywomen_count</th>\n",
              "    </tr>\n",
              "    <tr>\n",
              "      <th>regular_whd</th>\n",
              "      <th>women_whd</th>\n",
              "      <th></th>\n",
              "      <th></th>\n",
              "    </tr>\n",
              "  </thead>\n",
              "  <tbody>\n",
              "    <tr>\n",
              "      <th>0.0</th>\n",
              "      <th>1.0</th>\n",
              "      <td>293.25</td>\n",
              "      <td>184.375</td>\n",
              "    </tr>\n",
              "    <tr>\n",
              "      <th>1.0</th>\n",
              "      <th>0.0</th>\n",
              "      <td>250.00</td>\n",
              "      <td>165.625</td>\n",
              "    </tr>\n",
              "  </tbody>\n",
              "</table>\n",
              "</div>\n",
              "    <div class=\"colab-df-buttons\">\n",
              "\n",
              "  <div class=\"colab-df-container\">\n",
              "    <button class=\"colab-df-convert\" onclick=\"convertToInteractive('df-ebb50a93-7a5c-442b-9910-5467de352186')\"\n",
              "            title=\"Convert this dataframe to an interactive table.\"\n",
              "            style=\"display:none;\">\n",
              "\n",
              "  <svg xmlns=\"http://www.w3.org/2000/svg\" height=\"24px\" viewBox=\"0 -960 960 960\">\n",
              "    <path d=\"M120-120v-720h720v720H120Zm60-500h600v-160H180v160Zm220 220h160v-160H400v160Zm0 220h160v-160H400v160ZM180-400h160v-160H180v160Zm440 0h160v-160H620v160ZM180-180h160v-160H180v160Zm440 0h160v-160H620v160Z\"/>\n",
              "  </svg>\n",
              "    </button>\n",
              "\n",
              "  <style>\n",
              "    .colab-df-container {\n",
              "      display:flex;\n",
              "      gap: 12px;\n",
              "    }\n",
              "\n",
              "    .colab-df-convert {\n",
              "      background-color: #E8F0FE;\n",
              "      border: none;\n",
              "      border-radius: 50%;\n",
              "      cursor: pointer;\n",
              "      display: none;\n",
              "      fill: #1967D2;\n",
              "      height: 32px;\n",
              "      padding: 0 0 0 0;\n",
              "      width: 32px;\n",
              "    }\n",
              "\n",
              "    .colab-df-convert:hover {\n",
              "      background-color: #E2EBFA;\n",
              "      box-shadow: 0px 1px 2px rgba(60, 64, 67, 0.3), 0px 1px 3px 1px rgba(60, 64, 67, 0.15);\n",
              "      fill: #174EA6;\n",
              "    }\n",
              "\n",
              "    .colab-df-buttons div {\n",
              "      margin-bottom: 4px;\n",
              "    }\n",
              "\n",
              "    [theme=dark] .colab-df-convert {\n",
              "      background-color: #3B4455;\n",
              "      fill: #D2E3FC;\n",
              "    }\n",
              "\n",
              "    [theme=dark] .colab-df-convert:hover {\n",
              "      background-color: #434B5C;\n",
              "      box-shadow: 0px 1px 3px 1px rgba(0, 0, 0, 0.15);\n",
              "      filter: drop-shadow(0px 1px 2px rgba(0, 0, 0, 0.3));\n",
              "      fill: #FFFFFF;\n",
              "    }\n",
              "  </style>\n",
              "\n",
              "    <script>\n",
              "      const buttonEl =\n",
              "        document.querySelector('#df-ebb50a93-7a5c-442b-9910-5467de352186 button.colab-df-convert');\n",
              "      buttonEl.style.display =\n",
              "        google.colab.kernel.accessAllowed ? 'block' : 'none';\n",
              "\n",
              "      async function convertToInteractive(key) {\n",
              "        const element = document.querySelector('#df-ebb50a93-7a5c-442b-9910-5467de352186');\n",
              "        const dataTable =\n",
              "          await google.colab.kernel.invokeFunction('convertToInteractive',\n",
              "                                                    [key], {});\n",
              "        if (!dataTable) return;\n",
              "\n",
              "        const docLinkHtml = 'Like what you see? Visit the ' +\n",
              "          '<a target=\"_blank\" href=https://colab.research.google.com/notebooks/data_table.ipynb>data table notebook</a>'\n",
              "          + ' to learn more about interactive tables.';\n",
              "        element.innerHTML = '';\n",
              "        dataTable['output_type'] = 'display_data';\n",
              "        await google.colab.output.renderOutput(dataTable, element);\n",
              "        const docLink = document.createElement('div');\n",
              "        docLink.innerHTML = docLinkHtml;\n",
              "        element.appendChild(docLink);\n",
              "      }\n",
              "    </script>\n",
              "  </div>\n",
              "\n",
              "\n",
              "<div id=\"df-aca67852-3586-44fe-9016-b43888ea0c93\">\n",
              "  <button class=\"colab-df-quickchart\" onclick=\"quickchart('df-aca67852-3586-44fe-9016-b43888ea0c93')\"\n",
              "            title=\"Suggest charts\"\n",
              "            style=\"display:none;\">\n",
              "\n",
              "<svg xmlns=\"http://www.w3.org/2000/svg\" height=\"24px\"viewBox=\"0 0 24 24\"\n",
              "     width=\"24px\">\n",
              "    <g>\n",
              "        <path d=\"M19 3H5c-1.1 0-2 .9-2 2v14c0 1.1.9 2 2 2h14c1.1 0 2-.9 2-2V5c0-1.1-.9-2-2-2zM9 17H7v-7h2v7zm4 0h-2V7h2v10zm4 0h-2v-4h2v4z\"/>\n",
              "    </g>\n",
              "</svg>\n",
              "  </button>\n",
              "\n",
              "<style>\n",
              "  .colab-df-quickchart {\n",
              "      --bg-color: #E8F0FE;\n",
              "      --fill-color: #1967D2;\n",
              "      --hover-bg-color: #E2EBFA;\n",
              "      --hover-fill-color: #174EA6;\n",
              "      --disabled-fill-color: #AAA;\n",
              "      --disabled-bg-color: #DDD;\n",
              "  }\n",
              "\n",
              "  [theme=dark] .colab-df-quickchart {\n",
              "      --bg-color: #3B4455;\n",
              "      --fill-color: #D2E3FC;\n",
              "      --hover-bg-color: #434B5C;\n",
              "      --hover-fill-color: #FFFFFF;\n",
              "      --disabled-bg-color: #3B4455;\n",
              "      --disabled-fill-color: #666;\n",
              "  }\n",
              "\n",
              "  .colab-df-quickchart {\n",
              "    background-color: var(--bg-color);\n",
              "    border: none;\n",
              "    border-radius: 50%;\n",
              "    cursor: pointer;\n",
              "    display: none;\n",
              "    fill: var(--fill-color);\n",
              "    height: 32px;\n",
              "    padding: 0;\n",
              "    width: 32px;\n",
              "  }\n",
              "\n",
              "  .colab-df-quickchart:hover {\n",
              "    background-color: var(--hover-bg-color);\n",
              "    box-shadow: 0 1px 2px rgba(60, 64, 67, 0.3), 0 1px 3px 1px rgba(60, 64, 67, 0.15);\n",
              "    fill: var(--button-hover-fill-color);\n",
              "  }\n",
              "\n",
              "  .colab-df-quickchart-complete:disabled,\n",
              "  .colab-df-quickchart-complete:disabled:hover {\n",
              "    background-color: var(--disabled-bg-color);\n",
              "    fill: var(--disabled-fill-color);\n",
              "    box-shadow: none;\n",
              "  }\n",
              "\n",
              "  .colab-df-spinner {\n",
              "    border: 2px solid var(--fill-color);\n",
              "    border-color: transparent;\n",
              "    border-bottom-color: var(--fill-color);\n",
              "    animation:\n",
              "      spin 1s steps(1) infinite;\n",
              "  }\n",
              "\n",
              "  @keyframes spin {\n",
              "    0% {\n",
              "      border-color: transparent;\n",
              "      border-bottom-color: var(--fill-color);\n",
              "      border-left-color: var(--fill-color);\n",
              "    }\n",
              "    20% {\n",
              "      border-color: transparent;\n",
              "      border-left-color: var(--fill-color);\n",
              "      border-top-color: var(--fill-color);\n",
              "    }\n",
              "    30% {\n",
              "      border-color: transparent;\n",
              "      border-left-color: var(--fill-color);\n",
              "      border-top-color: var(--fill-color);\n",
              "      border-right-color: var(--fill-color);\n",
              "    }\n",
              "    40% {\n",
              "      border-color: transparent;\n",
              "      border-right-color: var(--fill-color);\n",
              "      border-top-color: var(--fill-color);\n",
              "    }\n",
              "    60% {\n",
              "      border-color: transparent;\n",
              "      border-right-color: var(--fill-color);\n",
              "    }\n",
              "    80% {\n",
              "      border-color: transparent;\n",
              "      border-right-color: var(--fill-color);\n",
              "      border-bottom-color: var(--fill-color);\n",
              "    }\n",
              "    90% {\n",
              "      border-color: transparent;\n",
              "      border-bottom-color: var(--fill-color);\n",
              "    }\n",
              "  }\n",
              "</style>\n",
              "\n",
              "  <script>\n",
              "    async function quickchart(key) {\n",
              "      const quickchartButtonEl =\n",
              "        document.querySelector('#' + key + ' button');\n",
              "      quickchartButtonEl.disabled = true;  // To prevent multiple clicks.\n",
              "      quickchartButtonEl.classList.add('colab-df-spinner');\n",
              "      try {\n",
              "        const charts = await google.colab.kernel.invokeFunction(\n",
              "            'suggestCharts', [key], {});\n",
              "      } catch (error) {\n",
              "        console.error('Error during call to suggestCharts:', error);\n",
              "      }\n",
              "      quickchartButtonEl.classList.remove('colab-df-spinner');\n",
              "      quickchartButtonEl.classList.add('colab-df-quickchart-complete');\n",
              "    }\n",
              "    (() => {\n",
              "      let quickchartButtonEl =\n",
              "        document.querySelector('#df-aca67852-3586-44fe-9016-b43888ea0c93 button');\n",
              "      quickchartButtonEl.style.display =\n",
              "        google.colab.kernel.accessAllowed ? 'block' : 'none';\n",
              "    })();\n",
              "  </script>\n",
              "</div>\n",
              "\n",
              "    </div>\n",
              "  </div>\n"
            ],
            "application/vnd.google.colaboratory.intrinsic+json": {
              "type": "dataframe",
              "summary": "{\n  \"name\": \"filtered_admin_wide_station_level_means_data\",\n  \"rows\": 2,\n  \"fields\": [\n    {\n      \"column\": \"e_fir_caw_count\",\n      \"properties\": {\n        \"dtype\": \"number\",\n        \"std\": 30.58236828631818,\n        \"min\": 250.0,\n        \"max\": 293.25,\n        \"num_unique_values\": 2,\n        \"samples\": [\n          250.0,\n          293.25\n        ],\n        \"semantic_type\": \"\",\n        \"description\": \"\"\n      }\n    },\n    {\n      \"column\": \"e_fir_bywomen_count\",\n      \"properties\": {\n        \"dtype\": \"number\",\n        \"std\": 13.258252147247767,\n        \"min\": 165.625,\n        \"max\": 184.375,\n        \"num_unique_values\": 2,\n        \"samples\": [\n          165.625,\n          184.375\n        ],\n        \"semantic_type\": \"\",\n        \"description\": \"\"\n      }\n    }\n  ]\n}"
            }
          },
          "metadata": {},
          "execution_count": 14
        }
      ]
    },
    {
      "cell_type": "markdown",
      "source": [
        "## The table above shows that more First Incidence Reports (FIR) were filed in the woman-run WHD than the regular WHD by the end of the treatment."
      ],
      "metadata": {
        "id": "9YaLcCvyyhqh"
      }
    },
    {
      "cell_type": "code",
      "source": [
        "filtered_admin_wide_station_level_means_data.groupby(['regular_whd', 'women_whd'])[DIR].agg(sum)"
      ],
      "metadata": {
        "colab": {
          "base_uri": "https://localhost:8080/",
          "height": 198
        },
        "id": "U8MDbLucwmrH",
        "outputId": "cec7722a-3a35-4ba2-ac74-0de3e844d9cc"
      },
      "execution_count": null,
      "outputs": [
        {
          "output_type": "stream",
          "name": "stderr",
          "text": [
            "<ipython-input-15-8de4db9ed628>:1: FutureWarning: The provided callable <built-in function sum> is currently using DataFrameGroupBy.sum. In a future version of pandas, the provided callable will be used directly. To keep current behavior pass the string \"sum\" instead.\n",
            "  filtered_admin_wide_station_level_means_data.groupby(['regular_whd', 'women_whd'])[DIR].agg(sum)\n"
          ]
        },
        {
          "output_type": "execute_result",
          "data": {
            "text/plain": [
              "                       e_dir_count\n",
              "regular_whd women_whd             \n",
              "0.0         1.0              52.25\n",
              "1.0         0.0              55.25"
            ],
            "text/html": [
              "\n",
              "  <div id=\"df-e606ec72-9ed5-4c1b-9ba9-9452f5a48025\" class=\"colab-df-container\">\n",
              "    <div>\n",
              "<style scoped>\n",
              "    .dataframe tbody tr th:only-of-type {\n",
              "        vertical-align: middle;\n",
              "    }\n",
              "\n",
              "    .dataframe tbody tr th {\n",
              "        vertical-align: top;\n",
              "    }\n",
              "\n",
              "    .dataframe thead th {\n",
              "        text-align: right;\n",
              "    }\n",
              "</style>\n",
              "<table border=\"1\" class=\"dataframe\">\n",
              "  <thead>\n",
              "    <tr style=\"text-align: right;\">\n",
              "      <th></th>\n",
              "      <th></th>\n",
              "      <th>e_dir_count</th>\n",
              "    </tr>\n",
              "    <tr>\n",
              "      <th>regular_whd</th>\n",
              "      <th>women_whd</th>\n",
              "      <th></th>\n",
              "    </tr>\n",
              "  </thead>\n",
              "  <tbody>\n",
              "    <tr>\n",
              "      <th>0.0</th>\n",
              "      <th>1.0</th>\n",
              "      <td>52.25</td>\n",
              "    </tr>\n",
              "    <tr>\n",
              "      <th>1.0</th>\n",
              "      <th>0.0</th>\n",
              "      <td>55.25</td>\n",
              "    </tr>\n",
              "  </tbody>\n",
              "</table>\n",
              "</div>\n",
              "    <div class=\"colab-df-buttons\">\n",
              "\n",
              "  <div class=\"colab-df-container\">\n",
              "    <button class=\"colab-df-convert\" onclick=\"convertToInteractive('df-e606ec72-9ed5-4c1b-9ba9-9452f5a48025')\"\n",
              "            title=\"Convert this dataframe to an interactive table.\"\n",
              "            style=\"display:none;\">\n",
              "\n",
              "  <svg xmlns=\"http://www.w3.org/2000/svg\" height=\"24px\" viewBox=\"0 -960 960 960\">\n",
              "    <path d=\"M120-120v-720h720v720H120Zm60-500h600v-160H180v160Zm220 220h160v-160H400v160Zm0 220h160v-160H400v160ZM180-400h160v-160H180v160Zm440 0h160v-160H620v160ZM180-180h160v-160H180v160Zm440 0h160v-160H620v160Z\"/>\n",
              "  </svg>\n",
              "    </button>\n",
              "\n",
              "  <style>\n",
              "    .colab-df-container {\n",
              "      display:flex;\n",
              "      gap: 12px;\n",
              "    }\n",
              "\n",
              "    .colab-df-convert {\n",
              "      background-color: #E8F0FE;\n",
              "      border: none;\n",
              "      border-radius: 50%;\n",
              "      cursor: pointer;\n",
              "      display: none;\n",
              "      fill: #1967D2;\n",
              "      height: 32px;\n",
              "      padding: 0 0 0 0;\n",
              "      width: 32px;\n",
              "    }\n",
              "\n",
              "    .colab-df-convert:hover {\n",
              "      background-color: #E2EBFA;\n",
              "      box-shadow: 0px 1px 2px rgba(60, 64, 67, 0.3), 0px 1px 3px 1px rgba(60, 64, 67, 0.15);\n",
              "      fill: #174EA6;\n",
              "    }\n",
              "\n",
              "    .colab-df-buttons div {\n",
              "      margin-bottom: 4px;\n",
              "    }\n",
              "\n",
              "    [theme=dark] .colab-df-convert {\n",
              "      background-color: #3B4455;\n",
              "      fill: #D2E3FC;\n",
              "    }\n",
              "\n",
              "    [theme=dark] .colab-df-convert:hover {\n",
              "      background-color: #434B5C;\n",
              "      box-shadow: 0px 1px 3px 1px rgba(0, 0, 0, 0.15);\n",
              "      filter: drop-shadow(0px 1px 2px rgba(0, 0, 0, 0.3));\n",
              "      fill: #FFFFFF;\n",
              "    }\n",
              "  </style>\n",
              "\n",
              "    <script>\n",
              "      const buttonEl =\n",
              "        document.querySelector('#df-e606ec72-9ed5-4c1b-9ba9-9452f5a48025 button.colab-df-convert');\n",
              "      buttonEl.style.display =\n",
              "        google.colab.kernel.accessAllowed ? 'block' : 'none';\n",
              "\n",
              "      async function convertToInteractive(key) {\n",
              "        const element = document.querySelector('#df-e606ec72-9ed5-4c1b-9ba9-9452f5a48025');\n",
              "        const dataTable =\n",
              "          await google.colab.kernel.invokeFunction('convertToInteractive',\n",
              "                                                    [key], {});\n",
              "        if (!dataTable) return;\n",
              "\n",
              "        const docLinkHtml = 'Like what you see? Visit the ' +\n",
              "          '<a target=\"_blank\" href=https://colab.research.google.com/notebooks/data_table.ipynb>data table notebook</a>'\n",
              "          + ' to learn more about interactive tables.';\n",
              "        element.innerHTML = '';\n",
              "        dataTable['output_type'] = 'display_data';\n",
              "        await google.colab.output.renderOutput(dataTable, element);\n",
              "        const docLink = document.createElement('div');\n",
              "        docLink.innerHTML = docLinkHtml;\n",
              "        element.appendChild(docLink);\n",
              "      }\n",
              "    </script>\n",
              "  </div>\n",
              "\n",
              "\n",
              "<div id=\"df-db616d9d-5829-4c76-81ff-97e1c110b4ea\">\n",
              "  <button class=\"colab-df-quickchart\" onclick=\"quickchart('df-db616d9d-5829-4c76-81ff-97e1c110b4ea')\"\n",
              "            title=\"Suggest charts\"\n",
              "            style=\"display:none;\">\n",
              "\n",
              "<svg xmlns=\"http://www.w3.org/2000/svg\" height=\"24px\"viewBox=\"0 0 24 24\"\n",
              "     width=\"24px\">\n",
              "    <g>\n",
              "        <path d=\"M19 3H5c-1.1 0-2 .9-2 2v14c0 1.1.9 2 2 2h14c1.1 0 2-.9 2-2V5c0-1.1-.9-2-2-2zM9 17H7v-7h2v7zm4 0h-2V7h2v10zm4 0h-2v-4h2v4z\"/>\n",
              "    </g>\n",
              "</svg>\n",
              "  </button>\n",
              "\n",
              "<style>\n",
              "  .colab-df-quickchart {\n",
              "      --bg-color: #E8F0FE;\n",
              "      --fill-color: #1967D2;\n",
              "      --hover-bg-color: #E2EBFA;\n",
              "      --hover-fill-color: #174EA6;\n",
              "      --disabled-fill-color: #AAA;\n",
              "      --disabled-bg-color: #DDD;\n",
              "  }\n",
              "\n",
              "  [theme=dark] .colab-df-quickchart {\n",
              "      --bg-color: #3B4455;\n",
              "      --fill-color: #D2E3FC;\n",
              "      --hover-bg-color: #434B5C;\n",
              "      --hover-fill-color: #FFFFFF;\n",
              "      --disabled-bg-color: #3B4455;\n",
              "      --disabled-fill-color: #666;\n",
              "  }\n",
              "\n",
              "  .colab-df-quickchart {\n",
              "    background-color: var(--bg-color);\n",
              "    border: none;\n",
              "    border-radius: 50%;\n",
              "    cursor: pointer;\n",
              "    display: none;\n",
              "    fill: var(--fill-color);\n",
              "    height: 32px;\n",
              "    padding: 0;\n",
              "    width: 32px;\n",
              "  }\n",
              "\n",
              "  .colab-df-quickchart:hover {\n",
              "    background-color: var(--hover-bg-color);\n",
              "    box-shadow: 0 1px 2px rgba(60, 64, 67, 0.3), 0 1px 3px 1px rgba(60, 64, 67, 0.15);\n",
              "    fill: var(--button-hover-fill-color);\n",
              "  }\n",
              "\n",
              "  .colab-df-quickchart-complete:disabled,\n",
              "  .colab-df-quickchart-complete:disabled:hover {\n",
              "    background-color: var(--disabled-bg-color);\n",
              "    fill: var(--disabled-fill-color);\n",
              "    box-shadow: none;\n",
              "  }\n",
              "\n",
              "  .colab-df-spinner {\n",
              "    border: 2px solid var(--fill-color);\n",
              "    border-color: transparent;\n",
              "    border-bottom-color: var(--fill-color);\n",
              "    animation:\n",
              "      spin 1s steps(1) infinite;\n",
              "  }\n",
              "\n",
              "  @keyframes spin {\n",
              "    0% {\n",
              "      border-color: transparent;\n",
              "      border-bottom-color: var(--fill-color);\n",
              "      border-left-color: var(--fill-color);\n",
              "    }\n",
              "    20% {\n",
              "      border-color: transparent;\n",
              "      border-left-color: var(--fill-color);\n",
              "      border-top-color: var(--fill-color);\n",
              "    }\n",
              "    30% {\n",
              "      border-color: transparent;\n",
              "      border-left-color: var(--fill-color);\n",
              "      border-top-color: var(--fill-color);\n",
              "      border-right-color: var(--fill-color);\n",
              "    }\n",
              "    40% {\n",
              "      border-color: transparent;\n",
              "      border-right-color: var(--fill-color);\n",
              "      border-top-color: var(--fill-color);\n",
              "    }\n",
              "    60% {\n",
              "      border-color: transparent;\n",
              "      border-right-color: var(--fill-color);\n",
              "    }\n",
              "    80% {\n",
              "      border-color: transparent;\n",
              "      border-right-color: var(--fill-color);\n",
              "      border-bottom-color: var(--fill-color);\n",
              "    }\n",
              "    90% {\n",
              "      border-color: transparent;\n",
              "      border-bottom-color: var(--fill-color);\n",
              "    }\n",
              "  }\n",
              "</style>\n",
              "\n",
              "  <script>\n",
              "    async function quickchart(key) {\n",
              "      const quickchartButtonEl =\n",
              "        document.querySelector('#' + key + ' button');\n",
              "      quickchartButtonEl.disabled = true;  // To prevent multiple clicks.\n",
              "      quickchartButtonEl.classList.add('colab-df-spinner');\n",
              "      try {\n",
              "        const charts = await google.colab.kernel.invokeFunction(\n",
              "            'suggestCharts', [key], {});\n",
              "      } catch (error) {\n",
              "        console.error('Error during call to suggestCharts:', error);\n",
              "      }\n",
              "      quickchartButtonEl.classList.remove('colab-df-spinner');\n",
              "      quickchartButtonEl.classList.add('colab-df-quickchart-complete');\n",
              "    }\n",
              "    (() => {\n",
              "      let quickchartButtonEl =\n",
              "        document.querySelector('#df-db616d9d-5829-4c76-81ff-97e1c110b4ea button');\n",
              "      quickchartButtonEl.style.display =\n",
              "        google.colab.kernel.accessAllowed ? 'block' : 'none';\n",
              "    })();\n",
              "  </script>\n",
              "</div>\n",
              "\n",
              "    </div>\n",
              "  </div>\n"
            ],
            "application/vnd.google.colaboratory.intrinsic+json": {
              "type": "dataframe",
              "summary": "{\n  \"name\": \"filtered_admin_wide_station_level_means_data\",\n  \"rows\": 2,\n  \"fields\": [\n    {\n      \"column\": \"e_dir_count\",\n      \"properties\": {\n        \"dtype\": \"number\",\n        \"std\": 2.1213203435596424,\n        \"min\": 52.25,\n        \"max\": 55.25,\n        \"num_unique_values\": 2,\n        \"samples\": [\n          55.25,\n          52.25\n        ],\n        \"semantic_type\": \"\",\n        \"description\": \"\"\n      }\n    }\n  ]\n}"
            }
          },
          "metadata": {},
          "execution_count": 15
        }
      ]
    },
    {
      "cell_type": "markdown",
      "source": [
        "# The table above shows that Domestic Incidence Reports (DIR) increased by the end of treatment in both woman-run WHD and regular WHD, and that regular WHD filed more DIR both at the beginning and end of the treatment.\n",
        "\n",
        "# This is a different result than FIR reports. There were more FIR reports in woman-run WHD than regular WHD by the end of treatment."
      ],
      "metadata": {
        "id": "MuSVJ5nJyzph"
      }
    },
    {
      "cell_type": "code",
      "source": [
        "filtered_admin_wide_station_level_means_data.groupby(['regular_whd', 'women_whd'])[ARRESTS].agg(sum)"
      ],
      "metadata": {
        "colab": {
          "base_uri": "https://localhost:8080/",
          "height": 198
        },
        "id": "Rh7uHeDtwtru",
        "outputId": "1932d806-daa3-4aae-a190-a744ece9c6a3"
      },
      "execution_count": null,
      "outputs": [
        {
          "output_type": "stream",
          "name": "stderr",
          "text": [
            "<ipython-input-16-682fc65d4bef>:1: FutureWarning: The provided callable <built-in function sum> is currently using DataFrameGroupBy.sum. In a future version of pandas, the provided callable will be used directly. To keep current behavior pass the string \"sum\" instead.\n",
            "  filtered_admin_wide_station_level_means_data.groupby(['regular_whd', 'women_whd'])[ARRESTS].agg(sum)\n"
          ]
        },
        {
          "output_type": "execute_result",
          "data": {
            "text/plain": [
              "                       e_arrest_count\n",
              "regular_whd women_whd                \n",
              "0.0         1.0               243.125\n",
              "1.0         0.0               219.875"
            ],
            "text/html": [
              "\n",
              "  <div id=\"df-2fc983a1-f754-4a08-9f72-c034a090d00d\" class=\"colab-df-container\">\n",
              "    <div>\n",
              "<style scoped>\n",
              "    .dataframe tbody tr th:only-of-type {\n",
              "        vertical-align: middle;\n",
              "    }\n",
              "\n",
              "    .dataframe tbody tr th {\n",
              "        vertical-align: top;\n",
              "    }\n",
              "\n",
              "    .dataframe thead th {\n",
              "        text-align: right;\n",
              "    }\n",
              "</style>\n",
              "<table border=\"1\" class=\"dataframe\">\n",
              "  <thead>\n",
              "    <tr style=\"text-align: right;\">\n",
              "      <th></th>\n",
              "      <th></th>\n",
              "      <th>e_arrest_count</th>\n",
              "    </tr>\n",
              "    <tr>\n",
              "      <th>regular_whd</th>\n",
              "      <th>women_whd</th>\n",
              "      <th></th>\n",
              "    </tr>\n",
              "  </thead>\n",
              "  <tbody>\n",
              "    <tr>\n",
              "      <th>0.0</th>\n",
              "      <th>1.0</th>\n",
              "      <td>243.125</td>\n",
              "    </tr>\n",
              "    <tr>\n",
              "      <th>1.0</th>\n",
              "      <th>0.0</th>\n",
              "      <td>219.875</td>\n",
              "    </tr>\n",
              "  </tbody>\n",
              "</table>\n",
              "</div>\n",
              "    <div class=\"colab-df-buttons\">\n",
              "\n",
              "  <div class=\"colab-df-container\">\n",
              "    <button class=\"colab-df-convert\" onclick=\"convertToInteractive('df-2fc983a1-f754-4a08-9f72-c034a090d00d')\"\n",
              "            title=\"Convert this dataframe to an interactive table.\"\n",
              "            style=\"display:none;\">\n",
              "\n",
              "  <svg xmlns=\"http://www.w3.org/2000/svg\" height=\"24px\" viewBox=\"0 -960 960 960\">\n",
              "    <path d=\"M120-120v-720h720v720H120Zm60-500h600v-160H180v160Zm220 220h160v-160H400v160Zm0 220h160v-160H400v160ZM180-400h160v-160H180v160Zm440 0h160v-160H620v160ZM180-180h160v-160H180v160Zm440 0h160v-160H620v160Z\"/>\n",
              "  </svg>\n",
              "    </button>\n",
              "\n",
              "  <style>\n",
              "    .colab-df-container {\n",
              "      display:flex;\n",
              "      gap: 12px;\n",
              "    }\n",
              "\n",
              "    .colab-df-convert {\n",
              "      background-color: #E8F0FE;\n",
              "      border: none;\n",
              "      border-radius: 50%;\n",
              "      cursor: pointer;\n",
              "      display: none;\n",
              "      fill: #1967D2;\n",
              "      height: 32px;\n",
              "      padding: 0 0 0 0;\n",
              "      width: 32px;\n",
              "    }\n",
              "\n",
              "    .colab-df-convert:hover {\n",
              "      background-color: #E2EBFA;\n",
              "      box-shadow: 0px 1px 2px rgba(60, 64, 67, 0.3), 0px 1px 3px 1px rgba(60, 64, 67, 0.15);\n",
              "      fill: #174EA6;\n",
              "    }\n",
              "\n",
              "    .colab-df-buttons div {\n",
              "      margin-bottom: 4px;\n",
              "    }\n",
              "\n",
              "    [theme=dark] .colab-df-convert {\n",
              "      background-color: #3B4455;\n",
              "      fill: #D2E3FC;\n",
              "    }\n",
              "\n",
              "    [theme=dark] .colab-df-convert:hover {\n",
              "      background-color: #434B5C;\n",
              "      box-shadow: 0px 1px 3px 1px rgba(0, 0, 0, 0.15);\n",
              "      filter: drop-shadow(0px 1px 2px rgba(0, 0, 0, 0.3));\n",
              "      fill: #FFFFFF;\n",
              "    }\n",
              "  </style>\n",
              "\n",
              "    <script>\n",
              "      const buttonEl =\n",
              "        document.querySelector('#df-2fc983a1-f754-4a08-9f72-c034a090d00d button.colab-df-convert');\n",
              "      buttonEl.style.display =\n",
              "        google.colab.kernel.accessAllowed ? 'block' : 'none';\n",
              "\n",
              "      async function convertToInteractive(key) {\n",
              "        const element = document.querySelector('#df-2fc983a1-f754-4a08-9f72-c034a090d00d');\n",
              "        const dataTable =\n",
              "          await google.colab.kernel.invokeFunction('convertToInteractive',\n",
              "                                                    [key], {});\n",
              "        if (!dataTable) return;\n",
              "\n",
              "        const docLinkHtml = 'Like what you see? Visit the ' +\n",
              "          '<a target=\"_blank\" href=https://colab.research.google.com/notebooks/data_table.ipynb>data table notebook</a>'\n",
              "          + ' to learn more about interactive tables.';\n",
              "        element.innerHTML = '';\n",
              "        dataTable['output_type'] = 'display_data';\n",
              "        await google.colab.output.renderOutput(dataTable, element);\n",
              "        const docLink = document.createElement('div');\n",
              "        docLink.innerHTML = docLinkHtml;\n",
              "        element.appendChild(docLink);\n",
              "      }\n",
              "    </script>\n",
              "  </div>\n",
              "\n",
              "\n",
              "<div id=\"df-00001062-c509-4fbe-8222-6acb73816fa5\">\n",
              "  <button class=\"colab-df-quickchart\" onclick=\"quickchart('df-00001062-c509-4fbe-8222-6acb73816fa5')\"\n",
              "            title=\"Suggest charts\"\n",
              "            style=\"display:none;\">\n",
              "\n",
              "<svg xmlns=\"http://www.w3.org/2000/svg\" height=\"24px\"viewBox=\"0 0 24 24\"\n",
              "     width=\"24px\">\n",
              "    <g>\n",
              "        <path d=\"M19 3H5c-1.1 0-2 .9-2 2v14c0 1.1.9 2 2 2h14c1.1 0 2-.9 2-2V5c0-1.1-.9-2-2-2zM9 17H7v-7h2v7zm4 0h-2V7h2v10zm4 0h-2v-4h2v4z\"/>\n",
              "    </g>\n",
              "</svg>\n",
              "  </button>\n",
              "\n",
              "<style>\n",
              "  .colab-df-quickchart {\n",
              "      --bg-color: #E8F0FE;\n",
              "      --fill-color: #1967D2;\n",
              "      --hover-bg-color: #E2EBFA;\n",
              "      --hover-fill-color: #174EA6;\n",
              "      --disabled-fill-color: #AAA;\n",
              "      --disabled-bg-color: #DDD;\n",
              "  }\n",
              "\n",
              "  [theme=dark] .colab-df-quickchart {\n",
              "      --bg-color: #3B4455;\n",
              "      --fill-color: #D2E3FC;\n",
              "      --hover-bg-color: #434B5C;\n",
              "      --hover-fill-color: #FFFFFF;\n",
              "      --disabled-bg-color: #3B4455;\n",
              "      --disabled-fill-color: #666;\n",
              "  }\n",
              "\n",
              "  .colab-df-quickchart {\n",
              "    background-color: var(--bg-color);\n",
              "    border: none;\n",
              "    border-radius: 50%;\n",
              "    cursor: pointer;\n",
              "    display: none;\n",
              "    fill: var(--fill-color);\n",
              "    height: 32px;\n",
              "    padding: 0;\n",
              "    width: 32px;\n",
              "  }\n",
              "\n",
              "  .colab-df-quickchart:hover {\n",
              "    background-color: var(--hover-bg-color);\n",
              "    box-shadow: 0 1px 2px rgba(60, 64, 67, 0.3), 0 1px 3px 1px rgba(60, 64, 67, 0.15);\n",
              "    fill: var(--button-hover-fill-color);\n",
              "  }\n",
              "\n",
              "  .colab-df-quickchart-complete:disabled,\n",
              "  .colab-df-quickchart-complete:disabled:hover {\n",
              "    background-color: var(--disabled-bg-color);\n",
              "    fill: var(--disabled-fill-color);\n",
              "    box-shadow: none;\n",
              "  }\n",
              "\n",
              "  .colab-df-spinner {\n",
              "    border: 2px solid var(--fill-color);\n",
              "    border-color: transparent;\n",
              "    border-bottom-color: var(--fill-color);\n",
              "    animation:\n",
              "      spin 1s steps(1) infinite;\n",
              "  }\n",
              "\n",
              "  @keyframes spin {\n",
              "    0% {\n",
              "      border-color: transparent;\n",
              "      border-bottom-color: var(--fill-color);\n",
              "      border-left-color: var(--fill-color);\n",
              "    }\n",
              "    20% {\n",
              "      border-color: transparent;\n",
              "      border-left-color: var(--fill-color);\n",
              "      border-top-color: var(--fill-color);\n",
              "    }\n",
              "    30% {\n",
              "      border-color: transparent;\n",
              "      border-left-color: var(--fill-color);\n",
              "      border-top-color: var(--fill-color);\n",
              "      border-right-color: var(--fill-color);\n",
              "    }\n",
              "    40% {\n",
              "      border-color: transparent;\n",
              "      border-right-color: var(--fill-color);\n",
              "      border-top-color: var(--fill-color);\n",
              "    }\n",
              "    60% {\n",
              "      border-color: transparent;\n",
              "      border-right-color: var(--fill-color);\n",
              "    }\n",
              "    80% {\n",
              "      border-color: transparent;\n",
              "      border-right-color: var(--fill-color);\n",
              "      border-bottom-color: var(--fill-color);\n",
              "    }\n",
              "    90% {\n",
              "      border-color: transparent;\n",
              "      border-bottom-color: var(--fill-color);\n",
              "    }\n",
              "  }\n",
              "</style>\n",
              "\n",
              "  <script>\n",
              "    async function quickchart(key) {\n",
              "      const quickchartButtonEl =\n",
              "        document.querySelector('#' + key + ' button');\n",
              "      quickchartButtonEl.disabled = true;  // To prevent multiple clicks.\n",
              "      quickchartButtonEl.classList.add('colab-df-spinner');\n",
              "      try {\n",
              "        const charts = await google.colab.kernel.invokeFunction(\n",
              "            'suggestCharts', [key], {});\n",
              "      } catch (error) {\n",
              "        console.error('Error during call to suggestCharts:', error);\n",
              "      }\n",
              "      quickchartButtonEl.classList.remove('colab-df-spinner');\n",
              "      quickchartButtonEl.classList.add('colab-df-quickchart-complete');\n",
              "    }\n",
              "    (() => {\n",
              "      let quickchartButtonEl =\n",
              "        document.querySelector('#df-00001062-c509-4fbe-8222-6acb73816fa5 button');\n",
              "      quickchartButtonEl.style.display =\n",
              "        google.colab.kernel.accessAllowed ? 'block' : 'none';\n",
              "    })();\n",
              "  </script>\n",
              "</div>\n",
              "\n",
              "    </div>\n",
              "  </div>\n"
            ],
            "application/vnd.google.colaboratory.intrinsic+json": {
              "type": "dataframe",
              "summary": "{\n  \"name\": \"filtered_admin_wide_station_level_means_data\",\n  \"rows\": 2,\n  \"fields\": [\n    {\n      \"column\": \"e_arrest_count\",\n      \"properties\": {\n        \"dtype\": \"number\",\n        \"std\": 16.44023266258723,\n        \"min\": 219.875,\n        \"max\": 243.125,\n        \"num_unique_values\": 2,\n        \"samples\": [\n          219.875,\n          243.125\n        ],\n        \"semantic_type\": \"\",\n        \"description\": \"\"\n      }\n    }\n  ]\n}"
            }
          },
          "metadata": {},
          "execution_count": 16
        }
      ]
    },
    {
      "cell_type": "markdown",
      "source": [
        "# The table above shows that more arrests resulted from woman-run WHD at both beginning and end of treatment. However, overall arrests decreased by the end of treatment.\n",
        "\n",
        "# A hypothesis is that the better training resulted in higher awareness in how to deal with the problem, making slightly fewer arrests necessary."
      ],
      "metadata": {
        "id": "RSO643PjzbQv"
      }
    },
    {
      "cell_type": "markdown",
      "source": [
        "Trying another view..."
      ],
      "metadata": {
        "id": "2HhHL3k5P8VW"
      }
    },
    {
      "cell_type": "code",
      "source": [
        "correlations = filtered_admin_wide_station_level_means_data[FIR].corr()\n",
        "_ = sns.heatmap(correlations, annot=True)"
      ],
      "metadata": {
        "colab": {
          "base_uri": "https://localhost:8080/",
          "height": 435
        },
        "id": "9yDaMsf00v2x",
        "outputId": "1f46640e-7d2c-4217-e5ab-a52e86242a49"
      },
      "execution_count": null,
      "outputs": [
        {
          "output_type": "display_data",
          "data": {
            "text/plain": [
              "<Figure size 640x480 with 2 Axes>"
            ],
            "image/png": "[encoded data removed]"
          },
          "metadata": {}
        }
      ]
    },
    {
      "cell_type": "code",
      "source": [
        "correlations = filtered_admin_wide_station_level_means_data[DIR].corr()\n",
        "_ = sns.heatmap(correlations, annot=True)"
      ],
      "metadata": {
        "colab": {
          "base_uri": "https://localhost:8080/",
          "height": 435
        },
        "id": "dFIUUPvY07_0",
        "outputId": "3eae2fbc-9b09-4e40-bde8-08b76d4646c7"
      },
      "execution_count": null,
      "outputs": [
        {
          "output_type": "display_data",
          "data": {
            "text/plain": [
              "<Figure size 640x480 with 2 Axes>"
            ],
            "image/png": "[encoded data removed]"
          },
          "metadata": {}
        }
      ]
    },
    {
      "cell_type": "code",
      "source": [
        "correlations = filtered_admin_wide_station_level_means_data[ARRESTS].corr()\n",
        "_ = sns.heatmap(correlations, annot=True)"
      ],
      "metadata": {
        "colab": {
          "base_uri": "https://localhost:8080/",
          "height": 435
        },
        "id": "7Yo_wHdm1AfU",
        "outputId": "3d378093-2a91-4c2a-f75c-d973147fec44"
      },
      "execution_count": null,
      "outputs": [
        {
          "output_type": "display_data",
          "data": {
            "text/plain": [
              "<Figure size 640x480 with 2 Axes>"
            ],
            "image/png": "[encoded data removed]"
          },
          "metadata": {}
        }
      ]
    },
    {
      "cell_type": "markdown",
      "source": [
        "#The heatmaps didn't show much helpful info."
      ],
      "metadata": {
        "id": "PvFDz_muQD71"
      }
    },
    {
      "cell_type": "code",
      "source": [
        "_ = sns.scatterplot(\n",
        "     data=filtered_admin_wide_station_level_means_data,\n",
        "    x='e_fir_bywomen_count',\n",
        "    y='e_dir_count',\n",
        "    hue='regular_whd'\n",
        ")\n",
        "_ = plt.title('Endline FIR by Women and DIR Counts in Regular WHD')\n",
        "_ = plt.xlabel('Endline FIR by Women in WHD')\n",
        "_ = plt.ylabel('Endline DIR in WHD')\n",
        "#"
      ],
      "metadata": {
        "colab": {
          "base_uri": "https://localhost:8080/",
          "height": 472
        },
        "id": "GOKz_Oio7MEZ",
        "outputId": "c3f4e58f-339d-4237-c4d6-b82df5ae61ff"
      },
      "execution_count": null,
      "outputs": [
        {
          "output_type": "display_data",
          "data": {
            "text/plain": [
              "<Figure size 640x480 with 1 Axes>"
            ],
            "image/png": "[encoded data removed]"
          },
          "metadata": {}
        }
      ]
    },
    {
      "cell_type": "markdown",
      "source": [
        "# Getting Better!"
      ],
      "metadata": {
        "id": "2k-ha0DFOTJe"
      }
    },
    {
      "cell_type": "code",
      "source": [
        "_ = sns.scatterplot(\n",
        "     data=filtered_admin_wide_station_level_means_data,\n",
        "    x='e_fir_bywomen_count',\n",
        "    y='e_dir_count',\n",
        "    hue='women_whd'\n",
        ")\n",
        "_ = plt.title('Endline FIR by Women and DIR Counts in WHD')\n",
        "_ = plt.xlabel('Endline FIR by Women in WHD')\n",
        "_ = plt.ylabel('Endline DIR in WHD')"
      ],
      "metadata": {
        "colab": {
          "base_uri": "https://localhost:8080/",
          "height": 472
        },
        "id": "757-OZ0R9LfS",
        "outputId": "7a4c0428-cc1e-460b-d9ed-7d310d297229"
      },
      "execution_count": null,
      "outputs": [
        {
          "output_type": "display_data",
          "data": {
            "text/plain": [
              "<Figure size 640x480 with 1 Axes>"
            ],
            "image/png": "[encoded data removed]"
          },
          "metadata": {}
        }
      ]
    },
    {
      "cell_type": "markdown",
      "source": [
        "#Similar\n",
        "Take another look at the summary statistics."
      ],
      "metadata": {
        "id": "mpLJpt6fOXKc"
      }
    },
    {
      "cell_type": "code",
      "source": [
        "\n",
        "summary_stats = filtered_admin_wide_station_level_means_data.describe().round(2)\n",
        "# Print the numeric summaries:\n",
        "print(\"Summary Statistics\")\n",
        "display(summary_stats)\n",
        "\n",
        "# Transpose the summary statistics tables (turn them sideways) to make them more readable, using .T\n",
        "summary_stats_transposed = summary_stats.T\n",
        "\n",
        "# Display the transposed summary statistics\n",
        "print(\"Summary Statistics: (transposed)\")\n",
        "display(summary_stats_transposed)"
      ],
      "metadata": {
        "id": "ePR69eCy_k_o",
        "colab": {
          "base_uri": "https://localhost:8080/",
          "height": 669
        },
        "outputId": "c56503a2-89a1-4b73-e46f-bff6a11f9eeb"
      },
      "execution_count": null,
      "outputs": [
        {
          "output_type": "stream",
          "name": "stdout",
          "text": [
            "Summary Statistics\n"
          ]
        },
        {
          "output_type": "display_data",
          "data": {
            "text/plain": [
              "        ps_code  women_whd  regular_whd  e_caw_rate  e_fir_overall_count  \\\n",
              "count    120.00     120.00       120.00      120.00               120.00   \n",
              "mean    5899.45       0.49         0.51        0.09                32.96   \n",
              "std     3138.52       0.50         0.50        0.13                16.51   \n",
              "min     1001.00       0.00         0.00        0.00                 4.38   \n",
              "25%     3046.25       0.00         0.00        0.00                20.03   \n",
              "50%     5092.50       0.00         1.00        0.03                31.25   \n",
              "75%     8136.25       1.00         1.00        0.12                41.75   \n",
              "max    12180.00       1.00         1.00        1.00                84.38   \n",
              "\n",
              "       e_fir_caw_count  e_fir_bywomen_count  e_arrest_count  e_dir_count  \n",
              "count           120.00               120.00          120.00       120.00  \n",
              "mean              4.53                 2.92            3.86         0.90  \n",
              "std               3.25                 1.64            3.56         1.14  \n",
              "min               0.00                 0.00            0.00         0.00  \n",
              "25%               2.00                 1.75            1.22         0.00  \n",
              "50%               3.88                 2.81            2.31         0.44  \n",
              "75%               6.75                 4.12            6.03         1.25  \n",
              "max              14.62                 7.00           16.62         6.50  "
            ],
            "text/html": [
              "\n",
              "  <div id=\"df-92e00808-e716-490c-bfa7-426248dfe00b\" class=\"colab-df-container\">\n",
              "    <div>\n",
              "<style scoped>\n",
              "    .dataframe tbody tr th:only-of-type {\n",
              "        vertical-align: middle;\n",
              "    }\n",
              "\n",
              "    .dataframe tbody tr th {\n",
              "        vertical-align: top;\n",
              "    }\n",
              "\n",
              "    .dataframe thead th {\n",
              "        text-align: right;\n",
              "    }\n",
              "</style>\n",
              "<table border=\"1\" class=\"dataframe\">\n",
              "  <thead>\n",
              "    <tr style=\"text-align: right;\">\n",
              "      <th></th>\n",
              "      <th>ps_code</th>\n",
              "      <th>women_whd</th>\n",
              "      <th>regular_whd</th>\n",
              "      <th>e_caw_rate</th>\n",
              "      <th>e_fir_overall_count</th>\n",
              "      <th>e_fir_caw_count</th>\n",
              "      <th>e_fir_bywomen_count</th>\n",
              "      <th>e_arrest_count</th>\n",
              "      <th>e_dir_count</th>\n",
              "    </tr>\n",
              "  </thead>\n",
              "  <tbody>\n",
              "    <tr>\n",
              "      <th>count</th>\n",
              "      <td>120.00</td>\n",
              "      <td>120.00</td>\n",
              "      <td>120.00</td>\n",
              "      <td>120.00</td>\n",
              "      <td>120.00</td>\n",
              "      <td>120.00</td>\n",
              "      <td>120.00</td>\n",
              "      <td>120.00</td>\n",
              "      <td>120.00</td>\n",
              "    </tr>\n",
              "    <tr>\n",
              "      <th>mean</th>\n",
              "      <td>5899.45</td>\n",
              "      <td>0.49</td>\n",
              "      <td>0.51</td>\n",
              "      <td>0.09</td>\n",
              "      <td>32.96</td>\n",
              "      <td>4.53</td>\n",
              "      <td>2.92</td>\n",
              "      <td>3.86</td>\n",
              "      <td>0.90</td>\n",
              "    </tr>\n",
              "    <tr>\n",
              "      <th>std</th>\n",
              "      <td>3138.52</td>\n",
              "      <td>0.50</td>\n",
              "      <td>0.50</td>\n",
              "      <td>0.13</td>\n",
              "      <td>16.51</td>\n",
              "      <td>3.25</td>\n",
              "      <td>1.64</td>\n",
              "      <td>3.56</td>\n",
              "      <td>1.14</td>\n",
              "    </tr>\n",
              "    <tr>\n",
              "      <th>min</th>\n",
              "      <td>1001.00</td>\n",
              "      <td>0.00</td>\n",
              "      <td>0.00</td>\n",
              "      <td>0.00</td>\n",
              "      <td>4.38</td>\n",
              "      <td>0.00</td>\n",
              "      <td>0.00</td>\n",
              "      <td>0.00</td>\n",
              "      <td>0.00</td>\n",
              "    </tr>\n",
              "    <tr>\n",
              "      <th>25%</th>\n",
              "      <td>3046.25</td>\n",
              "      <td>0.00</td>\n",
              "      <td>0.00</td>\n",
              "      <td>0.00</td>\n",
              "      <td>20.03</td>\n",
              "      <td>2.00</td>\n",
              "      <td>1.75</td>\n",
              "      <td>1.22</td>\n",
              "      <td>0.00</td>\n",
              "    </tr>\n",
              "    <tr>\n",
              "      <th>50%</th>\n",
              "      <td>5092.50</td>\n",
              "      <td>0.00</td>\n",
              "      <td>1.00</td>\n",
              "      <td>0.03</td>\n",
              "      <td>31.25</td>\n",
              "      <td>3.88</td>\n",
              "      <td>2.81</td>\n",
              "      <td>2.31</td>\n",
              "      <td>0.44</td>\n",
              "    </tr>\n",
              "    <tr>\n",
              "      <th>75%</th>\n",
              "      <td>8136.25</td>\n",
              "      <td>1.00</td>\n",
              "      <td>1.00</td>\n",
              "      <td>0.12</td>\n",
              "      <td>41.75</td>\n",
              "      <td>6.75</td>\n",
              "      <td>4.12</td>\n",
              "      <td>6.03</td>\n",
              "      <td>1.25</td>\n",
              "    </tr>\n",
              "    <tr>\n",
              "      <th>max</th>\n",
              "      <td>12180.00</td>\n",
              "      <td>1.00</td>\n",
              "      <td>1.00</td>\n",
              "      <td>1.00</td>\n",
              "      <td>84.38</td>\n",
              "      <td>14.62</td>\n",
              "      <td>7.00</td>\n",
              "      <td>16.62</td>\n",
              "      <td>6.50</td>\n",
              "    </tr>\n",
              "  </tbody>\n",
              "</table>\n",
              "</div>\n",
              "    <div class=\"colab-df-buttons\">\n",
              "\n",
              "  <div class=\"colab-df-container\">\n",
              "    <button class=\"colab-df-convert\" onclick=\"convertToInteractive('df-92e00808-e716-490c-bfa7-426248dfe00b')\"\n",
              "            title=\"Convert this dataframe to an interactive table.\"\n",
              "            style=\"display:none;\">\n",
              "\n",
              "  <svg xmlns=\"http://www.w3.org/2000/svg\" height=\"24px\" viewBox=\"0 -960 960 960\">\n",
              "    <path d=\"M120-120v-720h720v720H120Zm60-500h600v-160H180v160Zm220 220h160v-160H400v160Zm0 220h160v-160H400v160ZM180-400h160v-160H180v160Zm440 0h160v-160H620v160ZM180-180h160v-160H180v160Zm440 0h160v-160H620v160Z\"/>\n",
              "  </svg>\n",
              "    </button>\n",
              "\n",
              "  <style>\n",
              "    .colab-df-container {\n",
              "      display:flex;\n",
              "      gap: 12px;\n",
              "    }\n",
              "\n",
              "    .colab-df-convert {\n",
              "      background-color: #E8F0FE;\n",
              "      border: none;\n",
              "      border-radius: 50%;\n",
              "      cursor: pointer;\n",
              "      display: none;\n",
              "      fill: #1967D2;\n",
              "      height: 32px;\n",
              "      padding: 0 0 0 0;\n",
              "      width: 32px;\n",
              "    }\n",
              "\n",
              "    .colab-df-convert:hover {\n",
              "      background-color: #E2EBFA;\n",
              "      box-shadow: 0px 1px 2px rgba(60, 64, 67, 0.3), 0px 1px 3px 1px rgba(60, 64, 67, 0.15);\n",
              "      fill: #174EA6;\n",
              "    }\n",
              "\n",
              "    .colab-df-buttons div {\n",
              "      margin-bottom: 4px;\n",
              "    }\n",
              "\n",
              "    [theme=dark] .colab-df-convert {\n",
              "      background-color: #3B4455;\n",
              "      fill: #D2E3FC;\n",
              "    }\n",
              "\n",
              "    [theme=dark] .colab-df-convert:hover {\n",
              "      background-color: #434B5C;\n",
              "      box-shadow: 0px 1px 3px 1px rgba(0, 0, 0, 0.15);\n",
              "      filter: drop-shadow(0px 1px 2px rgba(0, 0, 0, 0.3));\n",
              "      fill: #FFFFFF;\n",
              "    }\n",
              "  </style>\n",
              "\n",
              "    <script>\n",
              "      const buttonEl =\n",
              "        document.querySelector('#df-92e00808-e716-490c-bfa7-426248dfe00b button.colab-df-convert');\n",
              "      buttonEl.style.display =\n",
              "        google.colab.kernel.accessAllowed ? 'block' : 'none';\n",
              "\n",
              "      async function convertToInteractive(key) {\n",
              "        const element = document.querySelector('#df-92e00808-e716-490c-bfa7-426248dfe00b');\n",
              "        const dataTable =\n",
              "          await google.colab.kernel.invokeFunction('convertToInteractive',\n",
              "                                                    [key], {});\n",
              "        if (!dataTable) return;\n",
              "\n",
              "        const docLinkHtml = 'Like what you see? Visit the ' +\n",
              "          '<a target=\"_blank\" href=https://colab.research.google.com/notebooks/data_table.ipynb>data table notebook</a>'\n",
              "          + ' to learn more about interactive tables.';\n",
              "        element.innerHTML = '';\n",
              "        dataTable['output_type'] = 'display_data';\n",
              "        await google.colab.output.renderOutput(dataTable, element);\n",
              "        const docLink = document.createElement('div');\n",
              "        docLink.innerHTML = docLinkHtml;\n",
              "        element.appendChild(docLink);\n",
              "      }\n",
              "    </script>\n",
              "  </div>\n",
              "\n",
              "\n",
              "<div id=\"df-acc1568b-4476-4adb-b225-bfe56b4f7e1d\">\n",
              "  <button class=\"colab-df-quickchart\" onclick=\"quickchart('df-acc1568b-4476-4adb-b225-bfe56b4f7e1d')\"\n",
              "            title=\"Suggest charts\"\n",
              "            style=\"display:none;\">\n",
              "\n",
              "<svg xmlns=\"http://www.w3.org/2000/svg\" height=\"24px\"viewBox=\"0 0 24 24\"\n",
              "     width=\"24px\">\n",
              "    <g>\n",
              "        <path d=\"M19 3H5c-1.1 0-2 .9-2 2v14c0 1.1.9 2 2 2h14c1.1 0 2-.9 2-2V5c0-1.1-.9-2-2-2zM9 17H7v-7h2v7zm4 0h-2V7h2v10zm4 0h-2v-4h2v4z\"/>\n",
              "    </g>\n",
              "</svg>\n",
              "  </button>\n",
              "\n",
              "<style>\n",
              "  .colab-df-quickchart {\n",
              "      --bg-color: #E8F0FE;\n",
              "      --fill-color: #1967D2;\n",
              "      --hover-bg-color: #E2EBFA;\n",
              "      --hover-fill-color: #174EA6;\n",
              "      --disabled-fill-color: #AAA;\n",
              "      --disabled-bg-color: #DDD;\n",
              "  }\n",
              "\n",
              "  [theme=dark] .colab-df-quickchart {\n",
              "      --bg-color: #3B4455;\n",
              "      --fill-color: #D2E3FC;\n",
              "      --hover-bg-color: #434B5C;\n",
              "      --hover-fill-color: #FFFFFF;\n",
              "      --disabled-bg-color: #3B4455;\n",
              "      --disabled-fill-color: #666;\n",
              "  }\n",
              "\n",
              "  .colab-df-quickchart {\n",
              "    background-color: var(--bg-color);\n",
              "    border: none;\n",
              "    border-radius: 50%;\n",
              "    cursor: pointer;\n",
              "    display: none;\n",
              "    fill: var(--fill-color);\n",
              "    height: 32px;\n",
              "    padding: 0;\n",
              "    width: 32px;\n",
              "  }\n",
              "\n",
              "  .colab-df-quickchart:hover {\n",
              "    background-color: var(--hover-bg-color);\n",
              "    box-shadow: 0 1px 2px rgba(60, 64, 67, 0.3), 0 1px 3px 1px rgba(60, 64, 67, 0.15);\n",
              "    fill: var(--button-hover-fill-color);\n",
              "  }\n",
              "\n",
              "  .colab-df-quickchart-complete:disabled,\n",
              "  .colab-df-quickchart-complete:disabled:hover {\n",
              "    background-color: var(--disabled-bg-color);\n",
              "    fill: var(--disabled-fill-color);\n",
              "    box-shadow: none;\n",
              "  }\n",
              "\n",
              "  .colab-df-spinner {\n",
              "    border: 2px solid var(--fill-color);\n",
              "    border-color: transparent;\n",
              "    border-bottom-color: var(--fill-color);\n",
              "    animation:\n",
              "      spin 1s steps(1) infinite;\n",
              "  }\n",
              "\n",
              "  @keyframes spin {\n",
              "    0% {\n",
              "      border-color: transparent;\n",
              "      border-bottom-color: var(--fill-color);\n",
              "      border-left-color: var(--fill-color);\n",
              "    }\n",
              "    20% {\n",
              "      border-color: transparent;\n",
              "      border-left-color: var(--fill-color);\n",
              "      border-top-color: var(--fill-color);\n",
              "    }\n",
              "    30% {\n",
              "      border-color: transparent;\n",
              "      border-left-color: var(--fill-color);\n",
              "      border-top-color: var(--fill-color);\n",
              "      border-right-color: var(--fill-color);\n",
              "    }\n",
              "    40% {\n",
              "      border-color: transparent;\n",
              "      border-right-color: var(--fill-color);\n",
              "      border-top-color: var(--fill-color);\n",
              "    }\n",
              "    60% {\n",
              "      border-color: transparent;\n",
              "      border-right-color: var(--fill-color);\n",
              "    }\n",
              "    80% {\n",
              "      border-color: transparent;\n",
              "      border-right-color: var(--fill-color);\n",
              "      border-bottom-color: var(--fill-color);\n",
              "    }\n",
              "    90% {\n",
              "      border-color: transparent;\n",
              "      border-bottom-color: var(--fill-color);\n",
              "    }\n",
              "  }\n",
              "</style>\n",
              "\n",
              "  <script>\n",
              "    async function quickchart(key) {\n",
              "      const quickchartButtonEl =\n",
              "        document.querySelector('#' + key + ' button');\n",
              "      quickchartButtonEl.disabled = true;  // To prevent multiple clicks.\n",
              "      quickchartButtonEl.classList.add('colab-df-spinner');\n",
              "      try {\n",
              "        const charts = await google.colab.kernel.invokeFunction(\n",
              "            'suggestCharts', [key], {});\n",
              "      } catch (error) {\n",
              "        console.error('Error during call to suggestCharts:', error);\n",
              "      }\n",
              "      quickchartButtonEl.classList.remove('colab-df-spinner');\n",
              "      quickchartButtonEl.classList.add('colab-df-quickchart-complete');\n",
              "    }\n",
              "    (() => {\n",
              "      let quickchartButtonEl =\n",
              "        document.querySelector('#df-acc1568b-4476-4adb-b225-bfe56b4f7e1d button');\n",
              "      quickchartButtonEl.style.display =\n",
              "        google.colab.kernel.accessAllowed ? 'block' : 'none';\n",
              "    })();\n",
              "  </script>\n",
              "</div>\n",
              "\n",
              "  <div id=\"id_35395088-247e-45f0-bfe6-ffb95a9992b1\">\n",
              "    <style>\n",
              "      .colab-df-generate {\n",
              "        background-color: #E8F0FE;\n",
              "        border: none;\n",
              "        border-radius: 50%;\n",
              "        cursor: pointer;\n",
              "        display: none;\n",
              "        fill: #1967D2;\n",
              "        height: 32px;\n",
              "        padding: 0 0 0 0;\n",
              "        width: 32px;\n",
              "      }\n",
              "\n",
              "      .colab-df-generate:hover {\n",
              "        background-color: #E2EBFA;\n",
              "        box-shadow: 0px 1px 2px rgba(60, 64, 67, 0.3), 0px 1px 3px 1px rgba(60, 64, 67, 0.15);\n",
              "        fill: #174EA6;\n",
              "      }\n",
              "\n",
              "      [theme=dark] .colab-df-generate {\n",
              "        background-color: #3B4455;\n",
              "        fill: #D2E3FC;\n",
              "      }\n",
              "\n",
              "      [theme=dark] .colab-df-generate:hover {\n",
              "        background-color: #434B5C;\n",
              "        box-shadow: 0px 1px 3px 1px rgba(0, 0, 0, 0.15);\n",
              "        filter: drop-shadow(0px 1px 2px rgba(0, 0, 0, 0.3));\n",
              "        fill: #FFFFFF;\n",
              "      }\n",
              "    </style>\n",
              "    <button class=\"colab-df-generate\" onclick=\"generateWithVariable('summary_stats')\"\n",
              "            title=\"Generate code using this dataframe.\"\n",
              "            style=\"display:none;\">\n",
              "\n",
              "  <svg xmlns=\"http://www.w3.org/2000/svg\" height=\"24px\"viewBox=\"0 0 24 24\"\n",
              "       width=\"24px\">\n",
              "    <path d=\"M7,19H8.4L18.45,9,17,7.55,7,17.6ZM5,21V16.75L18.45,3.32a2,2,0,0,1,2.83,0l1.4,1.43a1.91,1.91,0,0,1,.58,1.4,1.91,1.91,0,0,1-.58,1.4L9.25,21ZM18.45,9,17,7.55Zm-12,3A5.31,5.31,0,0,0,4.9,8.1,5.31,5.31,0,0,0,1,6.5,5.31,5.31,0,0,0,4.9,4.9,5.31,5.31,0,0,0,6.5,1,5.31,5.31,0,0,0,8.1,4.9,5.31,5.31,0,0,0,12,6.5,5.46,5.46,0,0,0,6.5,12Z\"/>\n",
              "  </svg>\n",
              "    </button>\n",
              "    <script>\n",
              "      (() => {\n",
              "      const buttonEl =\n",
              "        document.querySelector('#id_35395088-247e-45f0-bfe6-ffb95a9992b1 button.colab-df-generate');\n",
              "      buttonEl.style.display =\n",
              "        google.colab.kernel.accessAllowed ? 'block' : 'none';\n",
              "\n",
              "      buttonEl.onclick = () => {\n",
              "        google.colab.notebook.generateWithVariable('summary_stats');\n",
              "      }\n",
              "      })();\n",
              "    </script>\n",
              "  </div>\n",
              "\n",
              "    </div>\n",
              "  </div>\n"
            ],
            "application/vnd.google.colaboratory.intrinsic+json": {
              "type": "dataframe",
              "variable_name": "summary_stats",
              "summary": "{\n  \"name\": \"summary_stats\",\n  \"rows\": 8,\n  \"fields\": [\n    {\n      \"column\": \"ps_code\",\n      \"properties\": {\n        \"dtype\": \"number\",\n        \"std\": 3947.052129171619,\n        \"min\": 120.0,\n        \"max\": 12180.0,\n        \"num_unique_values\": 8,\n        \"samples\": [\n          5899.45,\n          5092.5,\n          120.0\n        ],\n        \"semantic_type\": \"\",\n        \"description\": \"\"\n      }\n    },\n    {\n      \"column\": \"women_whd\",\n      \"properties\": {\n        \"dtype\": \"number\",\n        \"std\": 42.2774384064868,\n        \"min\": 0.0,\n        \"max\": 120.0,\n        \"num_unique_values\": 5,\n        \"samples\": [\n          0.49,\n          1.0,\n          0.5\n        ],\n        \"semantic_type\": \"\",\n        \"description\": \"\"\n      }\n    },\n    {\n      \"column\": \"regular_whd\",\n      \"properties\": {\n        \"dtype\": \"number\",\n        \"std\": 42.225923127014894,\n        \"min\": 0.0,\n        \"max\": 120.0,\n        \"num_unique_values\": 5,\n        \"samples\": [\n          0.51,\n          1.0,\n          0.5\n        ],\n        \"semantic_type\": \"\",\n        \"description\": \"\"\n      }\n    },\n    {\n      \"column\": \"e_caw_rate\",\n      \"properties\": {\n        \"dtype\": \"number\",\n        \"std\": 42.35851354383033,\n        \"min\": 0.0,\n        \"max\": 120.0,\n        \"num_unique_values\": 7,\n        \"samples\": [\n          120.0,\n          0.09,\n          0.12\n        ],\n        \"semantic_type\": \"\",\n        \"description\": \"\"\n      }\n    },\n    {\n      \"column\": \"e_fir_overall_count\",\n      \"properties\": {\n        \"dtype\": \"number\",\n        \"std\": 38.906459158932904,\n        \"min\": 4.38,\n        \"max\": 120.0,\n        \"num_unique_values\": 8,\n        \"samples\": [\n          32.96,\n          31.25,\n          120.0\n        ],\n        \"semantic_type\": \"\",\n        \"description\": \"\"\n      }\n    },\n    {\n      \"column\": \"e_fir_caw_count\",\n      \"properties\": {\n        \"dtype\": \"number\",\n        \"std\": 40.89211780055278,\n        \"min\": 0.0,\n        \"max\": 120.0,\n        \"num_unique_values\": 8,\n        \"samples\": [\n          4.53,\n          3.88,\n          120.0\n        ],\n        \"semantic_type\": \"\",\n        \"description\": \"\"\n      }\n    },\n    {\n      \"column\": \"e_fir_bywomen_count\",\n      \"properties\": {\n        \"dtype\": \"number\",\n        \"std\": 41.45521128708842,\n        \"min\": 0.0,\n        \"max\": 120.0,\n        \"num_unique_values\": 8,\n        \"samples\": [\n          2.92,\n          2.81,\n          120.0\n        ],\n        \"semantic_type\": \"\",\n        \"description\": \"\"\n      }\n    },\n    {\n      \"column\": \"e_arrest_count\",\n      \"properties\": {\n        \"dtype\": \"number\",\n        \"std\": 41.0537330823885,\n        \"min\": 0.0,\n        \"max\": 120.0,\n        \"num_unique_values\": 8,\n        \"samples\": [\n          3.86,\n          2.31,\n          120.0\n        ],\n        \"semantic_type\": \"\",\n        \"description\": \"\"\n      }\n    },\n    {\n      \"column\": \"e_dir_count\",\n      \"properties\": {\n        \"dtype\": \"number\",\n        \"std\": 41.962796596679375,\n        \"min\": 0.0,\n        \"max\": 120.0,\n        \"num_unique_values\": 7,\n        \"samples\": [\n          120.0,\n          0.9,\n          1.25\n        ],\n        \"semantic_type\": \"\",\n        \"description\": \"\"\n      }\n    }\n  ]\n}"
            }
          },
          "metadata": {}
        },
        {
          "output_type": "stream",
          "name": "stdout",
          "text": [
            "Summary Statistics: (transposed)\n"
          ]
        },
        {
          "output_type": "display_data",
          "data": {
            "text/plain": [
              "                     count     mean      std      min      25%      50%  \\\n",
              "ps_code              120.0  5899.45  3138.52  1001.00  3046.25  5092.50   \n",
              "women_whd            120.0     0.49     0.50     0.00     0.00     0.00   \n",
              "regular_whd          120.0     0.51     0.50     0.00     0.00     1.00   \n",
              "e_caw_rate           120.0     0.09     0.13     0.00     0.00     0.03   \n",
              "e_fir_overall_count  120.0    32.96    16.51     4.38    20.03    31.25   \n",
              "e_fir_caw_count      120.0     4.53     3.25     0.00     2.00     3.88   \n",
              "e_fir_bywomen_count  120.0     2.92     1.64     0.00     1.75     2.81   \n",
              "e_arrest_count       120.0     3.86     3.56     0.00     1.22     2.31   \n",
              "e_dir_count          120.0     0.90     1.14     0.00     0.00     0.44   \n",
              "\n",
              "                         75%       max  \n",
              "ps_code              8136.25  12180.00  \n",
              "women_whd               1.00      1.00  \n",
              "regular_whd             1.00      1.00  \n",
              "e_caw_rate              0.12      1.00  \n",
              "e_fir_overall_count    41.75     84.38  \n",
              "e_fir_caw_count         6.75     14.62  \n",
              "e_fir_bywomen_count     4.12      7.00  \n",
              "e_arrest_count          6.03     16.62  \n",
              "e_dir_count             1.25      6.50  "
            ],
            "text/html": [
              "\n",
              "  <div id=\"df-eecc5293-d537-4980-801e-15fb6b7b0d17\" class=\"colab-df-container\">\n",
              "    <div>\n",
              "<style scoped>\n",
              "    .dataframe tbody tr th:only-of-type {\n",
              "        vertical-align: middle;\n",
              "    }\n",
              "\n",
              "    .dataframe tbody tr th {\n",
              "        vertical-align: top;\n",
              "    }\n",
              "\n",
              "    .dataframe thead th {\n",
              "        text-align: right;\n",
              "    }\n",
              "</style>\n",
              "<table border=\"1\" class=\"dataframe\">\n",
              "  <thead>\n",
              "    <tr style=\"text-align: right;\">\n",
              "      <th></th>\n",
              "      <th>count</th>\n",
              "      <th>mean</th>\n",
              "      <th>std</th>\n",
              "      <th>min</th>\n",
              "      <th>25%</th>\n",
              "      <th>50%</th>\n",
              "      <th>75%</th>\n",
              "      <th>max</th>\n",
              "    </tr>\n",
              "  </thead>\n",
              "  <tbody>\n",
              "    <tr>\n",
              "      <th>ps_code</th>\n",
              "      <td>120.0</td>\n",
              "      <td>5899.45</td>\n",
              "      <td>3138.52</td>\n",
              "      <td>1001.00</td>\n",
              "      <td>3046.25</td>\n",
              "      <td>5092.50</td>\n",
              "      <td>8136.25</td>\n",
              "      <td>12180.00</td>\n",
              "    </tr>\n",
              "    <tr>\n",
              "      <th>women_whd</th>\n",
              "      <td>120.0</td>\n",
              "      <td>0.49</td>\n",
              "      <td>0.50</td>\n",
              "      <td>0.00</td>\n",
              "      <td>0.00</td>\n",
              "      <td>0.00</td>\n",
              "      <td>1.00</td>\n",
              "      <td>1.00</td>\n",
              "    </tr>\n",
              "    <tr>\n",
              "      <th>regular_whd</th>\n",
              "      <td>120.0</td>\n",
              "      <td>0.51</td>\n",
              "      <td>0.50</td>\n",
              "      <td>0.00</td>\n",
              "      <td>0.00</td>\n",
              "      <td>1.00</td>\n",
              "      <td>1.00</td>\n",
              "      <td>1.00</td>\n",
              "    </tr>\n",
              "    <tr>\n",
              "      <th>e_caw_rate</th>\n",
              "      <td>120.0</td>\n",
              "      <td>0.09</td>\n",
              "      <td>0.13</td>\n",
              "      <td>0.00</td>\n",
              "      <td>0.00</td>\n",
              "      <td>0.03</td>\n",
              "      <td>0.12</td>\n",
              "      <td>1.00</td>\n",
              "    </tr>\n",
              "    <tr>\n",
              "      <th>e_fir_overall_count</th>\n",
              "      <td>120.0</td>\n",
              "      <td>32.96</td>\n",
              "      <td>16.51</td>\n",
              "      <td>4.38</td>\n",
              "      <td>20.03</td>\n",
              "      <td>31.25</td>\n",
              "      <td>41.75</td>\n",
              "      <td>84.38</td>\n",
              "    </tr>\n",
              "    <tr>\n",
              "      <th>e_fir_caw_count</th>\n",
              "      <td>120.0</td>\n",
              "      <td>4.53</td>\n",
              "      <td>3.25</td>\n",
              "      <td>0.00</td>\n",
              "      <td>2.00</td>\n",
              "      <td>3.88</td>\n",
              "      <td>6.75</td>\n",
              "      <td>14.62</td>\n",
              "    </tr>\n",
              "    <tr>\n",
              "      <th>e_fir_bywomen_count</th>\n",
              "      <td>120.0</td>\n",
              "      <td>2.92</td>\n",
              "      <td>1.64</td>\n",
              "      <td>0.00</td>\n",
              "      <td>1.75</td>\n",
              "      <td>2.81</td>\n",
              "      <td>4.12</td>\n",
              "      <td>7.00</td>\n",
              "    </tr>\n",
              "    <tr>\n",
              "      <th>e_arrest_count</th>\n",
              "      <td>120.0</td>\n",
              "      <td>3.86</td>\n",
              "      <td>3.56</td>\n",
              "      <td>0.00</td>\n",
              "      <td>1.22</td>\n",
              "      <td>2.31</td>\n",
              "      <td>6.03</td>\n",
              "      <td>16.62</td>\n",
              "    </tr>\n",
              "    <tr>\n",
              "      <th>e_dir_count</th>\n",
              "      <td>120.0</td>\n",
              "      <td>0.90</td>\n",
              "      <td>1.14</td>\n",
              "      <td>0.00</td>\n",
              "      <td>0.00</td>\n",
              "      <td>0.44</td>\n",
              "      <td>1.25</td>\n",
              "      <td>6.50</td>\n",
              "    </tr>\n",
              "  </tbody>\n",
              "</table>\n",
              "</div>\n",
              "    <div class=\"colab-df-buttons\">\n",
              "\n",
              "  <div class=\"colab-df-container\">\n",
              "    <button class=\"colab-df-convert\" onclick=\"convertToInteractive('df-eecc5293-d537-4980-801e-15fb6b7b0d17')\"\n",
              "            title=\"Convert this dataframe to an interactive table.\"\n",
              "            style=\"display:none;\">\n",
              "\n",
              "  <svg xmlns=\"http://www.w3.org/2000/svg\" height=\"24px\" viewBox=\"0 -960 960 960\">\n",
              "    <path d=\"M120-120v-720h720v720H120Zm60-500h600v-160H180v160Zm220 220h160v-160H400v160Zm0 220h160v-160H400v160ZM180-400h160v-160H180v160Zm440 0h160v-160H620v160ZM180-180h160v-160H180v160Zm440 0h160v-160H620v160Z\"/>\n",
              "  </svg>\n",
              "    </button>\n",
              "\n",
              "  <style>\n",
              "    .colab-df-container {\n",
              "      display:flex;\n",
              "      gap: 12px;\n",
              "    }\n",
              "\n",
              "    .colab-df-convert {\n",
              "      background-color: #E8F0FE;\n",
              "      border: none;\n",
              "      border-radius: 50%;\n",
              "      cursor: pointer;\n",
              "      display: none;\n",
              "      fill: #1967D2;\n",
              "      height: 32px;\n",
              "      padding: 0 0 0 0;\n",
              "      width: 32px;\n",
              "    }\n",
              "\n",
              "    .colab-df-convert:hover {\n",
              "      background-color: #E2EBFA;\n",
              "      box-shadow: 0px 1px 2px rgba(60, 64, 67, 0.3), 0px 1px 3px 1px rgba(60, 64, 67, 0.15);\n",
              "      fill: #174EA6;\n",
              "    }\n",
              "\n",
              "    .colab-df-buttons div {\n",
              "      margin-bottom: 4px;\n",
              "    }\n",
              "\n",
              "    [theme=dark] .colab-df-convert {\n",
              "      background-color: #3B4455;\n",
              "      fill: #D2E3FC;\n",
              "    }\n",
              "\n",
              "    [theme=dark] .colab-df-convert:hover {\n",
              "      background-color: #434B5C;\n",
              "      box-shadow: 0px 1px 3px 1px rgba(0, 0, 0, 0.15);\n",
              "      filter: drop-shadow(0px 1px 2px rgba(0, 0, 0, 0.3));\n",
              "      fill: #FFFFFF;\n",
              "    }\n",
              "  </style>\n",
              "\n",
              "    <script>\n",
              "      const buttonEl =\n",
              "        document.querySelector('#df-eecc5293-d537-4980-801e-15fb6b7b0d17 button.colab-df-convert');\n",
              "      buttonEl.style.display =\n",
              "        google.colab.kernel.accessAllowed ? 'block' : 'none';\n",
              "\n",
              "      async function convertToInteractive(key) {\n",
              "        const element = document.querySelector('#df-eecc5293-d537-4980-801e-15fb6b7b0d17');\n",
              "        const dataTable =\n",
              "          await google.colab.kernel.invokeFunction('convertToInteractive',\n",
              "                                                    [key], {});\n",
              "        if (!dataTable) return;\n",
              "\n",
              "        const docLinkHtml = 'Like what you see? Visit the ' +\n",
              "          '<a target=\"_blank\" href=https://colab.research.google.com/notebooks/data_table.ipynb>data table notebook</a>'\n",
              "          + ' to learn more about interactive tables.';\n",
              "        element.innerHTML = '';\n",
              "        dataTable['output_type'] = 'display_data';\n",
              "        await google.colab.output.renderOutput(dataTable, element);\n",
              "        const docLink = document.createElement('div');\n",
              "        docLink.innerHTML = docLinkHtml;\n",
              "        element.appendChild(docLink);\n",
              "      }\n",
              "    </script>\n",
              "  </div>\n",
              "\n",
              "\n",
              "<div id=\"df-324b205c-ec72-451a-8e1a-def46b8b528d\">\n",
              "  <button class=\"colab-df-quickchart\" onclick=\"quickchart('df-324b205c-ec72-451a-8e1a-def46b8b528d')\"\n",
              "            title=\"Suggest charts\"\n",
              "            style=\"display:none;\">\n",
              "\n",
              "<svg xmlns=\"http://www.w3.org/2000/svg\" height=\"24px\"viewBox=\"0 0 24 24\"\n",
              "     width=\"24px\">\n",
              "    <g>\n",
              "        <path d=\"M19 3H5c-1.1 0-2 .9-2 2v14c0 1.1.9 2 2 2h14c1.1 0 2-.9 2-2V5c0-1.1-.9-2-2-2zM9 17H7v-7h2v7zm4 0h-2V7h2v10zm4 0h-2v-4h2v4z\"/>\n",
              "    </g>\n",
              "</svg>\n",
              "  </button>\n",
              "\n",
              "<style>\n",
              "  .colab-df-quickchart {\n",
              "      --bg-color: #E8F0FE;\n",
              "      --fill-color: #1967D2;\n",
              "      --hover-bg-color: #E2EBFA;\n",
              "      --hover-fill-color: #174EA6;\n",
              "      --disabled-fill-color: #AAA;\n",
              "      --disabled-bg-color: #DDD;\n",
              "  }\n",
              "\n",
              "  [theme=dark] .colab-df-quickchart {\n",
              "      --bg-color: #3B4455;\n",
              "      --fill-color: #D2E3FC;\n",
              "      --hover-bg-color: #434B5C;\n",
              "      --hover-fill-color: #FFFFFF;\n",
              "      --disabled-bg-color: #3B4455;\n",
              "      --disabled-fill-color: #666;\n",
              "  }\n",
              "\n",
              "  .colab-df-quickchart {\n",
              "    background-color: var(--bg-color);\n",
              "    border: none;\n",
              "    border-radius: 50%;\n",
              "    cursor: pointer;\n",
              "    display: none;\n",
              "    fill: var(--fill-color);\n",
              "    height: 32px;\n",
              "    padding: 0;\n",
              "    width: 32px;\n",
              "  }\n",
              "\n",
              "  .colab-df-quickchart:hover {\n",
              "    background-color: var(--hover-bg-color);\n",
              "    box-shadow: 0 1px 2px rgba(60, 64, 67, 0.3), 0 1px 3px 1px rgba(60, 64, 67, 0.15);\n",
              "    fill: var(--button-hover-fill-color);\n",
              "  }\n",
              "\n",
              "  .colab-df-quickchart-complete:disabled,\n",
              "  .colab-df-quickchart-complete:disabled:hover {\n",
              "    background-color: var(--disabled-bg-color);\n",
              "    fill: var(--disabled-fill-color);\n",
              "    box-shadow: none;\n",
              "  }\n",
              "\n",
              "  .colab-df-spinner {\n",
              "    border: 2px solid var(--fill-color);\n",
              "    border-color: transparent;\n",
              "    border-bottom-color: var(--fill-color);\n",
              "    animation:\n",
              "      spin 1s steps(1) infinite;\n",
              "  }\n",
              "\n",
              "  @keyframes spin {\n",
              "    0% {\n",
              "      border-color: transparent;\n",
              "      border-bottom-color: var(--fill-color);\n",
              "      border-left-color: var(--fill-color);\n",
              "    }\n",
              "    20% {\n",
              "      border-color: transparent;\n",
              "      border-left-color: var(--fill-color);\n",
              "      border-top-color: var(--fill-color);\n",
              "    }\n",
              "    30% {\n",
              "      border-color: transparent;\n",
              "      border-left-color: var(--fill-color);\n",
              "      border-top-color: var(--fill-color);\n",
              "      border-right-color: var(--fill-color);\n",
              "    }\n",
              "    40% {\n",
              "      border-color: transparent;\n",
              "      border-right-color: var(--fill-color);\n",
              "      border-top-color: var(--fill-color);\n",
              "    }\n",
              "    60% {\n",
              "      border-color: transparent;\n",
              "      border-right-color: var(--fill-color);\n",
              "    }\n",
              "    80% {\n",
              "      border-color: transparent;\n",
              "      border-right-color: var(--fill-color);\n",
              "      border-bottom-color: var(--fill-color);\n",
              "    }\n",
              "    90% {\n",
              "      border-color: transparent;\n",
              "      border-bottom-color: var(--fill-color);\n",
              "    }\n",
              "  }\n",
              "</style>\n",
              "\n",
              "  <script>\n",
              "    async function quickchart(key) {\n",
              "      const quickchartButtonEl =\n",
              "        document.querySelector('#' + key + ' button');\n",
              "      quickchartButtonEl.disabled = true;  // To prevent multiple clicks.\n",
              "      quickchartButtonEl.classList.add('colab-df-spinner');\n",
              "      try {\n",
              "        const charts = await google.colab.kernel.invokeFunction(\n",
              "            'suggestCharts', [key], {});\n",
              "      } catch (error) {\n",
              "        console.error('Error during call to suggestCharts:', error);\n",
              "      }\n",
              "      quickchartButtonEl.classList.remove('colab-df-spinner');\n",
              "      quickchartButtonEl.classList.add('colab-df-quickchart-complete');\n",
              "    }\n",
              "    (() => {\n",
              "      let quickchartButtonEl =\n",
              "        document.querySelector('#df-324b205c-ec72-451a-8e1a-def46b8b528d button');\n",
              "      quickchartButtonEl.style.display =\n",
              "        google.colab.kernel.accessAllowed ? 'block' : 'none';\n",
              "    })();\n",
              "  </script>\n",
              "</div>\n",
              "\n",
              "  <div id=\"id_d7620bc0-3bcb-46dc-b636-c3bea007bfd1\">\n",
              "    <style>\n",
              "      .colab-df-generate {\n",
              "        background-color: #E8F0FE;\n",
              "        border: none;\n",
              "        border-radius: 50%;\n",
              "        cursor: pointer;\n",
              "        display: none;\n",
              "        fill: #1967D2;\n",
              "        height: 32px;\n",
              "        padding: 0 0 0 0;\n",
              "        width: 32px;\n",
              "      }\n",
              "\n",
              "      .colab-df-generate:hover {\n",
              "        background-color: #E2EBFA;\n",
              "        box-shadow: 0px 1px 2px rgba(60, 64, 67, 0.3), 0px 1px 3px 1px rgba(60, 64, 67, 0.15);\n",
              "        fill: #174EA6;\n",
              "      }\n",
              "\n",
              "      [theme=dark] .colab-df-generate {\n",
              "        background-color: #3B4455;\n",
              "        fill: #D2E3FC;\n",
              "      }\n",
              "\n",
              "      [theme=dark] .colab-df-generate:hover {\n",
              "        background-color: #434B5C;\n",
              "        box-shadow: 0px 1px 3px 1px rgba(0, 0, 0, 0.15);\n",
              "        filter: drop-shadow(0px 1px 2px rgba(0, 0, 0, 0.3));\n",
              "        fill: #FFFFFF;\n",
              "      }\n",
              "    </style>\n",
              "    <button class=\"colab-df-generate\" onclick=\"generateWithVariable('summary_stats_transposed')\"\n",
              "            title=\"Generate code using this dataframe.\"\n",
              "            style=\"display:none;\">\n",
              "\n",
              "  <svg xmlns=\"http://www.w3.org/2000/svg\" height=\"24px\"viewBox=\"0 0 24 24\"\n",
              "       width=\"24px\">\n",
              "    <path d=\"M7,19H8.4L18.45,9,17,7.55,7,17.6ZM5,21V16.75L18.45,3.32a2,2,0,0,1,2.83,0l1.4,1.43a1.91,1.91,0,0,1,.58,1.4,1.91,1.91,0,0,1-.58,1.4L9.25,21ZM18.45,9,17,7.55Zm-12,3A5.31,5.31,0,0,0,4.9,8.1,5.31,5.31,0,0,0,1,6.5,5.31,5.31,0,0,0,4.9,4.9,5.31,5.31,0,0,0,6.5,1,5.31,5.31,0,0,0,8.1,4.9,5.31,5.31,0,0,0,12,6.5,5.46,5.46,0,0,0,6.5,12Z\"/>\n",
              "  </svg>\n",
              "    </button>\n",
              "    <script>\n",
              "      (() => {\n",
              "      const buttonEl =\n",
              "        document.querySelector('#id_d7620bc0-3bcb-46dc-b636-c3bea007bfd1 button.colab-df-generate');\n",
              "      buttonEl.style.display =\n",
              "        google.colab.kernel.accessAllowed ? 'block' : 'none';\n",
              "\n",
              "      buttonEl.onclick = () => {\n",
              "        google.colab.notebook.generateWithVariable('summary_stats_transposed');\n",
              "      }\n",
              "      })();\n",
              "    </script>\n",
              "  </div>\n",
              "\n",
              "    </div>\n",
              "  </div>\n"
            ],
            "application/vnd.google.colaboratory.intrinsic+json": {
              "type": "dataframe",
              "variable_name": "summary_stats_transposed",
              "summary": "{\n  \"name\": \"summary_stats_transposed\",\n  \"rows\": 9,\n  \"fields\": [\n    {\n      \"column\": \"count\",\n      \"properties\": {\n        \"dtype\": \"number\",\n        \"std\": 0.0,\n        \"min\": 120.0,\n        \"max\": 120.0,\n        \"num_unique_values\": 1,\n        \"samples\": [\n          120.0\n        ],\n        \"semantic_type\": \"\",\n        \"description\": \"\"\n      }\n    },\n    {\n      \"column\": \"mean\",\n      \"properties\": {\n        \"dtype\": \"number\",\n        \"std\": 1964.5833243534817,\n        \"min\": 0.09,\n        \"max\": 5899.45,\n        \"num_unique_values\": 9,\n        \"samples\": [\n          3.86\n        ],\n        \"semantic_type\": \"\",\n        \"description\": \"\"\n      }\n    },\n    {\n      \"column\": \"std\",\n      \"properties\": {\n        \"dtype\": \"number\",\n        \"std\": 1045.051168017624,\n        \"min\": 0.13,\n        \"max\": 3138.52,\n        \"num_unique_values\": 8,\n        \"samples\": [\n          0.5\n        ],\n        \"semantic_type\": \"\",\n        \"description\": \"\"\n      }\n    },\n    {\n      \"column\": \"min\",\n      \"properties\": {\n        \"dtype\": \"number\",\n        \"std\": 333.48731266887967,\n        \"min\": 0.0,\n        \"max\": 1001.0,\n        \"num_unique_values\": 3,\n        \"samples\": [\n          1001.0\n        ],\n        \"semantic_type\": \"\",\n        \"description\": \"\"\n      }\n    },\n    {\n      \"column\": \"25%\",\n      \"properties\": {\n        \"dtype\": \"number\",\n        \"std\": 1014.3954327455344,\n        \"min\": 0.0,\n        \"max\": 3046.25,\n        \"num_unique_values\": 6,\n        \"samples\": [\n          3046.25\n        ],\n        \"semantic_type\": \"\",\n        \"description\": \"\"\n      }\n    },\n    {\n      \"column\": \"50%\",\n      \"properties\": {\n        \"dtype\": \"number\",\n        \"std\": 1695.790726876731,\n        \"min\": 0.0,\n        \"max\": 5092.5,\n        \"num_unique_values\": 9,\n        \"samples\": [\n          2.31\n        ],\n        \"semantic_type\": \"\",\n        \"description\": \"\"\n      }\n    },\n    {\n      \"column\": \"75%\",\n      \"properties\": {\n        \"dtype\": \"number\",\n        \"std\": 2709.53064663626,\n        \"min\": 0.12,\n        \"max\": 8136.25,\n        \"num_unique_values\": 8,\n        \"samples\": [\n          1.0\n        ],\n        \"semantic_type\": \"\",\n        \"description\": \"\"\n      }\n    },\n    {\n      \"column\": \"max\",\n      \"properties\": {\n        \"dtype\": \"number\",\n        \"std\": 4054.5801244025256,\n        \"min\": 1.0,\n        \"max\": 12180.0,\n        \"num_unique_values\": 7,\n        \"samples\": [\n          12180.0\n        ],\n        \"semantic_type\": \"\",\n        \"description\": \"\"\n      }\n    }\n  ]\n}"
            }
          },
          "metadata": {}
        }
      ]
    },
    {
      "cell_type": "markdown",
      "source": [
        "#What are some other ways we can visualize this data to better understand the results?"
      ],
      "metadata": {
        "id": "gTRFEB03OhXT"
      }
    },
    {
      "cell_type": "code",
      "source": [
        "#Create a grouped bar chart\n",
        "columns_to_compare = ['e_fir_caw_count', 'e_fir_bywomen_count', 'e_dir_count', 'e_arrest_count']\n",
        "\n",
        "grouped_data = filtered_admin_wide_station_level_means_data.groupby('women_whd')[columns_to_compare].sum().reset_index()\n",
        "\n",
        "fig, ax = plt.subplots(figsize=(10, 6))\n",
        "\n",
        "width = 0.2\n",
        "x = grouped_data['women_whd']\n",
        "\n",
        "for i, column in enumerate(columns_to_compare):\n",
        "    ax.bar(x.index + i * width, grouped_data[column], width, label=column)\n",
        "\n",
        "ax.set_xlabel('Regular (0) vs Woman-Run WHD (1)')\n",
        "ax.set_ylabel('Count')\n",
        "ax.set_title('Comparing Endline FIR, DIR, Arrests from Woman-Run WHD vs Regular WHD')\n",
        "ax.set_xticks(x.index + width)\n",
        "ax.set_xticklabels(x)\n",
        "ax.legend()\n",
        "\n",
        "plt.xticks(rotation=45, ha='right')\n",
        "plt.tight_layout()\n",
        "plt.show()"
      ],
      "metadata": {
        "colab": {
          "base_uri": "https://localhost:8080/",
          "height": 607
        },
        "id": "xFpip1AODKq-",
        "outputId": "cd19aa4e-ae60-4fef-d83f-6d213c14a154"
      },
      "execution_count": null,
      "outputs": [
        {
          "output_type": "display_data",
          "data": {
            "text/plain": [
              "<Figure size 1000x600 with 1 Axes>"
            ],
            "image/png": "[encoded data removed]"
          },
          "metadata": {}
        }
      ]
    },
    {
      "cell_type": "markdown",
      "source": [
        "#The table above is a little confusing. It looks like there were fewer arrests as a result of Woman-Run WHD but more CAW, DIR, and FIR by Women. Maybe the fact that there were earlier actions taken meant fewer arrests were needed."
      ],
      "metadata": {
        "id": "qEz7qNTtOvRc"
      }
    },
    {
      "cell_type": "code",
      "source": [
        "\n",
        "columns_to_compare = ['e_dir_count']\n",
        "grouped_data = admin_wide_station_level_means_data.groupby(['regular_whd', 'women_whd'])[columns_to_compare].sum().reset_index()\n",
        "\n",
        "regular_whd_values = grouped_data['regular_whd'].unique()\n",
        "women_whd_values = grouped_data['women_whd'].unique()\n",
        "\n",
        "x_pos = np.arange(len(regular_whd_values))\n",
        "\n",
        "width = 0.2\n",
        "\n",
        "fig, ax = plt.subplots(figsize=(3, 5))\n",
        "\n",
        "# Create bars for each column, grouped by 'regular_whd' and 'women_whd'\n",
        "for i, column in enumerate(columns_to_compare):\n",
        "    # Get data for the current column, filtered by 'women_whd' values\n",
        "    #data_women_whd_0 = grouped_data[grouped_data['women_whd'] == women_whd_values[0]][column]\n",
        "    data_women_whd_1 = grouped_data[grouped_data['women_whd'] == women_whd_values[1]][column]\n",
        "\n",
        "    # Create bars for 'women_whd' = 0 and 'women_whd' = 1\n",
        "    #ax.bar(x_pos + (i - 1) * width, data_women_whd_0, width, label=f'{column} (women_whd={women_whd_values[0]})')\n",
        "    ax.bar(x_pos + i * width, data_women_whd_1, width, label=f'{column} (women_whd={women_whd_values[1]})')\n",
        "\n",
        "# Set x-axis labels, title, and legend\n",
        "ax.set_xticks(x_pos + width / 2)\n",
        "ax.set_xticklabels(regular_whd_values)\n",
        "ax.set_xlabel('WHD')\n",
        "ax.set_ylabel('Count')\n",
        "ax.set_title('Endline DIR Compared between Regular and Woman-Run WHD')\n",
        "#ax.legend(loc='upper right', bbox_to_anchor=(1.25, 1))\n",
        "\n",
        "# Show the plot\n",
        "plt.tight_layout()\n",
        "plt.show()"
      ],
      "metadata": {
        "colab": {
          "base_uri": "https://localhost:8080/",
          "height": 507
        },
        "id": "ZoCdmS-2LYvf",
        "outputId": "b1e11e10-b45d-417b-f46a-d4c847743718"
      },
      "execution_count": null,
      "outputs": [
        {
          "output_type": "display_data",
          "data": {
            "text/plain": [
              "<Figure size 300x500 with 1 Axes>"
            ],
            "image/png": "[encoded data removed]"
          },
          "metadata": {}
        }
      ]
    },
    {
      "cell_type": "code",
      "source": [
        "\n",
        "columns_to_compare = ['e_arrest_count']\n",
        "\n",
        "grouped_data = filtered_admin_wide_station_level_means_data.groupby(['regular_whd', 'women_whd'])[columns_to_compare].sum().reset_index()\n",
        "\n",
        "regular_whd_values = grouped_data['regular_whd'].unique()\n",
        "women_whd_values = grouped_data['women_whd'].unique()\n",
        "\n",
        "x_pos = np.arange(len(regular_whd_values))\n",
        "\n",
        "width = 0.2\n",
        "\n",
        "fig, ax = plt.subplots(figsize=(5, 6))\n",
        "\n",
        "# Create bars for each column, grouped by 'regular_whd' and 'women_whd'\n",
        "for i, column in enumerate(columns_to_compare):\n",
        "    # Get data for the current column, filtered by 'women_whd' values\n",
        "    #data_women_whd_0 = grouped_data[grouped_data['women_whd'] == women_whd_values[0]][column]\n",
        "    data_women_whd_1 = grouped_data[grouped_data['women_whd'] == women_whd_values[1]][column]\n",
        "\n",
        "    # Create bars for 'women_whd' = 0 and 'women_whd' = 1\n",
        "    #ax.bar(x_pos + (i - 1) * width, data_women_whd_0, width, label=f'{column} (women_whd={women_whd_values[0]})')\n",
        "    ax.bar(x_pos + i * width, data_women_whd_1, width, label=f'{column} (women_whd={women_whd_values[1]})')\n",
        "\n",
        "# Set x-axis labels, title, and legend\n",
        "ax.set_xticks(x_pos + width / 2)\n",
        "ax.set_xticklabels(regular_whd_values)\n",
        "ax.set_xlabel('WHD')\n",
        "ax.set_ylabel('Count')\n",
        "ax.set_title('Endline Arrests Compared between Regular and Woman-Run WHD')\n",
        "#ax.legend(loc='upper right', bbox_to_anchor=(1.25, 1))\n",
        "\n",
        "# Show the plot\n",
        "plt.tight_layout()\n",
        "plt.show()"
      ],
      "metadata": {
        "colab": {
          "base_uri": "https://localhost:8080/",
          "height": 607
        },
        "id": "_Ir1TSbbMa20",
        "outputId": "3b4a5762-0da9-41e1-e22e-26b337247906"
      },
      "execution_count": null,
      "outputs": [
        {
          "output_type": "display_data",
          "data": {
            "text/plain": [
              "<Figure size 500x600 with 1 Axes>"
            ],
            "image/png": "[encoded data removed]"
          },
          "metadata": {}
        }
      ]
    },
    {
      "cell_type": "markdown",
      "source": [
        "# Again, not sure why the endline arrest count between Woman-Run WHD and Regular WHD is about the same.\n",
        "It may be more about the difference between beginning and endline."
      ],
      "metadata": {
        "id": "d89Erh3SMpk0"
      }
    },
    {
      "cell_type": "code",
      "source": [
        "columns_to_compare = ['e_arrest_count', 'e_dir_count']\n",
        "\n",
        "grouped_data = filtered_admin_wide_station_level_means_data.groupby(['regular_whd', 'women_whd'])[columns_to_compare].sum().reset_index()\n",
        "\n",
        "regular_whd_values = grouped_data['regular_whd'].unique()\n",
        "women_whd_values = grouped_data['women_whd'].unique()\n",
        "\n",
        "x_pos = np.arange(len(regular_whd_values))\n",
        "\n",
        "width = 0.2\n",
        "\n",
        "fig, ax = plt.subplots(figsize=(12, 6))\n",
        "\n",
        "# Create bars for each column, grouped by 'regular_whd' and 'women_whd'\n",
        "for i, column in enumerate(columns_to_compare):\n",
        "\n",
        "    data_regular_whd_1 = grouped_data[grouped_data['regular_whd'] == regular_whd_values[1]][column]\n",
        "    data_women_whd_1 = grouped_data[grouped_data['women_whd'] == women_whd_values[1]][column]\n",
        "\n",
        "    # Create bars for 'women_whd' = 0 and 'women_whd' = 1\n",
        "    ax.bar(x_pos + (i - 1) * width, data_regular_whd_1, width, label=f'{column} (regular_whd={regular_whd_values[1]})')\n",
        "    ax.bar(x_pos + i * width, data_women_whd_1, width, label=f'{column} (women_whd={women_whd_values[1]})')\n",
        "\n",
        "# Set x-axis labels, title, and legend\n",
        "ax.set_xticks(x_pos + width / 2)\n",
        "ax.set_xticklabels(regular_whd_values)\n",
        "ax.set_xlabel('WHD')\n",
        "ax.set_ylabel('Count')\n",
        "ax.set_title('Beginning and Ending Arrests Compared between Regular and Woman-Run WHD')\n",
        "ax.legend(loc='upper right', bbox_to_anchor=(1.25, 1))\n",
        "\n",
        "# Show the plot\n",
        "plt.tight_layout()\n",
        "plt.show()"
      ],
      "metadata": {
        "colab": {
          "base_uri": "https://localhost:8080/",
          "height": 517
        },
        "id": "hNzHutIZM8ef",
        "outputId": "d3b8e27a-b4a4-4965-d0d0-d42a482fcab8"
      },
      "execution_count": null,
      "outputs": [
        {
          "output_type": "display_data",
          "data": {
            "text/plain": [
              "<Figure size 1200x600 with 1 Axes>"
            ],
            "image/png": "[encoded data removed]"
          },
          "metadata": {}
        }
      ]
    },
    {
      "cell_type": "markdown",
      "source": [
        "# When I compare between beginning and ending, it's still a similar result.\n",
        "#Overall, there must be something in the calculations I'm inputting that is incorrect, but I am unable to pinpoint it in this or several of the above graphs."
      ],
      "metadata": {
        "id": "fU5Cx6IBNYWN"
      }
    },
    {
      "cell_type": "code",
      "source": [
        "\n",
        "\n",
        "# Columns to compare\n",
        "columns_to_compare = ['e_fir_bywomen_count', 'e_arrest_count']\n",
        "\n",
        "# Melt the data to a long format for easier plotting with seaborn\n",
        "melted_data = admin_wide_station_level_means_data.melt(id_vars=['regular_whd', 'women_whd'],\n",
        "                                           value_vars=columns_to_compare,\n",
        "                                           var_name='Action', value_name='Count')\n",
        "\n",
        "plt.figure(figsize=(8, 5))\n",
        "sns.barplot(x='Action', y='Count', hue='women_whd', data=melted_data[melted_data['regular_whd'] == 0]) # Focusing on regular_whd == 0\n",
        "plt.title('Comparison of Endline Arrests and FIR by Women at Woman-Run WHD (regular whd = 0)')\n",
        "plt.xticks(rotation=45, ha='right')\n",
        "plt.tight_layout()\n",
        "plt.show()"
      ],
      "metadata": {
        "colab": {
          "base_uri": "https://localhost:8080/",
          "height": 506
        },
        "id": "Cfk74sEZKYPQ",
        "outputId": "e6c68401-ad2e-4225-afc1-6fc494e72d42"
      },
      "execution_count": null,
      "outputs": [
        {
          "output_type": "display_data",
          "data": {
            "text/plain": [
              "<Figure size 800x500 with 1 Axes>"
            ],
            "image/png": "[encoded data removed]"
          },
          "metadata": {}
        }
      ]
    },
    {
      "cell_type": "markdown",
      "source": [
        "# This is one of the most helpful graphs so far because it shows more clearly that woman-run WHD resulted in more actual actions than regular WHD."
      ],
      "metadata": {
        "id": "As1u5M9DN5Si"
      }
    },
    {
      "cell_type": "code",
      "source": [
        "\n",
        "# Group and sum data\n",
        "grouped_data = admin_wide_station_level_means_data.groupby(['women_whd', 'regular_whd'])[['e_fir_bywomen_count']].sum().reset_index()\n",
        "\n",
        "# Melt data for plotting\n",
        "melted_data = pd.melt(grouped_data, id_vars=['women_whd', 'regular_whd'], value_vars=['e_fir_bywomen_count'], var_name='time_point', value_name='sum_firs')\n",
        "\n",
        "# Create bar plot\n",
        "sns.barplot(x='time_point', y='sum_firs', hue='women_whd', data=melted_data)\n",
        "plt.title('Comparison of FIRs by Women for Women WHD vs Regular WHD')\n",
        "plt.show()"
      ],
      "metadata": {
        "colab": {
          "base_uri": "https://localhost:8080/",
          "height": 472
        },
        "id": "LIoi907JRL43",
        "outputId": "f283f9ec-21d0-43e6-ffdd-4c0e4c20b808"
      },
      "execution_count": null,
      "outputs": [
        {
          "output_type": "display_data",
          "data": {
            "text/plain": [
              "<Figure size 640x480 with 1 Axes>"
            ],
            "image/png": "[encoded data removed]"
          },
          "metadata": {}
        }
      ]
    },
    {
      "cell_type": "markdown",
      "source": [
        "# This graph more clearly shows the difference between the beginning and end of research.\n",
        "\n",
        "#Woman-run WHD are resulting in more FIR while non-woman run WHD have about the same FIR."
      ],
      "metadata": {
        "id": "cv0ufwl3S5jK"
      }
    },
    {
      "cell_type": "code",
      "source": [
        "# Group and sum data\n",
        "grouped_data = admin_wide_station_level_means_data.groupby(['women_whd', 'regular_whd'])[['e_dir_count']].sum().reset_index()\n",
        "\n",
        "# Melt data for plotting\n",
        "melted_data = pd.melt(grouped_data, id_vars=['women_whd', 'regular_whd'], value_vars=['e_dir_count'], var_name='time_point', value_name='sum_firs')\n",
        "\n",
        "# Create bar plot\n",
        "sns.barplot(x='time_point', y='sum_firs', hue='women_whd', data=melted_data)\n",
        "plt.title('Comparison of DIRS in Women WHD vs Regular WHD')\n",
        "plt.show()"
      ],
      "metadata": {
        "colab": {
          "base_uri": "https://localhost:8080/",
          "height": 472
        },
        "id": "VxOf3NHCRrpo",
        "outputId": "88063dea-89b5-4309-c707-ac3b0fb71f3a"
      },
      "execution_count": null,
      "outputs": [
        {
          "output_type": "display_data",
          "data": {
            "text/plain": [
              "<Figure size 640x480 with 1 Axes>"
            ],
            "image/png": "[encoded data removed]"
          },
          "metadata": {}
        }
      ]
    },
    {
      "cell_type": "markdown",
      "source": [
        "# A helpful graph showing the difference between the beginning and end of research.\n",
        "\n",
        "#Woman-run WHD are resulting in more DIR.\n",
        "#Additionally, awareness seems to be increasing across the board since non-woman-run WHD DIR also increased."
      ],
      "metadata": {
        "id": "EoGOKrxUSio1"
      }
    },
    {
      "cell_type": "code",
      "source": [
        "# Group and sum data\n",
        "grouped_data = admin_wide_station_level_means_data.groupby(['women_whd', 'regular_whd'])[['e_arrest_count']].sum().reset_index()\n",
        "\n",
        "# Melt data for plotting\n",
        "melted_data = pd.melt(grouped_data, id_vars=['women_whd', 'regular_whd'], value_vars=['e_arrest_count'], var_name='time_point', value_name='sum_firs')\n",
        "\n",
        "# Create bar plot\n",
        "sns.barplot(x='time_point', y='sum_firs', hue='women_whd', data=melted_data)\n",
        "plt.title('Comparison of Arrests in Women WHD vs Regular WHD')\n",
        "plt.show()"
      ],
      "metadata": {
        "colab": {
          "base_uri": "https://localhost:8080/",
          "height": 472
        },
        "id": "McEOUIMVSBd-",
        "outputId": "333cede8-40da-4064-8585-0deb10d333ed"
      },
      "execution_count": null,
      "outputs": [
        {
          "output_type": "display_data",
          "data": {
            "text/plain": [
              "<Figure size 640x480 with 1 Axes>"
            ],
            "image/png": "[encoded data removed]"
          },
          "metadata": {}
        }
      ]
    },
    {
      "cell_type": "markdown",
      "source": [
        "# As seen further up in the notebook, overall arrests decreased by the end of the research.\n",
        "\n",
        "#A hypothesis is that this may be because earlier DIR and FIR were being filed, so action could be taken to mitigate violence before arrests were necessary.\n",
        "#Looking back at the original paper, the researchers did not find any significant change in arrests as a result of treatment. There seemed to be little to report in terms of reasons.\n",
        "#Therefore, my hypothesis is not supported by correlating research."
      ],
      "metadata": {
        "id": "IeZ8fyvYSRNS"
      }
    },
    {
      "cell_type": "code",
      "source": [
        "\n",
        "# Group and sum data\n",
        "grouped_data = admin_wide_station_level_means_data.groupby(['women_whd', 'regular_whd'])[['e_fir_caw_count']].sum().reset_index()\n",
        "\n",
        "# Melt data for plotting\n",
        "melted_data = pd.melt(grouped_data, id_vars=['women_whd', 'regular_whd'], value_vars=['e_fir_caw_count'], var_name='time_point', value_name='sum_firs')\n",
        "\n",
        "# Create bar plot\n",
        "sns.barplot(x='time_point', y='sum_firs', hue='women_whd', data=melted_data)\n",
        "plt.title('Comparison of FIRs by CAW for Women WHD vs Regular WHD')\n",
        "plt.show()"
      ],
      "metadata": {
        "colab": {
          "base_uri": "https://localhost:8080/",
          "height": 472
        },
        "id": "mnoMwX0ZUDyU",
        "outputId": "70b04350-86cc-4134-aafe-3e62e1e24461"
      },
      "execution_count": null,
      "outputs": [
        {
          "output_type": "display_data",
          "data": {
            "text/plain": [
              "<Figure size 640x480 with 1 Axes>"
            ],
            "image/png": "[encoded data removed]"
          },
          "metadata": {}
        }
      ]
    },
    {
      "cell_type": "markdown",
      "source": [
        "# This graph clearly shows that FIR concerning Crimes against Women were filed much more often in Woman-Run WHD than Regular WHD.\n",
        "#This data helps make the case that having women running WHD results in more effectiveness in the WHD than when men run the WHD.\n",
        "\n",
        "\n",
        "\n",
        "\n",
        "\n",
        "\n",
        "\n",
        "\n",
        "\n",
        "\n",
        "\n",
        "\n",
        "\n"
      ],
      "metadata": {
        "id": "naUpBJmcUMor"
      }
    },
    {
      "cell_type": "markdown",
      "source": [
        "\n",
        "\n",
        "\n",
        "\n",
        "\n",
        "# **EDA for Q2:**\n",
        "##Addressing Question 2: How much does a WHD in a police station promote the reporting of GBV compared to a police station with no WHD?\n",
        "\n",
        "GBV = Gender-Based Violence"
      ],
      "metadata": {
        "id": "Tz-eKi_m2SGp"
      }
    },
    {
      "cell_type": "markdown",
      "source": [
        "Trying to find a way to combine regular_whd and women_whd because the question involves having a WHD (any type) vs not having a WHD"
      ],
      "metadata": {
        "id": "D9sR5nv958hY"
      }
    },
    {
      "cell_type": "code",
      "source": [
        "#asked Gemini for starters on this paragraph of code:\n",
        "#Separate treatment and control groups:\n",
        "treatment_data = admin_wide_station_level_means_data[admin_wide_station_level_means_data['treatment'] == 'Treatment']\n",
        "control_data = admin_wide_station_level_means_data[admin_wide_station_level_means_data['treatment'] == 'Control']\n",
        "\n",
        "#Calculate the number of rows to remove from treatment_data:\n",
        "num_rows_to_remove = len(treatment_data) // 2\n",
        "\n",
        "#Randomly select indices to drop:\n",
        "indices_to_drop = treatment_data.sample(n=num_rows_to_remove, random_state=42).index\n",
        "\n",
        "#Drop the selected rows from treatment_data:\n",
        "treatment_data = treatment_data.drop(indices_to_drop)\n",
        "\n",
        "#Check - should be 60\n",
        "treatment_data.shape\n",
        "#treatment_data.value_counts()"
      ],
      "metadata": {
        "colab": {
          "base_uri": "https://localhost:8080/"
        },
        "id": "lXEs-vZBAEyE",
        "outputId": "7e28b1ba-f994-454b-9605-948e299c9bcd"
      },
      "execution_count": null,
      "outputs": [
        {
          "output_type": "execute_result",
          "data": {
            "text/plain": [
              "(60, 10)"
            ]
          },
          "metadata": {},
          "execution_count": 32
        }
      ]
    },
    {
      "cell_type": "code",
      "source": [
        "#Calculate the sum of 'e_caw_rate' for combined_sample and control_data\n",
        "control_e_caw_rate = control_data['e_caw_rate'].sum()\n",
        "treatment_e_caw_rate = treatment_data['e_caw_rate'].sum()\n",
        "\n",
        "print(\"Control Group:\")\n",
        "print(control_e_caw_rate)\n",
        "print(\"\\nTreatment Group:\")\n",
        "print(treatment_e_caw_rate)"
      ],
      "metadata": {
        "colab": {
          "base_uri": "https://localhost:8080/"
        },
        "id": "q6mjFfLZAyV3",
        "outputId": "65c8cb3a-0c2c-434b-eaf3-7ab92882fa51"
      },
      "execution_count": null,
      "outputs": [
        {
          "output_type": "stream",
          "name": "stdout",
          "text": [
            "Control Group:\n",
            "6.433610798\n",
            "\n",
            "Treatment Group:\n",
            "4.716291649\n"
          ]
        }
      ]
    },
    {
      "cell_type": "code",
      "source": [
        "treatment_data_mean = treatment_data['e_caw_rate'].mean()\n",
        "control_data_mean = control_data['e_caw_rate'].mean()\n",
        "\n",
        "# Create a DataFrame for plotting\n",
        "plot_data = pd.DataFrame({\n",
        "    'Group': ['Combined Sample', 'Control'],\n",
        "    'e_caw_rate Mean': [treatment_data_mean, control_data_mean]\n",
        "})\n",
        "\n",
        "# Create the bar plot using seaborn\n",
        "sns.barplot(x='Group', y='e_caw_rate Mean', data=plot_data)\n",
        "plt.title('Mean E CAW Rate Between Treatment and Control Group')\n",
        "plt.ylabel('e_caw_rate Mean')\n",
        "plt.show()"
      ],
      "metadata": {
        "colab": {
          "base_uri": "https://localhost:8080/",
          "height": 472
        },
        "id": "ijzXLRaTBSeO",
        "outputId": "6b4cf320-df8a-4347-d4bc-e9e9c643a2b0"
      },
      "execution_count": null,
      "outputs": [
        {
          "output_type": "display_data",
          "data": {
            "text/plain": [
              "<Figure size 640x480 with 1 Axes>"
            ],
            "image/png": "[encoded data removed]"
          },
          "metadata": {}
        }
      ]
    },
    {
      "cell_type": "markdown",
      "source": [
        "# This graph shows clearly that the reported CAW rate is higher in the control group."
      ],
      "metadata": {
        "id": "yS7hZYVa7Cy6"
      }
    },
    {
      "cell_type": "code",
      "source": [
        "\n",
        "control_e_caw_rate = control_data['e_dir_count'].sum()\n",
        "treatment_e_caw_rate = treatment_data['e_dir_count'].sum()\n",
        "\n",
        "print(\"Control Group:\")\n",
        "print(control_e_caw_rate)\n",
        "print(\"\\nTreatment Group:\")\n",
        "print(treatment_e_caw_rate)"
      ],
      "metadata": {
        "colab": {
          "base_uri": "https://localhost:8080/"
        },
        "id": "cCZK9LLx_WRv",
        "outputId": "172fc5bf-f387-401f-c291-2be8a4939f85"
      },
      "execution_count": null,
      "outputs": [
        {
          "output_type": "stream",
          "name": "stdout",
          "text": [
            "Control Group:\n",
            "1.75\n",
            "\n",
            "Treatment Group:\n",
            "49.5\n"
          ]
        }
      ]
    },
    {
      "cell_type": "code",
      "source": [
        "treatment_data_mean = treatment_data['e_dir_count'].mean()\n",
        "control_data_mean = control_data['e_dir_count'].mean()\n",
        "\n",
        "# Create a DataFrame for plotting\n",
        "plot_data = pd.DataFrame({\n",
        "    'Group': ['Combined Sample', 'Control'],\n",
        "    'e_dir_count Mean': [treatment_data_mean, control_data_mean]\n",
        "})\n",
        "\n",
        "# Create the bar plot using seaborn\n",
        "sns.barplot(x='Group', y='e_dir_count Mean', data=plot_data)\n",
        "plt.title('Mean DIR Between Treatment and Control Group')\n",
        "plt.ylabel('Endline DIR Count Mean')\n",
        "plt.show()"
      ],
      "metadata": {
        "colab": {
          "base_uri": "https://localhost:8080/",
          "height": 472
        },
        "id": "Z1X11QQCBwTU",
        "outputId": "96bf97dc-5662-4064-913e-108d37081f3b"
      },
      "execution_count": null,
      "outputs": [
        {
          "output_type": "display_data",
          "data": {
            "text/plain": [
              "<Figure size 640x480 with 1 Axes>"
            ],
            "image/png": "[encoded data removed]"
          },
          "metadata": {}
        }
      ]
    },
    {
      "cell_type": "markdown",
      "source": [
        "# This graph more drastically shows the difference in filing Domestic Incidence Reports between police stations which have a WHD vs. police stations with no WHD. But look at the y-axis: it's all less than 1 per month.\n",
        "#This means that just a few more women are coming forward to report GBV when there is a WHD in the station."
      ],
      "metadata": {
        "id": "htDMdIB3ANyt"
      }
    },
    {
      "cell_type": "code",
      "source": [
        "\n",
        "control_e_arrest_count = control_data['e_arrest_count'].sum()\n",
        "treatment_e_arrest_count = treatment_data['e_arrest_count'].sum()\n",
        "\n",
        "print(\"Control Group:\")\n",
        "print(control_e_arrest_count)\n",
        "print(\"\\nTreatment Group:\")\n",
        "print(treatment_e_arrest_count)"
      ],
      "metadata": {
        "colab": {
          "base_uri": "https://localhost:8080/"
        },
        "id": "fWNXARTwAo70",
        "outputId": "b4decbfa-b9a5-4d72-c5df-b636b0c6dda6"
      },
      "execution_count": null,
      "outputs": [
        {
          "output_type": "stream",
          "name": "stdout",
          "text": [
            "Control Group:\n",
            "212.25\n",
            "\n",
            "Treatment Group:\n",
            "218.625\n"
          ]
        }
      ]
    },
    {
      "cell_type": "code",
      "source": [
        "treatment_data_mean = treatment_data['e_arrest_count'].mean()\n",
        "control_data_mean = control_data['e_arrest_count'].mean()\n",
        "\n",
        "# Create a DataFrame for plotting\n",
        "plot_data = pd.DataFrame({\n",
        "    'Group': ['Combined Sample', 'Control'],\n",
        "    'e_arrest_count Mean': [treatment_data_mean, control_data_mean]\n",
        "})\n",
        "\n",
        "# Create the bar plot using seaborn\n",
        "sns.barplot(x='Group', y='e_arrest_count Mean', data=plot_data)\n",
        "plt.title('Mean Arrests Between Treatment and Control Group')\n",
        "plt.ylabel('Endline Arrest Count Mean')\n",
        "plt.show()"
      ],
      "metadata": {
        "colab": {
          "base_uri": "https://localhost:8080/",
          "height": 472
        },
        "id": "3IrGsDWAA2bp",
        "outputId": "4155eb33-dbd7-415e-dd56-1eff082c7fd1"
      },
      "execution_count": null,
      "outputs": [
        {
          "output_type": "display_data",
          "data": {
            "text/plain": [
              "<Figure size 640x480 with 1 Axes>"
            ],
            "image/png": "[encoded data removed]"
          },
          "metadata": {}
        }
      ]
    },
    {
      "cell_type": "markdown",
      "source": [
        "# This graph is interesting because arrests related to either type of station are similar."
      ],
      "metadata": {
        "id": "3wO2PZdhBESn"
      }
    },
    {
      "cell_type": "code",
      "source": [
        "\n",
        "control_e_fir_bywomen_count = control_data['e_fir_bywomen_count'].sum()\n",
        "treatment_e_fir_bywomen_count = treatment_data['e_fir_bywomen_count'].sum()\n",
        "\n",
        "print(\"Control Group:\")\n",
        "print(control_e_fir_bywomen_count)\n",
        "print(\"\\nTreatment Group:\")\n",
        "print(treatment_e_fir_bywomen_count)"
      ],
      "metadata": {
        "colab": {
          "base_uri": "https://localhost:8080/"
        },
        "id": "6A6KJXbNB9aw",
        "outputId": "18344b7a-75f0-4121-9da7-c81a48746292"
      },
      "execution_count": null,
      "outputs": [
        {
          "output_type": "stream",
          "name": "stdout",
          "text": [
            "Control Group:\n",
            "156.0\n",
            "\n",
            "Treatment Group:\n",
            "168.5\n"
          ]
        }
      ]
    },
    {
      "cell_type": "code",
      "source": [
        "treatment_data_mean = treatment_data['e_fir_bywomen_count'].mean()\n",
        "control_data_mean = control_data['e_fir_bywomen_count'].mean()\n",
        "\n",
        "# Create a DataFrame for plotting\n",
        "plot_data = pd.DataFrame({\n",
        "    'Group': ['Combined Sample', 'Control'],\n",
        "    'e_fir_bywomen_count Mean': [treatment_data_mean, control_data_mean]\n",
        "})\n",
        "\n",
        "# Create the bar plot using seaborn\n",
        "sns.barplot(x='Group', y='e_fir_bywomen_count Mean', data=plot_data)\n",
        "plt.title('Mean FIR by Women Between Treatment and Control Group')\n",
        "plt.ylabel('Endline FIR by Women Count Mean')\n",
        "plt.show()"
      ],
      "metadata": {
        "colab": {
          "base_uri": "https://localhost:8080/",
          "height": 472
        },
        "id": "onBLBOWICQrh",
        "outputId": "7b6e0644-401c-408a-db3e-40aa2ea49bc1"
      },
      "execution_count": null,
      "outputs": [
        {
          "output_type": "display_data",
          "data": {
            "text/plain": [
              "<Figure size 640x480 with 1 Axes>"
            ],
            "image/png": "[encoded data removed]"
          },
          "metadata": {}
        }
      ]
    },
    {
      "cell_type": "markdown",
      "source": [
        "#This graph shows that there are more FIR filed by women in the treatment group, which makes sense. It's almost surprising that the control group has any FIR filed by women at all."
      ],
      "metadata": {
        "id": "GWxZ3945CkJr"
      }
    },
    {
      "cell_type": "code",
      "source": [],
      "metadata": {
        "id": "AusyhLfsDRSA"
      },
      "execution_count": null,
      "outputs": []
    },
    {
      "cell_type": "code",
      "source": [
        "control_e_fir_overall_count = control_data['e_fir_overall_count'].sum()\n",
        "treatment_e_fir_overall_count = treatment_data['e_fir_overall_count'].sum()\n",
        "\n",
        "print(\"Control Group:\")\n",
        "print(control_e_fir_overall_count)\n",
        "print(\"\\nTreatment Group:\")\n",
        "print(treatment_e_fir_overall_count)"
      ],
      "metadata": {
        "colab": {
          "base_uri": "https://localhost:8080/"
        },
        "id": "QQkdoHYSDQNT",
        "outputId": "ade948ae-8677-4fe2-aa7b-0a47c15bfc76"
      },
      "execution_count": null,
      "outputs": [
        {
          "output_type": "stream",
          "name": "stdout",
          "text": [
            "Control Group:\n",
            "1937.0\n",
            "\n",
            "Treatment Group:\n",
            "1916.375\n"
          ]
        }
      ]
    },
    {
      "cell_type": "code",
      "source": [
        "treatment_data_mean = treatment_data['e_fir_overall_count'].mean()\n",
        "control_data_mean = control_data['e_fir_overall_count'].mean()\n",
        "\n",
        "# Create a DataFrame for plotting\n",
        "plot_data = pd.DataFrame({\n",
        "    'Group': ['Combined Sample', 'Control'],\n",
        "    'e_fir_overall_count Mean': [treatment_data_mean, control_data_mean]\n",
        "})\n",
        "\n",
        "# Create the bar plot using seaborn\n",
        "sns.barplot(x='Group', y='e_fir_overall_count Mean', data=plot_data)\n",
        "plt.title('Mean FIR Overall Between Treatment and Control Group')\n",
        "plt.ylabel('Endline FIR Overall Count Mean')\n",
        "plt.show()"
      ],
      "metadata": {
        "colab": {
          "base_uri": "https://localhost:8080/",
          "height": 472
        },
        "id": "0qoAfWMUC0UU",
        "outputId": "0f56feae-3622-4953-d424-a7d8915675d0"
      },
      "execution_count": null,
      "outputs": [
        {
          "output_type": "display_data",
          "data": {
            "text/plain": [
              "<Figure size 640x480 with 1 Axes>"
            ],
            "image/png": "[encoded data removed]"
          },
          "metadata": {}
        }
      ]
    },
    {
      "cell_type": "markdown",
      "source": [
        "#Because the Overall FIR is similar to FIR by Women between control and treatment groups, the increase may be due to the FIR by Women."
      ],
      "metadata": {
        "id": "zLIKA_PHDana"
      }
    },
    {
      "cell_type": "code",
      "source": [
        "\n",
        "columns_to_compare = ['e_fir_caw_count', 'e_fir_overall_count', 'e_fir_bywomen_count', 'e_dir_count', 'e_arrest_count']\n",
        "\n",
        "treatment_data['control'] = 0\n",
        "control_data['control'] = 1\n",
        "\n",
        "grouped_data = pd.concat([treatment_data, control_data]).groupby('control')[columns_to_compare].sum().reset_index()\n",
        "\n",
        "fig, ax = plt.subplots(figsize=(10, 6))\n",
        "\n",
        "width = 0.2\n",
        "x = grouped_data['control']\n",
        "\n",
        "for i, column in enumerate(columns_to_compare):\n",
        "    ax.bar(x.index + i * width, grouped_data[column], width, label=column)\n",
        "\n",
        "ax.set_xlabel('Treatment (0) Vs Control Stations (1)')\n",
        "ax.set_ylabel('Count')\n",
        "ax.set_title('Comparing Endline FIR, DIR, Arrests from Control Vs Treatment')\n",
        "ax.set_xticks(x.index + width)\n",
        "ax.set_xticklabels(x)\n",
        "ax.legend()\n",
        "\n",
        "plt.xticks(rotation=45, ha='right')\n",
        "plt.tight_layout()\n",
        "plt.show()"
      ],
      "metadata": {
        "colab": {
          "base_uri": "https://localhost:8080/",
          "height": 731
        },
        "id": "SNzYD1D3eNxI",
        "outputId": "78a02e8d-fdea-47f3-ffa8-e2918fdb37af"
      },
      "execution_count": null,
      "outputs": [
        {
          "output_type": "stream",
          "name": "stderr",
          "text": [
            "<ipython-input-63-9c2c17319377>:7: SettingWithCopyWarning: \n",
            "A value is trying to be set on a copy of a slice from a DataFrame.\n",
            "Try using .loc[row_indexer,col_indexer] = value instead\n",
            "\n",
            "See the caveats in the documentation: https://pandas.pydata.org/pandas-docs/stable/user_guide/indexing.html#returning-a-view-versus-a-copy\n",
            "  control_data['control'] = 1   # Add a 'control' column to control_data with value 0\n"
          ]
        },
        {
          "output_type": "display_data",
          "data": {
            "text/plain": [
              "<Figure size 1000x600 with 1 Axes>"
            ],
            "image/png": "[encoded data removed]"
          },
          "metadata": {}
        }
      ]
    }
  ],
  "metadata": {
    "colab": {
      "provenance": [],
      "include_colab_link": true
    },
    "kernelspec": {
      "display_name": "Python 3 (ipykernel)",
      "language": "python",
      "name": "python3"
    },
    "language_info": {
      "codemirror_mode": {
        "name": "ipython",
        "version": 3
      },
      "file_extension": ".py",
      "mimetype": "text/x-python",
      "name": "python",
      "nbconvert_exporter": "python",
      "pygments_lexer": "ipython3",
      "version": "3.12.4"
    }
  },
  "nbformat": 4,
  "nbformat_minor": 0
}