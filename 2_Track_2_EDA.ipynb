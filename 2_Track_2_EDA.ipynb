{
  "cells": [
    {
      "cell_type": "markdown",
      "metadata": {
        "id": "view-in-github",
        "colab_type": "text"
      },
      "source": [
        "<a href=\"https://colab.research.google.com/github/ElizabethB111/MESA-8410-Final-Project/blob/main/2_Track_2_EDA.ipynb\" target=\"_parent\"><img src=\"https://colab.research.google.com/assets/colab-badge.svg\" alt=\"Open In Colab\"/></a>"
      ]
    },
    {
      "cell_type": "markdown",
      "metadata": {
        "id": "ZYdSEUesf4u5"
      },
      "source": [
        "**Performing Data Interrogation and EDA:**\n",
        "Viewing trends in perceptions among police staff at baseline and endline of the test and examine relationships between station characteristics and police attitudes about gender.  This code leverages the CSV police_outer_person_data.csv created by the \"Merging_Data_For_Q5_Analysis.ipynb\"\n",
        "\n",
        "Summarizing Approach Key Findings and Potential Next Steps Here:\n",
        "\n",
        "\n",
        "\n",
        "**High Level Approach:**\n",
        "\n",
        "*   Focused on police survey respondents with answers at baseline and endline\n",
        "*   Created 2 new attributes using the numeric 'sensitivity' index created by the authors (absolute difference in sensitivity score and flag denoting an increase in sensitivity score from baseline to endline, both at the responder level)\n",
        "*   Examined distributions of perception response data at baseline and endline across treatment and control data\n",
        "*   Ran a series of summary analysis examining binned versions of station characteristics with changes in police perceptions\n",
        "\n",
        "***Key Findings to Date***\n",
        "\n",
        "*   Police staff felt stations were effective or very effective in dealing with women related cases at both baseline (i.e., already / pre-study) and endline\n",
        "*   Police staff believed that women staff were more effective at addressing women related cases, but didn't think hiring more female staff would help (somewhat contradictory and reflective of male-dominated culture)\n",
        "*   Police conveyed that the felt \"too much attention\" was paid to womens related cases at baseline and endline.\n",
        "*   There are some indications that certain station characteristics were associated with changes in sensitivity (i.e., stations with more staff ane more officers were least likely to see improvement in sensitivity and urban stations ... in fact, it appears to have declined at larger, urban stations).\n",
        "\n",
        "***Next Steps***\n",
        "\n",
        "\n",
        "*   Focused analysis to determine the interaction/multi-variabke effects of station characteristics on perceoption changes.\n",
        "\n"
      ]
    },
    {
      "cell_type": "markdown",
      "source": [
        "Import Required Libraries"
      ],
      "metadata": {
        "id": "xefPC_Jsr_FO"
      }
    },
    {
      "cell_type": "code",
      "execution_count": null,
      "metadata": {
        "id": "n-VwsNHNf4u8"
      },
      "outputs": [],
      "source": [
        "# IMPORT LIBRARIES BELOW\n",
        "import pandas as pd\n",
        "import seaborn as sns\n",
        "import matplotlib.pyplot as plt\n",
        "\n",
        "# Add a special library for working with tables:\n",
        "from tabulate import tabulate\n"
      ]
    },
    {
      "cell_type": "markdown",
      "metadata": {
        "id": "IKG02a90f4u9"
      },
      "source": [
        "### Reading in the data\n",
        "The data is police_outer_person_data.csv (created in separate notebook \" Final_Project_Merging_Data_for_Q5_Analysis_ipynb\")"
      ]
    },
    {
      "cell_type": "code",
      "execution_count": null,
      "metadata": {
        "id": "xEipUI-mf4u9",
        "colab": {
          "base_uri": "https://localhost:8080/"
        },
        "outputId": "3e93da20-82bf-4847-9e55-0e9b096b255b"
      },
      "outputs": [
        {
          "output_type": "stream",
          "name": "stdout",
          "text": [
            "Drive already mounted at /content/drive; to attempt to forcibly remount, call drive.mount(\"/content/drive\", force_remount=True).\n"
          ]
        }
      ],
      "source": [
        "# the code below allows you to access your Google Drive.\n",
        "from google.colab import drive\n",
        "\n",
        "drive.mount('/content/drive')\n",
        "\n",
        "# root_dir is the path to your My_Drive folder.\n",
        "root_dir = \"/content/drive/My Drive/\"\n",
        "\n",
        "# Store the dataframes in the following directory.\n",
        "data_folder = root_dir + \"Colab Notebooks/Final Project/Data/\"\n",
        "\n",
        "# the CSV data file created in the Q5_data_prep notebook is located here\n",
        "# contains an outer join of the baseline and full police survey data with the police personnel data appended to each row\n",
        "inputfile1 = \"/content/drive/My Drive/Colab Notebooks/Final Project/Data/police_outer_person_data.csv\"\n",
        "\n",
        "\n",
        "# Read the CSV file into a dataframes\n",
        "police_person_data = pd.read_csv(inputfile1)\n"
      ]
    },
    {
      "cell_type": "markdown",
      "metadata": {
        "id": "Dv_tR4LAf4u9"
      },
      "source": [
        "### Initial Sample Records and Descriptive Stats of the Data\n"
      ]
    },
    {
      "cell_type": "code",
      "source": [
        "# Use `head()` to get an overview of the first few records in the dataset\n",
        "print ('Police Survey + Personnel Data Records')\n",
        "police_person_data.head(5)"
      ],
      "metadata": {
        "id": "rCzbHvIPkORM",
        "colab": {
          "base_uri": "https://localhost:8080/",
          "height": 325
        },
        "outputId": "ad4aceb8-dff3-4a3a-8eb0-9928eb5c7d98"
      },
      "execution_count": null,
      "outputs": [
        {
          "output_type": "stream",
          "name": "stdout",
          "text": [
            "Police Survey + Personnel Data Records\n"
          ]
        },
        {
          "output_type": "execute_result",
          "data": {
            "text/plain": [
              "   Unnamed: 0_x      b_uid gender_x  b_pol_impt_x  b_thana_impt_x  \\\n",
              "0           NaN        NaN      NaN           NaN             NaN   \n",
              "1           NaN        NaN      NaN           NaN             NaN   \n",
              "2         125.0  2141762.0        m           0.0             0.0   \n",
              "3         121.0  2141764.0        m           0.0             0.0   \n",
              "4           NaN        NaN      NaN           NaN             NaN   \n",
              "\n",
              "            b_wcase_x   b_effective_x   b_helpful_x      b_add_officer_x  \\\n",
              "0                 NaN             NaN           NaN                  NaN   \n",
              "1                 NaN             NaN           NaN                  NaN   \n",
              "2    enough attention  very effective       helpful       more effective   \n",
              "3  too much attention  very effective  very helpful  much more effective   \n",
              "4                 NaN             NaN           NaN                  NaN   \n",
              "\n",
              "        b_add_female_x  ... dist_id  implement_quality  training_score  \\\n",
              "0                  NaN  ...  2000.0                9.0         3.77907   \n",
              "1                  NaN  ...  2000.0                9.0         3.77907   \n",
              "2  much less effective  ...  2000.0                9.0         3.77907   \n",
              "3  much less effective  ...  2000.0                9.0         3.77907   \n",
              "4                  NaN  ...  2000.0                9.0         3.77907   \n",
              "\n",
              "   comm_outreach_strength  regular_whd  women_whd e_male_weight  \\\n",
              "0                    2.16          0.0        1.0      3.333333   \n",
              "1                    2.16          0.0        1.0      3.333333   \n",
              "2                    2.16          0.0        1.0      3.333333   \n",
              "3                    2.16          0.0        1.0      3.333333   \n",
              "4                    2.16          0.0        1.0      3.333333   \n",
              "\n",
              "   b_male_weight  e_female_weight b_female_weight  \n",
              "0            2.0              NaN             NaN  \n",
              "1            2.0              NaN             NaN  \n",
              "2            2.0              NaN             NaN  \n",
              "3            2.0              NaN             NaN  \n",
              "4            2.0              NaN             NaN  \n",
              "\n",
              "[5 rows x 108 columns]"
            ],
            "text/html": [
              "\n",
              "  <div id=\"df-f101cee9-0b69-4fa9-b96b-fc2429a37c25\" class=\"colab-df-container\">\n",
              "    <div>\n",
              "<style scoped>\n",
              "    .dataframe tbody tr th:only-of-type {\n",
              "        vertical-align: middle;\n",
              "    }\n",
              "\n",
              "    .dataframe tbody tr th {\n",
              "        vertical-align: top;\n",
              "    }\n",
              "\n",
              "    .dataframe thead th {\n",
              "        text-align: right;\n",
              "    }\n",
              "</style>\n",
              "<table border=\"1\" class=\"dataframe\">\n",
              "  <thead>\n",
              "    <tr style=\"text-align: right;\">\n",
              "      <th></th>\n",
              "      <th>Unnamed: 0_x</th>\n",
              "      <th>b_uid</th>\n",
              "      <th>gender_x</th>\n",
              "      <th>b_pol_impt_x</th>\n",
              "      <th>b_thana_impt_x</th>\n",
              "      <th>b_wcase_x</th>\n",
              "      <th>b_effective_x</th>\n",
              "      <th>b_helpful_x</th>\n",
              "      <th>b_add_officer_x</th>\n",
              "      <th>b_add_female_x</th>\n",
              "      <th>...</th>\n",
              "      <th>dist_id</th>\n",
              "      <th>implement_quality</th>\n",
              "      <th>training_score</th>\n",
              "      <th>comm_outreach_strength</th>\n",
              "      <th>regular_whd</th>\n",
              "      <th>women_whd</th>\n",
              "      <th>e_male_weight</th>\n",
              "      <th>b_male_weight</th>\n",
              "      <th>e_female_weight</th>\n",
              "      <th>b_female_weight</th>\n",
              "    </tr>\n",
              "  </thead>\n",
              "  <tbody>\n",
              "    <tr>\n",
              "      <th>0</th>\n",
              "      <td>NaN</td>\n",
              "      <td>NaN</td>\n",
              "      <td>NaN</td>\n",
              "      <td>NaN</td>\n",
              "      <td>NaN</td>\n",
              "      <td>NaN</td>\n",
              "      <td>NaN</td>\n",
              "      <td>NaN</td>\n",
              "      <td>NaN</td>\n",
              "      <td>NaN</td>\n",
              "      <td>...</td>\n",
              "      <td>2000.0</td>\n",
              "      <td>9.0</td>\n",
              "      <td>3.77907</td>\n",
              "      <td>2.16</td>\n",
              "      <td>0.0</td>\n",
              "      <td>1.0</td>\n",
              "      <td>3.333333</td>\n",
              "      <td>2.0</td>\n",
              "      <td>NaN</td>\n",
              "      <td>NaN</td>\n",
              "    </tr>\n",
              "    <tr>\n",
              "      <th>1</th>\n",
              "      <td>NaN</td>\n",
              "      <td>NaN</td>\n",
              "      <td>NaN</td>\n",
              "      <td>NaN</td>\n",
              "      <td>NaN</td>\n",
              "      <td>NaN</td>\n",
              "      <td>NaN</td>\n",
              "      <td>NaN</td>\n",
              "      <td>NaN</td>\n",
              "      <td>NaN</td>\n",
              "      <td>...</td>\n",
              "      <td>2000.0</td>\n",
              "      <td>9.0</td>\n",
              "      <td>3.77907</td>\n",
              "      <td>2.16</td>\n",
              "      <td>0.0</td>\n",
              "      <td>1.0</td>\n",
              "      <td>3.333333</td>\n",
              "      <td>2.0</td>\n",
              "      <td>NaN</td>\n",
              "      <td>NaN</td>\n",
              "    </tr>\n",
              "    <tr>\n",
              "      <th>2</th>\n",
              "      <td>125.0</td>\n",
              "      <td>2141762.0</td>\n",
              "      <td>m</td>\n",
              "      <td>0.0</td>\n",
              "      <td>0.0</td>\n",
              "      <td>enough attention</td>\n",
              "      <td>very effective</td>\n",
              "      <td>helpful</td>\n",
              "      <td>more effective</td>\n",
              "      <td>much less effective</td>\n",
              "      <td>...</td>\n",
              "      <td>2000.0</td>\n",
              "      <td>9.0</td>\n",
              "      <td>3.77907</td>\n",
              "      <td>2.16</td>\n",
              "      <td>0.0</td>\n",
              "      <td>1.0</td>\n",
              "      <td>3.333333</td>\n",
              "      <td>2.0</td>\n",
              "      <td>NaN</td>\n",
              "      <td>NaN</td>\n",
              "    </tr>\n",
              "    <tr>\n",
              "      <th>3</th>\n",
              "      <td>121.0</td>\n",
              "      <td>2141764.0</td>\n",
              "      <td>m</td>\n",
              "      <td>0.0</td>\n",
              "      <td>0.0</td>\n",
              "      <td>too much attention</td>\n",
              "      <td>very effective</td>\n",
              "      <td>very helpful</td>\n",
              "      <td>much more effective</td>\n",
              "      <td>much less effective</td>\n",
              "      <td>...</td>\n",
              "      <td>2000.0</td>\n",
              "      <td>9.0</td>\n",
              "      <td>3.77907</td>\n",
              "      <td>2.16</td>\n",
              "      <td>0.0</td>\n",
              "      <td>1.0</td>\n",
              "      <td>3.333333</td>\n",
              "      <td>2.0</td>\n",
              "      <td>NaN</td>\n",
              "      <td>NaN</td>\n",
              "    </tr>\n",
              "    <tr>\n",
              "      <th>4</th>\n",
              "      <td>NaN</td>\n",
              "      <td>NaN</td>\n",
              "      <td>NaN</td>\n",
              "      <td>NaN</td>\n",
              "      <td>NaN</td>\n",
              "      <td>NaN</td>\n",
              "      <td>NaN</td>\n",
              "      <td>NaN</td>\n",
              "      <td>NaN</td>\n",
              "      <td>NaN</td>\n",
              "      <td>...</td>\n",
              "      <td>2000.0</td>\n",
              "      <td>9.0</td>\n",
              "      <td>3.77907</td>\n",
              "      <td>2.16</td>\n",
              "      <td>0.0</td>\n",
              "      <td>1.0</td>\n",
              "      <td>3.333333</td>\n",
              "      <td>2.0</td>\n",
              "      <td>NaN</td>\n",
              "      <td>NaN</td>\n",
              "    </tr>\n",
              "  </tbody>\n",
              "</table>\n",
              "<p>5 rows × 108 columns</p>\n",
              "</div>\n",
              "    <div class=\"colab-df-buttons\">\n",
              "\n",
              "  <div class=\"colab-df-container\">\n",
              "    <button class=\"colab-df-convert\" onclick=\"convertToInteractive('df-f101cee9-0b69-4fa9-b96b-fc2429a37c25')\"\n",
              "            title=\"Convert this dataframe to an interactive table.\"\n",
              "            style=\"display:none;\">\n",
              "\n",
              "  <svg xmlns=\"http://www.w3.org/2000/svg\" height=\"24px\" viewBox=\"0 -960 960 960\">\n",
              "    <path d=\"M120-120v-720h720v720H120Zm60-500h600v-160H180v160Zm220 220h160v-160H400v160Zm0 220h160v-160H400v160ZM180-400h160v-160H180v160Zm440 0h160v-160H620v160ZM180-180h160v-160H180v160Zm440 0h160v-160H620v160Z\"/>\n",
              "  </svg>\n",
              "    </button>\n",
              "\n",
              "  <style>\n",
              "    .colab-df-container {\n",
              "      display:flex;\n",
              "      gap: 12px;\n",
              "    }\n",
              "\n",
              "    .colab-df-convert {\n",
              "      background-color: #E8F0FE;\n",
              "      border: none;\n",
              "      border-radius: 50%;\n",
              "      cursor: pointer;\n",
              "      display: none;\n",
              "      fill: #1967D2;\n",
              "      height: 32px;\n",
              "      padding: 0 0 0 0;\n",
              "      width: 32px;\n",
              "    }\n",
              "\n",
              "    .colab-df-convert:hover {\n",
              "      background-color: #E2EBFA;\n",
              "      box-shadow: 0px 1px 2px rgba(60, 64, 67, 0.3), 0px 1px 3px 1px rgba(60, 64, 67, 0.15);\n",
              "      fill: #174EA6;\n",
              "    }\n",
              "\n",
              "    .colab-df-buttons div {\n",
              "      margin-bottom: 4px;\n",
              "    }\n",
              "\n",
              "    [theme=dark] .colab-df-convert {\n",
              "      background-color: #3B4455;\n",
              "      fill: #D2E3FC;\n",
              "    }\n",
              "\n",
              "    [theme=dark] .colab-df-convert:hover {\n",
              "      background-color: #434B5C;\n",
              "      box-shadow: 0px 1px 3px 1px rgba(0, 0, 0, 0.15);\n",
              "      filter: drop-shadow(0px 1px 2px rgba(0, 0, 0, 0.3));\n",
              "      fill: #FFFFFF;\n",
              "    }\n",
              "  </style>\n",
              "\n",
              "    <script>\n",
              "      const buttonEl =\n",
              "        document.querySelector('#df-f101cee9-0b69-4fa9-b96b-fc2429a37c25 button.colab-df-convert');\n",
              "      buttonEl.style.display =\n",
              "        google.colab.kernel.accessAllowed ? 'block' : 'none';\n",
              "\n",
              "      async function convertToInteractive(key) {\n",
              "        const element = document.querySelector('#df-f101cee9-0b69-4fa9-b96b-fc2429a37c25');\n",
              "        const dataTable =\n",
              "          await google.colab.kernel.invokeFunction('convertToInteractive',\n",
              "                                                    [key], {});\n",
              "        if (!dataTable) return;\n",
              "\n",
              "        const docLinkHtml = 'Like what you see? Visit the ' +\n",
              "          '<a target=\"_blank\" href=https://colab.research.google.com/notebooks/data_table.ipynb>data table notebook</a>'\n",
              "          + ' to learn more about interactive tables.';\n",
              "        element.innerHTML = '';\n",
              "        dataTable['output_type'] = 'display_data';\n",
              "        await google.colab.output.renderOutput(dataTable, element);\n",
              "        const docLink = document.createElement('div');\n",
              "        docLink.innerHTML = docLinkHtml;\n",
              "        element.appendChild(docLink);\n",
              "      }\n",
              "    </script>\n",
              "  </div>\n",
              "\n",
              "\n",
              "<div id=\"df-3307c03a-6e19-4da4-b307-e45653fd307c\">\n",
              "  <button class=\"colab-df-quickchart\" onclick=\"quickchart('df-3307c03a-6e19-4da4-b307-e45653fd307c')\"\n",
              "            title=\"Suggest charts\"\n",
              "            style=\"display:none;\">\n",
              "\n",
              "<svg xmlns=\"http://www.w3.org/2000/svg\" height=\"24px\"viewBox=\"0 0 24 24\"\n",
              "     width=\"24px\">\n",
              "    <g>\n",
              "        <path d=\"M19 3H5c-1.1 0-2 .9-2 2v14c0 1.1.9 2 2 2h14c1.1 0 2-.9 2-2V5c0-1.1-.9-2-2-2zM9 17H7v-7h2v7zm4 0h-2V7h2v10zm4 0h-2v-4h2v4z\"/>\n",
              "    </g>\n",
              "</svg>\n",
              "  </button>\n",
              "\n",
              "<style>\n",
              "  .colab-df-quickchart {\n",
              "      --bg-color: #E8F0FE;\n",
              "      --fill-color: #1967D2;\n",
              "      --hover-bg-color: #E2EBFA;\n",
              "      --hover-fill-color: #174EA6;\n",
              "      --disabled-fill-color: #AAA;\n",
              "      --disabled-bg-color: #DDD;\n",
              "  }\n",
              "\n",
              "  [theme=dark] .colab-df-quickchart {\n",
              "      --bg-color: #3B4455;\n",
              "      --fill-color: #D2E3FC;\n",
              "      --hover-bg-color: #434B5C;\n",
              "      --hover-fill-color: #FFFFFF;\n",
              "      --disabled-bg-color: #3B4455;\n",
              "      --disabled-fill-color: #666;\n",
              "  }\n",
              "\n",
              "  .colab-df-quickchart {\n",
              "    background-color: var(--bg-color);\n",
              "    border: none;\n",
              "    border-radius: 50%;\n",
              "    cursor: pointer;\n",
              "    display: none;\n",
              "    fill: var(--fill-color);\n",
              "    height: 32px;\n",
              "    padding: 0;\n",
              "    width: 32px;\n",
              "  }\n",
              "\n",
              "  .colab-df-quickchart:hover {\n",
              "    background-color: var(--hover-bg-color);\n",
              "    box-shadow: 0 1px 2px rgba(60, 64, 67, 0.3), 0 1px 3px 1px rgba(60, 64, 67, 0.15);\n",
              "    fill: var(--button-hover-fill-color);\n",
              "  }\n",
              "\n",
              "  .colab-df-quickchart-complete:disabled,\n",
              "  .colab-df-quickchart-complete:disabled:hover {\n",
              "    background-color: var(--disabled-bg-color);\n",
              "    fill: var(--disabled-fill-color);\n",
              "    box-shadow: none;\n",
              "  }\n",
              "\n",
              "  .colab-df-spinner {\n",
              "    border: 2px solid var(--fill-color);\n",
              "    border-color: transparent;\n",
              "    border-bottom-color: var(--fill-color);\n",
              "    animation:\n",
              "      spin 1s steps(1) infinite;\n",
              "  }\n",
              "\n",
              "  @keyframes spin {\n",
              "    0% {\n",
              "      border-color: transparent;\n",
              "      border-bottom-color: var(--fill-color);\n",
              "      border-left-color: var(--fill-color);\n",
              "    }\n",
              "    20% {\n",
              "      border-color: transparent;\n",
              "      border-left-color: var(--fill-color);\n",
              "      border-top-color: var(--fill-color);\n",
              "    }\n",
              "    30% {\n",
              "      border-color: transparent;\n",
              "      border-left-color: var(--fill-color);\n",
              "      border-top-color: var(--fill-color);\n",
              "      border-right-color: var(--fill-color);\n",
              "    }\n",
              "    40% {\n",
              "      border-color: transparent;\n",
              "      border-right-color: var(--fill-color);\n",
              "      border-top-color: var(--fill-color);\n",
              "    }\n",
              "    60% {\n",
              "      border-color: transparent;\n",
              "      border-right-color: var(--fill-color);\n",
              "    }\n",
              "    80% {\n",
              "      border-color: transparent;\n",
              "      border-right-color: var(--fill-color);\n",
              "      border-bottom-color: var(--fill-color);\n",
              "    }\n",
              "    90% {\n",
              "      border-color: transparent;\n",
              "      border-bottom-color: var(--fill-color);\n",
              "    }\n",
              "  }\n",
              "</style>\n",
              "\n",
              "  <script>\n",
              "    async function quickchart(key) {\n",
              "      const quickchartButtonEl =\n",
              "        document.querySelector('#' + key + ' button');\n",
              "      quickchartButtonEl.disabled = true;  // To prevent multiple clicks.\n",
              "      quickchartButtonEl.classList.add('colab-df-spinner');\n",
              "      try {\n",
              "        const charts = await google.colab.kernel.invokeFunction(\n",
              "            'suggestCharts', [key], {});\n",
              "      } catch (error) {\n",
              "        console.error('Error during call to suggestCharts:', error);\n",
              "      }\n",
              "      quickchartButtonEl.classList.remove('colab-df-spinner');\n",
              "      quickchartButtonEl.classList.add('colab-df-quickchart-complete');\n",
              "    }\n",
              "    (() => {\n",
              "      let quickchartButtonEl =\n",
              "        document.querySelector('#df-3307c03a-6e19-4da4-b307-e45653fd307c button');\n",
              "      quickchartButtonEl.style.display =\n",
              "        google.colab.kernel.accessAllowed ? 'block' : 'none';\n",
              "    })();\n",
              "  </script>\n",
              "</div>\n",
              "\n",
              "    </div>\n",
              "  </div>\n"
            ],
            "application/vnd.google.colaboratory.intrinsic+json": {
              "type": "dataframe",
              "variable_name": "police_person_data"
            }
          },
          "metadata": {},
          "execution_count": 3
        }
      ]
    },
    {
      "cell_type": "code",
      "source": [
        "# Check the number of rows and columns with `shape`\n",
        "print(\"Rows and Column Count, Police Survey + Personnel Data:\",police_person_data.shape)\n",
        "\n",
        "# Confirming Distinct Row Keys on Data Set -> Should Match Row Count;\n",
        "\n",
        "distinct_b_uid_keys = police_person_data['b_uid'].nunique()\n",
        "distinct_uid_keys = police_person_data['uid'].nunique()\n",
        "distinct_pscode_keys = police_person_data['ps_code'].nunique()\n",
        "\n",
        "print(\"Distinct b_uid keys:\", distinct_b_uid_keys)\n",
        "print(\"Distinct uid keys:\", distinct_uid_keys)\n",
        "print(\"Distinct PS Code keys:\", distinct_pscode_keys)\n",
        "\n",
        "# Check Data Types of Columns in the Dataframe;\n",
        "\n",
        "police_person_data.info(verbose=True)"
      ],
      "metadata": {
        "id": "i_iI2Dp5lTiN",
        "colab": {
          "base_uri": "https://localhost:8080/"
        },
        "outputId": "c514a5d8-3f95-4d92-a1be-1b9a728ffed6"
      },
      "execution_count": null,
      "outputs": [
        {
          "output_type": "stream",
          "name": "stdout",
          "text": [
            "Rows and Column Count, Police Survey + Personnel Data: (2843, 108)\n",
            "Distinct b_uid keys: 1950\n",
            "Distinct uid keys: 2032\n",
            "Distinct PS Code keys: 180\n",
            "<class 'pandas.core.frame.DataFrame'>\n",
            "RangeIndex: 2843 entries, 0 to 2842\n",
            "Data columns (total 108 columns):\n",
            " #    Column                    Dtype  \n",
            "---   ------                    -----  \n",
            " 0    Unnamed: 0_x              float64\n",
            " 1    b_uid                     float64\n",
            " 2    gender_x                  object \n",
            " 3    b_pol_impt_x              float64\n",
            " 4    b_thana_impt_x            float64\n",
            " 5    b_wcase_x                 object \n",
            " 6    b_effective_x             object \n",
            " 7    b_helpful_x               object \n",
            " 8    b_add_officer_x           object \n",
            " 9    b_add_female_x            object \n",
            " 10   b_female_better_x         object \n",
            " 11   b_sensitivity_x           float64\n",
            " 12   uid                       float64\n",
            " 13   attrit                    float64\n",
            " 14   ps_code_x                 float64\n",
            " 15   population_x              float64\n",
            " 16   urban_x                   object \n",
            " 17   dist_urban_x              float64\n",
            " 18   strat_pca_x               float64\n",
            " 19   treatment_x               object \n",
            " 20   group_x                   object \n",
            " 21   dist_id_x                 float64\n",
            " 22   implement_quality_x       float64\n",
            " 23   training_score_x          float64\n",
            " 24   comm_outreach_strength_x  float64\n",
            " 25   regular_whd_x             float64\n",
            " 26   women_whd_x               float64\n",
            " 27   Unnamed: 0_y              float64\n",
            " 28   gender_y                  object \n",
            " 29   e_wcase                   object \n",
            " 30   e_effective               object \n",
            " 31   e_false_case              object \n",
            " 32   e_helpful                 object \n",
            " 33   e_add_officer             object \n",
            " 34   e_add_female              object \n",
            " 35   e_female_better           object \n",
            " 36   e_taken_seriously         object \n",
            " 37   e_prof_dev                object \n",
            " 38   e_work_help               object \n",
            " 39   e_pol_impt                float64\n",
            " 40   e_thana_impt              float64\n",
            " 41   e_sensitivity             float64\n",
            " 42   ps_code_y                 float64\n",
            " 43   population_y              float64\n",
            " 44   urban_y                   object \n",
            " 45   dist_urban_y              float64\n",
            " 46   strat_pca_y               float64\n",
            " 47   treatment_y               object \n",
            " 48   group_y                   object \n",
            " 49   dist_id_y                 float64\n",
            " 50   implement_quality_y       float64\n",
            " 51   training_score_y          float64\n",
            " 52   comm_outreach_strength_y  float64\n",
            " 53   regular_whd_y             float64\n",
            " 54   women_whd_y               float64\n",
            " 55   b_wcase_y                 float64\n",
            " 56   b_effective_y             float64\n",
            " 57   b_pol_impt_y              float64\n",
            " 58   b_thana_impt_y            float64\n",
            " 59   b_sensitivity_y           float64\n",
            " 60   b_helpful_y               float64\n",
            " 61   b_female_better_y         float64\n",
            " 62   b_add_officer_y           float64\n",
            " 63   b_add_female_y            float64\n",
            " 64   ps_code                   float64\n",
            " 65   Unnamed: 0                int64  \n",
            " 66   e_total_surveyed          float64\n",
            " 67   e_female_surveyed         float64\n",
            " 68   e_male_surveyed           float64\n",
            " 69   e_total_staff             float64\n",
            " 70   e_female_staff            float64\n",
            " 71   e_total_officers          float64\n",
            " 72   e_female_officers         float64\n",
            " 73   e_male_staff              float64\n",
            " 74   e_male_officers           float64\n",
            " 75   e_female_sho              float64\n",
            " 76   b_total_staff             float64\n",
            " 77   b_female_staff            float64\n",
            " 78   b_male_staff              float64\n",
            " 79   b_total_officers          float64\n",
            " 80   b_female_officers         float64\n",
            " 81   b_male_officers           float64\n",
            " 82   b_female_sho              float64\n",
            " 83   e_total_sampled           float64\n",
            " 84   e_female_sampled          float64\n",
            " 85   e_male_sampled            float64\n",
            " 86   b_total_sampled           float64\n",
            " 87   b_female_sampled          float64\n",
            " 88   b_male_sampled            float64\n",
            " 89   b_total_surveyed          float64\n",
            " 90   b_female_surveyed         float64\n",
            " 91   b_male_surveyed           float64\n",
            " 92   population                int64  \n",
            " 93   urban                     object \n",
            " 94   dist_urban                float64\n",
            " 95   strat_pca                 float64\n",
            " 96   treatment                 object \n",
            " 97   group                     object \n",
            " 98   dist_id                   float64\n",
            " 99   implement_quality         float64\n",
            " 100  training_score            float64\n",
            " 101  comm_outreach_strength    float64\n",
            " 102  regular_whd               float64\n",
            " 103  women_whd                 float64\n",
            " 104  e_male_weight             float64\n",
            " 105  b_male_weight             float64\n",
            " 106  e_female_weight           float64\n",
            " 107  b_female_weight           float64\n",
            "dtypes: float64(79), int64(2), object(27)\n",
            "memory usage: 2.3+ MB\n"
          ]
        }
      ]
    },
    {
      "cell_type": "markdown",
      "source": [
        "The dataframe has b_uid for respondents and baseline and uid for respondents at endline.   Police personnel data is duplicated across each record and is at the ps_code level.   Next, we limit the data to the percpetion and station characterisitic data columns required for EDA."
      ],
      "metadata": {
        "id": "uJKAbM2rPW4R"
      }
    },
    {
      "cell_type": "code",
      "source": [
        "# Create a new dataframe keeping on the key attributes for the analysis:  police perception data at baseline and endline + police station characteristics.\n",
        "\n",
        "\n",
        "# Sensitivity attributes to keep at baseline -> 'b_wcase_x','b_effective_x','b_helpful_x','b_add_officer_x','b_add_female_x','b_female_better_x','b_sensitivity_x'\n",
        "# Sensitivity attributes to keep at endline -> 'e_wcase,'  'e_effective','  e_helpful',  'e_add_officer',  'e_add_female',  'e_female_better',  'e_sensitivity_x'\n",
        "# Police Station characteristics to keep -> 'population','urban','dist_urban','women_whd','treatment', 'b_total_staff','b_female_staff','b_male_staff', 'b_total_officers','b_female_officers','b_male_officers', 'e_total_staff','e_female_staff','e_male_staff','e_total_officers','e_female_officers','e_male_officers'\n",
        "# ids to keep > 'b_uid,'  'uid' , 'ps_code', 'attrit'\n",
        "\n",
        "atts_to_keep = ['b_uid' , 'uid' , 'ps_code', 'attrit','b_wcase_x','b_effective_x','b_helpful_x','b_add_officer_x','b_add_female_x','b_female_better_x','b_sensitivity_x','e_wcase' , 'e_effective' ,'e_helpful',  'e_add_officer',  'e_add_female',  'e_female_better',  'e_sensitivity', 'population','urban','dist_urban','women_whd','treatment', 'b_total_staff','b_female_staff','b_male_staff', 'b_total_officers','b_female_officers','b_male_officers', 'e_total_staff','e_female_staff','e_male_staff','e_total_officers','e_female_officers','e_male_officers' ]\n",
        "\n",
        "# New Dataframe Creation.\n",
        "\n",
        "q5_eda_df = police_person_data[atts_to_keep]\n",
        "\n",
        "# Check the number of rows and columns with `shape`\n",
        "print(\"Rows and Column Count, Police Survey + Personnel Data:\",q5_eda_df.shape)\n",
        "\n",
        "# Confirming Distinct Row Keys on Data Set -> Should Match Row Count;\n",
        "\n",
        "distinct_b_uid_keys = q5_eda_df['b_uid'].nunique()\n",
        "distinct_uid_keys = q5_eda_df['uid'].nunique()\n",
        "distinct_pscode_keys = q5_eda_df['ps_code'].nunique()\n",
        "\n",
        "print(\"Distinct b_uid keys:\", distinct_b_uid_keys)\n",
        "print(\"Distinct uid keys:\", distinct_uid_keys)\n",
        "print(\"Distinct PS Code keys:\", distinct_pscode_keys)\n",
        "\n",
        "# Check Data Types of Columns in the Dataframe;\n",
        "\n",
        "q5_eda_df.info(verbose=True)"
      ],
      "metadata": {
        "colab": {
          "base_uri": "https://localhost:8080/"
        },
        "id": "gl8YOFpy9rvx",
        "outputId": "57af2092-f873-42ab-b358-ea623e6f2bbe"
      },
      "execution_count": null,
      "outputs": [
        {
          "output_type": "stream",
          "name": "stdout",
          "text": [
            "Rows and Column Count, Police Survey + Personnel Data: (2843, 35)\n",
            "Distinct b_uid keys: 1950\n",
            "Distinct uid keys: 2032\n",
            "Distinct PS Code keys: 180\n",
            "<class 'pandas.core.frame.DataFrame'>\n",
            "RangeIndex: 2843 entries, 0 to 2842\n",
            "Data columns (total 35 columns):\n",
            " #   Column             Non-Null Count  Dtype  \n",
            "---  ------             --------------  -----  \n",
            " 0   b_uid              1950 non-null   float64\n",
            " 1   uid                2032 non-null   float64\n",
            " 2   ps_code            2843 non-null   float64\n",
            " 3   attrit             1950 non-null   float64\n",
            " 4   b_wcase_x          1948 non-null   object \n",
            " 5   b_effective_x      1943 non-null   object \n",
            " 6   b_helpful_x        1947 non-null   object \n",
            " 7   b_add_officer_x    1948 non-null   object \n",
            " 8   b_add_female_x     1949 non-null   object \n",
            " 9   b_female_better_x  1947 non-null   object \n",
            " 10  b_sensitivity_x    1945 non-null   float64\n",
            " 11  e_wcase            1948 non-null   object \n",
            " 12  e_effective        1959 non-null   object \n",
            " 13  e_helpful          1958 non-null   object \n",
            " 14  e_add_officer      1955 non-null   object \n",
            " 15  e_add_female       1956 non-null   object \n",
            " 16  e_female_better    1956 non-null   object \n",
            " 17  e_sensitivity      1961 non-null   float64\n",
            " 18  population         2843 non-null   int64  \n",
            " 19  urban              2843 non-null   object \n",
            " 20  dist_urban         2843 non-null   float64\n",
            " 21  women_whd          2843 non-null   float64\n",
            " 22  treatment          2843 non-null   object \n",
            " 23  b_total_staff      2843 non-null   float64\n",
            " 24  b_female_staff     2843 non-null   float64\n",
            " 25  b_male_staff       2843 non-null   float64\n",
            " 26  b_total_officers   2843 non-null   float64\n",
            " 27  b_female_officers  2843 non-null   float64\n",
            " 28  b_male_officers    2843 non-null   float64\n",
            " 29  e_total_staff      2843 non-null   float64\n",
            " 30  e_female_staff     2843 non-null   float64\n",
            " 31  e_male_staff       2843 non-null   float64\n",
            " 32  e_total_officers   2843 non-null   float64\n",
            " 33  e_female_officers  2843 non-null   float64\n",
            " 34  e_male_officers    2843 non-null   float64\n",
            "dtypes: float64(20), int64(1), object(14)\n",
            "memory usage: 777.5+ KB\n"
          ]
        }
      ]
    },
    {
      "cell_type": "markdown",
      "source": [
        "Dataframe now contains the police survey perception data at baseline (\"b_ columns), at endline (\"e_\" attributes) and police station characteristics including urban flag, surrounding population size served, and staff size and gender composition"
      ],
      "metadata": {
        "id": "qsXRIX7WP3xb"
      }
    },
    {
      "cell_type": "code",
      "source": [
        "# For numeric columns (the default selection), round to 2 decimal places for better readability.\n",
        "numeric_summary_stats = q5_eda_df.describe().round(2)\n",
        "# Print the numeric summaries:\n",
        "print(\"Numeric Summary Statistics: (vertical)\")\n",
        "display(numeric_summary_stats)\n",
        "\n",
        "# For categorical columns, include 'object' (strings), 'category', and 'bool' (true/false) types.\n",
        "print(\"\\nCategorical Summary Statistics: (vertical)\")\n",
        "categorical_summary_stats = q5_eda_df.describe(include = ['object', 'category', 'bool'])\n",
        "# Print the categorical summaries:\n",
        "display(categorical_summary_stats)\n",
        "\n",
        "# Transpose the summary statistics tables (turn them sideways) to make them more readable, using .T\n",
        "numeric_summary_stats_transposed = numeric_summary_stats.T\n",
        "categorical_summary_stats_transposed = categorical_summary_stats.T\n",
        "\n",
        "# Display the transposed summary statistics\n",
        "print(\"\\nNumeric Summary Statistics: (transposed)\")\n",
        "display(numeric_summary_stats_transposed)\n",
        "\n",
        "print(\"\\nCategorical Summary Statistics: (transposed)\")\n",
        "display(categorical_summary_stats_transposed)"
      ],
      "metadata": {
        "id": "ePR69eCy_k_o",
        "colab": {
          "base_uri": "https://localhost:8080/",
          "height": 1000
        },
        "outputId": "d2c1373d-445e-4be5-966a-88db7a8db88d"
      },
      "execution_count": null,
      "outputs": [
        {
          "output_type": "stream",
          "name": "stdout",
          "text": [
            "Numeric Summary Statistics: (vertical)\n"
          ]
        },
        {
          "output_type": "display_data",
          "data": {
            "text/plain": [
              "            b_uid         uid   ps_code   attrit  b_sensitivity_x  \\\n",
              "count     1950.00     2032.00   2843.00  1950.00          1945.00   \n",
              "mean   2621708.63  2622835.95   5918.99     0.42             7.04   \n",
              "std     309351.97   307605.61   3156.53     0.49             2.45   \n",
              "min    2141761.00  2141731.00   1001.00     0.00             1.00   \n",
              "25%    2356266.25  2357241.75   3047.00     0.00             5.00   \n",
              "50%    2553965.50  2554035.50   5092.00     0.00             7.00   \n",
              "75%    2847364.75  2845837.75   8137.50     1.00             8.00   \n",
              "max    3257271.00  3257341.00  12180.00     1.00            16.00   \n",
              "\n",
              "       e_sensitivity  population  dist_urban  women_whd  b_total_staff  ...  \\\n",
              "count        1961.00     2843.00     2843.00    2843.00        2843.00  ...   \n",
              "mean            7.54   128225.85        8.68       0.32          45.06  ...   \n",
              "std             2.55    85764.57        4.96       0.47          21.01  ...   \n",
              "min             0.00    23565.00        1.00       0.00           9.00  ...   \n",
              "25%             6.00    75000.00        4.00       0.00          27.00  ...   \n",
              "50%             7.00   110000.00        8.00       0.00          41.00  ...   \n",
              "75%             9.00   151916.00       12.00       1.00          63.00  ...   \n",
              "max            19.00   545000.00       18.00       1.00          95.00  ...   \n",
              "\n",
              "       b_male_staff  b_total_officers  b_female_officers  b_male_officers  \\\n",
              "count       2843.00           2843.00            2843.00          2843.00   \n",
              "mean          41.92              9.28               0.77             8.51   \n",
              "std           19.77              5.06               0.95             4.66   \n",
              "min            8.00              0.00               0.00             0.00   \n",
              "25%           24.00              5.00               0.00             5.00   \n",
              "50%           39.00              8.00               1.00             8.00   \n",
              "75%           58.00             13.00               1.00            12.00   \n",
              "max           90.00             25.00               4.00            25.00   \n",
              "\n",
              "       e_total_staff  e_female_staff  e_male_staff  e_total_officers  \\\n",
              "count        2843.00         2843.00       2843.00           2843.00   \n",
              "mean           53.19            5.19         48.00              9.91   \n",
              "std            23.66            3.00         21.72              4.82   \n",
              "min            17.00            0.00         15.00              2.00   \n",
              "25%            33.00            3.00         29.00              6.00   \n",
              "50%            51.00            5.00         44.00              9.00   \n",
              "75%            71.00            7.00         62.00             13.00   \n",
              "max           125.00           15.00        118.00             26.00   \n",
              "\n",
              "       e_female_officers  e_male_officers  \n",
              "count            2843.00          2843.00  \n",
              "mean                0.99             8.92  \n",
              "std                 0.92             4.50  \n",
              "min                 0.00             1.00  \n",
              "25%                 0.00             5.00  \n",
              "50%                 1.00             8.00  \n",
              "75%                 1.00            12.00  \n",
              "max                 6.00            24.00  \n",
              "\n",
              "[8 rows x 21 columns]"
            ],
            "text/html": [
              "\n",
              "  <div id=\"df-cf387646-8cf7-41ff-855b-e6b2e2de62be\" class=\"colab-df-container\">\n",
              "    <div>\n",
              "<style scoped>\n",
              "    .dataframe tbody tr th:only-of-type {\n",
              "        vertical-align: middle;\n",
              "    }\n",
              "\n",
              "    .dataframe tbody tr th {\n",
              "        vertical-align: top;\n",
              "    }\n",
              "\n",
              "    .dataframe thead th {\n",
              "        text-align: right;\n",
              "    }\n",
              "</style>\n",
              "<table border=\"1\" class=\"dataframe\">\n",
              "  <thead>\n",
              "    <tr style=\"text-align: right;\">\n",
              "      <th></th>\n",
              "      <th>b_uid</th>\n",
              "      <th>uid</th>\n",
              "      <th>ps_code</th>\n",
              "      <th>attrit</th>\n",
              "      <th>b_sensitivity_x</th>\n",
              "      <th>e_sensitivity</th>\n",
              "      <th>population</th>\n",
              "      <th>dist_urban</th>\n",
              "      <th>women_whd</th>\n",
              "      <th>b_total_staff</th>\n",
              "      <th>...</th>\n",
              "      <th>b_male_staff</th>\n",
              "      <th>b_total_officers</th>\n",
              "      <th>b_female_officers</th>\n",
              "      <th>b_male_officers</th>\n",
              "      <th>e_total_staff</th>\n",
              "      <th>e_female_staff</th>\n",
              "      <th>e_male_staff</th>\n",
              "      <th>e_total_officers</th>\n",
              "      <th>e_female_officers</th>\n",
              "      <th>e_male_officers</th>\n",
              "    </tr>\n",
              "  </thead>\n",
              "  <tbody>\n",
              "    <tr>\n",
              "      <th>count</th>\n",
              "      <td>1950.00</td>\n",
              "      <td>2032.00</td>\n",
              "      <td>2843.00</td>\n",
              "      <td>1950.00</td>\n",
              "      <td>1945.00</td>\n",
              "      <td>1961.00</td>\n",
              "      <td>2843.00</td>\n",
              "      <td>2843.00</td>\n",
              "      <td>2843.00</td>\n",
              "      <td>2843.00</td>\n",
              "      <td>...</td>\n",
              "      <td>2843.00</td>\n",
              "      <td>2843.00</td>\n",
              "      <td>2843.00</td>\n",
              "      <td>2843.00</td>\n",
              "      <td>2843.00</td>\n",
              "      <td>2843.00</td>\n",
              "      <td>2843.00</td>\n",
              "      <td>2843.00</td>\n",
              "      <td>2843.00</td>\n",
              "      <td>2843.00</td>\n",
              "    </tr>\n",
              "    <tr>\n",
              "      <th>mean</th>\n",
              "      <td>2621708.63</td>\n",
              "      <td>2622835.95</td>\n",
              "      <td>5918.99</td>\n",
              "      <td>0.42</td>\n",
              "      <td>7.04</td>\n",
              "      <td>7.54</td>\n",
              "      <td>128225.85</td>\n",
              "      <td>8.68</td>\n",
              "      <td>0.32</td>\n",
              "      <td>45.06</td>\n",
              "      <td>...</td>\n",
              "      <td>41.92</td>\n",
              "      <td>9.28</td>\n",
              "      <td>0.77</td>\n",
              "      <td>8.51</td>\n",
              "      <td>53.19</td>\n",
              "      <td>5.19</td>\n",
              "      <td>48.00</td>\n",
              "      <td>9.91</td>\n",
              "      <td>0.99</td>\n",
              "      <td>8.92</td>\n",
              "    </tr>\n",
              "    <tr>\n",
              "      <th>std</th>\n",
              "      <td>309351.97</td>\n",
              "      <td>307605.61</td>\n",
              "      <td>3156.53</td>\n",
              "      <td>0.49</td>\n",
              "      <td>2.45</td>\n",
              "      <td>2.55</td>\n",
              "      <td>85764.57</td>\n",
              "      <td>4.96</td>\n",
              "      <td>0.47</td>\n",
              "      <td>21.01</td>\n",
              "      <td>...</td>\n",
              "      <td>19.77</td>\n",
              "      <td>5.06</td>\n",
              "      <td>0.95</td>\n",
              "      <td>4.66</td>\n",
              "      <td>23.66</td>\n",
              "      <td>3.00</td>\n",
              "      <td>21.72</td>\n",
              "      <td>4.82</td>\n",
              "      <td>0.92</td>\n",
              "      <td>4.50</td>\n",
              "    </tr>\n",
              "    <tr>\n",
              "      <th>min</th>\n",
              "      <td>2141761.00</td>\n",
              "      <td>2141731.00</td>\n",
              "      <td>1001.00</td>\n",
              "      <td>0.00</td>\n",
              "      <td>1.00</td>\n",
              "      <td>0.00</td>\n",
              "      <td>23565.00</td>\n",
              "      <td>1.00</td>\n",
              "      <td>0.00</td>\n",
              "      <td>9.00</td>\n",
              "      <td>...</td>\n",
              "      <td>8.00</td>\n",
              "      <td>0.00</td>\n",
              "      <td>0.00</td>\n",
              "      <td>0.00</td>\n",
              "      <td>17.00</td>\n",
              "      <td>0.00</td>\n",
              "      <td>15.00</td>\n",
              "      <td>2.00</td>\n",
              "      <td>0.00</td>\n",
              "      <td>1.00</td>\n",
              "    </tr>\n",
              "    <tr>\n",
              "      <th>25%</th>\n",
              "      <td>2356266.25</td>\n",
              "      <td>2357241.75</td>\n",
              "      <td>3047.00</td>\n",
              "      <td>0.00</td>\n",
              "      <td>5.00</td>\n",
              "      <td>6.00</td>\n",
              "      <td>75000.00</td>\n",
              "      <td>4.00</td>\n",
              "      <td>0.00</td>\n",
              "      <td>27.00</td>\n",
              "      <td>...</td>\n",
              "      <td>24.00</td>\n",
              "      <td>5.00</td>\n",
              "      <td>0.00</td>\n",
              "      <td>5.00</td>\n",
              "      <td>33.00</td>\n",
              "      <td>3.00</td>\n",
              "      <td>29.00</td>\n",
              "      <td>6.00</td>\n",
              "      <td>0.00</td>\n",
              "      <td>5.00</td>\n",
              "    </tr>\n",
              "    <tr>\n",
              "      <th>50%</th>\n",
              "      <td>2553965.50</td>\n",
              "      <td>2554035.50</td>\n",
              "      <td>5092.00</td>\n",
              "      <td>0.00</td>\n",
              "      <td>7.00</td>\n",
              "      <td>7.00</td>\n",
              "      <td>110000.00</td>\n",
              "      <td>8.00</td>\n",
              "      <td>0.00</td>\n",
              "      <td>41.00</td>\n",
              "      <td>...</td>\n",
              "      <td>39.00</td>\n",
              "      <td>8.00</td>\n",
              "      <td>1.00</td>\n",
              "      <td>8.00</td>\n",
              "      <td>51.00</td>\n",
              "      <td>5.00</td>\n",
              "      <td>44.00</td>\n",
              "      <td>9.00</td>\n",
              "      <td>1.00</td>\n",
              "      <td>8.00</td>\n",
              "    </tr>\n",
              "    <tr>\n",
              "      <th>75%</th>\n",
              "      <td>2847364.75</td>\n",
              "      <td>2845837.75</td>\n",
              "      <td>8137.50</td>\n",
              "      <td>1.00</td>\n",
              "      <td>8.00</td>\n",
              "      <td>9.00</td>\n",
              "      <td>151916.00</td>\n",
              "      <td>12.00</td>\n",
              "      <td>1.00</td>\n",
              "      <td>63.00</td>\n",
              "      <td>...</td>\n",
              "      <td>58.00</td>\n",
              "      <td>13.00</td>\n",
              "      <td>1.00</td>\n",
              "      <td>12.00</td>\n",
              "      <td>71.00</td>\n",
              "      <td>7.00</td>\n",
              "      <td>62.00</td>\n",
              "      <td>13.00</td>\n",
              "      <td>1.00</td>\n",
              "      <td>12.00</td>\n",
              "    </tr>\n",
              "    <tr>\n",
              "      <th>max</th>\n",
              "      <td>3257271.00</td>\n",
              "      <td>3257341.00</td>\n",
              "      <td>12180.00</td>\n",
              "      <td>1.00</td>\n",
              "      <td>16.00</td>\n",
              "      <td>19.00</td>\n",
              "      <td>545000.00</td>\n",
              "      <td>18.00</td>\n",
              "      <td>1.00</td>\n",
              "      <td>95.00</td>\n",
              "      <td>...</td>\n",
              "      <td>90.00</td>\n",
              "      <td>25.00</td>\n",
              "      <td>4.00</td>\n",
              "      <td>25.00</td>\n",
              "      <td>125.00</td>\n",
              "      <td>15.00</td>\n",
              "      <td>118.00</td>\n",
              "      <td>26.00</td>\n",
              "      <td>6.00</td>\n",
              "      <td>24.00</td>\n",
              "    </tr>\n",
              "  </tbody>\n",
              "</table>\n",
              "<p>8 rows × 21 columns</p>\n",
              "</div>\n",
              "    <div class=\"colab-df-buttons\">\n",
              "\n",
              "  <div class=\"colab-df-container\">\n",
              "    <button class=\"colab-df-convert\" onclick=\"convertToInteractive('df-cf387646-8cf7-41ff-855b-e6b2e2de62be')\"\n",
              "            title=\"Convert this dataframe to an interactive table.\"\n",
              "            style=\"display:none;\">\n",
              "\n",
              "  <svg xmlns=\"http://www.w3.org/2000/svg\" height=\"24px\" viewBox=\"0 -960 960 960\">\n",
              "    <path d=\"M120-120v-720h720v720H120Zm60-500h600v-160H180v160Zm220 220h160v-160H400v160Zm0 220h160v-160H400v160ZM180-400h160v-160H180v160Zm440 0h160v-160H620v160ZM180-180h160v-160H180v160Zm440 0h160v-160H620v160Z\"/>\n",
              "  </svg>\n",
              "    </button>\n",
              "\n",
              "  <style>\n",
              "    .colab-df-container {\n",
              "      display:flex;\n",
              "      gap: 12px;\n",
              "    }\n",
              "\n",
              "    .colab-df-convert {\n",
              "      background-color: #E8F0FE;\n",
              "      border: none;\n",
              "      border-radius: 50%;\n",
              "      cursor: pointer;\n",
              "      display: none;\n",
              "      fill: #1967D2;\n",
              "      height: 32px;\n",
              "      padding: 0 0 0 0;\n",
              "      width: 32px;\n",
              "    }\n",
              "\n",
              "    .colab-df-convert:hover {\n",
              "      background-color: #E2EBFA;\n",
              "      box-shadow: 0px 1px 2px rgba(60, 64, 67, 0.3), 0px 1px 3px 1px rgba(60, 64, 67, 0.15);\n",
              "      fill: #174EA6;\n",
              "    }\n",
              "\n",
              "    .colab-df-buttons div {\n",
              "      margin-bottom: 4px;\n",
              "    }\n",
              "\n",
              "    [theme=dark] .colab-df-convert {\n",
              "      background-color: #3B4455;\n",
              "      fill: #D2E3FC;\n",
              "    }\n",
              "\n",
              "    [theme=dark] .colab-df-convert:hover {\n",
              "      background-color: #434B5C;\n",
              "      box-shadow: 0px 1px 3px 1px rgba(0, 0, 0, 0.15);\n",
              "      filter: drop-shadow(0px 1px 2px rgba(0, 0, 0, 0.3));\n",
              "      fill: #FFFFFF;\n",
              "    }\n",
              "  </style>\n",
              "\n",
              "    <script>\n",
              "      const buttonEl =\n",
              "        document.querySelector('#df-cf387646-8cf7-41ff-855b-e6b2e2de62be button.colab-df-convert');\n",
              "      buttonEl.style.display =\n",
              "        google.colab.kernel.accessAllowed ? 'block' : 'none';\n",
              "\n",
              "      async function convertToInteractive(key) {\n",
              "        const element = document.querySelector('#df-cf387646-8cf7-41ff-855b-e6b2e2de62be');\n",
              "        const dataTable =\n",
              "          await google.colab.kernel.invokeFunction('convertToInteractive',\n",
              "                                                    [key], {});\n",
              "        if (!dataTable) return;\n",
              "\n",
              "        const docLinkHtml = 'Like what you see? Visit the ' +\n",
              "          '<a target=\"_blank\" href=https://colab.research.google.com/notebooks/data_table.ipynb>data table notebook</a>'\n",
              "          + ' to learn more about interactive tables.';\n",
              "        element.innerHTML = '';\n",
              "        dataTable['output_type'] = 'display_data';\n",
              "        await google.colab.output.renderOutput(dataTable, element);\n",
              "        const docLink = document.createElement('div');\n",
              "        docLink.innerHTML = docLinkHtml;\n",
              "        element.appendChild(docLink);\n",
              "      }\n",
              "    </script>\n",
              "  </div>\n",
              "\n",
              "\n",
              "<div id=\"df-de95b647-ad91-4d83-90f2-f8f1863ee9d6\">\n",
              "  <button class=\"colab-df-quickchart\" onclick=\"quickchart('df-de95b647-ad91-4d83-90f2-f8f1863ee9d6')\"\n",
              "            title=\"Suggest charts\"\n",
              "            style=\"display:none;\">\n",
              "\n",
              "<svg xmlns=\"http://www.w3.org/2000/svg\" height=\"24px\"viewBox=\"0 0 24 24\"\n",
              "     width=\"24px\">\n",
              "    <g>\n",
              "        <path d=\"M19 3H5c-1.1 0-2 .9-2 2v14c0 1.1.9 2 2 2h14c1.1 0 2-.9 2-2V5c0-1.1-.9-2-2-2zM9 17H7v-7h2v7zm4 0h-2V7h2v10zm4 0h-2v-4h2v4z\"/>\n",
              "    </g>\n",
              "</svg>\n",
              "  </button>\n",
              "\n",
              "<style>\n",
              "  .colab-df-quickchart {\n",
              "      --bg-color: #E8F0FE;\n",
              "      --fill-color: #1967D2;\n",
              "      --hover-bg-color: #E2EBFA;\n",
              "      --hover-fill-color: #174EA6;\n",
              "      --disabled-fill-color: #AAA;\n",
              "      --disabled-bg-color: #DDD;\n",
              "  }\n",
              "\n",
              "  [theme=dark] .colab-df-quickchart {\n",
              "      --bg-color: #3B4455;\n",
              "      --fill-color: #D2E3FC;\n",
              "      --hover-bg-color: #434B5C;\n",
              "      --hover-fill-color: #FFFFFF;\n",
              "      --disabled-bg-color: #3B4455;\n",
              "      --disabled-fill-color: #666;\n",
              "  }\n",
              "\n",
              "  .colab-df-quickchart {\n",
              "    background-color: var(--bg-color);\n",
              "    border: none;\n",
              "    border-radius: 50%;\n",
              "    cursor: pointer;\n",
              "    display: none;\n",
              "    fill: var(--fill-color);\n",
              "    height: 32px;\n",
              "    padding: 0;\n",
              "    width: 32px;\n",
              "  }\n",
              "\n",
              "  .colab-df-quickchart:hover {\n",
              "    background-color: var(--hover-bg-color);\n",
              "    box-shadow: 0 1px 2px rgba(60, 64, 67, 0.3), 0 1px 3px 1px rgba(60, 64, 67, 0.15);\n",
              "    fill: var(--button-hover-fill-color);\n",
              "  }\n",
              "\n",
              "  .colab-df-quickchart-complete:disabled,\n",
              "  .colab-df-quickchart-complete:disabled:hover {\n",
              "    background-color: var(--disabled-bg-color);\n",
              "    fill: var(--disabled-fill-color);\n",
              "    box-shadow: none;\n",
              "  }\n",
              "\n",
              "  .colab-df-spinner {\n",
              "    border: 2px solid var(--fill-color);\n",
              "    border-color: transparent;\n",
              "    border-bottom-color: var(--fill-color);\n",
              "    animation:\n",
              "      spin 1s steps(1) infinite;\n",
              "  }\n",
              "\n",
              "  @keyframes spin {\n",
              "    0% {\n",
              "      border-color: transparent;\n",
              "      border-bottom-color: var(--fill-color);\n",
              "      border-left-color: var(--fill-color);\n",
              "    }\n",
              "    20% {\n",
              "      border-color: transparent;\n",
              "      border-left-color: var(--fill-color);\n",
              "      border-top-color: var(--fill-color);\n",
              "    }\n",
              "    30% {\n",
              "      border-color: transparent;\n",
              "      border-left-color: var(--fill-color);\n",
              "      border-top-color: var(--fill-color);\n",
              "      border-right-color: var(--fill-color);\n",
              "    }\n",
              "    40% {\n",
              "      border-color: transparent;\n",
              "      border-right-color: var(--fill-color);\n",
              "      border-top-color: var(--fill-color);\n",
              "    }\n",
              "    60% {\n",
              "      border-color: transparent;\n",
              "      border-right-color: var(--fill-color);\n",
              "    }\n",
              "    80% {\n",
              "      border-color: transparent;\n",
              "      border-right-color: var(--fill-color);\n",
              "      border-bottom-color: var(--fill-color);\n",
              "    }\n",
              "    90% {\n",
              "      border-color: transparent;\n",
              "      border-bottom-color: var(--fill-color);\n",
              "    }\n",
              "  }\n",
              "</style>\n",
              "\n",
              "  <script>\n",
              "    async function quickchart(key) {\n",
              "      const quickchartButtonEl =\n",
              "        document.querySelector('#' + key + ' button');\n",
              "      quickchartButtonEl.disabled = true;  // To prevent multiple clicks.\n",
              "      quickchartButtonEl.classList.add('colab-df-spinner');\n",
              "      try {\n",
              "        const charts = await google.colab.kernel.invokeFunction(\n",
              "            'suggestCharts', [key], {});\n",
              "      } catch (error) {\n",
              "        console.error('Error during call to suggestCharts:', error);\n",
              "      }\n",
              "      quickchartButtonEl.classList.remove('colab-df-spinner');\n",
              "      quickchartButtonEl.classList.add('colab-df-quickchart-complete');\n",
              "    }\n",
              "    (() => {\n",
              "      let quickchartButtonEl =\n",
              "        document.querySelector('#df-de95b647-ad91-4d83-90f2-f8f1863ee9d6 button');\n",
              "      quickchartButtonEl.style.display =\n",
              "        google.colab.kernel.accessAllowed ? 'block' : 'none';\n",
              "    })();\n",
              "  </script>\n",
              "</div>\n",
              "\n",
              "  <div id=\"id_3135eab9-a962-4b21-befa-aa4c9d8a4120\">\n",
              "    <style>\n",
              "      .colab-df-generate {\n",
              "        background-color: #E8F0FE;\n",
              "        border: none;\n",
              "        border-radius: 50%;\n",
              "        cursor: pointer;\n",
              "        display: none;\n",
              "        fill: #1967D2;\n",
              "        height: 32px;\n",
              "        padding: 0 0 0 0;\n",
              "        width: 32px;\n",
              "      }\n",
              "\n",
              "      .colab-df-generate:hover {\n",
              "        background-color: #E2EBFA;\n",
              "        box-shadow: 0px 1px 2px rgba(60, 64, 67, 0.3), 0px 1px 3px 1px rgba(60, 64, 67, 0.15);\n",
              "        fill: #174EA6;\n",
              "      }\n",
              "\n",
              "      [theme=dark] .colab-df-generate {\n",
              "        background-color: #3B4455;\n",
              "        fill: #D2E3FC;\n",
              "      }\n",
              "\n",
              "      [theme=dark] .colab-df-generate:hover {\n",
              "        background-color: #434B5C;\n",
              "        box-shadow: 0px 1px 3px 1px rgba(0, 0, 0, 0.15);\n",
              "        filter: drop-shadow(0px 1px 2px rgba(0, 0, 0, 0.3));\n",
              "        fill: #FFFFFF;\n",
              "      }\n",
              "    </style>\n",
              "    <button class=\"colab-df-generate\" onclick=\"generateWithVariable('numeric_summary_stats')\"\n",
              "            title=\"Generate code using this dataframe.\"\n",
              "            style=\"display:none;\">\n",
              "\n",
              "  <svg xmlns=\"http://www.w3.org/2000/svg\" height=\"24px\"viewBox=\"0 0 24 24\"\n",
              "       width=\"24px\">\n",
              "    <path d=\"M7,19H8.4L18.45,9,17,7.55,7,17.6ZM5,21V16.75L18.45,3.32a2,2,0,0,1,2.83,0l1.4,1.43a1.91,1.91,0,0,1,.58,1.4,1.91,1.91,0,0,1-.58,1.4L9.25,21ZM18.45,9,17,7.55Zm-12,3A5.31,5.31,0,0,0,4.9,8.1,5.31,5.31,0,0,0,1,6.5,5.31,5.31,0,0,0,4.9,4.9,5.31,5.31,0,0,0,6.5,1,5.31,5.31,0,0,0,8.1,4.9,5.31,5.31,0,0,0,12,6.5,5.46,5.46,0,0,0,6.5,12Z\"/>\n",
              "  </svg>\n",
              "    </button>\n",
              "    <script>\n",
              "      (() => {\n",
              "      const buttonEl =\n",
              "        document.querySelector('#id_3135eab9-a962-4b21-befa-aa4c9d8a4120 button.colab-df-generate');\n",
              "      buttonEl.style.display =\n",
              "        google.colab.kernel.accessAllowed ? 'block' : 'none';\n",
              "\n",
              "      buttonEl.onclick = () => {\n",
              "        google.colab.notebook.generateWithVariable('numeric_summary_stats');\n",
              "      }\n",
              "      })();\n",
              "    </script>\n",
              "  </div>\n",
              "\n",
              "    </div>\n",
              "  </div>\n"
            ],
            "application/vnd.google.colaboratory.intrinsic+json": {
              "type": "dataframe",
              "variable_name": "numeric_summary_stats"
            }
          },
          "metadata": {}
        },
        {
          "output_type": "stream",
          "name": "stdout",
          "text": [
            "\n",
            "Categorical Summary Statistics: (vertical)\n"
          ]
        },
        {
          "output_type": "display_data",
          "data": {
            "text/plain": [
              "                 b_wcase_x   b_effective_x   b_helpful_x      b_add_officer_x  \\\n",
              "count                 1948            1943          1947                 1948   \n",
              "unique                   3               5             5                    5   \n",
              "top     too much attention  very effective  very helpful  much more effective   \n",
              "freq                  1328            1210          1211                  969   \n",
              "\n",
              "             b_add_female_x b_female_better_x             e_wcase  \\\n",
              "count                  1949              1947                1948   \n",
              "unique                    5                 3                   3   \n",
              "top     much less effective            female  too much attention   \n",
              "freq                   1185              1541                1446   \n",
              "\n",
              "           e_effective     e_helpful        e_add_officer    e_add_female  \\\n",
              "count             1959          1958                 1955            1956   \n",
              "unique               4             4                    3               4   \n",
              "top     very effective  very helpful  much more effective  Less effective   \n",
              "freq              1174          1314                 1278            1269   \n",
              "\n",
              "       e_female_better  urban  treatment  \n",
              "count             1956   2843       2843  \n",
              "unique               3      2          2  \n",
              "top             female  Rural  Treatment  \n",
              "freq              1486   1645       1882  "
            ],
            "text/html": [
              "\n",
              "  <div id=\"df-47cb9528-d766-4c13-944b-669008999ae8\" class=\"colab-df-container\">\n",
              "    <div>\n",
              "<style scoped>\n",
              "    .dataframe tbody tr th:only-of-type {\n",
              "        vertical-align: middle;\n",
              "    }\n",
              "\n",
              "    .dataframe tbody tr th {\n",
              "        vertical-align: top;\n",
              "    }\n",
              "\n",
              "    .dataframe thead th {\n",
              "        text-align: right;\n",
              "    }\n",
              "</style>\n",
              "<table border=\"1\" class=\"dataframe\">\n",
              "  <thead>\n",
              "    <tr style=\"text-align: right;\">\n",
              "      <th></th>\n",
              "      <th>b_wcase_x</th>\n",
              "      <th>b_effective_x</th>\n",
              "      <th>b_helpful_x</th>\n",
              "      <th>b_add_officer_x</th>\n",
              "      <th>b_add_female_x</th>\n",
              "      <th>b_female_better_x</th>\n",
              "      <th>e_wcase</th>\n",
              "      <th>e_effective</th>\n",
              "      <th>e_helpful</th>\n",
              "      <th>e_add_officer</th>\n",
              "      <th>e_add_female</th>\n",
              "      <th>e_female_better</th>\n",
              "      <th>urban</th>\n",
              "      <th>treatment</th>\n",
              "    </tr>\n",
              "  </thead>\n",
              "  <tbody>\n",
              "    <tr>\n",
              "      <th>count</th>\n",
              "      <td>1948</td>\n",
              "      <td>1943</td>\n",
              "      <td>1947</td>\n",
              "      <td>1948</td>\n",
              "      <td>1949</td>\n",
              "      <td>1947</td>\n",
              "      <td>1948</td>\n",
              "      <td>1959</td>\n",
              "      <td>1958</td>\n",
              "      <td>1955</td>\n",
              "      <td>1956</td>\n",
              "      <td>1956</td>\n",
              "      <td>2843</td>\n",
              "      <td>2843</td>\n",
              "    </tr>\n",
              "    <tr>\n",
              "      <th>unique</th>\n",
              "      <td>3</td>\n",
              "      <td>5</td>\n",
              "      <td>5</td>\n",
              "      <td>5</td>\n",
              "      <td>5</td>\n",
              "      <td>3</td>\n",
              "      <td>3</td>\n",
              "      <td>4</td>\n",
              "      <td>4</td>\n",
              "      <td>3</td>\n",
              "      <td>4</td>\n",
              "      <td>3</td>\n",
              "      <td>2</td>\n",
              "      <td>2</td>\n",
              "    </tr>\n",
              "    <tr>\n",
              "      <th>top</th>\n",
              "      <td>too much attention</td>\n",
              "      <td>very effective</td>\n",
              "      <td>very helpful</td>\n",
              "      <td>much more effective</td>\n",
              "      <td>much less effective</td>\n",
              "      <td>female</td>\n",
              "      <td>too much attention</td>\n",
              "      <td>very effective</td>\n",
              "      <td>very helpful</td>\n",
              "      <td>much more effective</td>\n",
              "      <td>Less effective</td>\n",
              "      <td>female</td>\n",
              "      <td>Rural</td>\n",
              "      <td>Treatment</td>\n",
              "    </tr>\n",
              "    <tr>\n",
              "      <th>freq</th>\n",
              "      <td>1328</td>\n",
              "      <td>1210</td>\n",
              "      <td>1211</td>\n",
              "      <td>969</td>\n",
              "      <td>1185</td>\n",
              "      <td>1541</td>\n",
              "      <td>1446</td>\n",
              "      <td>1174</td>\n",
              "      <td>1314</td>\n",
              "      <td>1278</td>\n",
              "      <td>1269</td>\n",
              "      <td>1486</td>\n",
              "      <td>1645</td>\n",
              "      <td>1882</td>\n",
              "    </tr>\n",
              "  </tbody>\n",
              "</table>\n",
              "</div>\n",
              "    <div class=\"colab-df-buttons\">\n",
              "\n",
              "  <div class=\"colab-df-container\">\n",
              "    <button class=\"colab-df-convert\" onclick=\"convertToInteractive('df-47cb9528-d766-4c13-944b-669008999ae8')\"\n",
              "            title=\"Convert this dataframe to an interactive table.\"\n",
              "            style=\"display:none;\">\n",
              "\n",
              "  <svg xmlns=\"http://www.w3.org/2000/svg\" height=\"24px\" viewBox=\"0 -960 960 960\">\n",
              "    <path d=\"M120-120v-720h720v720H120Zm60-500h600v-160H180v160Zm220 220h160v-160H400v160Zm0 220h160v-160H400v160ZM180-400h160v-160H180v160Zm440 0h160v-160H620v160ZM180-180h160v-160H180v160Zm440 0h160v-160H620v160Z\"/>\n",
              "  </svg>\n",
              "    </button>\n",
              "\n",
              "  <style>\n",
              "    .colab-df-container {\n",
              "      display:flex;\n",
              "      gap: 12px;\n",
              "    }\n",
              "\n",
              "    .colab-df-convert {\n",
              "      background-color: #E8F0FE;\n",
              "      border: none;\n",
              "      border-radius: 50%;\n",
              "      cursor: pointer;\n",
              "      display: none;\n",
              "      fill: #1967D2;\n",
              "      height: 32px;\n",
              "      padding: 0 0 0 0;\n",
              "      width: 32px;\n",
              "    }\n",
              "\n",
              "    .colab-df-convert:hover {\n",
              "      background-color: #E2EBFA;\n",
              "      box-shadow: 0px 1px 2px rgba(60, 64, 67, 0.3), 0px 1px 3px 1px rgba(60, 64, 67, 0.15);\n",
              "      fill: #174EA6;\n",
              "    }\n",
              "\n",
              "    .colab-df-buttons div {\n",
              "      margin-bottom: 4px;\n",
              "    }\n",
              "\n",
              "    [theme=dark] .colab-df-convert {\n",
              "      background-color: #3B4455;\n",
              "      fill: #D2E3FC;\n",
              "    }\n",
              "\n",
              "    [theme=dark] .colab-df-convert:hover {\n",
              "      background-color: #434B5C;\n",
              "      box-shadow: 0px 1px 3px 1px rgba(0, 0, 0, 0.15);\n",
              "      filter: drop-shadow(0px 1px 2px rgba(0, 0, 0, 0.3));\n",
              "      fill: #FFFFFF;\n",
              "    }\n",
              "  </style>\n",
              "\n",
              "    <script>\n",
              "      const buttonEl =\n",
              "        document.querySelector('#df-47cb9528-d766-4c13-944b-669008999ae8 button.colab-df-convert');\n",
              "      buttonEl.style.display =\n",
              "        google.colab.kernel.accessAllowed ? 'block' : 'none';\n",
              "\n",
              "      async function convertToInteractive(key) {\n",
              "        const element = document.querySelector('#df-47cb9528-d766-4c13-944b-669008999ae8');\n",
              "        const dataTable =\n",
              "          await google.colab.kernel.invokeFunction('convertToInteractive',\n",
              "                                                    [key], {});\n",
              "        if (!dataTable) return;\n",
              "\n",
              "        const docLinkHtml = 'Like what you see? Visit the ' +\n",
              "          '<a target=\"_blank\" href=https://colab.research.google.com/notebooks/data_table.ipynb>data table notebook</a>'\n",
              "          + ' to learn more about interactive tables.';\n",
              "        element.innerHTML = '';\n",
              "        dataTable['output_type'] = 'display_data';\n",
              "        await google.colab.output.renderOutput(dataTable, element);\n",
              "        const docLink = document.createElement('div');\n",
              "        docLink.innerHTML = docLinkHtml;\n",
              "        element.appendChild(docLink);\n",
              "      }\n",
              "    </script>\n",
              "  </div>\n",
              "\n",
              "\n",
              "<div id=\"df-1c19d1bc-2528-4f85-b663-e3dc7b232764\">\n",
              "  <button class=\"colab-df-quickchart\" onclick=\"quickchart('df-1c19d1bc-2528-4f85-b663-e3dc7b232764')\"\n",
              "            title=\"Suggest charts\"\n",
              "            style=\"display:none;\">\n",
              "\n",
              "<svg xmlns=\"http://www.w3.org/2000/svg\" height=\"24px\"viewBox=\"0 0 24 24\"\n",
              "     width=\"24px\">\n",
              "    <g>\n",
              "        <path d=\"M19 3H5c-1.1 0-2 .9-2 2v14c0 1.1.9 2 2 2h14c1.1 0 2-.9 2-2V5c0-1.1-.9-2-2-2zM9 17H7v-7h2v7zm4 0h-2V7h2v10zm4 0h-2v-4h2v4z\"/>\n",
              "    </g>\n",
              "</svg>\n",
              "  </button>\n",
              "\n",
              "<style>\n",
              "  .colab-df-quickchart {\n",
              "      --bg-color: #E8F0FE;\n",
              "      --fill-color: #1967D2;\n",
              "      --hover-bg-color: #E2EBFA;\n",
              "      --hover-fill-color: #174EA6;\n",
              "      --disabled-fill-color: #AAA;\n",
              "      --disabled-bg-color: #DDD;\n",
              "  }\n",
              "\n",
              "  [theme=dark] .colab-df-quickchart {\n",
              "      --bg-color: #3B4455;\n",
              "      --fill-color: #D2E3FC;\n",
              "      --hover-bg-color: #434B5C;\n",
              "      --hover-fill-color: #FFFFFF;\n",
              "      --disabled-bg-color: #3B4455;\n",
              "      --disabled-fill-color: #666;\n",
              "  }\n",
              "\n",
              "  .colab-df-quickchart {\n",
              "    background-color: var(--bg-color);\n",
              "    border: none;\n",
              "    border-radius: 50%;\n",
              "    cursor: pointer;\n",
              "    display: none;\n",
              "    fill: var(--fill-color);\n",
              "    height: 32px;\n",
              "    padding: 0;\n",
              "    width: 32px;\n",
              "  }\n",
              "\n",
              "  .colab-df-quickchart:hover {\n",
              "    background-color: var(--hover-bg-color);\n",
              "    box-shadow: 0 1px 2px rgba(60, 64, 67, 0.3), 0 1px 3px 1px rgba(60, 64, 67, 0.15);\n",
              "    fill: var(--button-hover-fill-color);\n",
              "  }\n",
              "\n",
              "  .colab-df-quickchart-complete:disabled,\n",
              "  .colab-df-quickchart-complete:disabled:hover {\n",
              "    background-color: var(--disabled-bg-color);\n",
              "    fill: var(--disabled-fill-color);\n",
              "    box-shadow: none;\n",
              "  }\n",
              "\n",
              "  .colab-df-spinner {\n",
              "    border: 2px solid var(--fill-color);\n",
              "    border-color: transparent;\n",
              "    border-bottom-color: var(--fill-color);\n",
              "    animation:\n",
              "      spin 1s steps(1) infinite;\n",
              "  }\n",
              "\n",
              "  @keyframes spin {\n",
              "    0% {\n",
              "      border-color: transparent;\n",
              "      border-bottom-color: var(--fill-color);\n",
              "      border-left-color: var(--fill-color);\n",
              "    }\n",
              "    20% {\n",
              "      border-color: transparent;\n",
              "      border-left-color: var(--fill-color);\n",
              "      border-top-color: var(--fill-color);\n",
              "    }\n",
              "    30% {\n",
              "      border-color: transparent;\n",
              "      border-left-color: var(--fill-color);\n",
              "      border-top-color: var(--fill-color);\n",
              "      border-right-color: var(--fill-color);\n",
              "    }\n",
              "    40% {\n",
              "      border-color: transparent;\n",
              "      border-right-color: var(--fill-color);\n",
              "      border-top-color: var(--fill-color);\n",
              "    }\n",
              "    60% {\n",
              "      border-color: transparent;\n",
              "      border-right-color: var(--fill-color);\n",
              "    }\n",
              "    80% {\n",
              "      border-color: transparent;\n",
              "      border-right-color: var(--fill-color);\n",
              "      border-bottom-color: var(--fill-color);\n",
              "    }\n",
              "    90% {\n",
              "      border-color: transparent;\n",
              "      border-bottom-color: var(--fill-color);\n",
              "    }\n",
              "  }\n",
              "</style>\n",
              "\n",
              "  <script>\n",
              "    async function quickchart(key) {\n",
              "      const quickchartButtonEl =\n",
              "        document.querySelector('#' + key + ' button');\n",
              "      quickchartButtonEl.disabled = true;  // To prevent multiple clicks.\n",
              "      quickchartButtonEl.classList.add('colab-df-spinner');\n",
              "      try {\n",
              "        const charts = await google.colab.kernel.invokeFunction(\n",
              "            'suggestCharts', [key], {});\n",
              "      } catch (error) {\n",
              "        console.error('Error during call to suggestCharts:', error);\n",
              "      }\n",
              "      quickchartButtonEl.classList.remove('colab-df-spinner');\n",
              "      quickchartButtonEl.classList.add('colab-df-quickchart-complete');\n",
              "    }\n",
              "    (() => {\n",
              "      let quickchartButtonEl =\n",
              "        document.querySelector('#df-1c19d1bc-2528-4f85-b663-e3dc7b232764 button');\n",
              "      quickchartButtonEl.style.display =\n",
              "        google.colab.kernel.accessAllowed ? 'block' : 'none';\n",
              "    })();\n",
              "  </script>\n",
              "</div>\n",
              "\n",
              "  <div id=\"id_f1306bb5-e9fc-43fb-9c5d-56c44046fc21\">\n",
              "    <style>\n",
              "      .colab-df-generate {\n",
              "        background-color: #E8F0FE;\n",
              "        border: none;\n",
              "        border-radius: 50%;\n",
              "        cursor: pointer;\n",
              "        display: none;\n",
              "        fill: #1967D2;\n",
              "        height: 32px;\n",
              "        padding: 0 0 0 0;\n",
              "        width: 32px;\n",
              "      }\n",
              "\n",
              "      .colab-df-generate:hover {\n",
              "        background-color: #E2EBFA;\n",
              "        box-shadow: 0px 1px 2px rgba(60, 64, 67, 0.3), 0px 1px 3px 1px rgba(60, 64, 67, 0.15);\n",
              "        fill: #174EA6;\n",
              "      }\n",
              "\n",
              "      [theme=dark] .colab-df-generate {\n",
              "        background-color: #3B4455;\n",
              "        fill: #D2E3FC;\n",
              "      }\n",
              "\n",
              "      [theme=dark] .colab-df-generate:hover {\n",
              "        background-color: #434B5C;\n",
              "        box-shadow: 0px 1px 3px 1px rgba(0, 0, 0, 0.15);\n",
              "        filter: drop-shadow(0px 1px 2px rgba(0, 0, 0, 0.3));\n",
              "        fill: #FFFFFF;\n",
              "      }\n",
              "    </style>\n",
              "    <button class=\"colab-df-generate\" onclick=\"generateWithVariable('categorical_summary_stats')\"\n",
              "            title=\"Generate code using this dataframe.\"\n",
              "            style=\"display:none;\">\n",
              "\n",
              "  <svg xmlns=\"http://www.w3.org/2000/svg\" height=\"24px\"viewBox=\"0 0 24 24\"\n",
              "       width=\"24px\">\n",
              "    <path d=\"M7,19H8.4L18.45,9,17,7.55,7,17.6ZM5,21V16.75L18.45,3.32a2,2,0,0,1,2.83,0l1.4,1.43a1.91,1.91,0,0,1,.58,1.4,1.91,1.91,0,0,1-.58,1.4L9.25,21ZM18.45,9,17,7.55Zm-12,3A5.31,5.31,0,0,0,4.9,8.1,5.31,5.31,0,0,0,1,6.5,5.31,5.31,0,0,0,4.9,4.9,5.31,5.31,0,0,0,6.5,1,5.31,5.31,0,0,0,8.1,4.9,5.31,5.31,0,0,0,12,6.5,5.46,5.46,0,0,0,6.5,12Z\"/>\n",
              "  </svg>\n",
              "    </button>\n",
              "    <script>\n",
              "      (() => {\n",
              "      const buttonEl =\n",
              "        document.querySelector('#id_f1306bb5-e9fc-43fb-9c5d-56c44046fc21 button.colab-df-generate');\n",
              "      buttonEl.style.display =\n",
              "        google.colab.kernel.accessAllowed ? 'block' : 'none';\n",
              "\n",
              "      buttonEl.onclick = () => {\n",
              "        google.colab.notebook.generateWithVariable('categorical_summary_stats');\n",
              "      }\n",
              "      })();\n",
              "    </script>\n",
              "  </div>\n",
              "\n",
              "    </div>\n",
              "  </div>\n"
            ],
            "application/vnd.google.colaboratory.intrinsic+json": {
              "type": "dataframe",
              "variable_name": "categorical_summary_stats",
              "summary": "{\n  \"name\": \"categorical_summary_stats\",\n  \"rows\": 4,\n  \"fields\": [\n    {\n      \"column\": \"b_wcase_x\",\n      \"properties\": {\n        \"dtype\": \"string\",\n        \"num_unique_values\": 4,\n        \"samples\": [\n          3,\n          \"1328\",\n          \"1948\"\n        ],\n        \"semantic_type\": \"\",\n        \"description\": \"\"\n      }\n    },\n    {\n      \"column\": \"b_effective_x\",\n      \"properties\": {\n        \"dtype\": \"string\",\n        \"num_unique_values\": 4,\n        \"samples\": [\n          5,\n          \"1210\",\n          \"1943\"\n        ],\n        \"semantic_type\": \"\",\n        \"description\": \"\"\n      }\n    },\n    {\n      \"column\": \"b_helpful_x\",\n      \"properties\": {\n        \"dtype\": \"string\",\n        \"num_unique_values\": 4,\n        \"samples\": [\n          5,\n          \"1211\",\n          \"1947\"\n        ],\n        \"semantic_type\": \"\",\n        \"description\": \"\"\n      }\n    },\n    {\n      \"column\": \"b_add_officer_x\",\n      \"properties\": {\n        \"dtype\": \"string\",\n        \"num_unique_values\": 4,\n        \"samples\": [\n          5,\n          \"969\",\n          \"1948\"\n        ],\n        \"semantic_type\": \"\",\n        \"description\": \"\"\n      }\n    },\n    {\n      \"column\": \"b_add_female_x\",\n      \"properties\": {\n        \"dtype\": \"string\",\n        \"num_unique_values\": 4,\n        \"samples\": [\n          5,\n          \"1185\",\n          \"1949\"\n        ],\n        \"semantic_type\": \"\",\n        \"description\": \"\"\n      }\n    },\n    {\n      \"column\": \"b_female_better_x\",\n      \"properties\": {\n        \"dtype\": \"string\",\n        \"num_unique_values\": 4,\n        \"samples\": [\n          3,\n          \"1541\",\n          \"1947\"\n        ],\n        \"semantic_type\": \"\",\n        \"description\": \"\"\n      }\n    },\n    {\n      \"column\": \"e_wcase\",\n      \"properties\": {\n        \"dtype\": \"string\",\n        \"num_unique_values\": 4,\n        \"samples\": [\n          3,\n          \"1446\",\n          \"1948\"\n        ],\n        \"semantic_type\": \"\",\n        \"description\": \"\"\n      }\n    },\n    {\n      \"column\": \"e_effective\",\n      \"properties\": {\n        \"dtype\": \"string\",\n        \"num_unique_values\": 4,\n        \"samples\": [\n          4,\n          \"1174\",\n          \"1959\"\n        ],\n        \"semantic_type\": \"\",\n        \"description\": \"\"\n      }\n    },\n    {\n      \"column\": \"e_helpful\",\n      \"properties\": {\n        \"dtype\": \"string\",\n        \"num_unique_values\": 4,\n        \"samples\": [\n          4,\n          \"1314\",\n          \"1958\"\n        ],\n        \"semantic_type\": \"\",\n        \"description\": \"\"\n      }\n    },\n    {\n      \"column\": \"e_add_officer\",\n      \"properties\": {\n        \"dtype\": \"string\",\n        \"num_unique_values\": 4,\n        \"samples\": [\n          3,\n          \"1278\",\n          \"1955\"\n        ],\n        \"semantic_type\": \"\",\n        \"description\": \"\"\n      }\n    },\n    {\n      \"column\": \"e_add_female\",\n      \"properties\": {\n        \"dtype\": \"string\",\n        \"num_unique_values\": 4,\n        \"samples\": [\n          4,\n          \"1269\",\n          \"1956\"\n        ],\n        \"semantic_type\": \"\",\n        \"description\": \"\"\n      }\n    },\n    {\n      \"column\": \"e_female_better\",\n      \"properties\": {\n        \"dtype\": \"string\",\n        \"num_unique_values\": 4,\n        \"samples\": [\n          3,\n          \"1486\",\n          \"1956\"\n        ],\n        \"semantic_type\": \"\",\n        \"description\": \"\"\n      }\n    },\n    {\n      \"column\": \"urban\",\n      \"properties\": {\n        \"dtype\": \"string\",\n        \"num_unique_values\": 4,\n        \"samples\": [\n          2,\n          \"1645\",\n          \"2843\"\n        ],\n        \"semantic_type\": \"\",\n        \"description\": \"\"\n      }\n    },\n    {\n      \"column\": \"treatment\",\n      \"properties\": {\n        \"dtype\": \"string\",\n        \"num_unique_values\": 4,\n        \"samples\": [\n          2,\n          \"1882\",\n          \"2843\"\n        ],\n        \"semantic_type\": \"\",\n        \"description\": \"\"\n      }\n    }\n  ]\n}"
            }
          },
          "metadata": {}
        },
        {
          "output_type": "stream",
          "name": "stdout",
          "text": [
            "\n",
            "Numeric Summary Statistics: (transposed)\n"
          ]
        },
        {
          "output_type": "display_data",
          "data": {
            "text/plain": [
              "                    count        mean        std        min         25%  \\\n",
              "b_uid              1950.0  2621708.63  309351.97  2141761.0  2356266.25   \n",
              "uid                2032.0  2622835.95  307605.61  2141731.0  2357241.75   \n",
              "ps_code            2843.0     5918.99    3156.53     1001.0     3047.00   \n",
              "attrit             1950.0        0.42       0.49        0.0        0.00   \n",
              "b_sensitivity_x    1945.0        7.04       2.45        1.0        5.00   \n",
              "e_sensitivity      1961.0        7.54       2.55        0.0        6.00   \n",
              "population         2843.0   128225.85   85764.57    23565.0    75000.00   \n",
              "dist_urban         2843.0        8.68       4.96        1.0        4.00   \n",
              "women_whd          2843.0        0.32       0.47        0.0        0.00   \n",
              "b_total_staff      2843.0       45.06      21.01        9.0       27.00   \n",
              "b_female_staff     2843.0        3.14       2.07        0.0        2.00   \n",
              "b_male_staff       2843.0       41.92      19.77        8.0       24.00   \n",
              "b_total_officers   2843.0        9.28       5.06        0.0        5.00   \n",
              "b_female_officers  2843.0        0.77       0.95        0.0        0.00   \n",
              "b_male_officers    2843.0        8.51       4.66        0.0        5.00   \n",
              "e_total_staff      2843.0       53.19      23.66       17.0       33.00   \n",
              "e_female_staff     2843.0        5.19       3.00        0.0        3.00   \n",
              "e_male_staff       2843.0       48.00      21.72       15.0       29.00   \n",
              "e_total_officers   2843.0        9.91       4.82        2.0        6.00   \n",
              "e_female_officers  2843.0        0.99       0.92        0.0        0.00   \n",
              "e_male_officers    2843.0        8.92       4.50        1.0        5.00   \n",
              "\n",
              "                         50%         75%        max  \n",
              "b_uid              2553965.5  2847364.75  3257271.0  \n",
              "uid                2554035.5  2845837.75  3257341.0  \n",
              "ps_code               5092.0     8137.50    12180.0  \n",
              "attrit                   0.0        1.00        1.0  \n",
              "b_sensitivity_x          7.0        8.00       16.0  \n",
              "e_sensitivity            7.0        9.00       19.0  \n",
              "population          110000.0   151916.00   545000.0  \n",
              "dist_urban               8.0       12.00       18.0  \n",
              "women_whd                0.0        1.00        1.0  \n",
              "b_total_staff           41.0       63.00       95.0  \n",
              "b_female_staff           3.0        4.00       10.0  \n",
              "b_male_staff            39.0       58.00       90.0  \n",
              "b_total_officers         8.0       13.00       25.0  \n",
              "b_female_officers        1.0        1.00        4.0  \n",
              "b_male_officers          8.0       12.00       25.0  \n",
              "e_total_staff           51.0       71.00      125.0  \n",
              "e_female_staff           5.0        7.00       15.0  \n",
              "e_male_staff            44.0       62.00      118.0  \n",
              "e_total_officers         9.0       13.00       26.0  \n",
              "e_female_officers        1.0        1.00        6.0  \n",
              "e_male_officers          8.0       12.00       24.0  "
            ],
            "text/html": [
              "\n",
              "  <div id=\"df-aeec9919-fdb4-4a2c-a7aa-bf38178457b4\" class=\"colab-df-container\">\n",
              "    <div>\n",
              "<style scoped>\n",
              "    .dataframe tbody tr th:only-of-type {\n",
              "        vertical-align: middle;\n",
              "    }\n",
              "\n",
              "    .dataframe tbody tr th {\n",
              "        vertical-align: top;\n",
              "    }\n",
              "\n",
              "    .dataframe thead th {\n",
              "        text-align: right;\n",
              "    }\n",
              "</style>\n",
              "<table border=\"1\" class=\"dataframe\">\n",
              "  <thead>\n",
              "    <tr style=\"text-align: right;\">\n",
              "      <th></th>\n",
              "      <th>count</th>\n",
              "      <th>mean</th>\n",
              "      <th>std</th>\n",
              "      <th>min</th>\n",
              "      <th>25%</th>\n",
              "      <th>50%</th>\n",
              "      <th>75%</th>\n",
              "      <th>max</th>\n",
              "    </tr>\n",
              "  </thead>\n",
              "  <tbody>\n",
              "    <tr>\n",
              "      <th>b_uid</th>\n",
              "      <td>1950.0</td>\n",
              "      <td>2621708.63</td>\n",
              "      <td>309351.97</td>\n",
              "      <td>2141761.0</td>\n",
              "      <td>2356266.25</td>\n",
              "      <td>2553965.5</td>\n",
              "      <td>2847364.75</td>\n",
              "      <td>3257271.0</td>\n",
              "    </tr>\n",
              "    <tr>\n",
              "      <th>uid</th>\n",
              "      <td>2032.0</td>\n",
              "      <td>2622835.95</td>\n",
              "      <td>307605.61</td>\n",
              "      <td>2141731.0</td>\n",
              "      <td>2357241.75</td>\n",
              "      <td>2554035.5</td>\n",
              "      <td>2845837.75</td>\n",
              "      <td>3257341.0</td>\n",
              "    </tr>\n",
              "    <tr>\n",
              "      <th>ps_code</th>\n",
              "      <td>2843.0</td>\n",
              "      <td>5918.99</td>\n",
              "      <td>3156.53</td>\n",
              "      <td>1001.0</td>\n",
              "      <td>3047.00</td>\n",
              "      <td>5092.0</td>\n",
              "      <td>8137.50</td>\n",
              "      <td>12180.0</td>\n",
              "    </tr>\n",
              "    <tr>\n",
              "      <th>attrit</th>\n",
              "      <td>1950.0</td>\n",
              "      <td>0.42</td>\n",
              "      <td>0.49</td>\n",
              "      <td>0.0</td>\n",
              "      <td>0.00</td>\n",
              "      <td>0.0</td>\n",
              "      <td>1.00</td>\n",
              "      <td>1.0</td>\n",
              "    </tr>\n",
              "    <tr>\n",
              "      <th>b_sensitivity_x</th>\n",
              "      <td>1945.0</td>\n",
              "      <td>7.04</td>\n",
              "      <td>2.45</td>\n",
              "      <td>1.0</td>\n",
              "      <td>5.00</td>\n",
              "      <td>7.0</td>\n",
              "      <td>8.00</td>\n",
              "      <td>16.0</td>\n",
              "    </tr>\n",
              "    <tr>\n",
              "      <th>e_sensitivity</th>\n",
              "      <td>1961.0</td>\n",
              "      <td>7.54</td>\n",
              "      <td>2.55</td>\n",
              "      <td>0.0</td>\n",
              "      <td>6.00</td>\n",
              "      <td>7.0</td>\n",
              "      <td>9.00</td>\n",
              "      <td>19.0</td>\n",
              "    </tr>\n",
              "    <tr>\n",
              "      <th>population</th>\n",
              "      <td>2843.0</td>\n",
              "      <td>128225.85</td>\n",
              "      <td>85764.57</td>\n",
              "      <td>23565.0</td>\n",
              "      <td>75000.00</td>\n",
              "      <td>110000.0</td>\n",
              "      <td>151916.00</td>\n",
              "      <td>545000.0</td>\n",
              "    </tr>\n",
              "    <tr>\n",
              "      <th>dist_urban</th>\n",
              "      <td>2843.0</td>\n",
              "      <td>8.68</td>\n",
              "      <td>4.96</td>\n",
              "      <td>1.0</td>\n",
              "      <td>4.00</td>\n",
              "      <td>8.0</td>\n",
              "      <td>12.00</td>\n",
              "      <td>18.0</td>\n",
              "    </tr>\n",
              "    <tr>\n",
              "      <th>women_whd</th>\n",
              "      <td>2843.0</td>\n",
              "      <td>0.32</td>\n",
              "      <td>0.47</td>\n",
              "      <td>0.0</td>\n",
              "      <td>0.00</td>\n",
              "      <td>0.0</td>\n",
              "      <td>1.00</td>\n",
              "      <td>1.0</td>\n",
              "    </tr>\n",
              "    <tr>\n",
              "      <th>b_total_staff</th>\n",
              "      <td>2843.0</td>\n",
              "      <td>45.06</td>\n",
              "      <td>21.01</td>\n",
              "      <td>9.0</td>\n",
              "      <td>27.00</td>\n",
              "      <td>41.0</td>\n",
              "      <td>63.00</td>\n",
              "      <td>95.0</td>\n",
              "    </tr>\n",
              "    <tr>\n",
              "      <th>b_female_staff</th>\n",
              "      <td>2843.0</td>\n",
              "      <td>3.14</td>\n",
              "      <td>2.07</td>\n",
              "      <td>0.0</td>\n",
              "      <td>2.00</td>\n",
              "      <td>3.0</td>\n",
              "      <td>4.00</td>\n",
              "      <td>10.0</td>\n",
              "    </tr>\n",
              "    <tr>\n",
              "      <th>b_male_staff</th>\n",
              "      <td>2843.0</td>\n",
              "      <td>41.92</td>\n",
              "      <td>19.77</td>\n",
              "      <td>8.0</td>\n",
              "      <td>24.00</td>\n",
              "      <td>39.0</td>\n",
              "      <td>58.00</td>\n",
              "      <td>90.0</td>\n",
              "    </tr>\n",
              "    <tr>\n",
              "      <th>b_total_officers</th>\n",
              "      <td>2843.0</td>\n",
              "      <td>9.28</td>\n",
              "      <td>5.06</td>\n",
              "      <td>0.0</td>\n",
              "      <td>5.00</td>\n",
              "      <td>8.0</td>\n",
              "      <td>13.00</td>\n",
              "      <td>25.0</td>\n",
              "    </tr>\n",
              "    <tr>\n",
              "      <th>b_female_officers</th>\n",
              "      <td>2843.0</td>\n",
              "      <td>0.77</td>\n",
              "      <td>0.95</td>\n",
              "      <td>0.0</td>\n",
              "      <td>0.00</td>\n",
              "      <td>1.0</td>\n",
              "      <td>1.00</td>\n",
              "      <td>4.0</td>\n",
              "    </tr>\n",
              "    <tr>\n",
              "      <th>b_male_officers</th>\n",
              "      <td>2843.0</td>\n",
              "      <td>8.51</td>\n",
              "      <td>4.66</td>\n",
              "      <td>0.0</td>\n",
              "      <td>5.00</td>\n",
              "      <td>8.0</td>\n",
              "      <td>12.00</td>\n",
              "      <td>25.0</td>\n",
              "    </tr>\n",
              "    <tr>\n",
              "      <th>e_total_staff</th>\n",
              "      <td>2843.0</td>\n",
              "      <td>53.19</td>\n",
              "      <td>23.66</td>\n",
              "      <td>17.0</td>\n",
              "      <td>33.00</td>\n",
              "      <td>51.0</td>\n",
              "      <td>71.00</td>\n",
              "      <td>125.0</td>\n",
              "    </tr>\n",
              "    <tr>\n",
              "      <th>e_female_staff</th>\n",
              "      <td>2843.0</td>\n",
              "      <td>5.19</td>\n",
              "      <td>3.00</td>\n",
              "      <td>0.0</td>\n",
              "      <td>3.00</td>\n",
              "      <td>5.0</td>\n",
              "      <td>7.00</td>\n",
              "      <td>15.0</td>\n",
              "    </tr>\n",
              "    <tr>\n",
              "      <th>e_male_staff</th>\n",
              "      <td>2843.0</td>\n",
              "      <td>48.00</td>\n",
              "      <td>21.72</td>\n",
              "      <td>15.0</td>\n",
              "      <td>29.00</td>\n",
              "      <td>44.0</td>\n",
              "      <td>62.00</td>\n",
              "      <td>118.0</td>\n",
              "    </tr>\n",
              "    <tr>\n",
              "      <th>e_total_officers</th>\n",
              "      <td>2843.0</td>\n",
              "      <td>9.91</td>\n",
              "      <td>4.82</td>\n",
              "      <td>2.0</td>\n",
              "      <td>6.00</td>\n",
              "      <td>9.0</td>\n",
              "      <td>13.00</td>\n",
              "      <td>26.0</td>\n",
              "    </tr>\n",
              "    <tr>\n",
              "      <th>e_female_officers</th>\n",
              "      <td>2843.0</td>\n",
              "      <td>0.99</td>\n",
              "      <td>0.92</td>\n",
              "      <td>0.0</td>\n",
              "      <td>0.00</td>\n",
              "      <td>1.0</td>\n",
              "      <td>1.00</td>\n",
              "      <td>6.0</td>\n",
              "    </tr>\n",
              "    <tr>\n",
              "      <th>e_male_officers</th>\n",
              "      <td>2843.0</td>\n",
              "      <td>8.92</td>\n",
              "      <td>4.50</td>\n",
              "      <td>1.0</td>\n",
              "      <td>5.00</td>\n",
              "      <td>8.0</td>\n",
              "      <td>12.00</td>\n",
              "      <td>24.0</td>\n",
              "    </tr>\n",
              "  </tbody>\n",
              "</table>\n",
              "</div>\n",
              "    <div class=\"colab-df-buttons\">\n",
              "\n",
              "  <div class=\"colab-df-container\">\n",
              "    <button class=\"colab-df-convert\" onclick=\"convertToInteractive('df-aeec9919-fdb4-4a2c-a7aa-bf38178457b4')\"\n",
              "            title=\"Convert this dataframe to an interactive table.\"\n",
              "            style=\"display:none;\">\n",
              "\n",
              "  <svg xmlns=\"http://www.w3.org/2000/svg\" height=\"24px\" viewBox=\"0 -960 960 960\">\n",
              "    <path d=\"M120-120v-720h720v720H120Zm60-500h600v-160H180v160Zm220 220h160v-160H400v160Zm0 220h160v-160H400v160ZM180-400h160v-160H180v160Zm440 0h160v-160H620v160ZM180-180h160v-160H180v160Zm440 0h160v-160H620v160Z\"/>\n",
              "  </svg>\n",
              "    </button>\n",
              "\n",
              "  <style>\n",
              "    .colab-df-container {\n",
              "      display:flex;\n",
              "      gap: 12px;\n",
              "    }\n",
              "\n",
              "    .colab-df-convert {\n",
              "      background-color: #E8F0FE;\n",
              "      border: none;\n",
              "      border-radius: 50%;\n",
              "      cursor: pointer;\n",
              "      display: none;\n",
              "      fill: #1967D2;\n",
              "      height: 32px;\n",
              "      padding: 0 0 0 0;\n",
              "      width: 32px;\n",
              "    }\n",
              "\n",
              "    .colab-df-convert:hover {\n",
              "      background-color: #E2EBFA;\n",
              "      box-shadow: 0px 1px 2px rgba(60, 64, 67, 0.3), 0px 1px 3px 1px rgba(60, 64, 67, 0.15);\n",
              "      fill: #174EA6;\n",
              "    }\n",
              "\n",
              "    .colab-df-buttons div {\n",
              "      margin-bottom: 4px;\n",
              "    }\n",
              "\n",
              "    [theme=dark] .colab-df-convert {\n",
              "      background-color: #3B4455;\n",
              "      fill: #D2E3FC;\n",
              "    }\n",
              "\n",
              "    [theme=dark] .colab-df-convert:hover {\n",
              "      background-color: #434B5C;\n",
              "      box-shadow: 0px 1px 3px 1px rgba(0, 0, 0, 0.15);\n",
              "      filter: drop-shadow(0px 1px 2px rgba(0, 0, 0, 0.3));\n",
              "      fill: #FFFFFF;\n",
              "    }\n",
              "  </style>\n",
              "\n",
              "    <script>\n",
              "      const buttonEl =\n",
              "        document.querySelector('#df-aeec9919-fdb4-4a2c-a7aa-bf38178457b4 button.colab-df-convert');\n",
              "      buttonEl.style.display =\n",
              "        google.colab.kernel.accessAllowed ? 'block' : 'none';\n",
              "\n",
              "      async function convertToInteractive(key) {\n",
              "        const element = document.querySelector('#df-aeec9919-fdb4-4a2c-a7aa-bf38178457b4');\n",
              "        const dataTable =\n",
              "          await google.colab.kernel.invokeFunction('convertToInteractive',\n",
              "                                                    [key], {});\n",
              "        if (!dataTable) return;\n",
              "\n",
              "        const docLinkHtml = 'Like what you see? Visit the ' +\n",
              "          '<a target=\"_blank\" href=https://colab.research.google.com/notebooks/data_table.ipynb>data table notebook</a>'\n",
              "          + ' to learn more about interactive tables.';\n",
              "        element.innerHTML = '';\n",
              "        dataTable['output_type'] = 'display_data';\n",
              "        await google.colab.output.renderOutput(dataTable, element);\n",
              "        const docLink = document.createElement('div');\n",
              "        docLink.innerHTML = docLinkHtml;\n",
              "        element.appendChild(docLink);\n",
              "      }\n",
              "    </script>\n",
              "  </div>\n",
              "\n",
              "\n",
              "<div id=\"df-29b05774-28f1-493e-882c-c378e6e68279\">\n",
              "  <button class=\"colab-df-quickchart\" onclick=\"quickchart('df-29b05774-28f1-493e-882c-c378e6e68279')\"\n",
              "            title=\"Suggest charts\"\n",
              "            style=\"display:none;\">\n",
              "\n",
              "<svg xmlns=\"http://www.w3.org/2000/svg\" height=\"24px\"viewBox=\"0 0 24 24\"\n",
              "     width=\"24px\">\n",
              "    <g>\n",
              "        <path d=\"M19 3H5c-1.1 0-2 .9-2 2v14c0 1.1.9 2 2 2h14c1.1 0 2-.9 2-2V5c0-1.1-.9-2-2-2zM9 17H7v-7h2v7zm4 0h-2V7h2v10zm4 0h-2v-4h2v4z\"/>\n",
              "    </g>\n",
              "</svg>\n",
              "  </button>\n",
              "\n",
              "<style>\n",
              "  .colab-df-quickchart {\n",
              "      --bg-color: #E8F0FE;\n",
              "      --fill-color: #1967D2;\n",
              "      --hover-bg-color: #E2EBFA;\n",
              "      --hover-fill-color: #174EA6;\n",
              "      --disabled-fill-color: #AAA;\n",
              "      --disabled-bg-color: #DDD;\n",
              "  }\n",
              "\n",
              "  [theme=dark] .colab-df-quickchart {\n",
              "      --bg-color: #3B4455;\n",
              "      --fill-color: #D2E3FC;\n",
              "      --hover-bg-color: #434B5C;\n",
              "      --hover-fill-color: #FFFFFF;\n",
              "      --disabled-bg-color: #3B4455;\n",
              "      --disabled-fill-color: #666;\n",
              "  }\n",
              "\n",
              "  .colab-df-quickchart {\n",
              "    background-color: var(--bg-color);\n",
              "    border: none;\n",
              "    border-radius: 50%;\n",
              "    cursor: pointer;\n",
              "    display: none;\n",
              "    fill: var(--fill-color);\n",
              "    height: 32px;\n",
              "    padding: 0;\n",
              "    width: 32px;\n",
              "  }\n",
              "\n",
              "  .colab-df-quickchart:hover {\n",
              "    background-color: var(--hover-bg-color);\n",
              "    box-shadow: 0 1px 2px rgba(60, 64, 67, 0.3), 0 1px 3px 1px rgba(60, 64, 67, 0.15);\n",
              "    fill: var(--button-hover-fill-color);\n",
              "  }\n",
              "\n",
              "  .colab-df-quickchart-complete:disabled,\n",
              "  .colab-df-quickchart-complete:disabled:hover {\n",
              "    background-color: var(--disabled-bg-color);\n",
              "    fill: var(--disabled-fill-color);\n",
              "    box-shadow: none;\n",
              "  }\n",
              "\n",
              "  .colab-df-spinner {\n",
              "    border: 2px solid var(--fill-color);\n",
              "    border-color: transparent;\n",
              "    border-bottom-color: var(--fill-color);\n",
              "    animation:\n",
              "      spin 1s steps(1) infinite;\n",
              "  }\n",
              "\n",
              "  @keyframes spin {\n",
              "    0% {\n",
              "      border-color: transparent;\n",
              "      border-bottom-color: var(--fill-color);\n",
              "      border-left-color: var(--fill-color);\n",
              "    }\n",
              "    20% {\n",
              "      border-color: transparent;\n",
              "      border-left-color: var(--fill-color);\n",
              "      border-top-color: var(--fill-color);\n",
              "    }\n",
              "    30% {\n",
              "      border-color: transparent;\n",
              "      border-left-color: var(--fill-color);\n",
              "      border-top-color: var(--fill-color);\n",
              "      border-right-color: var(--fill-color);\n",
              "    }\n",
              "    40% {\n",
              "      border-color: transparent;\n",
              "      border-right-color: var(--fill-color);\n",
              "      border-top-color: var(--fill-color);\n",
              "    }\n",
              "    60% {\n",
              "      border-color: transparent;\n",
              "      border-right-color: var(--fill-color);\n",
              "    }\n",
              "    80% {\n",
              "      border-color: transparent;\n",
              "      border-right-color: var(--fill-color);\n",
              "      border-bottom-color: var(--fill-color);\n",
              "    }\n",
              "    90% {\n",
              "      border-color: transparent;\n",
              "      border-bottom-color: var(--fill-color);\n",
              "    }\n",
              "  }\n",
              "</style>\n",
              "\n",
              "  <script>\n",
              "    async function quickchart(key) {\n",
              "      const quickchartButtonEl =\n",
              "        document.querySelector('#' + key + ' button');\n",
              "      quickchartButtonEl.disabled = true;  // To prevent multiple clicks.\n",
              "      quickchartButtonEl.classList.add('colab-df-spinner');\n",
              "      try {\n",
              "        const charts = await google.colab.kernel.invokeFunction(\n",
              "            'suggestCharts', [key], {});\n",
              "      } catch (error) {\n",
              "        console.error('Error during call to suggestCharts:', error);\n",
              "      }\n",
              "      quickchartButtonEl.classList.remove('colab-df-spinner');\n",
              "      quickchartButtonEl.classList.add('colab-df-quickchart-complete');\n",
              "    }\n",
              "    (() => {\n",
              "      let quickchartButtonEl =\n",
              "        document.querySelector('#df-29b05774-28f1-493e-882c-c378e6e68279 button');\n",
              "      quickchartButtonEl.style.display =\n",
              "        google.colab.kernel.accessAllowed ? 'block' : 'none';\n",
              "    })();\n",
              "  </script>\n",
              "</div>\n",
              "\n",
              "  <div id=\"id_2fbfa984-97c2-4caf-886c-08d2d7d2949d\">\n",
              "    <style>\n",
              "      .colab-df-generate {\n",
              "        background-color: #E8F0FE;\n",
              "        border: none;\n",
              "        border-radius: 50%;\n",
              "        cursor: pointer;\n",
              "        display: none;\n",
              "        fill: #1967D2;\n",
              "        height: 32px;\n",
              "        padding: 0 0 0 0;\n",
              "        width: 32px;\n",
              "      }\n",
              "\n",
              "      .colab-df-generate:hover {\n",
              "        background-color: #E2EBFA;\n",
              "        box-shadow: 0px 1px 2px rgba(60, 64, 67, 0.3), 0px 1px 3px 1px rgba(60, 64, 67, 0.15);\n",
              "        fill: #174EA6;\n",
              "      }\n",
              "\n",
              "      [theme=dark] .colab-df-generate {\n",
              "        background-color: #3B4455;\n",
              "        fill: #D2E3FC;\n",
              "      }\n",
              "\n",
              "      [theme=dark] .colab-df-generate:hover {\n",
              "        background-color: #434B5C;\n",
              "        box-shadow: 0px 1px 3px 1px rgba(0, 0, 0, 0.15);\n",
              "        filter: drop-shadow(0px 1px 2px rgba(0, 0, 0, 0.3));\n",
              "        fill: #FFFFFF;\n",
              "      }\n",
              "    </style>\n",
              "    <button class=\"colab-df-generate\" onclick=\"generateWithVariable('numeric_summary_stats_transposed')\"\n",
              "            title=\"Generate code using this dataframe.\"\n",
              "            style=\"display:none;\">\n",
              "\n",
              "  <svg xmlns=\"http://www.w3.org/2000/svg\" height=\"24px\"viewBox=\"0 0 24 24\"\n",
              "       width=\"24px\">\n",
              "    <path d=\"M7,19H8.4L18.45,9,17,7.55,7,17.6ZM5,21V16.75L18.45,3.32a2,2,0,0,1,2.83,0l1.4,1.43a1.91,1.91,0,0,1,.58,1.4,1.91,1.91,0,0,1-.58,1.4L9.25,21ZM18.45,9,17,7.55Zm-12,3A5.31,5.31,0,0,0,4.9,8.1,5.31,5.31,0,0,0,1,6.5,5.31,5.31,0,0,0,4.9,4.9,5.31,5.31,0,0,0,6.5,1,5.31,5.31,0,0,0,8.1,4.9,5.31,5.31,0,0,0,12,6.5,5.46,5.46,0,0,0,6.5,12Z\"/>\n",
              "  </svg>\n",
              "    </button>\n",
              "    <script>\n",
              "      (() => {\n",
              "      const buttonEl =\n",
              "        document.querySelector('#id_2fbfa984-97c2-4caf-886c-08d2d7d2949d button.colab-df-generate');\n",
              "      buttonEl.style.display =\n",
              "        google.colab.kernel.accessAllowed ? 'block' : 'none';\n",
              "\n",
              "      buttonEl.onclick = () => {\n",
              "        google.colab.notebook.generateWithVariable('numeric_summary_stats_transposed');\n",
              "      }\n",
              "      })();\n",
              "    </script>\n",
              "  </div>\n",
              "\n",
              "    </div>\n",
              "  </div>\n"
            ],
            "application/vnd.google.colaboratory.intrinsic+json": {
              "type": "dataframe",
              "variable_name": "numeric_summary_stats_transposed",
              "summary": "{\n  \"name\": \"numeric_summary_stats_transposed\",\n  \"rows\": 21,\n  \"fields\": [\n    {\n      \"column\": \"count\",\n      \"properties\": {\n        \"dtype\": \"number\",\n        \"std\": 382.4039188382583,\n        \"min\": 1945.0,\n        \"max\": 2843.0,\n        \"num_unique_values\": 5,\n        \"samples\": [\n          2032.0,\n          1961.0,\n          2843.0\n        ],\n        \"semantic_type\": \"\",\n        \"description\": \"\"\n      }\n    },\n    {\n      \"column\": \"mean\",\n      \"properties\": {\n        \"dtype\": \"number\",\n        \"std\": 787125.6421382175,\n        \"min\": 0.32,\n        \"max\": 2622835.95,\n        \"num_unique_values\": 21,\n        \"samples\": [\n          2621708.63,\n          48.0,\n          53.19\n        ],\n        \"semantic_type\": \"\",\n        \"description\": \"\"\n      }\n    },\n    {\n      \"column\": \"std\",\n      \"properties\": {\n        \"dtype\": \"number\",\n        \"std\": 93260.44584630488,\n        \"min\": 0.47,\n        \"max\": 309351.97,\n        \"num_unique_values\": 21,\n        \"samples\": [\n          309351.97,\n          21.72,\n          23.66\n        ],\n        \"semantic_type\": \"\",\n        \"description\": \"\"\n      }\n    },\n    {\n      \"column\": \"min\",\n      \"properties\": {\n        \"dtype\": \"number\",\n        \"std\": 643851.9545751662,\n        \"min\": 0.0,\n        \"max\": 2141761.0,\n        \"num_unique_values\": 11,\n        \"samples\": [\n          23565.0,\n          2141761.0,\n          15.0\n        ],\n        \"semantic_type\": \"\",\n        \"description\": \"\"\n      }\n    },\n    {\n      \"column\": \"25%\",\n      \"properties\": {\n        \"dtype\": \"number\",\n        \"std\": 707843.8259036056,\n        \"min\": 0.0,\n        \"max\": 2357241.75,\n        \"num_unique_values\": 14,\n        \"samples\": [\n          2.0,\n          33.0,\n          2356266.25\n        ],\n        \"semantic_type\": \"\",\n        \"description\": \"\"\n      }\n    },\n    {\n      \"column\": \"50%\",\n      \"properties\": {\n        \"dtype\": \"number\",\n        \"std\": 766771.2398050698,\n        \"min\": 0.0,\n        \"max\": 2554035.5,\n        \"num_unique_values\": 15,\n        \"samples\": [\n          39.0,\n          51.0,\n          2553965.5\n        ],\n        \"semantic_type\": \"\",\n        \"description\": \"\"\n      }\n    },\n    {\n      \"column\": \"75%\",\n      \"properties\": {\n        \"dtype\": \"number\",\n        \"std\": 854335.1744929162,\n        \"min\": 1.0,\n        \"max\": 2847364.75,\n        \"num_unique_values\": 15,\n        \"samples\": [\n          4.0,\n          13.0,\n          2847364.75\n        ],\n        \"semantic_type\": \"\",\n        \"description\": \"\"\n      }\n    },\n    {\n      \"column\": \"max\",\n      \"properties\": {\n        \"dtype\": \"number\",\n        \"std\": 978146.2522898898,\n        \"min\": 1.0,\n        \"max\": 3257341.0,\n        \"num_unique_values\": 19,\n        \"samples\": [\n          3257271.0,\n          19.0,\n          25.0\n        ],\n        \"semantic_type\": \"\",\n        \"description\": \"\"\n      }\n    }\n  ]\n}"
            }
          },
          "metadata": {}
        },
        {
          "output_type": "stream",
          "name": "stdout",
          "text": [
            "\n",
            "Categorical Summary Statistics: (transposed)\n"
          ]
        },
        {
          "output_type": "display_data",
          "data": {
            "text/plain": [
              "                  count unique                  top  freq\n",
              "b_wcase_x          1948      3   too much attention  1328\n",
              "b_effective_x      1943      5       very effective  1210\n",
              "b_helpful_x        1947      5         very helpful  1211\n",
              "b_add_officer_x    1948      5  much more effective   969\n",
              "b_add_female_x     1949      5  much less effective  1185\n",
              "b_female_better_x  1947      3               female  1541\n",
              "e_wcase            1948      3   too much attention  1446\n",
              "e_effective        1959      4       very effective  1174\n",
              "e_helpful          1958      4         very helpful  1314\n",
              "e_add_officer      1955      3  much more effective  1278\n",
              "e_add_female       1956      4       Less effective  1269\n",
              "e_female_better    1956      3               female  1486\n",
              "urban              2843      2                Rural  1645\n",
              "treatment          2843      2            Treatment  1882"
            ],
            "text/html": [
              "\n",
              "  <div id=\"df-3388b36e-0525-4cb5-9d02-141017f02880\" class=\"colab-df-container\">\n",
              "    <div>\n",
              "<style scoped>\n",
              "    .dataframe tbody tr th:only-of-type {\n",
              "        vertical-align: middle;\n",
              "    }\n",
              "\n",
              "    .dataframe tbody tr th {\n",
              "        vertical-align: top;\n",
              "    }\n",
              "\n",
              "    .dataframe thead th {\n",
              "        text-align: right;\n",
              "    }\n",
              "</style>\n",
              "<table border=\"1\" class=\"dataframe\">\n",
              "  <thead>\n",
              "    <tr style=\"text-align: right;\">\n",
              "      <th></th>\n",
              "      <th>count</th>\n",
              "      <th>unique</th>\n",
              "      <th>top</th>\n",
              "      <th>freq</th>\n",
              "    </tr>\n",
              "  </thead>\n",
              "  <tbody>\n",
              "    <tr>\n",
              "      <th>b_wcase_x</th>\n",
              "      <td>1948</td>\n",
              "      <td>3</td>\n",
              "      <td>too much attention</td>\n",
              "      <td>1328</td>\n",
              "    </tr>\n",
              "    <tr>\n",
              "      <th>b_effective_x</th>\n",
              "      <td>1943</td>\n",
              "      <td>5</td>\n",
              "      <td>very effective</td>\n",
              "      <td>1210</td>\n",
              "    </tr>\n",
              "    <tr>\n",
              "      <th>b_helpful_x</th>\n",
              "      <td>1947</td>\n",
              "      <td>5</td>\n",
              "      <td>very helpful</td>\n",
              "      <td>1211</td>\n",
              "    </tr>\n",
              "    <tr>\n",
              "      <th>b_add_officer_x</th>\n",
              "      <td>1948</td>\n",
              "      <td>5</td>\n",
              "      <td>much more effective</td>\n",
              "      <td>969</td>\n",
              "    </tr>\n",
              "    <tr>\n",
              "      <th>b_add_female_x</th>\n",
              "      <td>1949</td>\n",
              "      <td>5</td>\n",
              "      <td>much less effective</td>\n",
              "      <td>1185</td>\n",
              "    </tr>\n",
              "    <tr>\n",
              "      <th>b_female_better_x</th>\n",
              "      <td>1947</td>\n",
              "      <td>3</td>\n",
              "      <td>female</td>\n",
              "      <td>1541</td>\n",
              "    </tr>\n",
              "    <tr>\n",
              "      <th>e_wcase</th>\n",
              "      <td>1948</td>\n",
              "      <td>3</td>\n",
              "      <td>too much attention</td>\n",
              "      <td>1446</td>\n",
              "    </tr>\n",
              "    <tr>\n",
              "      <th>e_effective</th>\n",
              "      <td>1959</td>\n",
              "      <td>4</td>\n",
              "      <td>very effective</td>\n",
              "      <td>1174</td>\n",
              "    </tr>\n",
              "    <tr>\n",
              "      <th>e_helpful</th>\n",
              "      <td>1958</td>\n",
              "      <td>4</td>\n",
              "      <td>very helpful</td>\n",
              "      <td>1314</td>\n",
              "    </tr>\n",
              "    <tr>\n",
              "      <th>e_add_officer</th>\n",
              "      <td>1955</td>\n",
              "      <td>3</td>\n",
              "      <td>much more effective</td>\n",
              "      <td>1278</td>\n",
              "    </tr>\n",
              "    <tr>\n",
              "      <th>e_add_female</th>\n",
              "      <td>1956</td>\n",
              "      <td>4</td>\n",
              "      <td>Less effective</td>\n",
              "      <td>1269</td>\n",
              "    </tr>\n",
              "    <tr>\n",
              "      <th>e_female_better</th>\n",
              "      <td>1956</td>\n",
              "      <td>3</td>\n",
              "      <td>female</td>\n",
              "      <td>1486</td>\n",
              "    </tr>\n",
              "    <tr>\n",
              "      <th>urban</th>\n",
              "      <td>2843</td>\n",
              "      <td>2</td>\n",
              "      <td>Rural</td>\n",
              "      <td>1645</td>\n",
              "    </tr>\n",
              "    <tr>\n",
              "      <th>treatment</th>\n",
              "      <td>2843</td>\n",
              "      <td>2</td>\n",
              "      <td>Treatment</td>\n",
              "      <td>1882</td>\n",
              "    </tr>\n",
              "  </tbody>\n",
              "</table>\n",
              "</div>\n",
              "    <div class=\"colab-df-buttons\">\n",
              "\n",
              "  <div class=\"colab-df-container\">\n",
              "    <button class=\"colab-df-convert\" onclick=\"convertToInteractive('df-3388b36e-0525-4cb5-9d02-141017f02880')\"\n",
              "            title=\"Convert this dataframe to an interactive table.\"\n",
              "            style=\"display:none;\">\n",
              "\n",
              "  <svg xmlns=\"http://www.w3.org/2000/svg\" height=\"24px\" viewBox=\"0 -960 960 960\">\n",
              "    <path d=\"M120-120v-720h720v720H120Zm60-500h600v-160H180v160Zm220 220h160v-160H400v160Zm0 220h160v-160H400v160ZM180-400h160v-160H180v160Zm440 0h160v-160H620v160ZM180-180h160v-160H180v160Zm440 0h160v-160H620v160Z\"/>\n",
              "  </svg>\n",
              "    </button>\n",
              "\n",
              "  <style>\n",
              "    .colab-df-container {\n",
              "      display:flex;\n",
              "      gap: 12px;\n",
              "    }\n",
              "\n",
              "    .colab-df-convert {\n",
              "      background-color: #E8F0FE;\n",
              "      border: none;\n",
              "      border-radius: 50%;\n",
              "      cursor: pointer;\n",
              "      display: none;\n",
              "      fill: #1967D2;\n",
              "      height: 32px;\n",
              "      padding: 0 0 0 0;\n",
              "      width: 32px;\n",
              "    }\n",
              "\n",
              "    .colab-df-convert:hover {\n",
              "      background-color: #E2EBFA;\n",
              "      box-shadow: 0px 1px 2px rgba(60, 64, 67, 0.3), 0px 1px 3px 1px rgba(60, 64, 67, 0.15);\n",
              "      fill: #174EA6;\n",
              "    }\n",
              "\n",
              "    .colab-df-buttons div {\n",
              "      margin-bottom: 4px;\n",
              "    }\n",
              "\n",
              "    [theme=dark] .colab-df-convert {\n",
              "      background-color: #3B4455;\n",
              "      fill: #D2E3FC;\n",
              "    }\n",
              "\n",
              "    [theme=dark] .colab-df-convert:hover {\n",
              "      background-color: #434B5C;\n",
              "      box-shadow: 0px 1px 3px 1px rgba(0, 0, 0, 0.15);\n",
              "      filter: drop-shadow(0px 1px 2px rgba(0, 0, 0, 0.3));\n",
              "      fill: #FFFFFF;\n",
              "    }\n",
              "  </style>\n",
              "\n",
              "    <script>\n",
              "      const buttonEl =\n",
              "        document.querySelector('#df-3388b36e-0525-4cb5-9d02-141017f02880 button.colab-df-convert');\n",
              "      buttonEl.style.display =\n",
              "        google.colab.kernel.accessAllowed ? 'block' : 'none';\n",
              "\n",
              "      async function convertToInteractive(key) {\n",
              "        const element = document.querySelector('#df-3388b36e-0525-4cb5-9d02-141017f02880');\n",
              "        const dataTable =\n",
              "          await google.colab.kernel.invokeFunction('convertToInteractive',\n",
              "                                                    [key], {});\n",
              "        if (!dataTable) return;\n",
              "\n",
              "        const docLinkHtml = 'Like what you see? Visit the ' +\n",
              "          '<a target=\"_blank\" href=https://colab.research.google.com/notebooks/data_table.ipynb>data table notebook</a>'\n",
              "          + ' to learn more about interactive tables.';\n",
              "        element.innerHTML = '';\n",
              "        dataTable['output_type'] = 'display_data';\n",
              "        await google.colab.output.renderOutput(dataTable, element);\n",
              "        const docLink = document.createElement('div');\n",
              "        docLink.innerHTML = docLinkHtml;\n",
              "        element.appendChild(docLink);\n",
              "      }\n",
              "    </script>\n",
              "  </div>\n",
              "\n",
              "\n",
              "<div id=\"df-8e7511a8-b05c-4286-8141-c9861ab96384\">\n",
              "  <button class=\"colab-df-quickchart\" onclick=\"quickchart('df-8e7511a8-b05c-4286-8141-c9861ab96384')\"\n",
              "            title=\"Suggest charts\"\n",
              "            style=\"display:none;\">\n",
              "\n",
              "<svg xmlns=\"http://www.w3.org/2000/svg\" height=\"24px\"viewBox=\"0 0 24 24\"\n",
              "     width=\"24px\">\n",
              "    <g>\n",
              "        <path d=\"M19 3H5c-1.1 0-2 .9-2 2v14c0 1.1.9 2 2 2h14c1.1 0 2-.9 2-2V5c0-1.1-.9-2-2-2zM9 17H7v-7h2v7zm4 0h-2V7h2v10zm4 0h-2v-4h2v4z\"/>\n",
              "    </g>\n",
              "</svg>\n",
              "  </button>\n",
              "\n",
              "<style>\n",
              "  .colab-df-quickchart {\n",
              "      --bg-color: #E8F0FE;\n",
              "      --fill-color: #1967D2;\n",
              "      --hover-bg-color: #E2EBFA;\n",
              "      --hover-fill-color: #174EA6;\n",
              "      --disabled-fill-color: #AAA;\n",
              "      --disabled-bg-color: #DDD;\n",
              "  }\n",
              "\n",
              "  [theme=dark] .colab-df-quickchart {\n",
              "      --bg-color: #3B4455;\n",
              "      --fill-color: #D2E3FC;\n",
              "      --hover-bg-color: #434B5C;\n",
              "      --hover-fill-color: #FFFFFF;\n",
              "      --disabled-bg-color: #3B4455;\n",
              "      --disabled-fill-color: #666;\n",
              "  }\n",
              "\n",
              "  .colab-df-quickchart {\n",
              "    background-color: var(--bg-color);\n",
              "    border: none;\n",
              "    border-radius: 50%;\n",
              "    cursor: pointer;\n",
              "    display: none;\n",
              "    fill: var(--fill-color);\n",
              "    height: 32px;\n",
              "    padding: 0;\n",
              "    width: 32px;\n",
              "  }\n",
              "\n",
              "  .colab-df-quickchart:hover {\n",
              "    background-color: var(--hover-bg-color);\n",
              "    box-shadow: 0 1px 2px rgba(60, 64, 67, 0.3), 0 1px 3px 1px rgba(60, 64, 67, 0.15);\n",
              "    fill: var(--button-hover-fill-color);\n",
              "  }\n",
              "\n",
              "  .colab-df-quickchart-complete:disabled,\n",
              "  .colab-df-quickchart-complete:disabled:hover {\n",
              "    background-color: var(--disabled-bg-color);\n",
              "    fill: var(--disabled-fill-color);\n",
              "    box-shadow: none;\n",
              "  }\n",
              "\n",
              "  .colab-df-spinner {\n",
              "    border: 2px solid var(--fill-color);\n",
              "    border-color: transparent;\n",
              "    border-bottom-color: var(--fill-color);\n",
              "    animation:\n",
              "      spin 1s steps(1) infinite;\n",
              "  }\n",
              "\n",
              "  @keyframes spin {\n",
              "    0% {\n",
              "      border-color: transparent;\n",
              "      border-bottom-color: var(--fill-color);\n",
              "      border-left-color: var(--fill-color);\n",
              "    }\n",
              "    20% {\n",
              "      border-color: transparent;\n",
              "      border-left-color: var(--fill-color);\n",
              "      border-top-color: var(--fill-color);\n",
              "    }\n",
              "    30% {\n",
              "      border-color: transparent;\n",
              "      border-left-color: var(--fill-color);\n",
              "      border-top-color: var(--fill-color);\n",
              "      border-right-color: var(--fill-color);\n",
              "    }\n",
              "    40% {\n",
              "      border-color: transparent;\n",
              "      border-right-color: var(--fill-color);\n",
              "      border-top-color: var(--fill-color);\n",
              "    }\n",
              "    60% {\n",
              "      border-color: transparent;\n",
              "      border-right-color: var(--fill-color);\n",
              "    }\n",
              "    80% {\n",
              "      border-color: transparent;\n",
              "      border-right-color: var(--fill-color);\n",
              "      border-bottom-color: var(--fill-color);\n",
              "    }\n",
              "    90% {\n",
              "      border-color: transparent;\n",
              "      border-bottom-color: var(--fill-color);\n",
              "    }\n",
              "  }\n",
              "</style>\n",
              "\n",
              "  <script>\n",
              "    async function quickchart(key) {\n",
              "      const quickchartButtonEl =\n",
              "        document.querySelector('#' + key + ' button');\n",
              "      quickchartButtonEl.disabled = true;  // To prevent multiple clicks.\n",
              "      quickchartButtonEl.classList.add('colab-df-spinner');\n",
              "      try {\n",
              "        const charts = await google.colab.kernel.invokeFunction(\n",
              "            'suggestCharts', [key], {});\n",
              "      } catch (error) {\n",
              "        console.error('Error during call to suggestCharts:', error);\n",
              "      }\n",
              "      quickchartButtonEl.classList.remove('colab-df-spinner');\n",
              "      quickchartButtonEl.classList.add('colab-df-quickchart-complete');\n",
              "    }\n",
              "    (() => {\n",
              "      let quickchartButtonEl =\n",
              "        document.querySelector('#df-8e7511a8-b05c-4286-8141-c9861ab96384 button');\n",
              "      quickchartButtonEl.style.display =\n",
              "        google.colab.kernel.accessAllowed ? 'block' : 'none';\n",
              "    })();\n",
              "  </script>\n",
              "</div>\n",
              "\n",
              "  <div id=\"id_c47e2d73-0414-40e4-907e-4e6ad57b09ae\">\n",
              "    <style>\n",
              "      .colab-df-generate {\n",
              "        background-color: #E8F0FE;\n",
              "        border: none;\n",
              "        border-radius: 50%;\n",
              "        cursor: pointer;\n",
              "        display: none;\n",
              "        fill: #1967D2;\n",
              "        height: 32px;\n",
              "        padding: 0 0 0 0;\n",
              "        width: 32px;\n",
              "      }\n",
              "\n",
              "      .colab-df-generate:hover {\n",
              "        background-color: #E2EBFA;\n",
              "        box-shadow: 0px 1px 2px rgba(60, 64, 67, 0.3), 0px 1px 3px 1px rgba(60, 64, 67, 0.15);\n",
              "        fill: #174EA6;\n",
              "      }\n",
              "\n",
              "      [theme=dark] .colab-df-generate {\n",
              "        background-color: #3B4455;\n",
              "        fill: #D2E3FC;\n",
              "      }\n",
              "\n",
              "      [theme=dark] .colab-df-generate:hover {\n",
              "        background-color: #434B5C;\n",
              "        box-shadow: 0px 1px 3px 1px rgba(0, 0, 0, 0.15);\n",
              "        filter: drop-shadow(0px 1px 2px rgba(0, 0, 0, 0.3));\n",
              "        fill: #FFFFFF;\n",
              "      }\n",
              "    </style>\n",
              "    <button class=\"colab-df-generate\" onclick=\"generateWithVariable('categorical_summary_stats_transposed')\"\n",
              "            title=\"Generate code using this dataframe.\"\n",
              "            style=\"display:none;\">\n",
              "\n",
              "  <svg xmlns=\"http://www.w3.org/2000/svg\" height=\"24px\"viewBox=\"0 0 24 24\"\n",
              "       width=\"24px\">\n",
              "    <path d=\"M7,19H8.4L18.45,9,17,7.55,7,17.6ZM5,21V16.75L18.45,3.32a2,2,0,0,1,2.83,0l1.4,1.43a1.91,1.91,0,0,1,.58,1.4,1.91,1.91,0,0,1-.58,1.4L9.25,21ZM18.45,9,17,7.55Zm-12,3A5.31,5.31,0,0,0,4.9,8.1,5.31,5.31,0,0,0,1,6.5,5.31,5.31,0,0,0,4.9,4.9,5.31,5.31,0,0,0,6.5,1,5.31,5.31,0,0,0,8.1,4.9,5.31,5.31,0,0,0,12,6.5,5.46,5.46,0,0,0,6.5,12Z\"/>\n",
              "  </svg>\n",
              "    </button>\n",
              "    <script>\n",
              "      (() => {\n",
              "      const buttonEl =\n",
              "        document.querySelector('#id_c47e2d73-0414-40e4-907e-4e6ad57b09ae button.colab-df-generate');\n",
              "      buttonEl.style.display =\n",
              "        google.colab.kernel.accessAllowed ? 'block' : 'none';\n",
              "\n",
              "      buttonEl.onclick = () => {\n",
              "        google.colab.notebook.generateWithVariable('categorical_summary_stats_transposed');\n",
              "      }\n",
              "      })();\n",
              "    </script>\n",
              "  </div>\n",
              "\n",
              "    </div>\n",
              "  </div>\n"
            ],
            "application/vnd.google.colaboratory.intrinsic+json": {
              "type": "dataframe",
              "variable_name": "categorical_summary_stats_transposed",
              "summary": "{\n  \"name\": \"categorical_summary_stats_transposed\",\n  \"rows\": 14,\n  \"fields\": [\n    {\n      \"column\": \"count\",\n      \"properties\": {\n        \"dtype\": \"date\",\n        \"min\": \"1943\",\n        \"max\": \"2843\",\n        \"num_unique_values\": 9,\n        \"samples\": [\n          \"1956\",\n          \"1943\",\n          \"1958\"\n        ],\n        \"semantic_type\": \"\",\n        \"description\": \"\"\n      }\n    },\n    {\n      \"column\": \"unique\",\n      \"properties\": {\n        \"dtype\": \"date\",\n        \"min\": 2,\n        \"max\": 5,\n        \"num_unique_values\": 4,\n        \"samples\": [\n          5,\n          2,\n          3\n        ],\n        \"semantic_type\": \"\",\n        \"description\": \"\"\n      }\n    },\n    {\n      \"column\": \"top\",\n      \"properties\": {\n        \"dtype\": \"string\",\n        \"num_unique_values\": 9,\n        \"samples\": [\n          \"Rural\",\n          \"very effective\",\n          \"female\"\n        ],\n        \"semantic_type\": \"\",\n        \"description\": \"\"\n      }\n    },\n    {\n      \"column\": \"freq\",\n      \"properties\": {\n        \"dtype\": \"date\",\n        \"min\": \"969\",\n        \"max\": \"1882\",\n        \"num_unique_values\": 14,\n        \"samples\": [\n          \"1278\",\n          \"1486\",\n          \"1328\"\n        ],\n        \"semantic_type\": \"\",\n        \"description\": \"\"\n      }\n    }\n  ]\n}"
            }
          },
          "metadata": {}
        }
      ]
    },
    {
      "cell_type": "markdown",
      "source": [
        "The percption data is primarily catergorical with each cell containing 2 to 5 levels.   The station characteristic data is primarily numeric."
      ],
      "metadata": {
        "id": "FlKAMG2BQh9B"
      }
    },
    {
      "cell_type": "code",
      "source": [
        "# First Perform EDA on rows containing survey responders at baseline and endline\n",
        "# New dataframe with only those records\n",
        "\n",
        "q5_eda_both_df = q5_eda_df.dropna(subset=['b_uid','uid'])\n",
        "\n",
        "# Check the number of rows and columns with `shape`\n",
        "print(\"Rows and Column Count, Police Survey + Personnel Data:\",q5_eda_both_df.shape)\n"
      ],
      "metadata": {
        "colab": {
          "base_uri": "https://localhost:8080/"
        },
        "id": "d4RiUNt4I9XW",
        "outputId": "f99aad01-4531-438e-9f40-3909e33b2dcc"
      },
      "execution_count": null,
      "outputs": [
        {
          "output_type": "stream",
          "name": "stdout",
          "text": [
            "Rows and Column Count, Police Survey + Personnel Data: (1139, 35)\n"
          ]
        }
      ]
    },
    {
      "cell_type": "markdown",
      "source": [
        "Reduced the dataframe to include police officers that responded both at baseline and endline.  There are 1,139 respondents that had responses at both time periods.   Pro:  assessing perception change among staff that were active for the duration of the test.  Con: may introduce bias via dropping staff that didn't respond at both time periods (i.e., uniqueness in the attrited and or new at endline population).\n",
        "\n",
        "Notes that the data has indicators for treatment vs control stations (stable across the study) and perception and station characteristics (which were different at baseline and endline).   The EDA below examines counts and relationships across each of the combinations of attributes."
      ],
      "metadata": {
        "id": "A6n6kzzjRFUO"
      }
    },
    {
      "cell_type": "code",
      "source": [
        "# Initial Counts and Cross Tabs of Baseline and Endline Police Officer Perceptions\n",
        "# Focusing on Responders Who Filled Out Survey at Baseline and Endline;\n",
        "\n",
        "# Start with 1 Dimensional Views;\n",
        "\n",
        "# Effectiveness Baseline and Endline Perceptions, Broken Out By Treatment and Control Stations\n",
        "\n",
        "# Columns to iterate through for cross-tabulation\n",
        "columns_to_cross = ['b_effective_x', 'e_effective']\n",
        "\n",
        "# Iterate and create cross-tabs\n",
        "for col in columns_to_cross:\n",
        "\n",
        "# Create a cross-tabulation with counts\n",
        "     cross_tab = pd.crosstab(q5_eda_both_df['treatment'], q5_eda_both_df[col])\n",
        "     cross_tab.loc['Grand Total']= cross_tab.sum(numeric_only=True, axis=0)\n",
        "\n",
        "# Calculate row percentages\n",
        "     row_percentages = cross_tab.div(cross_tab.sum(axis=1), axis=0) * 100\n",
        "\n",
        "     print(\"Cross-tabulation with counts:\")\n",
        "     print(cross_tab.to_string())\n",
        "     print(\"\\nRow percentages:\")\n",
        "     print(row_percentages.to_string())\n"
      ],
      "metadata": {
        "colab": {
          "base_uri": "https://localhost:8080/"
        },
        "id": "DHBN8VXaphzh",
        "outputId": "9ad757af-0769-4212-93ca-1280690d2a57"
      },
      "execution_count": null,
      "outputs": [
        {
          "output_type": "stream",
          "name": "stdout",
          "text": [
            "Cross-tabulation with counts:\n",
            "b_effective_x  effective  ineffective  neither effective nor ineffective  very effective  very ineffective\n",
            "treatment                                                                                                 \n",
            "Control              122            1                                  6             229                 2\n",
            "Treatment            258            1                                  6             507                 2\n",
            "Grand Total          380            2                                 12             736                 4\n",
            "\n",
            "Row percentages:\n",
            "b_effective_x  effective  ineffective  neither effective nor ineffective  very effective  very ineffective\n",
            "treatment                                                                                                 \n",
            "Control        33.888889     0.277778                           1.666667       63.611111          0.555556\n",
            "Treatment      33.333333     0.129199                           0.775194       65.503876          0.258398\n",
            "Grand Total    33.509700     0.176367                           1.058201       64.902998          0.352734\n",
            "Cross-tabulation with counts:\n",
            "e_effective  effective  ineffective  very effective  very ineffective\n",
            "treatment                                                            \n",
            "Control            131            0             207                 0\n",
            "Treatment          302            3             422                 2\n",
            "Grand Total        433            3             629                 2\n",
            "\n",
            "Row percentages:\n",
            "e_effective  effective  ineffective  very effective  very ineffective\n",
            "treatment                                                            \n",
            "Control      38.757396     0.000000       61.242604          0.000000\n",
            "Treatment    41.426612     0.411523       57.887517          0.274348\n",
            "Grand Total  40.581068     0.281162       58.950328          0.187441\n"
          ]
        }
      ]
    },
    {
      "cell_type": "markdown",
      "source": [
        "The answer to the 'effectiveness' of police in addressing women related crimes/inquiries shows overwhelming high % selecting \"effective\" or \"very effective\" at both baseline and endline (97% + of respondents).  Looks like a slight shift from 'very effective' to 'effective' among the treatment stations.\n",
        "\n",
        "It appears the number of potential answers was reduced on the endline survey (with \"neither effective nor ineffective\" no longer an option) ... confirmed when examining actual survey instrument."
      ],
      "metadata": {
        "id": "tVbde2-qSjME"
      }
    },
    {
      "cell_type": "code",
      "source": [
        "# Initial Counts and Cross Tabs of Baseline and Endline Police Officer Perceptions\n",
        "# Focusing on Responders Who Filled Out Survey at Baseline and Endline;\n",
        "\n",
        "# Start with 1 Dimensional Views;\n",
        "\n",
        "# \"Attention To\" Baseline and Endline Perceptions, Broken Out By Treatment and Control Stations\n",
        "\n",
        "# Columns to iterate through for cross-tabulation\n",
        "columns_to_cross = ['b_wcase_x', 'e_wcase']\n",
        "\n",
        "# Iterate and create cross-tabs\n",
        "for col in columns_to_cross:\n",
        "\n",
        "# Create a cross-tabulation with counts\n",
        "     cross_tab = pd.crosstab(q5_eda_both_df['treatment'], q5_eda_both_df[col])\n",
        "     cross_tab.loc['Grand Total']= cross_tab.sum(numeric_only=True, axis=0)\n",
        "\n",
        "# Calculate row percentages\n",
        "     row_percentages = cross_tab.div(cross_tab.sum(axis=1), axis=0) * 100\n",
        "\n",
        "     print(\"Cross-tabulation with counts:\")\n",
        "     print(cross_tab.to_string())\n",
        "     print(\"\\nRow percentages:\")\n",
        "     print(row_percentages.to_string())\n"
      ],
      "metadata": {
        "colab": {
          "base_uri": "https://localhost:8080/"
        },
        "id": "nGtrK5zgVS4n",
        "outputId": "68247c16-5249-4650-f6a1-f7e67d844c71"
      },
      "execution_count": null,
      "outputs": [
        {
          "output_type": "stream",
          "name": "stdout",
          "text": [
            "Cross-tabulation with counts:\n",
            "b_wcase_x    enough attention  too little attention  too much attention\n",
            "treatment                                                              \n",
            "Control                   122                     4                 236\n",
            "Treatment                 216                     1                 558\n",
            "Grand Total               338                     5                 794\n",
            "\n",
            "Row percentages:\n",
            "b_wcase_x    enough attention  too little attention  too much attention\n",
            "treatment                                                              \n",
            "Control             33.701657              1.104972           65.193370\n",
            "Treatment           27.870968              0.129032           72.000000\n",
            "Grand Total         29.727353              0.439754           69.832894\n",
            "Cross-tabulation with counts:\n",
            "e_wcase      enough attention  too little attention  too much attention\n",
            "treatment                                                              \n",
            "Control                    82                     1                 256\n",
            "Treatment                 193                     2                 527\n",
            "Grand Total               275                     3                 783\n",
            "\n",
            "Row percentages:\n",
            "e_wcase      enough attention  too little attention  too much attention\n",
            "treatment                                                              \n",
            "Control             24.188791              0.294985           75.516224\n",
            "Treatment           26.731302              0.277008           72.991690\n",
            "Grand Total         25.918944              0.282752           73.798303\n"
          ]
        }
      ]
    },
    {
      "cell_type": "markdown",
      "source": [
        "The answer to the 'attention' of police in addressing women related crimes/inquiries is revealing with the majority of police staff selecting \"too much attention\" is paid to women-related cases.   Interesting, the % of respondents in the treatment group saying \"too much attention\" is paid increased in the treatment group from baseline to endline."
      ],
      "metadata": {
        "id": "9vIzXz0qUAaL"
      }
    },
    {
      "cell_type": "code",
      "source": [
        "# Initial Counts and Cross Tabs of Baseline and Endline Police Officer Perceptions\n",
        "# Focusing on Responders Who Filled Out Survey at Baseline and Endline;\n",
        "\n",
        "# Start with 1 Dimensional Views;\n",
        "\n",
        "# \"Helpful\" Baseline and Endline Perceptions, Broken Out By Treatment and Control Stations\n",
        "\n",
        "# Columns to iterate through for cross-tabulation\n",
        "columns_to_cross = ['b_helpful_x', 'e_helpful']\n",
        "\n",
        "# Iterate and create cross-tabs\n",
        "for col in columns_to_cross:\n",
        "\n",
        "# Create a cross-tabulation with counts\n",
        "     cross_tab = pd.crosstab(q5_eda_both_df['treatment'], q5_eda_both_df[col])\n",
        "     cross_tab.loc['Grand Total']= cross_tab.sum(numeric_only=True, axis=0)\n",
        "\n",
        "# Calculate row percentages\n",
        "     row_percentages = cross_tab.div(cross_tab.sum(axis=1), axis=0) * 100\n",
        "\n",
        "     print(\"Cross-tabulation with counts:\")\n",
        "     print(cross_tab.to_string())\n",
        "     print(\"\\nRow percentages:\")\n",
        "     print(row_percentages.to_string())\n"
      ],
      "metadata": {
        "colab": {
          "base_uri": "https://localhost:8080/"
        },
        "id": "9-xVMLWXV6D3",
        "outputId": "27ca4c81-9bd9-4c67-c84f-af6c87a76ca9"
      },
      "execution_count": null,
      "outputs": [
        {
          "output_type": "stream",
          "name": "stdout",
          "text": [
            "Cross-tabulation with counts:\n",
            "b_helpful_x  helpful  neither helpful nor unhelpful  unhelpful  very helpful  very unhelpful\n",
            "treatment                                                                                   \n",
            "Control          121                              3          1           237               0\n",
            "Treatment        282                              6          1           484               2\n",
            "Grand Total      403                              9          2           721               2\n",
            "\n",
            "Row percentages:\n",
            "b_helpful_x    helpful  neither helpful nor unhelpful  unhelpful  very helpful  very unhelpful\n",
            "treatment                                                                                     \n",
            "Control      33.425414                       0.828729   0.276243     65.469613        0.000000\n",
            "Treatment    36.387097                       0.774194   0.129032     62.451613        0.258065\n",
            "Grand Total  35.444151                       0.791557   0.175901     63.412489        0.175901\n",
            "Cross-tabulation with counts:\n",
            "e_helpful    helpful  unhelpful  very helpful  very unhelpful\n",
            "treatment                                                    \n",
            "Control           93          2           244               0\n",
            "Treatment        259          1           466               2\n",
            "Grand Total      352          3           710               2\n",
            "\n",
            "Row percentages:\n",
            "e_helpful      helpful  unhelpful  very helpful  very unhelpful\n",
            "treatment                                                      \n",
            "Control      27.433628   0.589971     71.976401        0.000000\n",
            "Treatment    35.576923   0.137363     64.010989        0.274725\n",
            "Grand Total  32.989691   0.281162     66.541706        0.187441\n"
          ]
        }
      ]
    },
    {
      "cell_type": "markdown",
      "source": [
        "The answer to the 'helpfulness' of police in addressing women related crimes/inquiries shows overwhelming high % selecting \"effective\" or \"very effective\" at both baseline and endline (97% + of respondents).  \n",
        "\n",
        "It appears the number of potential answers was reduced on the endline survey (with \"neither helpful nor unhelpful\" no longer an option) ... confirmed when examining actual survey instrument."
      ],
      "metadata": {
        "id": "Qi1tJRhfUpn2"
      }
    },
    {
      "cell_type": "code",
      "source": [
        "# Initial Counts and Cross Tabs of Baseline and Endline Police Officer Perceptions\n",
        "# Focusing on Responders Who Filled Out Survey at Baseline and Endline;\n",
        "\n",
        "# Start with 1 Dimensional Views;\n",
        "\n",
        "# \"Add Officer\" Baseline and Endline Perceptions, Broken Out By Treatment and Control Stations\n",
        "\n",
        "# Columns to iterate through for cross-tabulation\n",
        "columns_to_cross = ['b_add_officer_x', 'e_add_officer']\n",
        "\n",
        "# Iterate and create cross-tabs\n",
        "for col in columns_to_cross:\n",
        "\n",
        "# Create a cross-tabulation with counts\n",
        "     cross_tab = pd.crosstab(q5_eda_both_df['treatment'], q5_eda_both_df[col])\n",
        "     cross_tab.loc['Grand Total']= cross_tab.sum(numeric_only=True, axis=0)\n",
        "\n",
        "# Calculate row percentages\n",
        "     row_percentages = cross_tab.div(cross_tab.sum(axis=1), axis=0) * 100\n",
        "\n",
        "     print(\"Cross-tabulation with counts:\")\n",
        "     print(cross_tab.to_string())\n",
        "     print(\"\\nRow percentages:\")\n",
        "     print(row_percentages.to_string())\n"
      ],
      "metadata": {
        "colab": {
          "base_uri": "https://localhost:8080/"
        },
        "id": "SOSRgG5IWLxk",
        "outputId": "fb656e81-6329-4b1b-dbee-b668d3bdcdcb"
      },
      "execution_count": null,
      "outputs": [
        {
          "output_type": "stream",
          "name": "stdout",
          "text": [
            "Cross-tabulation with counts:\n",
            "b_add_officer_x  less effective  more effective  much less effective  much more effective  no difference\n",
            "treatment                                                                                               \n",
            "Control                       2             164                    1                  176             20\n",
            "Treatment                     6             353                    1                  381             35\n",
            "Grand Total                   8             517                    2                  557             55\n",
            "\n",
            "Row percentages:\n",
            "b_add_officer_x  less effective  more effective  much less effective  much more effective  no difference\n",
            "treatment                                                                                               \n",
            "Control                0.550964       45.179063             0.275482            48.484848       5.509642\n",
            "Treatment              0.773196       45.489691             0.128866            49.097938       4.510309\n",
            "Grand Total            0.702371       45.390694             0.175593            48.902546       4.828797\n",
            "Cross-tabulation with counts:\n",
            "e_add_officer  less effective  more effective  much more effective\n",
            "treatment                                                         \n",
            "Control                     0             112                  225\n",
            "Treatment                   4             264                  459\n",
            "Grand Total                 4             376                  684\n",
            "\n",
            "Row percentages:\n",
            "e_add_officer  less effective  more effective  much more effective\n",
            "treatment                                                         \n",
            "Control              0.000000       33.234421            66.765579\n",
            "Treatment            0.550206       36.313618            63.136176\n",
            "Grand Total          0.375940       35.338346            64.285714\n"
          ]
        }
      ]
    },
    {
      "cell_type": "markdown",
      "source": [
        "The answer to the 'effectiveness of adding officers' to station staff shows overwhelming high % selecting \"effective\" or \"very effective\" at both baseline and endline (97% + of respondents) without visual differences in treatment vs. control\n",
        "\n",
        "It appears the number of potential answers was reduced on the endline survey (with \"much more\" and \"much less\" responses no longer an option) ... confirmed when examining actual survey instrument."
      ],
      "metadata": {
        "id": "elWrceQGVXsf"
      }
    },
    {
      "cell_type": "code",
      "source": [
        "# Initial Counts and Cross Tabs of Baseline and Endline Police Officer Perceptions\n",
        "# Focusing on Responders Who Filled Out Survey at Baseline and Endline;\n",
        "\n",
        "# Start with 1 Dimensional Views;\n",
        "\n",
        "# \"Add Female Officer\" Baseline and Endline Perceptions, Broken Out By Treatment and Control Stations\n",
        "\n",
        "# Columns to iterate through for cross-tabulation\n",
        "columns_to_cross = ['b_add_female_x', 'e_add_female']\n",
        "\n",
        "# Iterate and create cross-tabs\n",
        "for col in columns_to_cross:\n",
        "\n",
        "# Create a cross-tabulation with counts\n",
        "     cross_tab = pd.crosstab(q5_eda_both_df['treatment'], q5_eda_both_df[col])\n",
        "     cross_tab.loc['Grand Total']= cross_tab.sum(numeric_only=True, axis=0)\n",
        "\n",
        "# Calculate row percentages\n",
        "     row_percentages = cross_tab.div(cross_tab.sum(axis=1), axis=0) * 100\n",
        "\n",
        "     print(\"Cross-tabulation with counts:\")\n",
        "     print(cross_tab.to_string())\n",
        "     print(\"\\nRow percentages:\")\n",
        "     print(row_percentages.to_string())\n"
      ],
      "metadata": {
        "colab": {
          "base_uri": "https://localhost:8080/"
        },
        "id": "STvxwx_9W6K-",
        "outputId": "2ed194ba-f098-4b64-e70f-b7307e920e16"
      },
      "execution_count": null,
      "outputs": [
        {
          "output_type": "stream",
          "name": "stdout",
          "text": [
            "Cross-tabulation with counts:\n",
            "b_add_female_x  less effective  more effective  much less effective  much more effective  no difference\n",
            "treatment                                                                                              \n",
            "Control                    111               2                  232                    1             17\n",
            "Treatment                  256               6                  471                    3             40\n",
            "Grand Total                367               8                  703                    4             57\n",
            "\n",
            "Row percentages:\n",
            "b_add_female_x  less effective  more effective  much less effective  much more effective  no difference\n",
            "treatment                                                                                              \n",
            "Control              30.578512        0.550964            63.911846             0.275482       4.683196\n",
            "Treatment            32.989691        0.773196            60.695876             0.386598       5.154639\n",
            "Grand Total          32.221247        0.702371            61.720808             0.351185       5.004390\n",
            "Cross-tabulation with counts:\n",
            "e_add_female  Less effective  More Effective  No difference\n",
            "treatment                                                  \n",
            "Control                  228               5            105\n",
            "Treatment                452               8            267\n",
            "Grand Total              680              13            372\n",
            "\n",
            "Row percentages:\n",
            "e_add_female  Less effective  More Effective  No difference\n",
            "treatment                                                  \n",
            "Control            67.455621        1.479290      31.065089\n",
            "Treatment          62.173315        1.100413      36.726272\n",
            "Grand Total        63.849765        1.220657      34.929577\n"
          ]
        }
      ]
    },
    {
      "cell_type": "markdown",
      "source": [
        "The answer to the 'effectiveness of adding female officers' is telling, with respondents overwhelming selecting  \"less effective\" or \"or much less effective\" at both baseline and endline (93% + of respondents) without visual differences in treatment vs. control.   This could reflect the male dominated culture and responder pool for the survey.\n",
        "\n",
        "It appears the number of potential answers was reduced on the endline survey (with \"much more\" and \"much less\" responses no longer an option) ... confirmed when examining actual survey instrument.   The baseline responders of 'no difference' likely switched to 'less' or 'much less' effective at endline (as the option was no longer available)."
      ],
      "metadata": {
        "id": "i033PmuAWSc6"
      }
    },
    {
      "cell_type": "code",
      "source": [
        "# Initial Counts and Cross Tabs of Baseline and Endline Police Officer Perceptions\n",
        "# Focusing on Responders Who Filled Out Survey at Baseline and Endline;\n",
        "\n",
        "# Start with 1 Dimensional Views;\n",
        "\n",
        "# \"Female Better\" Baseline and Endline Perceptions, Broken Out By Treatment and Control Stations\n",
        "\n",
        "# Columns to iterate through for cross-tabulation\n",
        "columns_to_cross = ['b_female_better_x', 'e_female_better']\n",
        "\n",
        "# Iterate and create cross-tabs\n",
        "for col in columns_to_cross:\n",
        "\n",
        "# Create a cross-tabulation with counts\n",
        "     cross_tab = pd.crosstab(q5_eda_both_df['treatment'], q5_eda_both_df[col])\n",
        "     cross_tab.loc['Grand Total']= cross_tab.sum(numeric_only=True, axis=0)\n",
        "\n",
        "# Calculate row percentages\n",
        "     row_percentages = cross_tab.div(cross_tab.sum(axis=1), axis=0) * 100\n",
        "\n",
        "     print(\"Cross-tabulation with counts:\")\n",
        "     print(cross_tab.to_string())\n",
        "     print(\"\\nRow percentages:\")\n",
        "     print(row_percentages.to_string())\n"
      ],
      "metadata": {
        "colab": {
          "base_uri": "https://localhost:8080/"
        },
        "id": "ww6eFkh1XPPx",
        "outputId": "5e2a68b8-d8f9-4544-eaa5-b239f2e3c961"
      },
      "execution_count": null,
      "outputs": [
        {
          "output_type": "stream",
          "name": "stdout",
          "text": [
            "Cross-tabulation with counts:\n",
            "b_female_better_x  female  male  no difference\n",
            "treatment                                     \n",
            "Control               289    23             51\n",
            "Treatment             626    53             95\n",
            "Grand Total           915    76            146\n",
            "\n",
            "Row percentages:\n",
            "b_female_better_x     female      male  no difference\n",
            "treatment                                            \n",
            "Control            79.614325  6.336088      14.049587\n",
            "Treatment          80.878553  6.847545      12.273902\n",
            "Grand Total        80.474934  6.684257      12.840809\n",
            "Cross-tabulation with counts:\n",
            "e_female_better  female  male  no difference\n",
            "treatment                                   \n",
            "Control             256    16             66\n",
            "Treatment           570    35            123\n",
            "Grand Total         826    51            189\n",
            "\n",
            "Row percentages:\n",
            "e_female_better     female      male  no difference\n",
            "treatment                                          \n",
            "Control          75.739645  4.733728      19.526627\n",
            "Treatment        78.296703  4.807692      16.895604\n",
            "Grand Total      77.485929  4.784240      17.729831\n"
          ]
        }
      ]
    },
    {
      "cell_type": "code",
      "source": [],
      "metadata": {
        "id": "84kCKn6AYLx2"
      },
      "execution_count": null,
      "outputs": []
    },
    {
      "cell_type": "markdown",
      "source": [
        "Most (~80% respondents) stated female staff are more effective in dealing with cases related to women.  This interesting falls in constrast to the results of the 'effectivenss of adding a female officer' responses.  Indicates that there is recognition that women are more effective at dealing with cases, but there as unwillingness to address with more women in leadership positions."
      ],
      "metadata": {
        "id": "wh4cwoDhXiHQ"
      }
    },
    {
      "cell_type": "code",
      "source": [
        "# Start to Examine Perception Data Broken Out by Station Characteristics\n",
        "\n",
        "# Initial Counts and Cross Tabs of Baseline and Endline Police Officer Perceptions\n",
        "# Focusing on Responders Who Filled Out Survey at Baseline and Endline;\n",
        "\n",
        "# Start with 1 Dimensional Views;\n",
        "\n",
        "# \"Wcase Attention\" Baseline and Endline Perceptions, Broken Out By Treatment and Control Stations\n",
        "#  Broken out by Station Urban Status\n",
        "\n",
        "# Columns to iterate through for cross-tabulation\n",
        "columns_to_cross = ['b_wcase_x', 'e_wcase']\n",
        "\n",
        "# Iterate and create cross-tabs\n",
        "for col in columns_to_cross:\n",
        "\n",
        "# Create a cross-tabulation with counts\n",
        "     cross_tab = pd.crosstab(index=[q5_eda_both_df['treatment'],q5_eda_both_df['urban']], columns=q5_eda_both_df[col])\n",
        "     cross_tab.loc['Grand Total']= cross_tab.sum(numeric_only=True, axis=0)\n",
        "\n",
        "# Calculate row percentages\n",
        "     row_percentages = cross_tab.div(cross_tab.sum(axis=1), axis=0) * 100\n",
        "\n",
        "     print(\"Cross-tabulation with counts:\")\n",
        "     print(cross_tab.to_string())\n",
        "     print(\"\\nRow percentages:\")\n",
        "     print(row_percentages.to_string())"
      ],
      "metadata": {
        "colab": {
          "base_uri": "https://localhost:8080/"
        },
        "id": "CyviCNjiZnlW",
        "outputId": "6f5445b1-f3da-42a2-c595-771acf00f850"
      },
      "execution_count": null,
      "outputs": [
        {
          "output_type": "stream",
          "name": "stdout",
          "text": [
            "Cross-tabulation with counts:\n",
            "b_wcase_x           enough attention  too little attention  too much attention\n",
            "(Control, Rural)                  68                     3                 129\n",
            "(Control, Urban)                  54                     1                 107\n",
            "(Treatment, Rural)               124                     0                 276\n",
            "(Treatment, Urban)                92                     1                 282\n",
            "Grand Total                      338                     5                 794\n",
            "\n",
            "Row percentages:\n",
            "b_wcase_x           enough attention  too little attention  too much attention\n",
            "(Control, Rural)           34.000000              1.500000           64.500000\n",
            "(Control, Urban)           33.333333              0.617284           66.049383\n",
            "(Treatment, Rural)         31.000000              0.000000           69.000000\n",
            "(Treatment, Urban)         24.533333              0.266667           75.200000\n",
            "Grand Total                29.727353              0.439754           69.832894\n",
            "Cross-tabulation with counts:\n",
            "e_wcase             enough attention  too little attention  too much attention\n",
            "(Control, Rural)                  42                     0                 145\n",
            "(Control, Urban)                  40                     1                 111\n",
            "(Treatment, Rural)                98                     1                 271\n",
            "(Treatment, Urban)                95                     1                 256\n",
            "Grand Total                      275                     3                 783\n",
            "\n",
            "Row percentages:\n",
            "e_wcase             enough attention  too little attention  too much attention\n",
            "(Control, Rural)           22.459893              0.000000           77.540107\n",
            "(Control, Urban)           26.315789              0.657895           73.026316\n",
            "(Treatment, Rural)         26.486486              0.270270           73.243243\n",
            "(Treatment, Urban)         26.988636              0.284091           72.727273\n",
            "Grand Total                25.918944              0.282752           73.798303\n"
          ]
        }
      ]
    },
    {
      "cell_type": "markdown",
      "source": [],
      "metadata": {
        "id": "Bgaz45ZmZJ3x"
      }
    },
    {
      "cell_type": "markdown",
      "source": [
        "Staring to examine, pre/post perceptions, broken out by station characteristics.  Slight differences in 'attention paid to\" across rural and urban stations but all classes had high incidence of \"too much attention\" selected.  The only group with a slight decline in \"too much attention\" was the urban/treatment group but appears inconsequential.\n"
      ],
      "metadata": {
        "id": "MhxwtSZXYQSj"
      }
    },
    {
      "cell_type": "code",
      "source": [
        "# Start to Examine Perception Data Broken Out by Station Characteristics\n",
        "\n",
        "# Initial Counts and Cross Tabs of Baseline and Endline Police Officer Perceptions\n",
        "# Focusing on Responders Who Filled Out Survey at Baseline and Endline;\n",
        "\n",
        "# Start with 1 Dimensional Views;\n",
        "\n",
        "# \"Effective\" Baseline and Endline Perceptions, Broken Out By Treatment and Control Stations\n",
        "#  Broken out by Station Urban Status\n",
        "\n",
        "# Columns to iterate through for cross-tabulation\n",
        "columns_to_cross = ['b_effective_x', 'e_effective']\n",
        "\n",
        "# Iterate and create cross-tabs\n",
        "for col in columns_to_cross:\n",
        "\n",
        "# Create a cross-tabulation with counts\n",
        "     cross_tab = pd.crosstab(index=[q5_eda_both_df['treatment'],q5_eda_both_df['urban']], columns=q5_eda_both_df[col])\n",
        "     cross_tab.loc['Grand Total']= cross_tab.sum(numeric_only=True, axis=0)\n",
        "\n",
        "# Calculate row percentages\n",
        "     row_percentages = cross_tab.div(cross_tab.sum(axis=1), axis=0) * 100\n",
        "\n",
        "     print(\"Cross-tabulation with counts:\")\n",
        "     print(cross_tab.to_string())\n",
        "     print(\"\\nRow percentages:\")\n",
        "     print(row_percentages.to_string())"
      ],
      "metadata": {
        "colab": {
          "base_uri": "https://localhost:8080/"
        },
        "id": "8CRHGfGUdZ9K",
        "outputId": "fe1bf705-21ad-4219-998d-fab95f383b72"
      },
      "execution_count": null,
      "outputs": [
        {
          "output_type": "stream",
          "name": "stdout",
          "text": [
            "Cross-tabulation with counts:\n",
            "b_effective_x       effective  ineffective  neither effective nor ineffective  very effective  very ineffective\n",
            "(Control, Rural)           61            1                                  3             134                 1\n",
            "(Control, Urban)           61            0                                  3              95                 1\n",
            "(Treatment, Rural)        140            1                                  4             254                 1\n",
            "(Treatment, Urban)        118            0                                  2             253                 1\n",
            "Grand Total               380            2                                 12             736                 4\n",
            "\n",
            "Row percentages:\n",
            "b_effective_x       effective  ineffective  neither effective nor ineffective  very effective  very ineffective\n",
            "(Control, Rural)    30.500000     0.500000                           1.500000       67.000000          0.500000\n",
            "(Control, Urban)    38.125000     0.000000                           1.875000       59.375000          0.625000\n",
            "(Treatment, Rural)  35.000000     0.250000                           1.000000       63.500000          0.250000\n",
            "(Treatment, Urban)  31.550802     0.000000                           0.534759       67.647059          0.267380\n",
            "Grand Total         33.509700     0.176367                           1.058201       64.902998          0.352734\n",
            "Cross-tabulation with counts:\n",
            "e_effective         effective  ineffective  very effective  very ineffective\n",
            "(Control, Rural)           68            0             119                 0\n",
            "(Control, Urban)           63            0              88                 0\n",
            "(Treatment, Rural)        150            3             218                 0\n",
            "(Treatment, Urban)        152            0             204                 2\n",
            "Grand Total               433            3             629                 2\n",
            "\n",
            "Row percentages:\n",
            "e_effective         effective  ineffective  very effective  very ineffective\n",
            "(Control, Rural)    36.363636     0.000000       63.636364          0.000000\n",
            "(Control, Urban)    41.721854     0.000000       58.278146          0.000000\n",
            "(Treatment, Rural)  40.431267     0.808625       58.760108          0.000000\n",
            "(Treatment, Urban)  42.458101     0.000000       56.983240          0.558659\n",
            "Grand Total         40.581068     0.281162       58.950328          0.187441\n"
          ]
        }
      ]
    },
    {
      "cell_type": "markdown",
      "source": [
        " Slight differences, but general consistency, in 'effectiveness\" of dealing with cases across rural and urban stations but all classes had high incidence of \"eeffecive or very effective\" selected.  "
      ],
      "metadata": {
        "id": "wIXP16xLZNic"
      }
    },
    {
      "cell_type": "code",
      "source": [
        "# Start to Examine Perception Data Broken Out by Station Characteristics\n",
        "\n",
        "# Initial Counts and Cross Tabs of Baseline and Endline Police Officer Perceptions\n",
        "# Focusing on Responders Who Filled Out Survey at Baseline and Endline;\n",
        "\n",
        "# Start with 1 Dimensional Views;\n",
        "\n",
        "# \"Helpful\" Baseline and Endline Perceptions, Broken Out By Treatment and Control Stations\n",
        "#  Broken out by Station Urban Status\n",
        "\n",
        "# Columns to iterate through for cross-tabulation\n",
        "columns_to_cross = ['b_helpful_x', 'e_helpful']\n",
        "\n",
        "# Iterate and create cross-tabs\n",
        "for col in columns_to_cross:\n",
        "\n",
        "# Create a cross-tabulation with counts\n",
        "     cross_tab = pd.crosstab(index=[q5_eda_both_df['treatment'],q5_eda_both_df['urban']], columns=q5_eda_both_df[col])\n",
        "     cross_tab.loc['Grand Total']= cross_tab.sum(numeric_only=True, axis=0)\n",
        "\n",
        "# Calculate row percentages\n",
        "     row_percentages = cross_tab.div(cross_tab.sum(axis=1), axis=0) * 100\n",
        "\n",
        "     print(\"Cross-tabulation with counts:\")\n",
        "     print(cross_tab.to_string())\n",
        "     print(\"\\nRow percentages:\")\n",
        "     print(row_percentages.to_string())"
      ],
      "metadata": {
        "colab": {
          "base_uri": "https://localhost:8080/"
        },
        "id": "_JPbBWqfdqG1",
        "outputId": "e1fcf048-9a34-46cb-8ad7-206c9cd36eba"
      },
      "execution_count": null,
      "outputs": [
        {
          "output_type": "stream",
          "name": "stdout",
          "text": [
            "Cross-tabulation with counts:\n",
            "b_helpful_x         helpful  neither helpful nor unhelpful  unhelpful  very helpful  very unhelpful\n",
            "(Control, Rural)         70                              1          1           128               0\n",
            "(Control, Urban)         51                              2          0           109               0\n",
            "(Treatment, Rural)      155                              3          1           239               2\n",
            "(Treatment, Urban)      127                              3          0           245               0\n",
            "Grand Total             403                              9          2           721               2\n",
            "\n",
            "Row percentages:\n",
            "b_helpful_x           helpful  neither helpful nor unhelpful  unhelpful  very helpful  very unhelpful\n",
            "(Control, Rural)    35.000000                       0.500000   0.500000     64.000000        0.000000\n",
            "(Control, Urban)    31.481481                       1.234568   0.000000     67.283951        0.000000\n",
            "(Treatment, Rural)  38.750000                       0.750000   0.250000     59.750000        0.500000\n",
            "(Treatment, Urban)  33.866667                       0.800000   0.000000     65.333333        0.000000\n",
            "Grand Total         35.444151                       0.791557   0.175901     63.412489        0.175901\n",
            "Cross-tabulation with counts:\n",
            "e_helpful           helpful  unhelpful  very helpful  very unhelpful\n",
            "(Control, Rural)         54          1           132               0\n",
            "(Control, Urban)         39          1           112               0\n",
            "(Treatment, Rural)      134          0           236               0\n",
            "(Treatment, Urban)      125          1           230               2\n",
            "Grand Total             352          3           710               2\n",
            "\n",
            "Row percentages:\n",
            "e_helpful             helpful  unhelpful  very helpful  very unhelpful\n",
            "(Control, Rural)    28.877005   0.534759     70.588235        0.000000\n",
            "(Control, Urban)    25.657895   0.657895     73.684211        0.000000\n",
            "(Treatment, Rural)  36.216216   0.000000     63.783784        0.000000\n",
            "(Treatment, Urban)  34.916201   0.279330     64.245810        0.558659\n",
            "Grand Total         32.989691   0.281162     66.541706        0.187441\n"
          ]
        }
      ]
    },
    {
      "cell_type": "markdown",
      "source": [
        "Slight differences, but general consistency, in 'helpfulness\" of dealing with cases across rural and urban stations but all classes had high incidence of \"eeffecive or very effective\" selected."
      ],
      "metadata": {
        "id": "IHmCudCEaEAh"
      }
    },
    {
      "cell_type": "code",
      "source": [
        "# Start to Examine Perception Data Broken Out by Station Characteristics\n",
        "\n",
        "# Initial Counts and Cross Tabs of Baseline and Endline Police Officer Perceptions\n",
        "# Focusing on Responders Who Filled Out Survey at Baseline and Endline;\n",
        "\n",
        "# Start with 1 Dimensional Views;\n",
        "\n",
        "# \"Add Officer\" Baseline and Endline Perceptions, Broken Out By Treatment and Control Stations\n",
        "#  Broken out by Station Urban Status\n",
        "\n",
        "# Columns to iterate through for cross-tabulation\n",
        "columns_to_cross = ['b_add_officer_x', 'e_add_officer']\n",
        "\n",
        "# Iterate and create cross-tabs\n",
        "for col in columns_to_cross:\n",
        "\n",
        "# Create a cross-tabulation with counts\n",
        "     cross_tab = pd.crosstab(index=[q5_eda_both_df['treatment'],q5_eda_both_df['urban']], columns=q5_eda_both_df[col])\n",
        "     cross_tab.loc['Grand Total']= cross_tab.sum(numeric_only=True, axis=0)\n",
        "\n",
        "# Calculate row percentages\n",
        "     row_percentages = cross_tab.div(cross_tab.sum(axis=1), axis=0) * 100\n",
        "\n",
        "     print(\"Cross-tabulation with counts:\")\n",
        "     print(cross_tab.to_string())\n",
        "     print(\"\\nRow percentages:\")\n",
        "     print(row_percentages.to_string())"
      ],
      "metadata": {
        "colab": {
          "base_uri": "https://localhost:8080/"
        },
        "id": "on5Wh2HWetqe",
        "outputId": "fa42bc05-4fa5-4bb3-ed2e-06d71d651b2e"
      },
      "execution_count": null,
      "outputs": [
        {
          "output_type": "stream",
          "name": "stdout",
          "text": [
            "Cross-tabulation with counts:\n",
            "b_add_officer_x     less effective  more effective  much less effective  much more effective  no difference\n",
            "(Control, Rural)                 1              95                    1                   92             12\n",
            "(Control, Urban)                 1              69                    0                   84              8\n",
            "(Treatment, Rural)               5             192                    1                  190             13\n",
            "(Treatment, Urban)               1             161                    0                  191             22\n",
            "Grand Total                      8             517                    2                  557             55\n",
            "\n",
            "Row percentages:\n",
            "b_add_officer_x     less effective  more effective  much less effective  much more effective  no difference\n",
            "(Control, Rural)          0.497512       47.263682             0.497512            45.771144       5.970149\n",
            "(Control, Urban)          0.617284       42.592593             0.000000            51.851852       4.938272\n",
            "(Treatment, Rural)        1.246883       47.880299             0.249377            47.381546       3.241895\n",
            "(Treatment, Urban)        0.266667       42.933333             0.000000            50.933333       5.866667\n",
            "Grand Total               0.702371       45.390694             0.175593            48.902546       4.828797\n",
            "Cross-tabulation with counts:\n",
            "e_add_officer       less effective  more effective  much more effective\n",
            "(Control, Rural)                 0              57                  130\n",
            "(Control, Urban)                 0              55                   95\n",
            "(Treatment, Rural)               3             119                  248\n",
            "(Treatment, Urban)               1             145                  211\n",
            "Grand Total                      4             376                  684\n",
            "\n",
            "Row percentages:\n",
            "e_add_officer       less effective  more effective  much more effective\n",
            "(Control, Rural)          0.000000       30.481283            69.518717\n",
            "(Control, Urban)          0.000000       36.666667            63.333333\n",
            "(Treatment, Rural)        0.810811       32.162162            67.027027\n",
            "(Treatment, Urban)        0.280112       40.616246            59.103641\n",
            "Grand Total               0.375940       35.338346            64.285714\n"
          ]
        }
      ]
    },
    {
      "cell_type": "markdown",
      "source": [
        "Overwhelming (98%+) believe adding officer will be effective or much more effective.   Difference in response categories between baseline and endline.  Biggest shift from more effective to much more effective is among rural respondents at baseline"
      ],
      "metadata": {
        "id": "MugcxDZQci_f"
      }
    },
    {
      "cell_type": "code",
      "source": [
        "# Start to Examine Perception Data Broken Out by Station Characteristics\n",
        "\n",
        "# Initial Counts and Cross Tabs of Baseline and Endline Police Officer Perceptions\n",
        "# Focusing on Responders Who Filled Out Survey at Baseline and Endline;\n",
        "\n",
        "# Start with 1 Dimensional Views;\n",
        "\n",
        "# \"Add Female\" Baseline and Endline Perceptions, Broken Out By Treatment and Control Stations\n",
        "#  Broken out by Station Urban Status\n",
        "\n",
        "# Columns to iterate through for cross-tabulation\n",
        "columns_to_cross = ['b_add_female_x', 'e_add_female']\n",
        "\n",
        "# Iterate and create cross-tabs\n",
        "for col in columns_to_cross:\n",
        "\n",
        "# Create a cross-tabulation with counts\n",
        "     cross_tab = pd.crosstab(index=[q5_eda_both_df['treatment'],q5_eda_both_df['urban']], columns=q5_eda_both_df[col])\n",
        "     cross_tab.loc['Grand Total']= cross_tab.sum(numeric_only=True, axis=0)\n",
        "\n",
        "# Calculate row percentages\n",
        "     row_percentages = cross_tab.div(cross_tab.sum(axis=1), axis=0) * 100\n",
        "\n",
        "     print(\"Cross-tabulation with counts:\")\n",
        "     print(cross_tab.to_string())\n",
        "     print(\"\\nRow percentages:\")\n",
        "     print(row_percentages.to_string())"
      ],
      "metadata": {
        "colab": {
          "base_uri": "https://localhost:8080/"
        },
        "id": "l1ClUP5le3Yx",
        "outputId": "0fb13c8f-cdc8-49da-c854-786f86c6d589"
      },
      "execution_count": null,
      "outputs": [
        {
          "output_type": "stream",
          "name": "stdout",
          "text": [
            "Cross-tabulation with counts:\n",
            "b_add_female_x      less effective  more effective  much less effective  much more effective  no difference\n",
            "(Control, Rural)                64               0                  130                    1              6\n",
            "(Control, Urban)                47               2                  102                    0             11\n",
            "(Treatment, Rural)             127               3                  251                    2             18\n",
            "(Treatment, Urban)             129               3                  220                    1             22\n",
            "Grand Total                    367               8                  703                    4             57\n",
            "\n",
            "Row percentages:\n",
            "b_add_female_x      less effective  more effective  much less effective  much more effective  no difference\n",
            "(Control, Rural)         31.840796        0.000000            64.676617             0.497512       2.985075\n",
            "(Control, Urban)         29.012346        1.234568            62.962963             0.000000       6.790123\n",
            "(Treatment, Rural)       31.670823        0.748130            62.593516             0.498753       4.488778\n",
            "(Treatment, Urban)       34.400000        0.800000            58.666667             0.266667       5.866667\n",
            "Grand Total              32.221247        0.702371            61.720808             0.351185       5.004390\n",
            "Cross-tabulation with counts:\n",
            "e_add_female        Less effective  More Effective  No difference\n",
            "(Control, Rural)               123               2             62\n",
            "(Control, Urban)               105               3             43\n",
            "(Treatment, Rural)             240               4            126\n",
            "(Treatment, Urban)             212               4            141\n",
            "Grand Total                    680              13            372\n",
            "\n",
            "Row percentages:\n",
            "e_add_female        Less effective  More Effective  No difference\n",
            "(Control, Rural)         65.775401        1.069519      33.155080\n",
            "(Control, Urban)         69.536424        1.986755      28.476821\n",
            "(Treatment, Rural)       64.864865        1.081081      34.054054\n",
            "(Treatment, Urban)       59.383754        1.120448      39.495798\n",
            "Grand Total              63.849765        1.220657      34.929577\n"
          ]
        }
      ]
    },
    {
      "cell_type": "markdown",
      "source": [
        "Different response choices between baseline and endline make findings difficult in this view.  Responders consistently believe that adding female staff would be less effective or no difference.  \n"
      ],
      "metadata": {
        "id": "axl134PXdS1S"
      }
    },
    {
      "cell_type": "code",
      "source": [
        "# Start to Examine Perception Data Broken Out by Station Characteristics\n",
        "\n",
        "# Initial Counts and Cross Tabs of Baseline and Endline Police Officer Perceptions\n",
        "# Focusing on Responders Who Filled Out Survey at Baseline and Endline;\n",
        "\n",
        "# Start with 1 Dimensional Views;\n",
        "\n",
        "# \"Female Better\" Baseline and Endline Perceptions, Broken Out By Treatment and Control Stations\n",
        "#  Broken out by Station Urban Status\n",
        "\n",
        "# Columns to iterate through for cross-tabulation\n",
        "columns_to_cross = ['b_female_better_x', 'e_female_better']\n",
        "\n",
        "# Iterate and create cross-tabs\n",
        "for col in columns_to_cross:\n",
        "\n",
        "# Create a cross-tabulation with counts\n",
        "     cross_tab = pd.crosstab(index=[q5_eda_both_df['treatment'],q5_eda_both_df['urban']], columns=q5_eda_both_df[col])\n",
        "     cross_tab.loc['Grand Total']= cross_tab.sum(numeric_only=True, axis=0)\n",
        "\n",
        "# Calculate row percentages\n",
        "     row_percentages = cross_tab.div(cross_tab.sum(axis=1), axis=0) * 100\n",
        "\n",
        "     print(\"Cross-tabulation with counts:\")\n",
        "     print(cross_tab.to_string())\n",
        "     print(\"\\nRow percentages:\")\n",
        "     print(row_percentages.to_string())"
      ],
      "metadata": {
        "colab": {
          "base_uri": "https://localhost:8080/"
        },
        "id": "Rb0t_FQ_fCYB",
        "outputId": "db6f7dd9-c52f-4853-d992-e8df8d19611d"
      },
      "execution_count": null,
      "outputs": [
        {
          "output_type": "stream",
          "name": "stdout",
          "text": [
            "Cross-tabulation with counts:\n",
            "b_female_better_x   female  male  no difference\n",
            "(Control, Rural)       155    14             32\n",
            "(Control, Urban)       134     9             19\n",
            "(Treatment, Rural)     325    27             49\n",
            "(Treatment, Urban)     301    26             46\n",
            "Grand Total            915    76            146\n",
            "\n",
            "Row percentages:\n",
            "b_female_better_x      female      male  no difference\n",
            "(Control, Rural)    77.114428  6.965174      15.920398\n",
            "(Control, Urban)    82.716049  5.555556      11.728395\n",
            "(Treatment, Rural)  81.047382  6.733167      12.219451\n",
            "(Treatment, Urban)  80.697051  6.970509      12.332440\n",
            "Grand Total         80.474934  6.684257      12.840809\n",
            "Cross-tabulation with counts:\n",
            "e_female_better     female  male  no difference\n",
            "(Control, Rural)       137     6             44\n",
            "(Control, Urban)       119    10             22\n",
            "(Treatment, Rural)     284    18             68\n",
            "(Treatment, Urban)     286    17             55\n",
            "Grand Total            826    51            189\n",
            "\n",
            "Row percentages:\n",
            "e_female_better        female      male  no difference\n",
            "(Control, Rural)    73.262032  3.208556      23.529412\n",
            "(Control, Urban)    78.807947  6.622517      14.569536\n",
            "(Treatment, Rural)  76.756757  4.864865      18.378378\n",
            "(Treatment, Urban)  79.888268  4.748603      15.363128\n",
            "Grand Total         77.485929  4.784240      17.729831\n"
          ]
        }
      ]
    },
    {
      "cell_type": "markdown",
      "source": [
        "Consistent believe that females are better at addressing cases related to women across rural/urban at both baseline and endline."
      ],
      "metadata": {
        "id": "bbi3FcK4eF86"
      }
    },
    {
      "cell_type": "code",
      "source": [
        "# Examining Plots of Sensitivity Scores w/ Station Characterisitics;\n",
        "\n",
        "plt.scatter(q5_eda_both_df['population'], q5_eda_both_df['b_sensitivity_x'])\n",
        "\n",
        "plt.xlabel('Population Served By Station')\n",
        "plt.ylabel(\"Sensitivity Index - Baseline\")"
      ],
      "metadata": {
        "colab": {
          "base_uri": "https://localhost:8080/",
          "height": 467
        },
        "id": "lOOuDY6nD9Cg",
        "outputId": "dddbd918-9b76-4460-c6f2-e09435fe0837"
      },
      "execution_count": null,
      "outputs": [
        {
          "output_type": "execute_result",
          "data": {
            "text/plain": [
              "Text(0, 0.5, 'Sensitivity Index - Baseline')"
            ]
          },
          "metadata": {},
          "execution_count": 20
        },
        {
          "output_type": "display_data",
          "data": {
            "text/plain": [
              "<Figure size 640x480 with 1 Axes>"
            ],
            "image/png": "[encoded data removed]"
          },
          "metadata": {}
        }
      ]
    },
    {
      "cell_type": "markdown",
      "source": [
        "Starting to leverage the \"sensitivity index\" provided in the data.  A numeric score providing by the authors that  rank a respondent's sensitivity to womens' cases ... we are assuming that this is build using a combination of responses on the survey (couldn't find documentation on its calculation).   There is less spread or distribution in the index among larger population stations (doesn't exceed 10) , but no overwhelming clear relationship/trend between population served and sensitivity index at baseline."
      ],
      "metadata": {
        "id": "1JFLZ_WdeWFK"
      }
    },
    {
      "cell_type": "code",
      "source": [
        "# Examining Plots of Sensitivity Scores w/ Station Characterisitics;\n",
        "\n",
        "plt.scatter(q5_eda_both_df['population'], q5_eda_both_df['e_sensitivity'])\n",
        "\n",
        "plt.xlabel('Population Served By Station')\n",
        "plt.ylabel(\"Sensitivity Index - Endline\")"
      ],
      "metadata": {
        "colab": {
          "base_uri": "https://localhost:8080/",
          "height": 467
        },
        "id": "pSv6JbtsIl_5",
        "outputId": "6b750cf1-2673-4541-e0c0-86afd643c729"
      },
      "execution_count": null,
      "outputs": [
        {
          "output_type": "execute_result",
          "data": {
            "text/plain": [
              "Text(0, 0.5, 'Sensitivity Index - Endline')"
            ]
          },
          "metadata": {},
          "execution_count": 21
        },
        {
          "output_type": "display_data",
          "data": {
            "text/plain": [
              "<Figure size 640x480 with 1 Axes>"
            ],
            "image/png": "[encoded data removed]"
          },
          "metadata": {}
        }
      ]
    },
    {
      "cell_type": "markdown",
      "source": [
        " No overwhelming clear relationship/trend between population served and sensitivity index at endline.  The \"less spread\" observation at baseline for larger population stations doesn't appear to hold at endline."
      ],
      "metadata": {
        "id": "VIXDrQ1YfXZ6"
      }
    },
    {
      "cell_type": "code",
      "source": [
        "# Binning Station Characteristic Fields for Examining Sensitivity Score Means;\n",
        "# Population\n",
        "\n",
        "q5_eda_both_df['pop_bins'] = pd.qcut(q5_eda_both_df['population'], q=4)\n",
        "\n",
        "q5_eda_both_df['b_total_staff_bins'] = pd.qcut(q5_eda_both_df['b_total_staff'], q=4)\n",
        "q5_eda_both_df['b_female_staff_bins'] = pd.qcut(q5_eda_both_df['b_female_staff'], q=4)\n",
        "\n",
        "\n",
        "q5_eda_both_df['b_total_off_bins'] = pd.qcut(q5_eda_both_df['b_total_officers'], q=4)\n",
        "q5_eda_both_df['b_female_off_bins'] = pd.qcut(q5_eda_both_df['b_female_officers'], q=2)\n",
        "\n",
        "q5_eda_both_df['e_total_staff_bins'] = pd.qcut(q5_eda_both_df['e_total_staff'], q=4)\n",
        "q5_eda_both_df['e_female_staff_bins'] = pd.qcut(q5_eda_both_df['e_female_staff'], q=4)\n",
        "\n",
        "\n",
        "q5_eda_both_df['e_total_off_bins'] = pd.qcut(q5_eda_both_df['e_total_officers'], q=4)\n",
        "q5_eda_both_df['e_female_off_bins'] = pd.qcut(q5_eda_both_df['e_female_officers'], q=2)\n",
        "\n",
        "# Creating New Columns with difference in baseline to endline sensitivity scores and flag denoting increase in scores from baseline to endline;\n",
        "\n",
        "q5_eda_both_df['sensitivity_diff'] = q5_eda_both_df['e_sensitivity'] - q5_eda_both_df['b_sensitivity_x']\n",
        "\n",
        "q5_eda_both_df['sensitivity_inc'] = (q5_eda_both_df['e_sensitivity'] - q5_eda_both_df['b_sensitivity_x']) > 0\n"
      ],
      "metadata": {
        "colab": {
          "base_uri": "https://localhost:8080/"
        },
        "id": "7xE9O2MyI1vI",
        "outputId": "46620fd5-140d-4387-86f7-3e4e12ffa556"
      },
      "execution_count": null,
      "outputs": [
        {
          "output_type": "stream",
          "name": "stderr",
          "text": [
            "<ipython-input-22-533f73104877>:4: SettingWithCopyWarning: \n",
            "A value is trying to be set on a copy of a slice from a DataFrame.\n",
            "Try using .loc[row_indexer,col_indexer] = value instead\n",
            "\n",
            "See the caveats in the documentation: https://pandas.pydata.org/pandas-docs/stable/user_guide/indexing.html#returning-a-view-versus-a-copy\n",
            "  q5_eda_both_df['pop_bins'] = pd.qcut(q5_eda_both_df['population'], q=4)\n",
            "<ipython-input-22-533f73104877>:6: SettingWithCopyWarning: \n",
            "A value is trying to be set on a copy of a slice from a DataFrame.\n",
            "Try using .loc[row_indexer,col_indexer] = value instead\n",
            "\n",
            "See the caveats in the documentation: https://pandas.pydata.org/pandas-docs/stable/user_guide/indexing.html#returning-a-view-versus-a-copy\n",
            "  q5_eda_both_df['b_total_staff_bins'] = pd.qcut(q5_eda_both_df['b_total_staff'], q=4)\n",
            "<ipython-input-22-533f73104877>:7: SettingWithCopyWarning: \n",
            "A value is trying to be set on a copy of a slice from a DataFrame.\n",
            "Try using .loc[row_indexer,col_indexer] = value instead\n",
            "\n",
            "See the caveats in the documentation: https://pandas.pydata.org/pandas-docs/stable/user_guide/indexing.html#returning-a-view-versus-a-copy\n",
            "  q5_eda_both_df['b_female_staff_bins'] = pd.qcut(q5_eda_both_df['b_female_staff'], q=4)\n",
            "<ipython-input-22-533f73104877>:10: SettingWithCopyWarning: \n",
            "A value is trying to be set on a copy of a slice from a DataFrame.\n",
            "Try using .loc[row_indexer,col_indexer] = value instead\n",
            "\n",
            "See the caveats in the documentation: https://pandas.pydata.org/pandas-docs/stable/user_guide/indexing.html#returning-a-view-versus-a-copy\n",
            "  q5_eda_both_df['b_total_off_bins'] = pd.qcut(q5_eda_both_df['b_total_officers'], q=4)\n",
            "<ipython-input-22-533f73104877>:11: SettingWithCopyWarning: \n",
            "A value is trying to be set on a copy of a slice from a DataFrame.\n",
            "Try using .loc[row_indexer,col_indexer] = value instead\n",
            "\n",
            "See the caveats in the documentation: https://pandas.pydata.org/pandas-docs/stable/user_guide/indexing.html#returning-a-view-versus-a-copy\n",
            "  q5_eda_both_df['b_female_off_bins'] = pd.qcut(q5_eda_both_df['b_female_officers'], q=2)\n",
            "<ipython-input-22-533f73104877>:13: SettingWithCopyWarning: \n",
            "A value is trying to be set on a copy of a slice from a DataFrame.\n",
            "Try using .loc[row_indexer,col_indexer] = value instead\n",
            "\n",
            "See the caveats in the documentation: https://pandas.pydata.org/pandas-docs/stable/user_guide/indexing.html#returning-a-view-versus-a-copy\n",
            "  q5_eda_both_df['e_total_staff_bins'] = pd.qcut(q5_eda_both_df['e_total_staff'], q=4)\n",
            "<ipython-input-22-533f73104877>:14: SettingWithCopyWarning: \n",
            "A value is trying to be set on a copy of a slice from a DataFrame.\n",
            "Try using .loc[row_indexer,col_indexer] = value instead\n",
            "\n",
            "See the caveats in the documentation: https://pandas.pydata.org/pandas-docs/stable/user_guide/indexing.html#returning-a-view-versus-a-copy\n",
            "  q5_eda_both_df['e_female_staff_bins'] = pd.qcut(q5_eda_both_df['e_female_staff'], q=4)\n",
            "<ipython-input-22-533f73104877>:17: SettingWithCopyWarning: \n",
            "A value is trying to be set on a copy of a slice from a DataFrame.\n",
            "Try using .loc[row_indexer,col_indexer] = value instead\n",
            "\n",
            "See the caveats in the documentation: https://pandas.pydata.org/pandas-docs/stable/user_guide/indexing.html#returning-a-view-versus-a-copy\n",
            "  q5_eda_both_df['e_total_off_bins'] = pd.qcut(q5_eda_both_df['e_total_officers'], q=4)\n",
            "<ipython-input-22-533f73104877>:18: SettingWithCopyWarning: \n",
            "A value is trying to be set on a copy of a slice from a DataFrame.\n",
            "Try using .loc[row_indexer,col_indexer] = value instead\n",
            "\n",
            "See the caveats in the documentation: https://pandas.pydata.org/pandas-docs/stable/user_guide/indexing.html#returning-a-view-versus-a-copy\n",
            "  q5_eda_both_df['e_female_off_bins'] = pd.qcut(q5_eda_both_df['e_female_officers'], q=2)\n",
            "<ipython-input-22-533f73104877>:22: SettingWithCopyWarning: \n",
            "A value is trying to be set on a copy of a slice from a DataFrame.\n",
            "Try using .loc[row_indexer,col_indexer] = value instead\n",
            "\n",
            "See the caveats in the documentation: https://pandas.pydata.org/pandas-docs/stable/user_guide/indexing.html#returning-a-view-versus-a-copy\n",
            "  q5_eda_both_df['sensitivity_diff'] = q5_eda_both_df['e_sensitivity'] - q5_eda_both_df['b_sensitivity_x']\n",
            "<ipython-input-22-533f73104877>:24: SettingWithCopyWarning: \n",
            "A value is trying to be set on a copy of a slice from a DataFrame.\n",
            "Try using .loc[row_indexer,col_indexer] = value instead\n",
            "\n",
            "See the caveats in the documentation: https://pandas.pydata.org/pandas-docs/stable/user_guide/indexing.html#returning-a-view-versus-a-copy\n",
            "  q5_eda_both_df['sensitivity_inc'] = (q5_eda_both_df['e_sensitivity'] - q5_eda_both_df['b_sensitivity_x']) > 0\n"
          ]
        }
      ]
    },
    {
      "cell_type": "markdown",
      "source": [
        "To begin to view relationships between the station characteristics and perception data, we created bins of the numeric categorical data fields.  The analysis below iterates through creating views of the bins and the sensitivity index score at baseline and endline.  For the purpose of exploratory views, we chose equal cuts on the bins.\n",
        "\n",
        "Also created 2 new variables for analysis: 1.  A difference in sensitivity score from baseline to endline (positive value denotes and improvement in the sensitivity score, and vice versa) and 2. A flag denoting an increase in sensitivity score."
      ],
      "metadata": {
        "id": "4TK5o7oPfvS-"
      }
    },
    {
      "cell_type": "code",
      "source": [
        "# Binning Station Characteristic Fields for Examining Baseline Sensitivity Score Means;\n",
        "# Population\n",
        "\n",
        "groups = q5_eda_both_df.groupby(['pop_bins','treatment'])\n",
        "averages = groups['b_sensitivity_x'].mean()\n",
        "print(\"Average, Baseline Sensitivity Score - By Population Bins\")\n",
        "print(averages)\n",
        "\n",
        "counts = groups['b_sensitivity_x'].count()\n",
        "print(\"Counts, Baseline Sensitivity Score - By Population Bins\")\n",
        "print(counts)\n"
      ],
      "metadata": {
        "colab": {
          "base_uri": "https://localhost:8080/"
        },
        "id": "ek9V-011TlwJ",
        "outputId": "bcb68003-71b6-4795-fa98-55cbb1a36252"
      },
      "execution_count": null,
      "outputs": [
        {
          "output_type": "stream",
          "name": "stdout",
          "text": [
            "Average, Baseline Sensitivity Score - By Population Bins\n",
            "pop_bins              treatment\n",
            "(23564.999, 80000.0]  Control      7.163793\n",
            "                      Treatment    7.636872\n",
            "(80000.0, 112312.0]   Control      6.438202\n",
            "                      Treatment    6.947090\n",
            "(112312.0, 154026.0]  Control      7.300000\n",
            "                      Treatment    6.895522\n",
            "(154026.0, 545000.0]  Control      6.342105\n",
            "                      Treatment    7.521951\n",
            "Name: b_sensitivity_x, dtype: float64\n",
            "Counts, Baseline Sensitivity Score - By Population Bins\n",
            "pop_bins              treatment\n",
            "(23564.999, 80000.0]  Control      116\n",
            "                      Treatment    179\n",
            "(80000.0, 112312.0]   Control       89\n",
            "                      Treatment    189\n",
            "(112312.0, 154026.0]  Control       80\n",
            "                      Treatment    201\n",
            "(154026.0, 545000.0]  Control       76\n",
            "                      Treatment    205\n",
            "Name: b_sensitivity_x, dtype: int64\n"
          ]
        },
        {
          "output_type": "stream",
          "name": "stderr",
          "text": [
            "<ipython-input-23-b5db11265f4b>:4: FutureWarning: The default of observed=False is deprecated and will be changed to True in a future version of pandas. Pass observed=False to retain current behavior or observed=True to adopt the future default and silence this warning.\n",
            "  groups = q5_eda_both_df.groupby(['pop_bins','treatment'])\n"
          ]
        }
      ]
    },
    {
      "cell_type": "markdown",
      "source": [
        "General consistency in sensitivity across pop bins. The baseline sensitivity score for control stations was slightly lower than treatment stations for 3 of the 4 population size bins (probably noise)."
      ],
      "metadata": {
        "id": "GJYSjTMegbw6"
      }
    },
    {
      "cell_type": "code",
      "source": [
        "# Binning Station Characteristic Fields for Examining EndLine Sensitivity Score Means;\n",
        "# Population\n",
        "\n",
        "groups = q5_eda_both_df.groupby(['pop_bins','treatment'])\n",
        "averages = groups['e_sensitivity'].mean()\n",
        "print(\"Average, Endline Sensitivity Score - By Population Bins\")\n",
        "print(averages)\n",
        "\n",
        "counts = groups['e_sensitivity'].count()\n",
        "print(\"Counts, Endline Sensitivity Score - By Population Bins\")\n",
        "print(counts)\n"
      ],
      "metadata": {
        "colab": {
          "base_uri": "https://localhost:8080/"
        },
        "id": "JPmHE4eyN4jq",
        "outputId": "aa573f57-9dc8-4c18-9aaa-76e421860ace"
      },
      "execution_count": null,
      "outputs": [
        {
          "output_type": "stream",
          "name": "stderr",
          "text": [
            "<ipython-input-24-347bf142d63e>:4: FutureWarning: The default of observed=False is deprecated and will be changed to True in a future version of pandas. Pass observed=False to retain current behavior or observed=True to adopt the future default and silence this warning.\n",
            "  groups = q5_eda_both_df.groupby(['pop_bins','treatment'])\n"
          ]
        },
        {
          "output_type": "stream",
          "name": "stdout",
          "text": [
            "Average, Endline Sensitivity Score - By Population Bins\n",
            "pop_bins              treatment\n",
            "(23564.999, 80000.0]  Control      7.672897\n",
            "                      Treatment    7.303571\n",
            "(80000.0, 112312.0]   Control      7.000000\n",
            "                      Treatment    7.430233\n",
            "(112312.0, 154026.0]  Control      7.578947\n",
            "                      Treatment    7.838542\n",
            "(154026.0, 545000.0]  Control      7.459459\n",
            "                      Treatment    7.431472\n",
            "Name: e_sensitivity, dtype: float64\n",
            "Counts, Endline Sensitivity Score - By Population Bins\n",
            "pop_bins              treatment\n",
            "(23564.999, 80000.0]  Control      107\n",
            "                      Treatment    168\n",
            "(80000.0, 112312.0]   Control       82\n",
            "                      Treatment    172\n",
            "(112312.0, 154026.0]  Control       76\n",
            "                      Treatment    192\n",
            "(154026.0, 545000.0]  Control       74\n",
            "                      Treatment    197\n",
            "Name: e_sensitivity, dtype: int64\n"
          ]
        }
      ]
    },
    {
      "cell_type": "markdown",
      "source": [
        "General consistency endline sensitivity scores across pop bins."
      ],
      "metadata": {
        "id": "eJv0LhW7g9eJ"
      }
    },
    {
      "cell_type": "code",
      "source": [
        "# Binning Station Characteristic Fields for Examining Sensitivity Score Difference Means;\n",
        "# Population\n",
        "\n",
        "groups = q5_eda_both_df.groupby(['pop_bins','treatment'])\n",
        "averages = groups['sensitivity_diff'].mean()\n",
        "print(\"Average, Sensitivity Score Diff - By Population Bins\")\n",
        "print(averages)\n",
        "\n",
        "counts = groups['sensitivity_diff'].count()\n",
        "print(\"Counts, Sensitivity Score Diff - By Population Bins\")\n",
        "print(counts)\n"
      ],
      "metadata": {
        "colab": {
          "base_uri": "https://localhost:8080/"
        },
        "id": "7MBGTk_2nIZb",
        "outputId": "1ab1e032-e300-41e0-c8a3-0f92e53eed1d"
      },
      "execution_count": null,
      "outputs": [
        {
          "output_type": "stream",
          "name": "stdout",
          "text": [
            "Average, Sensitivity Score Diff - By Population Bins\n",
            "pop_bins              treatment\n",
            "(23564.999, 80000.0]  Control      0.467290\n",
            "                      Treatment   -0.255952\n",
            "(80000.0, 112312.0]   Control      0.560976\n",
            "                      Treatment    0.488372\n",
            "(112312.0, 154026.0]  Control      0.400000\n",
            "                      Treatment    0.921875\n",
            "(154026.0, 545000.0]  Control      1.164384\n",
            "                      Treatment   -0.076923\n",
            "Name: sensitivity_diff, dtype: float64\n",
            "Counts, Sensitivity Score Diff - By Population Bins\n",
            "pop_bins              treatment\n",
            "(23564.999, 80000.0]  Control      107\n",
            "                      Treatment    168\n",
            "(80000.0, 112312.0]   Control       82\n",
            "                      Treatment    172\n",
            "(112312.0, 154026.0]  Control       75\n",
            "                      Treatment    192\n",
            "(154026.0, 545000.0]  Control       73\n",
            "                      Treatment    195\n",
            "Name: sensitivity_diff, dtype: int64\n"
          ]
        },
        {
          "output_type": "stream",
          "name": "stderr",
          "text": [
            "<ipython-input-25-57976ad678c8>:4: FutureWarning: The default of observed=False is deprecated and will be changed to True in a future version of pandas. Pass observed=False to retain current behavior or observed=True to adopt the future default and silence this warning.\n",
            "  groups = q5_eda_both_df.groupby(['pop_bins','treatment'])\n"
          ]
        }
      ]
    },
    {
      "cell_type": "markdown",
      "source": [
        "Created a difference in sensitivity score field for analyisis.  The low pop and heavily pop treatment group show drops  (controls were positive, is it consequential?)"
      ],
      "metadata": {
        "id": "Yyc4qnHjhKsH"
      }
    },
    {
      "cell_type": "code",
      "source": [
        "# Binning Station Characteristic Fields for Examining Sensitivity Positive Shift Incidence;\n",
        "# Population\n",
        "\n",
        "groups = q5_eda_both_df.groupby(['pop_bins','treatment'])\n",
        "averages = groups['sensitivity_inc'].mean()\n",
        "print(\"Average, Endline Sensitivity Increase Incidence - By Population Bins\")\n",
        "print(averages)\n",
        "\n",
        "counts = groups['sensitivity_inc'].count()\n",
        "print(\"Counts, Endline Sensitivity Increase Incidence - By Population Bins\")\n",
        "print(counts)\n"
      ],
      "metadata": {
        "colab": {
          "base_uri": "https://localhost:8080/"
        },
        "id": "QB6tsZb-oDv-",
        "outputId": "f57f9b8b-0ace-4aa4-aa96-2a2a4a90821b"
      },
      "execution_count": null,
      "outputs": [
        {
          "output_type": "stream",
          "name": "stderr",
          "text": [
            "<ipython-input-26-9923b68ea28d>:4: FutureWarning: The default of observed=False is deprecated and will be changed to True in a future version of pandas. Pass observed=False to retain current behavior or observed=True to adopt the future default and silence this warning.\n",
            "  groups = q5_eda_both_df.groupby(['pop_bins','treatment'])\n"
          ]
        },
        {
          "output_type": "stream",
          "name": "stdout",
          "text": [
            "Average, Endline Sensitivity Increase Incidence - By Population Bins\n",
            "pop_bins              treatment\n",
            "(23564.999, 80000.0]  Control      0.456897\n",
            "                      Treatment    0.385475\n",
            "(80000.0, 112312.0]   Control      0.505618\n",
            "                      Treatment    0.428571\n",
            "(112312.0, 154026.0]  Control      0.432099\n",
            "                      Treatment    0.487562\n",
            "(154026.0, 545000.0]  Control      0.480519\n",
            "                      Treatment    0.425121\n",
            "Name: sensitivity_inc, dtype: float64\n",
            "Counts, Endline Sensitivity Increase Incidence - By Population Bins\n",
            "pop_bins              treatment\n",
            "(23564.999, 80000.0]  Control      116\n",
            "                      Treatment    179\n",
            "(80000.0, 112312.0]   Control       89\n",
            "                      Treatment    189\n",
            "(112312.0, 154026.0]  Control       81\n",
            "                      Treatment    201\n",
            "(154026.0, 545000.0]  Control       77\n",
            "                      Treatment    207\n",
            "Name: sensitivity_inc, dtype: int64\n"
          ]
        }
      ]
    },
    {
      "cell_type": "markdown",
      "source": [
        "The moderately urban/treatment group had the highest incidence of 'increasers'"
      ],
      "metadata": {
        "id": "ye58QBfwlUMw"
      }
    },
    {
      "cell_type": "code",
      "source": [
        "# Binning Station Characteristic Fields for Examining Baseline Sensitivity Score Means;\n",
        "# Total Staff Size\n",
        "\n",
        "groups = q5_eda_both_df.groupby(['b_total_staff_bins','treatment'])\n",
        "averages = groups['b_sensitivity_x'].mean()\n",
        "print(\"Average, Baseline Sensitivity Score - By Total Staff Bins\")\n",
        "print(averages)\n",
        "\n",
        "counts = groups['b_sensitivity_x'].count()\n",
        "print(\"Counts, Baseline Sensitivity Score - By Total Staff Bins\")\n",
        "print(counts)\n"
      ],
      "metadata": {
        "colab": {
          "base_uri": "https://localhost:8080/"
        },
        "id": "kD8VSJGdPC8p",
        "outputId": "2de5124e-a895-4517-e9dd-c8b4d7c1a289"
      },
      "execution_count": null,
      "outputs": [
        {
          "output_type": "stream",
          "name": "stdout",
          "text": [
            "Average, Baseline Sensitivity Score - By Total Staff Bins\n",
            "b_total_staff_bins  treatment\n",
            "(8.999, 27.0]       Control      7.367925\n",
            "                    Treatment    7.510870\n",
            "(27.0, 46.0]        Control      6.726027\n",
            "                    Treatment    6.937778\n",
            "(46.0, 65.0]        Control      6.588785\n",
            "                    Treatment    7.012270\n",
            "(65.0, 95.0]        Control      6.573333\n",
            "                    Treatment    7.534653\n",
            "Name: b_sensitivity_x, dtype: float64\n",
            "Counts, Baseline Sensitivity Score - By Total Staff Bins\n",
            "b_total_staff_bins  treatment\n",
            "(8.999, 27.0]       Control      106\n",
            "                    Treatment    184\n",
            "(27.0, 46.0]        Control       73\n",
            "                    Treatment    225\n",
            "(46.0, 65.0]        Control      107\n",
            "                    Treatment    163\n",
            "(65.0, 95.0]        Control       75\n",
            "                    Treatment    202\n",
            "Name: b_sensitivity_x, dtype: int64\n"
          ]
        },
        {
          "output_type": "stream",
          "name": "stderr",
          "text": [
            "<ipython-input-27-80b13d63b469>:4: FutureWarning: The default of observed=False is deprecated and will be changed to True in a future version of pandas. Pass observed=False to retain current behavior or observed=True to adopt the future default and silence this warning.\n",
            "  groups = q5_eda_both_df.groupby(['b_total_staff_bins','treatment'])\n"
          ]
        }
      ]
    },
    {
      "cell_type": "code",
      "source": [
        "# Binning Station Characteristic Fields for Examining Endline Sensitivity Score Means;\n",
        "# Total Staff Size\n",
        "\n",
        "groups = q5_eda_both_df.groupby(['b_total_staff_bins','treatment'])\n",
        "averages = groups['e_sensitivity'].mean()\n",
        "print(\"Average, Endline Sensitivity Score - By Total Staff Bins\")\n",
        "print(averages)\n",
        "\n",
        "counts = groups['e_sensitivity'].count()\n",
        "print(\"Counts, Endline Sensitivity Score - By Total Staff Bins\")\n",
        "print(counts)\n"
      ],
      "metadata": {
        "colab": {
          "base_uri": "https://localhost:8080/"
        },
        "id": "7rS9yd0mUqb6",
        "outputId": "41cb21a2-c844-4839-8c28-fe01f37ea304"
      },
      "execution_count": null,
      "outputs": [
        {
          "output_type": "stream",
          "name": "stdout",
          "text": [
            "Average, Endline Sensitivity Score - By Total Staff Bins\n",
            "b_total_staff_bins  treatment\n",
            "(8.999, 27.0]       Control      8.021053\n",
            "                    Treatment    8.088235\n",
            "(27.0, 46.0]        Control      7.573529\n",
            "                    Treatment    7.580952\n",
            "(46.0, 65.0]        Control      7.184466\n",
            "                    Treatment    7.006289\n",
            "(65.0, 95.0]        Control      6.931507\n",
            "                    Treatment    7.331579\n",
            "Name: e_sensitivity, dtype: float64\n",
            "Counts, Endline Sensitivity Score - By Total Staff Bins\n",
            "b_total_staff_bins  treatment\n",
            "(8.999, 27.0]       Control       95\n",
            "                    Treatment    170\n",
            "(27.0, 46.0]        Control       68\n",
            "                    Treatment    210\n",
            "(46.0, 65.0]        Control      103\n",
            "                    Treatment    159\n",
            "(65.0, 95.0]        Control       73\n",
            "                    Treatment    190\n",
            "Name: e_sensitivity, dtype: int64\n"
          ]
        },
        {
          "output_type": "stream",
          "name": "stderr",
          "text": [
            "<ipython-input-28-bfe429f94967>:4: FutureWarning: The default of observed=False is deprecated and will be changed to True in a future version of pandas. Pass observed=False to retain current behavior or observed=True to adopt the future default and silence this warning.\n",
            "  groups = q5_eda_both_df.groupby(['b_total_staff_bins','treatment'])\n"
          ]
        }
      ]
    },
    {
      "cell_type": "code",
      "source": [
        "# Binning Station Characteristic Fields for Examining Sensitivity Score Difference Means;\n",
        "# Total Staff Size\n",
        "\n",
        "groups = q5_eda_both_df.groupby(['b_total_staff_bins','treatment'])\n",
        "averages = groups['sensitivity_diff'].mean()\n",
        "print(\"Average, Sensitivity Score Diff - By Total Staff Bins\")\n",
        "print(averages)\n",
        "\n",
        "counts = groups['sensitivity_diff'].count()\n",
        "print(\"Counts, Sensitivity Score Diff - By Total Staff Bins\")\n",
        "print(counts)\n"
      ],
      "metadata": {
        "colab": {
          "base_uri": "https://localhost:8080/"
        },
        "id": "Pmdui_XvpNde",
        "outputId": "68221972-9e29-4b24-b4ff-20e9c3d23edf"
      },
      "execution_count": null,
      "outputs": [
        {
          "output_type": "stream",
          "name": "stdout",
          "text": [
            "Average, Sensitivity Score Diff - By Total Staff Bins\n",
            "b_total_staff_bins  treatment\n",
            "(8.999, 27.0]       Control      0.663158\n",
            "                    Treatment    0.635294\n",
            "(27.0, 46.0]        Control      0.808824\n",
            "                    Treatment    0.617225\n",
            "(46.0, 65.0]        Control      0.673267\n",
            "                    Treatment   -0.044304\n",
            "(65.0, 95.0]        Control      0.342466\n",
            "                    Treatment   -0.142105\n",
            "Name: sensitivity_diff, dtype: float64\n",
            "Counts, Sensitivity Score Diff - By Total Staff Bins\n",
            "b_total_staff_bins  treatment\n",
            "(8.999, 27.0]       Control       95\n",
            "                    Treatment    170\n",
            "(27.0, 46.0]        Control       68\n",
            "                    Treatment    209\n",
            "(46.0, 65.0]        Control      101\n",
            "                    Treatment    158\n",
            "(65.0, 95.0]        Control       73\n",
            "                    Treatment    190\n",
            "Name: sensitivity_diff, dtype: int64\n"
          ]
        },
        {
          "output_type": "stream",
          "name": "stderr",
          "text": [
            "<ipython-input-29-532e5907ccfb>:4: FutureWarning: The default of observed=False is deprecated and will be changed to True in a future version of pandas. Pass observed=False to retain current behavior or observed=True to adopt the future default and silence this warning.\n",
            "  groups = q5_eda_both_df.groupby(['b_total_staff_bins','treatment'])\n"
          ]
        }
      ]
    },
    {
      "cell_type": "markdown",
      "source": [
        "Police stations in treatment group with larger staff size observed declines in sensitivity scores while their controls observed an increase (was it a negative effect for these types of police stations?)"
      ],
      "metadata": {
        "id": "eQ__2CPmlvJt"
      }
    },
    {
      "cell_type": "code",
      "source": [
        "# Binning Station Characteristic Fields for Examining Sensitivity Positive Shift Incidence;\n",
        "# Total Staff Size\n",
        "\n",
        "groups = q5_eda_both_df.groupby(['b_total_staff_bins','treatment'])\n",
        "averages = groups['sensitivity_inc'].mean()\n",
        "print(\"Average, Endline Sensitivity Increase Incidence - By Total Staff Bins\")\n",
        "print(averages)\n",
        "\n",
        "counts = groups['sensitivity_inc'].count()\n",
        "print(\"Counts, Endline Sensitivity Increase Incidence - By Total Staff Bins\")\n",
        "print(counts)\n"
      ],
      "metadata": {
        "colab": {
          "base_uri": "https://localhost:8080/"
        },
        "id": "xs7j9OTNqiTj",
        "outputId": "136feafc-36de-4e73-fe03-39f1a73eafd1"
      },
      "execution_count": null,
      "outputs": [
        {
          "output_type": "stream",
          "name": "stderr",
          "text": [
            "<ipython-input-30-c5114238710a>:4: FutureWarning: The default of observed=False is deprecated and will be changed to True in a future version of pandas. Pass observed=False to retain current behavior or observed=True to adopt the future default and silence this warning.\n",
            "  groups = q5_eda_both_df.groupby(['b_total_staff_bins','treatment'])\n"
          ]
        },
        {
          "output_type": "stream",
          "name": "stdout",
          "text": [
            "Average, Endline Sensitivity Increase Incidence - By Total Staff Bins\n",
            "b_total_staff_bins  treatment\n",
            "(8.999, 27.0]       Control      0.433962\n",
            "                    Treatment    0.456522\n",
            "(27.0, 46.0]        Control      0.506849\n",
            "                    Treatment    0.486726\n",
            "(46.0, 65.0]        Control      0.458716\n",
            "                    Treatment    0.365854\n",
            "(65.0, 95.0]        Control      0.493333\n",
            "                    Treatment    0.405941\n",
            "Name: sensitivity_inc, dtype: float64\n",
            "Counts, Endline Sensitivity Increase Incidence - By Total Staff Bins\n",
            "b_total_staff_bins  treatment\n",
            "(8.999, 27.0]       Control      106\n",
            "                    Treatment    184\n",
            "(27.0, 46.0]        Control       73\n",
            "                    Treatment    226\n",
            "(46.0, 65.0]        Control      109\n",
            "                    Treatment    164\n",
            "(65.0, 95.0]        Control       75\n",
            "                    Treatment    202\n",
            "Name: sensitivity_inc, dtype: int64\n"
          ]
        }
      ]
    },
    {
      "cell_type": "markdown",
      "source": [
        "Treatment stations with more staff had lower incidence of 'increasers' than their controls."
      ],
      "metadata": {
        "id": "suWZ1hHCmJad"
      }
    },
    {
      "cell_type": "code",
      "source": [
        "# Binning Station Characteristic Fields for Examining Baseline Sensitivity Score Means;\n",
        "# Total Female Size\n",
        "\n",
        "groups = q5_eda_both_df.groupby(['b_female_staff_bins','treatment'])\n",
        "averages = groups['b_sensitivity_x'].mean()\n",
        "print(\"Average, Baseline Sensitivity Score - By Female Staff Bins\")\n",
        "print(averages)\n",
        "\n",
        "counts = groups['b_sensitivity_x'].count()\n",
        "print(\"Counts, Baseline Sensitivity Score - By Female Staff Bins\")\n",
        "print(counts)\n"
      ],
      "metadata": {
        "colab": {
          "base_uri": "https://localhost:8080/"
        },
        "id": "_lor9AHqU6DZ",
        "outputId": "9e88df49-b2f9-436a-d378-6a7395b2805f"
      },
      "execution_count": null,
      "outputs": [
        {
          "output_type": "stream",
          "name": "stderr",
          "text": [
            "<ipython-input-31-fa67384898da>:4: FutureWarning: The default of observed=False is deprecated and will be changed to True in a future version of pandas. Pass observed=False to retain current behavior or observed=True to adopt the future default and silence this warning.\n",
            "  groups = q5_eda_both_df.groupby(['b_female_staff_bins','treatment'])\n"
          ]
        },
        {
          "output_type": "stream",
          "name": "stdout",
          "text": [
            "Average, Baseline Sensitivity Score - By Female Staff Bins\n",
            "b_female_staff_bins  treatment\n",
            "(-0.001, 2.0]        Control      7.118012\n",
            "                     Treatment    7.235294\n",
            "(2.0, 3.0]           Control      6.277778\n",
            "                     Treatment    7.000000\n",
            "(3.0, 4.0]           Control      6.634146\n",
            "                     Treatment    6.785185\n",
            "(4.0, 10.0]          Control      6.896552\n",
            "                     Treatment    7.737113\n",
            "Name: b_sensitivity_x, dtype: float64\n",
            "Counts, Baseline Sensitivity Score - By Female Staff Bins\n",
            "b_female_staff_bins  treatment\n",
            "(-0.001, 2.0]        Control      161\n",
            "                     Treatment    323\n",
            "(2.0, 3.0]           Control       72\n",
            "                     Treatment    122\n",
            "(3.0, 4.0]           Control       41\n",
            "                     Treatment    135\n",
            "(4.0, 10.0]          Control       87\n",
            "                     Treatment    194\n",
            "Name: b_sensitivity_x, dtype: int64\n"
          ]
        }
      ]
    },
    {
      "cell_type": "code",
      "source": [
        "# Binning Station Characteristic Fields for Examining Endline Sensitivity Score Means;\n",
        "# Total Female Size\n",
        "\n",
        "groups = q5_eda_both_df.groupby(['b_female_staff_bins','treatment'])\n",
        "averages = groups['e_sensitivity'].mean()\n",
        "print(\"Average, Endline Sensitivity Score - By Female Staff Bins\")\n",
        "print(averages)\n",
        "\n",
        "counts = groups['e_sensitivity'].count()\n",
        "print(\"Counts, Endline Sensitivity Score - By Female Staff Bins\")\n",
        "print(counts)\n"
      ],
      "metadata": {
        "colab": {
          "base_uri": "https://localhost:8080/"
        },
        "id": "HLnp6400V_Ro",
        "outputId": "e7337437-ded5-4168-cee4-fd15c6c25fe7"
      },
      "execution_count": null,
      "outputs": [
        {
          "output_type": "stream",
          "name": "stdout",
          "text": [
            "Average, Endline Sensitivity Score - By Female Staff Bins\n",
            "b_female_staff_bins  treatment\n",
            "(-0.001, 2.0]        Control      7.441379\n",
            "                     Treatment    7.754098\n",
            "(2.0, 3.0]           Control      7.739130\n",
            "                     Treatment    7.728070\n",
            "(3.0, 4.0]           Control      8.538462\n",
            "                     Treatment    6.951613\n",
            "(4.0, 10.0]          Control      6.709302\n",
            "                     Treatment    7.344086\n",
            "Name: e_sensitivity, dtype: float64\n",
            "Counts, Endline Sensitivity Score - By Female Staff Bins\n",
            "b_female_staff_bins  treatment\n",
            "(-0.001, 2.0]        Control      145\n",
            "                     Treatment    305\n",
            "(2.0, 3.0]           Control       69\n",
            "                     Treatment    114\n",
            "(3.0, 4.0]           Control       39\n",
            "                     Treatment    124\n",
            "(4.0, 10.0]          Control       86\n",
            "                     Treatment    186\n",
            "Name: e_sensitivity, dtype: int64\n"
          ]
        },
        {
          "output_type": "stream",
          "name": "stderr",
          "text": [
            "<ipython-input-32-f0196c24926c>:4: FutureWarning: The default of observed=False is deprecated and will be changed to True in a future version of pandas. Pass observed=False to retain current behavior or observed=True to adopt the future default and silence this warning.\n",
            "  groups = q5_eda_both_df.groupby(['b_female_staff_bins','treatment'])\n"
          ]
        }
      ]
    },
    {
      "cell_type": "code",
      "source": [
        "# Binning Station Characteristic Fields for Examining Sensitivity Score Difference Means;\n",
        "# Total Female Size\n",
        "\n",
        "groups = q5_eda_both_df.groupby(['b_female_staff_bins','treatment'])\n",
        "averages = groups['sensitivity_diff'].mean()\n",
        "print(\"Average, Sensitivity Score Diff - By Total Female Bins\")\n",
        "print(averages)\n",
        "\n",
        "counts = groups['sensitivity_diff'].count()\n",
        "print(\"Counts, Sensitivity Score Diff - By Total Female Bins\")\n",
        "print(counts)"
      ],
      "metadata": {
        "colab": {
          "base_uri": "https://localhost:8080/"
        },
        "id": "Y6cd35Yhq_2-",
        "outputId": "3d776419-5413-4ac3-f859-ac7b7091253b"
      },
      "execution_count": null,
      "outputs": [
        {
          "output_type": "stream",
          "name": "stderr",
          "text": [
            "<ipython-input-33-184b1f396329>:4: FutureWarning: The default of observed=False is deprecated and will be changed to True in a future version of pandas. Pass observed=False to retain current behavior or observed=True to adopt the future default and silence this warning.\n",
            "  groups = q5_eda_both_df.groupby(['b_female_staff_bins','treatment'])\n"
          ]
        },
        {
          "output_type": "stream",
          "name": "stdout",
          "text": [
            "Average, Sensitivity Score Diff - By Total Female Bins\n",
            "b_female_staff_bins  treatment\n",
            "(-0.001, 2.0]        Control      0.344828\n",
            "                     Treatment    0.518033\n",
            "(2.0, 3.0]           Control      1.405797\n",
            "                     Treatment    0.868421\n",
            "(3.0, 4.0]           Control      2.157895\n",
            "                     Treatment    0.161290\n",
            "(4.0, 10.0]          Control     -0.211765\n",
            "                     Treatment   -0.402174\n",
            "Name: sensitivity_diff, dtype: float64\n",
            "Counts, Sensitivity Score Diff - By Total Female Bins\n",
            "b_female_staff_bins  treatment\n",
            "(-0.001, 2.0]        Control      145\n",
            "                     Treatment    305\n",
            "(2.0, 3.0]           Control       69\n",
            "                     Treatment    114\n",
            "(3.0, 4.0]           Control       38\n",
            "                     Treatment    124\n",
            "(4.0, 10.0]          Control       85\n",
            "                     Treatment    184\n",
            "Name: sensitivity_diff, dtype: int64\n"
          ]
        }
      ]
    },
    {
      "cell_type": "markdown",
      "source": [
        "The direction of the sensitivity score change was consistent across all bins of female staff.  Small sample size, but police stations with smallest number of female staff saw the largest increase."
      ],
      "metadata": {
        "id": "h2qAS25smonw"
      }
    },
    {
      "cell_type": "code",
      "source": [
        "# Binning Station Characteristic Fields for Examining Sensitivity Positive Shift Incidence;\n",
        "# Total Female Size\n",
        "\n",
        "groups = q5_eda_both_df.groupby(['b_female_staff_bins','treatment'])\n",
        "averages = groups['sensitivity_inc'].mean()\n",
        "print(\"Average, Endline Sensitivity Increase Incidence - By Female Staff Bins\")\n",
        "print(averages)\n",
        "\n",
        "counts = groups['sensitivity_inc'].count()\n",
        "print(\"Counts, Endline Sensitivity Increase Incidence - By Female Staff Bins\")\n",
        "print(counts)\n"
      ],
      "metadata": {
        "colab": {
          "base_uri": "https://localhost:8080/"
        },
        "id": "RRiHzhqbrpY3",
        "outputId": "4da79302-b9de-4b7f-ce46-2a1e93afb8de"
      },
      "execution_count": null,
      "outputs": [
        {
          "output_type": "stream",
          "name": "stdout",
          "text": [
            "Average, Endline Sensitivity Increase Incidence - By Female Staff Bins\n",
            "b_female_staff_bins  treatment\n",
            "(-0.001, 2.0]        Control      0.422360\n",
            "                     Treatment    0.489164\n",
            "(2.0, 3.0]           Control      0.555556\n",
            "                     Treatment    0.475410\n",
            "(3.0, 4.0]           Control      0.547619\n",
            "                     Treatment    0.385185\n",
            "(4.0, 10.0]          Control      0.443182\n",
            "                     Treatment    0.346939\n",
            "Name: sensitivity_inc, dtype: float64\n",
            "Counts, Endline Sensitivity Increase Incidence - By Female Staff Bins\n",
            "b_female_staff_bins  treatment\n",
            "(-0.001, 2.0]        Control      161\n",
            "                     Treatment    323\n",
            "(2.0, 3.0]           Control       72\n",
            "                     Treatment    122\n",
            "(3.0, 4.0]           Control       42\n",
            "                     Treatment    135\n",
            "(4.0, 10.0]          Control       88\n",
            "                     Treatment    196\n",
            "Name: sensitivity_inc, dtype: int64\n"
          ]
        },
        {
          "output_type": "stream",
          "name": "stderr",
          "text": [
            "<ipython-input-34-8dd40a2148a5>:4: FutureWarning: The default of observed=False is deprecated and will be changed to True in a future version of pandas. Pass observed=False to retain current behavior or observed=True to adopt the future default and silence this warning.\n",
            "  groups = q5_eda_both_df.groupby(['b_female_staff_bins','treatment'])\n"
          ]
        }
      ]
    },
    {
      "cell_type": "markdown",
      "source": [
        "Only group where 'increaser' incidence exceeded control was small female staffed stations."
      ],
      "metadata": {
        "id": "M9si5GClnDqi"
      }
    },
    {
      "cell_type": "code",
      "source": [
        "# Binning Station Characteristic Fields for Examining Baseline Sensitivity Score Means;\n",
        "# Total Officers\n",
        "\n",
        "groups = q5_eda_both_df.groupby(['b_total_off_bins','treatment'])\n",
        "averages = groups['b_sensitivity_x'].mean()\n",
        "print(\"Average, Baseline Sensitivity Score - By Total Officer Bins\")\n",
        "print(averages)\n",
        "\n",
        "counts = groups['b_sensitivity_x'].count()\n",
        "print(\"Counts, Baseline Sensitivity Score - By Total Officer Bins\")\n",
        "print(counts)"
      ],
      "metadata": {
        "colab": {
          "base_uri": "https://localhost:8080/"
        },
        "id": "ABuNSHKRXgmV",
        "outputId": "ad58751a-e0d8-44dc-f2c6-00b2870d9c12"
      },
      "execution_count": null,
      "outputs": [
        {
          "output_type": "stream",
          "name": "stderr",
          "text": [
            "<ipython-input-35-063509e6461e>:4: FutureWarning: The default of observed=False is deprecated and will be changed to True in a future version of pandas. Pass observed=False to retain current behavior or observed=True to adopt the future default and silence this warning.\n",
            "  groups = q5_eda_both_df.groupby(['b_total_off_bins','treatment'])\n"
          ]
        },
        {
          "output_type": "stream",
          "name": "stdout",
          "text": [
            "Average, Baseline Sensitivity Score - By Total Officer Bins\n",
            "b_total_off_bins  treatment\n",
            "(-0.001, 6.0]     Control      7.321429\n",
            "                  Treatment    7.333333\n",
            "(6.0, 9.0]        Control      7.152542\n",
            "                  Treatment    6.873171\n",
            "(9.0, 14.0]       Control      6.618644\n",
            "                  Treatment    7.347368\n",
            "(14.0, 25.0]      Control      6.208333\n",
            "                  Treatment    7.490066\n",
            "Name: b_sensitivity_x, dtype: float64\n",
            "Counts, Baseline Sensitivity Score - By Total Officer Bins\n",
            "b_total_off_bins  treatment\n",
            "(-0.001, 6.0]     Control      112\n",
            "                  Treatment    228\n",
            "(6.0, 9.0]        Control       59\n",
            "                  Treatment    205\n",
            "(9.0, 14.0]       Control      118\n",
            "                  Treatment    190\n",
            "(14.0, 25.0]      Control       72\n",
            "                  Treatment    151\n",
            "Name: b_sensitivity_x, dtype: int64\n"
          ]
        }
      ]
    },
    {
      "cell_type": "code",
      "source": [
        "# Binning Station Characteristic Fields for Examining Endline Sensitivity Score Means;\n",
        "# Total Officers\n",
        "\n",
        "groups = q5_eda_both_df.groupby(['b_total_off_bins','treatment'])\n",
        "averages = groups['e_sensitivity'].mean()\n",
        "print(\"Average, Endline Sensitivity Score - By Total Officer Bins\")\n",
        "print(averages)\n",
        "\n",
        "counts = groups['e_sensitivity'].count()\n",
        "print(\"Counts, Endline Sensitivity Score - By Total Officer Bins\")\n",
        "print(counts)"
      ],
      "metadata": {
        "colab": {
          "base_uri": "https://localhost:8080/"
        },
        "id": "VjgNYA8NX4if",
        "outputId": "642441c2-64a1-47d7-d09e-0d02c41d8261"
      },
      "execution_count": null,
      "outputs": [
        {
          "output_type": "stream",
          "name": "stderr",
          "text": [
            "<ipython-input-36-a040c15c5b2b>:4: FutureWarning: The default of observed=False is deprecated and will be changed to True in a future version of pandas. Pass observed=False to retain current behavior or observed=True to adopt the future default and silence this warning.\n",
            "  groups = q5_eda_both_df.groupby(['b_total_off_bins','treatment'])\n"
          ]
        },
        {
          "output_type": "stream",
          "name": "stdout",
          "text": [
            "Average, Endline Sensitivity Score - By Total Officer Bins\n",
            "b_total_off_bins  treatment\n",
            "(-0.001, 6.0]     Control      8.039604\n",
            "                  Treatment    7.908257\n",
            "(6.0, 9.0]        Control      7.315789\n",
            "                  Treatment    7.250000\n",
            "(9.0, 14.0]       Control      6.900901\n",
            "                  Treatment    7.431818\n",
            "(14.0, 25.0]      Control      7.542857\n",
            "                  Treatment    7.342657\n",
            "Name: e_sensitivity, dtype: float64\n",
            "Counts, Endline Sensitivity Score - By Total Officer Bins\n",
            "b_total_off_bins  treatment\n",
            "(-0.001, 6.0]     Control      101\n",
            "                  Treatment    218\n",
            "(6.0, 9.0]        Control       57\n",
            "                  Treatment    192\n",
            "(9.0, 14.0]       Control      111\n",
            "                  Treatment    176\n",
            "(14.0, 25.0]      Control       70\n",
            "                  Treatment    143\n",
            "Name: e_sensitivity, dtype: int64\n"
          ]
        }
      ]
    },
    {
      "cell_type": "code",
      "source": [
        "# Binning Station Characteristic Fields for Examining Sensitivity Score Difference Means;\n",
        "# Total Officer Bins\n",
        "\n",
        "groups = q5_eda_both_df.groupby(['b_total_off_bins','treatment'])\n",
        "averages = groups['sensitivity_diff'].mean()\n",
        "print(\"Average, Sensitivity Score Diff - By Total Officer Bins\")\n",
        "print(averages)\n",
        "\n",
        "counts = groups['sensitivity_diff'].count()\n",
        "print(\"Counts, Sensitivity Score Diff - By Total Officer Bins\")\n",
        "print(counts)"
      ],
      "metadata": {
        "colab": {
          "base_uri": "https://localhost:8080/"
        },
        "id": "Og34GEF4tFBf",
        "outputId": "8177bf9d-3f77-4251-822e-5e0f51537fea"
      },
      "execution_count": null,
      "outputs": [
        {
          "output_type": "stream",
          "name": "stdout",
          "text": [
            "Average, Sensitivity Score Diff - By Total Officer Bins\n",
            "b_total_off_bins  treatment\n",
            "(-0.001, 6.0]     Control      0.693069\n",
            "                  Treatment    0.582569\n",
            "(6.0, 9.0]        Control      0.245614\n",
            "                  Treatment    0.447368\n",
            "(9.0, 14.0]       Control      0.266055\n",
            "                  Treatment    0.068182\n",
            "(14.0, 25.0]      Control      1.400000\n",
            "                  Treatment   -0.146853\n",
            "Name: sensitivity_diff, dtype: float64\n",
            "Counts, Sensitivity Score Diff - By Total Officer Bins\n",
            "b_total_off_bins  treatment\n",
            "(-0.001, 6.0]     Control      101\n",
            "                  Treatment    218\n",
            "(6.0, 9.0]        Control       57\n",
            "                  Treatment    190\n",
            "(9.0, 14.0]       Control      109\n",
            "                  Treatment    176\n",
            "(14.0, 25.0]      Control       70\n",
            "                  Treatment    143\n",
            "Name: sensitivity_diff, dtype: int64\n"
          ]
        },
        {
          "output_type": "stream",
          "name": "stderr",
          "text": [
            "<ipython-input-37-0562c6423616>:4: FutureWarning: The default of observed=False is deprecated and will be changed to True in a future version of pandas. Pass observed=False to retain current behavior or observed=True to adopt the future default and silence this warning.\n",
            "  groups = q5_eda_both_df.groupby(['b_total_off_bins','treatment'])\n"
          ]
        }
      ]
    },
    {
      "cell_type": "markdown",
      "source": [
        "Stations with larger officer pools had only decline in sensitivity score."
      ],
      "metadata": {
        "id": "_xVSlhk8nUt8"
      }
    },
    {
      "cell_type": "code",
      "source": [
        "# Binning Station Characteristic Fields for Examining Sensitivity Positive Shift Incidence;\n",
        "# Total Officer Size\n",
        "\n",
        "groups = q5_eda_both_df.groupby(['b_total_off_bins','treatment'])\n",
        "averages = groups['sensitivity_inc'].mean()\n",
        "print(\"Average, Endline Sensitivity Increase Incidence - By Total Officer Bins\")\n",
        "print(averages)\n",
        "\n",
        "counts = groups['sensitivity_inc'].count()\n",
        "print(\"Counts, Endline Sensitivity Increase Incidence - By Total Officer Bins\")\n",
        "print(counts)"
      ],
      "metadata": {
        "colab": {
          "base_uri": "https://localhost:8080/"
        },
        "id": "1GDUgMDVvCxc",
        "outputId": "6ddd1bbb-09cf-4405-f911-7a8909071976"
      },
      "execution_count": null,
      "outputs": [
        {
          "output_type": "stream",
          "name": "stderr",
          "text": [
            "<ipython-input-38-07bc6fbdd246>:4: FutureWarning: The default of observed=False is deprecated and will be changed to True in a future version of pandas. Pass observed=False to retain current behavior or observed=True to adopt the future default and silence this warning.\n",
            "  groups = q5_eda_both_df.groupby(['b_total_off_bins','treatment'])\n"
          ]
        },
        {
          "output_type": "stream",
          "name": "stdout",
          "text": [
            "Average, Endline Sensitivity Increase Incidence - By Total Officer Bins\n",
            "b_total_off_bins  treatment\n",
            "(-0.001, 6.0]     Control      0.437500\n",
            "                  Treatment    0.482456\n",
            "(6.0, 9.0]        Control      0.440678\n",
            "                  Treatment    0.425121\n",
            "(9.0, 14.0]       Control      0.450000\n",
            "                  Treatment    0.400000\n",
            "(14.0, 25.0]      Control      0.569444\n",
            "                  Treatment    0.410596\n",
            "Name: sensitivity_inc, dtype: float64\n",
            "Counts, Endline Sensitivity Increase Incidence - By Total Officer Bins\n",
            "b_total_off_bins  treatment\n",
            "(-0.001, 6.0]     Control      112\n",
            "                  Treatment    228\n",
            "(6.0, 9.0]        Control       59\n",
            "                  Treatment    207\n",
            "(9.0, 14.0]       Control      120\n",
            "                  Treatment    190\n",
            "(14.0, 25.0]      Control       72\n",
            "                  Treatment    151\n",
            "Name: sensitivity_inc, dtype: int64\n"
          ]
        }
      ]
    },
    {
      "cell_type": "markdown",
      "source": [
        "Biggest difference in increasers incidence relative to controls was among stations with larger officer pools (with lower incidence of increasers relative to control)."
      ],
      "metadata": {
        "id": "G5-1hL95nlO0"
      }
    },
    {
      "cell_type": "code",
      "source": [
        "# Binning Station Characteristic Fields for Examining Baseline Sensitivity Score Means;\n",
        "# Female Officers\n",
        "\n",
        "groups = q5_eda_both_df.groupby(['b_female_off_bins','treatment'])\n",
        "averages = groups['b_sensitivity_x'].mean()\n",
        "print(\"Average, Baseline Sensitivity Score - By Female Officer Bins\")\n",
        "print(averages)\n",
        "\n",
        "counts = groups['b_sensitivity_x'].count()\n",
        "print(\"Counts, Baseline Sensitivity Score - By Female Officer Bins\")\n",
        "print(counts)"
      ],
      "metadata": {
        "colab": {
          "base_uri": "https://localhost:8080/"
        },
        "id": "6TxnlEAwxixW",
        "outputId": "a8ea5e36-9143-4f79-fe82-ecb6cad1a58a"
      },
      "execution_count": null,
      "outputs": [
        {
          "output_type": "stream",
          "name": "stdout",
          "text": [
            "Average, Baseline Sensitivity Score - By Female Officer Bins\n",
            "b_female_off_bins  treatment\n",
            "(-0.001, 1.0]      Control      6.919463\n",
            "                   Treatment    7.221698\n",
            "(1.0, 4.0]         Control      6.476190\n",
            "                   Treatment    7.355072\n",
            "Name: b_sensitivity_x, dtype: float64\n",
            "Counts, Baseline Sensitivity Score - By Female Officer Bins\n",
            "b_female_off_bins  treatment\n",
            "(-0.001, 1.0]      Control      298\n",
            "                   Treatment    636\n",
            "(1.0, 4.0]         Control       63\n",
            "                   Treatment    138\n",
            "Name: b_sensitivity_x, dtype: int64\n"
          ]
        },
        {
          "output_type": "stream",
          "name": "stderr",
          "text": [
            "<ipython-input-39-743476be8115>:4: FutureWarning: The default of observed=False is deprecated and will be changed to True in a future version of pandas. Pass observed=False to retain current behavior or observed=True to adopt the future default and silence this warning.\n",
            "  groups = q5_eda_both_df.groupby(['b_female_off_bins','treatment'])\n"
          ]
        }
      ]
    },
    {
      "cell_type": "code",
      "source": [
        "# Binning Station Characteristic Fields for Examining Endline Sensitivity Score Means;\n",
        "# Female Officers\n",
        "\n",
        "groups = q5_eda_both_df.groupby(['b_female_off_bins','treatment'])\n",
        "averages = groups['e_sensitivity'].mean()\n",
        "print(\"Average, Endline Sensitivity Score - By Female Officer Bins\")\n",
        "print(averages)\n",
        "\n",
        "counts = groups['e_sensitivity'].count()\n",
        "print(\"Counts, Endline Sensitivity Score - By Female Officer Bins\")\n",
        "print(counts)"
      ],
      "metadata": {
        "colab": {
          "base_uri": "https://localhost:8080/"
        },
        "id": "1KWv0NJOx3yz",
        "outputId": "131609a4-70ab-48d0-ef1d-318829893cc0"
      },
      "execution_count": null,
      "outputs": [
        {
          "output_type": "stream",
          "name": "stderr",
          "text": [
            "<ipython-input-40-bef763520924>:4: FutureWarning: The default of observed=False is deprecated and will be changed to True in a future version of pandas. Pass observed=False to retain current behavior or observed=True to adopt the future default and silence this warning.\n",
            "  groups = q5_eda_both_df.groupby(['b_female_off_bins','treatment'])\n"
          ]
        },
        {
          "output_type": "stream",
          "name": "stdout",
          "text": [
            "Average, Endline Sensitivity Score - By Female Officer Bins\n",
            "b_female_off_bins  treatment\n",
            "(-0.001, 1.0]      Control      7.618705\n",
            "                   Treatment    7.517471\n",
            "(1.0, 4.0]         Control      6.639344\n",
            "                   Treatment    7.468750\n",
            "Name: e_sensitivity, dtype: float64\n",
            "Counts, Endline Sensitivity Score - By Female Officer Bins\n",
            "b_female_off_bins  treatment\n",
            "(-0.001, 1.0]      Control      278\n",
            "                   Treatment    601\n",
            "(1.0, 4.0]         Control       61\n",
            "                   Treatment    128\n",
            "Name: e_sensitivity, dtype: int64\n"
          ]
        }
      ]
    },
    {
      "cell_type": "code",
      "source": [
        "# Binning Station Characteristic Fields for Examining Sensitivity Score Difference Means;\n",
        "# Female Officer Bins\n",
        "\n",
        "groups = q5_eda_both_df.groupby(['b_female_off_bins','treatment'])\n",
        "averages = groups['sensitivity_diff'].mean()\n",
        "print(\"Average, Sensitivity Score Diff - By Female Officer Bins\")\n",
        "print(averages)\n",
        "\n",
        "counts = groups['sensitivity_diff'].count()\n",
        "print(\"Counts, Sensitivity Score Diff - By Female Officer Bins\")\n",
        "print(counts)"
      ],
      "metadata": {
        "colab": {
          "base_uri": "https://localhost:8080/"
        },
        "id": "gm20pLi8yPGx",
        "outputId": "6139178a-7d64-424e-fd73-80d0b785eb95"
      },
      "execution_count": null,
      "outputs": [
        {
          "output_type": "stream",
          "name": "stdout",
          "text": [
            "Average, Sensitivity Score Diff - By Female Officer Bins\n",
            "b_female_off_bins  treatment\n",
            "(-0.001, 1.0]      Control      0.747292\n",
            "                   Treatment    0.327787\n",
            "(1.0, 4.0]         Control      0.066667\n",
            "                   Treatment    0.047619\n",
            "Name: sensitivity_diff, dtype: float64\n",
            "Counts, Sensitivity Score Diff - By Female Officer Bins\n",
            "b_female_off_bins  treatment\n",
            "(-0.001, 1.0]      Control      277\n",
            "                   Treatment    601\n",
            "(1.0, 4.0]         Control       60\n",
            "                   Treatment    126\n",
            "Name: sensitivity_diff, dtype: int64\n"
          ]
        },
        {
          "output_type": "stream",
          "name": "stderr",
          "text": [
            "<ipython-input-41-50a6db4c966f>:4: FutureWarning: The default of observed=False is deprecated and will be changed to True in a future version of pandas. Pass observed=False to retain current behavior or observed=True to adopt the future default and silence this warning.\n",
            "  groups = q5_eda_both_df.groupby(['b_female_off_bins','treatment'])\n"
          ]
        }
      ]
    },
    {
      "cell_type": "markdown",
      "source": [
        "Directional consistent in sensitivity index changes across female officer size bins ... all groups increased with control groups having the largest diff (odd?)"
      ],
      "metadata": {
        "id": "L9Mkxm_6n_m_"
      }
    },
    {
      "cell_type": "code",
      "source": [
        "# Binning Station Characteristic Fields for Examining Sensitivity Positive Shift Incidence;\n",
        "# Female Officer Size\n",
        "\n",
        "groups = q5_eda_both_df.groupby(['b_female_off_bins','treatment'])\n",
        "averages = groups['sensitivity_inc'].mean()\n",
        "print(\"Average, Endline Sensitivity Increase Incidence - By Female Officer Bins\")\n",
        "print(averages)\n",
        "\n",
        "counts = groups['sensitivity_inc'].count()\n",
        "print(\"Counts, Endline Sensitivity Increase Incidence - By Female Officer Bins\")\n",
        "print(counts)"
      ],
      "metadata": {
        "colab": {
          "base_uri": "https://localhost:8080/"
        },
        "id": "dLb8USaUysvQ",
        "outputId": "ba895745-1873-488c-aa02-1657a481d494"
      },
      "execution_count": null,
      "outputs": [
        {
          "output_type": "stream",
          "name": "stderr",
          "text": [
            "<ipython-input-42-737da404b653>:4: FutureWarning: The default of observed=False is deprecated and will be changed to True in a future version of pandas. Pass observed=False to retain current behavior or observed=True to adopt the future default and silence this warning.\n",
            "  groups = q5_eda_both_df.groupby(['b_female_off_bins','treatment'])\n"
          ]
        },
        {
          "output_type": "stream",
          "name": "stdout",
          "text": [
            "Average, Endline Sensitivity Increase Incidence - By Female Officer Bins\n",
            "b_female_off_bins  treatment\n",
            "(-0.001, 1.0]      Control      0.464883\n",
            "                   Treatment    0.452830\n",
            "(1.0, 4.0]         Control      0.484375\n",
            "                   Treatment    0.342857\n",
            "Name: sensitivity_inc, dtype: float64\n",
            "Counts, Endline Sensitivity Increase Incidence - By Female Officer Bins\n",
            "b_female_off_bins  treatment\n",
            "(-0.001, 1.0]      Control      299\n",
            "                   Treatment    636\n",
            "(1.0, 4.0]         Control       64\n",
            "                   Treatment    140\n",
            "Name: sensitivity_inc, dtype: int64\n"
          ]
        }
      ]
    },
    {
      "cell_type": "code",
      "source": [
        "# Binning Station Characteristic Fields for Examining Baseline Sensitivity Score Means;\n",
        "# Total Staff Size\n",
        "\n",
        "groups = q5_eda_both_df.groupby(['e_total_staff_bins','treatment'])\n",
        "averages = groups['b_sensitivity_x'].mean()\n",
        "print(\"Average, Baseline Sensitivity Score - By Total Staff Bins\")\n",
        "print(averages)\n",
        "\n",
        "counts = groups['b_sensitivity_x'].count()\n",
        "print(\"Counts, Baseline Sensitivity Score - By Total Staff Bins\")\n",
        "print(counts)\n"
      ],
      "metadata": {
        "colab": {
          "base_uri": "https://localhost:8080/"
        },
        "id": "ZoBiNKeq03Uq",
        "outputId": "ba494a90-7b56-4eb5-d4ba-1b8f23b07195"
      },
      "execution_count": null,
      "outputs": [
        {
          "output_type": "stream",
          "name": "stderr",
          "text": [
            "<ipython-input-43-a9fbe88ecb41>:4: FutureWarning: The default of observed=False is deprecated and will be changed to True in a future version of pandas. Pass observed=False to retain current behavior or observed=True to adopt the future default and silence this warning.\n",
            "  groups = q5_eda_both_df.groupby(['e_total_staff_bins','treatment'])\n"
          ]
        },
        {
          "output_type": "stream",
          "name": "stdout",
          "text": [
            "Average, Baseline Sensitivity Score - By Total Staff Bins\n",
            "e_total_staff_bins  treatment\n",
            "(16.999, 35.0]      Control      7.208333\n",
            "                    Treatment    7.514563\n",
            "(35.0, 55.0]        Control      7.072289\n",
            "                    Treatment    6.748663\n",
            "(55.0, 75.0]        Control      6.593750\n",
            "                    Treatment    7.056995\n",
            "(75.0, 125.0]       Control      6.488372\n",
            "                    Treatment    7.638298\n",
            "Name: b_sensitivity_x, dtype: float64\n",
            "Counts, Baseline Sensitivity Score - By Total Staff Bins\n",
            "e_total_staff_bins  treatment\n",
            "(16.999, 35.0]      Control       96\n",
            "                    Treatment    206\n",
            "(35.0, 55.0]        Control       83\n",
            "                    Treatment    187\n",
            "(55.0, 75.0]        Control       96\n",
            "                    Treatment    193\n",
            "(75.0, 125.0]       Control       86\n",
            "                    Treatment    188\n",
            "Name: b_sensitivity_x, dtype: int64\n"
          ]
        }
      ]
    },
    {
      "cell_type": "code",
      "source": [
        "# Binning Station Characteristic Fields for Examining Endline Sensitivity Score Means;\n",
        "# Total Staff Size\n",
        "\n",
        "groups = q5_eda_both_df.groupby(['e_total_staff_bins','treatment'])\n",
        "averages = groups['e_sensitivity'].mean()\n",
        "print(\"Average, Endline Sensitivity Score - By Total Staff Bins\")\n",
        "print(averages)\n",
        "\n",
        "counts = groups['e_sensitivity'].count()\n",
        "print(\"Counts, Endline Sensitivity Score - By Total Staff Bins\")\n",
        "print(counts)"
      ],
      "metadata": {
        "colab": {
          "base_uri": "https://localhost:8080/"
        },
        "id": "Bh_S4N_x1FAF",
        "outputId": "ad3b2c4c-1652-4d6d-ae2b-266b9a059954"
      },
      "execution_count": null,
      "outputs": [
        {
          "output_type": "stream",
          "name": "stderr",
          "text": [
            "<ipython-input-44-84ef610fca26>:4: FutureWarning: The default of observed=False is deprecated and will be changed to True in a future version of pandas. Pass observed=False to retain current behavior or observed=True to adopt the future default and silence this warning.\n",
            "  groups = q5_eda_both_df.groupby(['e_total_staff_bins','treatment'])\n"
          ]
        },
        {
          "output_type": "stream",
          "name": "stdout",
          "text": [
            "Average, Endline Sensitivity Score - By Total Staff Bins\n",
            "e_total_staff_bins  treatment\n",
            "(16.999, 35.0]      Control      7.835294\n",
            "                    Treatment    7.868421\n",
            "(35.0, 55.0]        Control      7.280488\n",
            "                    Treatment    8.056497\n",
            "(55.0, 75.0]        Control      7.438202\n",
            "                    Treatment    6.935484\n",
            "(75.0, 125.0]       Control      7.204819\n",
            "                    Treatment    7.176136\n",
            "Name: e_sensitivity, dtype: float64\n",
            "Counts, Endline Sensitivity Score - By Total Staff Bins\n",
            "e_total_staff_bins  treatment\n",
            "(16.999, 35.0]      Control       85\n",
            "                    Treatment    190\n",
            "(35.0, 55.0]        Control       82\n",
            "                    Treatment    177\n",
            "(55.0, 75.0]        Control       89\n",
            "                    Treatment    186\n",
            "(75.0, 125.0]       Control       83\n",
            "                    Treatment    176\n",
            "Name: e_sensitivity, dtype: int64\n"
          ]
        }
      ]
    },
    {
      "cell_type": "code",
      "source": [
        "# Binning Station Characteristic Fields for Examining Sensitivity Score Difference Means;\n",
        "# Total Staff Size\n",
        "\n",
        "groups = q5_eda_both_df.groupby(['e_total_staff_bins','treatment'])\n",
        "averages = groups['sensitivity_diff'].mean()\n",
        "print(\"Average, Sensitivity Score Diff - By Total Staff Bins\")\n",
        "print(averages)\n",
        "\n",
        "counts = groups['sensitivity_diff'].count()\n",
        "print(\"Counts, Sensitivity Score Diff - By Total Staff Bins\")\n",
        "print(counts)\n"
      ],
      "metadata": {
        "colab": {
          "base_uri": "https://localhost:8080/"
        },
        "id": "YTFNkbJ51Esl",
        "outputId": "2e849bb2-5822-41ad-8647-68b3ddc1e3dc"
      },
      "execution_count": null,
      "outputs": [
        {
          "output_type": "stream",
          "name": "stdout",
          "text": [
            "Average, Sensitivity Score Diff - By Total Staff Bins\n",
            "e_total_staff_bins  treatment\n",
            "(16.999, 35.0]      Control      0.635294\n",
            "                    Treatment    0.410526\n",
            "(35.0, 55.0]        Control      0.246914\n",
            "                    Treatment    1.282486\n",
            "(55.0, 75.0]        Control      0.943182\n",
            "                    Treatment   -0.178378\n",
            "(75.0, 125.0]       Control      0.650602\n",
            "                    Treatment   -0.394286\n",
            "Name: sensitivity_diff, dtype: float64\n",
            "Counts, Sensitivity Score Diff - By Total Staff Bins\n",
            "e_total_staff_bins  treatment\n",
            "(16.999, 35.0]      Control       85\n",
            "                    Treatment    190\n",
            "(35.0, 55.0]        Control       81\n",
            "                    Treatment    177\n",
            "(55.0, 75.0]        Control       88\n",
            "                    Treatment    185\n",
            "(75.0, 125.0]       Control       83\n",
            "                    Treatment    175\n",
            "Name: sensitivity_diff, dtype: int64\n"
          ]
        },
        {
          "output_type": "stream",
          "name": "stderr",
          "text": [
            "<ipython-input-45-67c91abcfafa>:4: FutureWarning: The default of observed=False is deprecated and will be changed to True in a future version of pandas. Pass observed=False to retain current behavior or observed=True to adopt the future default and silence this warning.\n",
            "  groups = q5_eda_both_df.groupby(['e_total_staff_bins','treatment'])\n"
          ]
        }
      ]
    },
    {
      "cell_type": "markdown",
      "source": [
        "Declines in sensitivity score observe for treatment groups in larger stations (consistent with findings for the the baseline staff size bins)"
      ],
      "metadata": {
        "id": "ir5WgsBIolQ6"
      }
    },
    {
      "cell_type": "code",
      "source": [
        "# Binning Station Characteristic Fields for Examining Sensitivity Positive Shift Incidence;\n",
        "# Total Staff Size\n",
        "\n",
        "groups = q5_eda_both_df.groupby(['e_total_staff_bins','treatment'])\n",
        "averages = groups['sensitivity_inc'].mean()\n",
        "print(\"Average, Endline Sensitivity Increase Incidence - By Total Staff Bins\")\n",
        "print(averages)\n",
        "\n",
        "counts = groups['sensitivity_inc'].count()\n",
        "print(\"Counts, Endline Sensitivity Increase Incidence - By Total Staff Bins\")\n",
        "print(counts)\n"
      ],
      "metadata": {
        "colab": {
          "base_uri": "https://localhost:8080/"
        },
        "id": "1weXsNP-1EVe",
        "outputId": "00d62813-9c30-4527-9326-e88a220958ce"
      },
      "execution_count": null,
      "outputs": [
        {
          "output_type": "stream",
          "name": "stdout",
          "text": [
            "Average, Endline Sensitivity Increase Incidence - By Total Staff Bins\n",
            "e_total_staff_bins  treatment\n",
            "(16.999, 35.0]      Control      0.406250\n",
            "                    Treatment    0.466019\n",
            "(35.0, 55.0]        Control      0.440476\n",
            "                    Treatment    0.534759\n",
            "(55.0, 75.0]        Control      0.505155\n",
            "                    Treatment    0.350515\n",
            "(75.0, 125.0]       Control      0.523256\n",
            "                    Treatment    0.380952\n",
            "Name: sensitivity_inc, dtype: float64\n",
            "Counts, Endline Sensitivity Increase Incidence - By Total Staff Bins\n",
            "e_total_staff_bins  treatment\n",
            "(16.999, 35.0]      Control       96\n",
            "                    Treatment    206\n",
            "(35.0, 55.0]        Control       84\n",
            "                    Treatment    187\n",
            "(55.0, 75.0]        Control       97\n",
            "                    Treatment    194\n",
            "(75.0, 125.0]       Control       86\n",
            "                    Treatment    189\n",
            "Name: sensitivity_inc, dtype: int64\n"
          ]
        },
        {
          "output_type": "stream",
          "name": "stderr",
          "text": [
            "<ipython-input-46-31de2232e15a>:4: FutureWarning: The default of observed=False is deprecated and will be changed to True in a future version of pandas. Pass observed=False to retain current behavior or observed=True to adopt the future default and silence this warning.\n",
            "  groups = q5_eda_both_df.groupby(['e_total_staff_bins','treatment'])\n"
          ]
        }
      ]
    },
    {
      "cell_type": "markdown",
      "source": [
        "Lower incidence of increasers in larger stations."
      ],
      "metadata": {
        "id": "CvTlzYfDo4mD"
      }
    },
    {
      "cell_type": "code",
      "source": [
        "# Binning Station Characteristic Fields for Examining Baseline Sensitivity Score Means;\n",
        "# Total Female Size\n",
        "\n",
        "groups = q5_eda_both_df.groupby(['e_female_staff_bins','treatment'])\n",
        "averages = groups['b_sensitivity_x'].mean()\n",
        "print(\"Average, Baseline Sensitivity Score - By Female Staff Bins\")\n",
        "print(averages)\n",
        "\n",
        "counts = groups['b_sensitivity_x'].count()\n",
        "print(\"Counts, Baseline Sensitivity Score - By Female Staff Bins\")\n",
        "print(counts)\n"
      ],
      "metadata": {
        "colab": {
          "base_uri": "https://localhost:8080/"
        },
        "id": "Wb2EC1Pz2r6I",
        "outputId": "d0bd1330-a32a-4d87-97b7-398870113857"
      },
      "execution_count": null,
      "outputs": [
        {
          "output_type": "stream",
          "name": "stderr",
          "text": [
            "<ipython-input-47-7d8c547d6a13>:4: FutureWarning: The default of observed=False is deprecated and will be changed to True in a future version of pandas. Pass observed=False to retain current behavior or observed=True to adopt the future default and silence this warning.\n",
            "  groups = q5_eda_both_df.groupby(['e_female_staff_bins','treatment'])\n"
          ]
        },
        {
          "output_type": "stream",
          "name": "stdout",
          "text": [
            "Average, Baseline Sensitivity Score - By Female Staff Bins\n",
            "e_female_staff_bins  treatment\n",
            "(-0.001, 3.0]        Control      6.982609\n",
            "                     Treatment    7.164384\n",
            "(3.0, 5.0]           Control      6.463918\n",
            "                     Treatment    6.926724\n",
            "(5.0, 7.0]           Control      6.970588\n",
            "                     Treatment    7.632530\n",
            "(7.0, 15.0]          Control      6.987654\n",
            "                     Treatment    7.420382\n",
            "Name: b_sensitivity_x, dtype: float64\n",
            "Counts, Baseline Sensitivity Score - By Female Staff Bins\n",
            "e_female_staff_bins  treatment\n",
            "(-0.001, 3.0]        Control      115\n",
            "                     Treatment    219\n",
            "(3.0, 5.0]           Control       97\n",
            "                     Treatment    232\n",
            "(5.0, 7.0]           Control       68\n",
            "                     Treatment    166\n",
            "(7.0, 15.0]          Control       81\n",
            "                     Treatment    157\n",
            "Name: b_sensitivity_x, dtype: int64\n"
          ]
        }
      ]
    },
    {
      "cell_type": "code",
      "source": [
        "# Binning Station Characteristic Fields for Examining Endline Sensitivity Score Means;\n",
        "# Total Female Size\n",
        "\n",
        "groups = q5_eda_both_df.groupby(['e_female_staff_bins','treatment'])\n",
        "averages = groups['e_sensitivity'].mean()\n",
        "print(\"Average, Endline Sensitivity Score - By Female Staff Bins\")\n",
        "print(averages)\n",
        "\n",
        "counts = groups['e_sensitivity'].count()\n",
        "print(\"Counts, Endline Sensitivity Score - By Female Staff Bins\")\n",
        "print(counts)\n"
      ],
      "metadata": {
        "colab": {
          "base_uri": "https://localhost:8080/"
        },
        "id": "1URdE2AR2-BZ",
        "outputId": "7ae5e30c-530d-4bb7-dfa7-8d8956c21388"
      },
      "execution_count": null,
      "outputs": [
        {
          "output_type": "stream",
          "name": "stderr",
          "text": [
            "<ipython-input-48-9e743713380a>:4: FutureWarning: The default of observed=False is deprecated and will be changed to True in a future version of pandas. Pass observed=False to retain current behavior or observed=True to adopt the future default and silence this warning.\n",
            "  groups = q5_eda_both_df.groupby(['e_female_staff_bins','treatment'])\n"
          ]
        },
        {
          "output_type": "stream",
          "name": "stdout",
          "text": [
            "Average, Endline Sensitivity Score - By Female Staff Bins\n",
            "e_female_staff_bins  treatment\n",
            "(-0.001, 3.0]        Control      7.691589\n",
            "                     Treatment    7.781095\n",
            "(3.0, 5.0]           Control      7.602151\n",
            "                     Treatment    7.513636\n",
            "(5.0, 7.0]           Control      7.328125\n",
            "                     Treatment    7.163522\n",
            "(7.0, 15.0]          Control      6.986667\n",
            "                     Treatment    7.503356\n",
            "Name: e_sensitivity, dtype: float64\n",
            "Counts, Endline Sensitivity Score - By Female Staff Bins\n",
            "e_female_staff_bins  treatment\n",
            "(-0.001, 3.0]        Control      107\n",
            "                     Treatment    201\n",
            "(3.0, 5.0]           Control       93\n",
            "                     Treatment    220\n",
            "(5.0, 7.0]           Control       64\n",
            "                     Treatment    159\n",
            "(7.0, 15.0]          Control       75\n",
            "                     Treatment    149\n",
            "Name: e_sensitivity, dtype: int64\n"
          ]
        }
      ]
    },
    {
      "cell_type": "code",
      "source": [
        "# Binning Station Characteristic Fields for Examining Sensitivity Score Difference Means;\n",
        "# Total Female Size\n",
        "\n",
        "groups = q5_eda_both_df.groupby(['e_female_staff_bins','treatment'])\n",
        "averages = groups['sensitivity_diff'].mean()\n",
        "print(\"Average, Sensitivity Score Diff - By Total Female Bins\")\n",
        "print(averages)\n",
        "\n",
        "counts = groups['sensitivity_diff'].count()\n",
        "print(\"Counts, Sensitivity Score Diff - By Total Female Bins\")\n",
        "print(counts)"
      ],
      "metadata": {
        "colab": {
          "base_uri": "https://localhost:8080/"
        },
        "id": "QcKErPUb291J",
        "outputId": "277ee19f-66db-4dfd-a7cb-48f491f8f6c4"
      },
      "execution_count": null,
      "outputs": [
        {
          "output_type": "stream",
          "name": "stderr",
          "text": [
            "<ipython-input-49-760f76e3dab0>:4: FutureWarning: The default of observed=False is deprecated and will be changed to True in a future version of pandas. Pass observed=False to retain current behavior or observed=True to adopt the future default and silence this warning.\n",
            "  groups = q5_eda_both_df.groupby(['e_female_staff_bins','treatment'])\n"
          ]
        },
        {
          "output_type": "stream",
          "name": "stdout",
          "text": [
            "Average, Sensitivity Score Diff - By Total Female Bins\n",
            "e_female_staff_bins  treatment\n",
            "(-0.001, 3.0]        Control      0.728972\n",
            "                     Treatment    0.656716\n",
            "(3.0, 5.0]           Control      1.336957\n",
            "                     Treatment    0.595455\n",
            "(5.0, 7.0]           Control      0.296875\n",
            "                     Treatment   -0.487342\n",
            "(7.0, 15.0]          Control     -0.121622\n",
            "                     Treatment    0.114865\n",
            "Name: sensitivity_diff, dtype: float64\n",
            "Counts, Sensitivity Score Diff - By Total Female Bins\n",
            "e_female_staff_bins  treatment\n",
            "(-0.001, 3.0]        Control      107\n",
            "                     Treatment    201\n",
            "(3.0, 5.0]           Control       92\n",
            "                     Treatment    220\n",
            "(5.0, 7.0]           Control       64\n",
            "                     Treatment    158\n",
            "(7.0, 15.0]          Control       74\n",
            "                     Treatment    148\n",
            "Name: sensitivity_diff, dtype: int64\n"
          ]
        }
      ]
    },
    {
      "cell_type": "markdown",
      "source": [
        "No clear relationship for female staff sizes."
      ],
      "metadata": {
        "id": "P11SNFQGpNu5"
      }
    },
    {
      "cell_type": "code",
      "source": [
        "# Binning Station Characteristic Fields for Examining Sensitivity Positive Shift Incidence;\n",
        "# Total Female Size\n",
        "\n",
        "groups = q5_eda_both_df.groupby(['e_female_staff_bins','treatment'])\n",
        "averages = groups['sensitivity_inc'].mean()\n",
        "print(\"Average, Endline Sensitivity Increase Incidence - By Female Staff Bins\")\n",
        "print(averages)\n",
        "\n",
        "counts = groups['sensitivity_inc'].count()\n",
        "print(\"Counts, Endline Sensitivity Increase Incidence - By Female Staff Bins\")\n",
        "print(counts)\n"
      ],
      "metadata": {
        "colab": {
          "base_uri": "https://localhost:8080/"
        },
        "id": "wWvA_hHr29mS",
        "outputId": "9fda721e-e648-449b-9cca-90668e93f3d9"
      },
      "execution_count": null,
      "outputs": [
        {
          "output_type": "stream",
          "name": "stderr",
          "text": [
            "<ipython-input-50-2c7047c44b96>:4: FutureWarning: The default of observed=False is deprecated and will be changed to True in a future version of pandas. Pass observed=False to retain current behavior or observed=True to adopt the future default and silence this warning.\n",
            "  groups = q5_eda_both_df.groupby(['e_female_staff_bins','treatment'])\n"
          ]
        },
        {
          "output_type": "stream",
          "name": "stdout",
          "text": [
            "Average, Endline Sensitivity Increase Incidence - By Female Staff Bins\n",
            "e_female_staff_bins  treatment\n",
            "(-0.001, 3.0]        Control      0.478261\n",
            "                     Treatment    0.493151\n",
            "(3.0, 5.0]           Control      0.530612\n",
            "                     Treatment    0.465517\n",
            "(5.0, 7.0]           Control      0.426471\n",
            "                     Treatment    0.365269\n",
            "(7.0, 15.0]          Control      0.414634\n",
            "                     Treatment    0.373418\n",
            "Name: sensitivity_inc, dtype: float64\n",
            "Counts, Endline Sensitivity Increase Incidence - By Female Staff Bins\n",
            "e_female_staff_bins  treatment\n",
            "(-0.001, 3.0]        Control      115\n",
            "                     Treatment    219\n",
            "(3.0, 5.0]           Control       98\n",
            "                     Treatment    232\n",
            "(5.0, 7.0]           Control       68\n",
            "                     Treatment    167\n",
            "(7.0, 15.0]          Control       82\n",
            "                     Treatment    158\n",
            "Name: sensitivity_inc, dtype: int64\n"
          ]
        }
      ]
    },
    {
      "cell_type": "code",
      "source": [
        "# Binning Station Characteristic Fields for Examining Baseline Sensitivity Score Means;\n",
        "# Total Officers\n",
        "\n",
        "groups = q5_eda_both_df.groupby(['e_total_off_bins','treatment'])\n",
        "averages = groups['b_sensitivity_x'].mean()\n",
        "print(\"Average, Baseline Sensitivity Score - By Total Officer Bins\")\n",
        "print(averages)\n",
        "\n",
        "counts = groups['b_sensitivity_x'].count()\n",
        "print(\"Counts, Baseline Sensitivity Score - By Total Officer Bins\")\n",
        "print(counts)"
      ],
      "metadata": {
        "colab": {
          "base_uri": "https://localhost:8080/"
        },
        "id": "9hg-2YXb4K_z",
        "outputId": "2a2c301f-3a27-4e65-bd29-add93c502786"
      },
      "execution_count": null,
      "outputs": [
        {
          "output_type": "stream",
          "name": "stderr",
          "text": [
            "<ipython-input-51-922eca74bcf4>:4: FutureWarning: The default of observed=False is deprecated and will be changed to True in a future version of pandas. Pass observed=False to retain current behavior or observed=True to adopt the future default and silence this warning.\n",
            "  groups = q5_eda_both_df.groupby(['e_total_off_bins','treatment'])\n"
          ]
        },
        {
          "output_type": "stream",
          "name": "stdout",
          "text": [
            "Average, Baseline Sensitivity Score - By Total Officer Bins\n",
            "e_total_off_bins  treatment\n",
            "(1.999, 7.0]      Control      7.429825\n",
            "                  Treatment    7.267442\n",
            "(7.0, 10.0]       Control      6.555556\n",
            "                  Treatment    6.658537\n",
            "(10.0, 13.0]      Control      6.970000\n",
            "                  Treatment    7.181208\n",
            "(13.0, 26.0]      Control      6.053333\n",
            "                  Treatment    7.738916\n",
            "Name: b_sensitivity_x, dtype: float64\n",
            "Counts, Baseline Sensitivity Score - By Total Officer Bins\n",
            "e_total_off_bins  treatment\n",
            "(1.999, 7.0]      Control      114\n",
            "                  Treatment    258\n",
            "(7.0, 10.0]       Control       72\n",
            "                  Treatment    164\n",
            "(10.0, 13.0]      Control      100\n",
            "                  Treatment    149\n",
            "(13.0, 26.0]      Control       75\n",
            "                  Treatment    203\n",
            "Name: b_sensitivity_x, dtype: int64\n"
          ]
        }
      ]
    },
    {
      "cell_type": "code",
      "source": [
        "# Binning Station Characteristic Fields for Examining Endline Sensitivity Score Means;\n",
        "# Total Officers\n",
        "\n",
        "groups = q5_eda_both_df.groupby(['e_total_off_bins','treatment'])\n",
        "averages = groups['e_sensitivity'].mean()\n",
        "print(\"Average, Endline Sensitivity Score - By Total Officer Bins\")\n",
        "print(averages)\n",
        "\n",
        "counts = groups['e_sensitivity'].count()\n",
        "print(\"Counts, Endline Sensitivity Score - By Total Officer Bins\")\n",
        "print(counts)"
      ],
      "metadata": {
        "colab": {
          "base_uri": "https://localhost:8080/"
        },
        "id": "Z3-q_CZR4K0z",
        "outputId": "09cd5ae2-9694-4ac0-fa6c-d4acafe6a2fb"
      },
      "execution_count": null,
      "outputs": [
        {
          "output_type": "stream",
          "name": "stdout",
          "text": [
            "Average, Endline Sensitivity Score - By Total Officer Bins\n",
            "e_total_off_bins  treatment\n",
            "(1.999, 7.0]      Control      7.873786\n",
            "                  Treatment    7.775000\n",
            "(7.0, 10.0]       Control      7.723077\n",
            "                  Treatment    7.773585\n",
            "(10.0, 13.0]      Control      7.212121\n",
            "                  Treatment    6.978723\n",
            "(13.0, 26.0]      Control      6.888889\n",
            "                  Treatment    7.343915\n",
            "Name: e_sensitivity, dtype: float64\n",
            "Counts, Endline Sensitivity Score - By Total Officer Bins\n",
            "e_total_off_bins  treatment\n",
            "(1.999, 7.0]      Control      103\n",
            "                  Treatment    240\n",
            "(7.0, 10.0]       Control       65\n",
            "                  Treatment    159\n",
            "(10.0, 13.0]      Control       99\n",
            "                  Treatment    141\n",
            "(13.0, 26.0]      Control       72\n",
            "                  Treatment    189\n",
            "Name: e_sensitivity, dtype: int64\n"
          ]
        },
        {
          "output_type": "stream",
          "name": "stderr",
          "text": [
            "<ipython-input-52-9d3bf0ab36dd>:4: FutureWarning: The default of observed=False is deprecated and will be changed to True in a future version of pandas. Pass observed=False to retain current behavior or observed=True to adopt the future default and silence this warning.\n",
            "  groups = q5_eda_both_df.groupby(['e_total_off_bins','treatment'])\n"
          ]
        }
      ]
    },
    {
      "cell_type": "code",
      "source": [
        "# Binning Station Characteristic Fields for Examining Sensitivity Score Difference Means;\n",
        "# Total Officer Bins\n",
        "\n",
        "groups = q5_eda_both_df.groupby(['e_total_off_bins','treatment'])\n",
        "averages = groups['sensitivity_diff'].mean()\n",
        "print(\"Average, Sensitivity Score Diff - By Total Officer Bins\")\n",
        "print(averages)\n",
        "\n",
        "counts = groups['sensitivity_diff'].count()\n",
        "print(\"Counts, Sensitivity Score Diff - By Total Officer Bins\")\n",
        "print(counts)"
      ],
      "metadata": {
        "colab": {
          "base_uri": "https://localhost:8080/"
        },
        "id": "U895zXp74KpX",
        "outputId": "8056fb0a-ae6d-4444-c065-164664cc298e"
      },
      "execution_count": null,
      "outputs": [
        {
          "output_type": "stream",
          "name": "stdout",
          "text": [
            "Average, Sensitivity Score Diff - By Total Officer Bins\n",
            "e_total_off_bins  treatment\n",
            "(1.999, 7.0]      Control      0.407767\n",
            "                  Treatment    0.552301\n",
            "(7.0, 10.0]       Control      1.261538\n",
            "                  Treatment    1.113208\n",
            "(10.0, 13.0]      Control      0.226804\n",
            "                  Treatment   -0.278571\n",
            "(13.0, 26.0]      Control      0.902778\n",
            "                  Treatment   -0.354497\n",
            "Name: sensitivity_diff, dtype: float64\n",
            "Counts, Sensitivity Score Diff - By Total Officer Bins\n",
            "e_total_off_bins  treatment\n",
            "(1.999, 7.0]      Control      103\n",
            "                  Treatment    239\n",
            "(7.0, 10.0]       Control       65\n",
            "                  Treatment    159\n",
            "(10.0, 13.0]      Control       97\n",
            "                  Treatment    140\n",
            "(13.0, 26.0]      Control       72\n",
            "                  Treatment    189\n",
            "Name: sensitivity_diff, dtype: int64\n"
          ]
        },
        {
          "output_type": "stream",
          "name": "stderr",
          "text": [
            "<ipython-input-53-6aa0154fc395>:4: FutureWarning: The default of observed=False is deprecated and will be changed to True in a future version of pandas. Pass observed=False to retain current behavior or observed=True to adopt the future default and silence this warning.\n",
            "  groups = q5_eda_both_df.groupby(['e_total_off_bins','treatment'])\n"
          ]
        }
      ]
    },
    {
      "cell_type": "markdown",
      "source": [
        "Stations with higher number of officers appearing to have decreases in sensitivty from baseline to endline (control increased and treatment decreased)"
      ],
      "metadata": {
        "id": "Km_LyLw6plki"
      }
    },
    {
      "cell_type": "code",
      "source": [
        "# Binning Station Characteristic Fields for Examining Sensitivity Positive Shift Incidence;\n",
        "# Total Officer Size\n",
        "\n",
        "groups = q5_eda_both_df.groupby(['e_total_off_bins','treatment'])\n",
        "averages = groups['sensitivity_inc'].mean()\n",
        "print(\"Average, Endline Sensitivity Increase Incidence - By Total Officer Bins\")\n",
        "print(averages)\n",
        "\n",
        "counts = groups['sensitivity_inc'].count()\n",
        "print(\"Counts, Endline Sensitivity Increase Incidence - By Total Officer Bins\")\n",
        "print(counts)"
      ],
      "metadata": {
        "colab": {
          "base_uri": "https://localhost:8080/"
        },
        "id": "zkUm3_pX4Kcq",
        "outputId": "63a65f44-0bec-425d-d238-92dcd252d826"
      },
      "execution_count": null,
      "outputs": [
        {
          "output_type": "stream",
          "name": "stdout",
          "text": [
            "Average, Endline Sensitivity Increase Incidence - By Total Officer Bins\n",
            "e_total_off_bins  treatment\n",
            "(1.999, 7.0]      Control      0.403509\n",
            "                  Treatment    0.459459\n",
            "(7.0, 10.0]       Control      0.583333\n",
            "                  Treatment    0.560976\n",
            "(10.0, 13.0]      Control      0.431373\n",
            "                  Treatment    0.340000\n",
            "(13.0, 26.0]      Control      0.506667\n",
            "                  Treatment    0.364532\n",
            "Name: sensitivity_inc, dtype: float64\n",
            "Counts, Endline Sensitivity Increase Incidence - By Total Officer Bins\n",
            "e_total_off_bins  treatment\n",
            "(1.999, 7.0]      Control      114\n",
            "                  Treatment    259\n",
            "(7.0, 10.0]       Control       72\n",
            "                  Treatment    164\n",
            "(10.0, 13.0]      Control      102\n",
            "                  Treatment    150\n",
            "(13.0, 26.0]      Control       75\n",
            "                  Treatment    203\n",
            "Name: sensitivity_inc, dtype: int64\n"
          ]
        },
        {
          "output_type": "stream",
          "name": "stderr",
          "text": [
            "<ipython-input-54-521fc7ee852f>:4: FutureWarning: The default of observed=False is deprecated and will be changed to True in a future version of pandas. Pass observed=False to retain current behavior or observed=True to adopt the future default and silence this warning.\n",
            "  groups = q5_eda_both_df.groupby(['e_total_off_bins','treatment'])\n"
          ]
        }
      ]
    },
    {
      "cell_type": "markdown",
      "source": [
        "Much lower incidence of 'increasers' in larger officer staffed stations."
      ],
      "metadata": {
        "id": "NI3MHFFipzH3"
      }
    },
    {
      "cell_type": "code",
      "source": [
        "# Binning Station Characteristic Fields for Examining Baseline Sensitivity Score Means;\n",
        "# Female Officers\n",
        "\n",
        "groups = q5_eda_both_df.groupby(['e_female_off_bins','treatment'])\n",
        "averages = groups['b_sensitivity_x'].mean()\n",
        "print(\"Average, Baseline Sensitivity Score - By Female Officer Bins\")\n",
        "print(averages)\n",
        "\n",
        "counts = groups['b_sensitivity_x'].count()\n",
        "print(\"Counts, Baseline Sensitivity Score - By Female Officer Bins\")\n",
        "print(counts)"
      ],
      "metadata": {
        "id": "7CDFxJKO5wXL",
        "colab": {
          "base_uri": "https://localhost:8080/"
        },
        "outputId": "134037d4-556d-4f96-e0e1-47bd55d0b631"
      },
      "execution_count": null,
      "outputs": [
        {
          "output_type": "stream",
          "name": "stdout",
          "text": [
            "Average, Baseline Sensitivity Score - By Female Officer Bins\n",
            "e_female_off_bins  treatment\n",
            "(-0.001, 1.0]      Control      6.827957\n",
            "                   Treatment    7.129693\n",
            "(1.0, 6.0]         Control      6.890244\n",
            "                   Treatment    7.606383\n",
            "Name: b_sensitivity_x, dtype: float64\n",
            "Counts, Baseline Sensitivity Score - By Female Officer Bins\n",
            "e_female_off_bins  treatment\n",
            "(-0.001, 1.0]      Control      279\n",
            "                   Treatment    586\n",
            "(1.0, 6.0]         Control       82\n",
            "                   Treatment    188\n",
            "Name: b_sensitivity_x, dtype: int64\n"
          ]
        },
        {
          "output_type": "stream",
          "name": "stderr",
          "text": [
            "<ipython-input-55-04acbb9a1c66>:4: FutureWarning: The default of observed=False is deprecated and will be changed to True in a future version of pandas. Pass observed=False to retain current behavior or observed=True to adopt the future default and silence this warning.\n",
            "  groups = q5_eda_both_df.groupby(['e_female_off_bins','treatment'])\n"
          ]
        }
      ]
    },
    {
      "cell_type": "code",
      "source": [
        "# Binning Station Characteristic Fields for Examining Endline Sensitivity Score Means;\n",
        "# Female Officers\n",
        "\n",
        "groups = q5_eda_both_df.groupby(['e_female_off_bins','treatment'])\n",
        "averages = groups['e_sensitivity'].mean()\n",
        "print(\"Average, Endline Sensitivity Score - By Female Officer Bins\")\n",
        "print(averages)\n",
        "\n",
        "counts = groups['e_sensitivity'].count()\n",
        "print(\"Counts, Endline Sensitivity Score - By Female Officer Bins\")\n",
        "print(counts)"
      ],
      "metadata": {
        "colab": {
          "base_uri": "https://localhost:8080/"
        },
        "id": "1HKMw2yg5wOQ",
        "outputId": "d37bcc79-4250-4d42-c585-79f624c52fc9"
      },
      "execution_count": null,
      "outputs": [
        {
          "output_type": "stream",
          "name": "stdout",
          "text": [
            "Average, Endline Sensitivity Score - By Female Officer Bins\n",
            "e_female_off_bins  treatment\n",
            "(-0.001, 1.0]      Control      7.366412\n",
            "                   Treatment    7.442831\n",
            "(1.0, 6.0]         Control      7.701299\n",
            "                   Treatment    7.713483\n",
            "Name: e_sensitivity, dtype: float64\n",
            "Counts, Endline Sensitivity Score - By Female Officer Bins\n",
            "e_female_off_bins  treatment\n",
            "(-0.001, 1.0]      Control      262\n",
            "                   Treatment    551\n",
            "(1.0, 6.0]         Control       77\n",
            "                   Treatment    178\n",
            "Name: e_sensitivity, dtype: int64\n"
          ]
        },
        {
          "output_type": "stream",
          "name": "stderr",
          "text": [
            "<ipython-input-56-e6d15c4cf3a8>:4: FutureWarning: The default of observed=False is deprecated and will be changed to True in a future version of pandas. Pass observed=False to retain current behavior or observed=True to adopt the future default and silence this warning.\n",
            "  groups = q5_eda_both_df.groupby(['e_female_off_bins','treatment'])\n"
          ]
        }
      ]
    },
    {
      "cell_type": "code",
      "source": [
        "# Binning Station Characteristic Fields for Examining Sensitivity Score Difference Means;\n",
        "# Female Officer Bins\n",
        "\n",
        "groups = q5_eda_both_df.groupby(['e_female_off_bins','treatment'])\n",
        "averages = groups['sensitivity_diff'].mean()\n",
        "print(\"Average, Sensitivity Score Diff - By Female Officer Bins\")\n",
        "print(averages)\n",
        "\n",
        "counts = groups['sensitivity_diff'].count()\n",
        "print(\"Counts, Sensitivity Score Diff - By Female Officer Bins\")\n",
        "print(counts)"
      ],
      "metadata": {
        "colab": {
          "base_uri": "https://localhost:8080/"
        },
        "id": "levrsVNQ5wDz",
        "outputId": "4c5a29f8-68fd-4966-d6cf-c9b696e988bb"
      },
      "execution_count": null,
      "outputs": [
        {
          "output_type": "stream",
          "name": "stderr",
          "text": [
            "<ipython-input-57-a275465ed1e8>:4: FutureWarning: The default of observed=False is deprecated and will be changed to True in a future version of pandas. Pass observed=False to retain current behavior or observed=True to adopt the future default and silence this warning.\n",
            "  groups = q5_eda_both_df.groupby(['e_female_off_bins','treatment'])\n"
          ]
        },
        {
          "output_type": "stream",
          "name": "stdout",
          "text": [
            "Average, Sensitivity Score Diff - By Female Officer Bins\n",
            "e_female_off_bins  treatment\n",
            "(-0.001, 1.0]      Control      0.609195\n",
            "                   Treatment    0.327869\n",
            "(1.0, 6.0]         Control      0.684211\n",
            "                   Treatment    0.129213\n",
            "Name: sensitivity_diff, dtype: float64\n",
            "Counts, Sensitivity Score Diff - By Female Officer Bins\n",
            "e_female_off_bins  treatment\n",
            "(-0.001, 1.0]      Control      261\n",
            "                   Treatment    549\n",
            "(1.0, 6.0]         Control       76\n",
            "                   Treatment    178\n",
            "Name: sensitivity_diff, dtype: int64\n"
          ]
        }
      ]
    },
    {
      "cell_type": "code",
      "source": [
        "# Binning Station Characteristic Fields for Examining Sensitivity Positive Shift Incidence;\n",
        "# Female Officer Size\n",
        "\n",
        "groups = q5_eda_both_df.groupby(['e_female_off_bins','treatment'])\n",
        "averages = groups['sensitivity_inc'].mean()\n",
        "print(\"Average, Endline Sensitivity Increase Incidence - By Female Officer Bins\")\n",
        "print(averages)\n",
        "\n",
        "counts = groups['sensitivity_inc'].count()\n",
        "print(\"Counts, Endline Sensitivity Increase Incidence - By Female Officer Bins\")\n",
        "print(counts)"
      ],
      "metadata": {
        "colab": {
          "base_uri": "https://localhost:8080/"
        },
        "id": "-KE8lqvB5v2U",
        "outputId": "bfa45e6d-ebbd-4231-a19b-ea3ea6b16adf"
      },
      "execution_count": null,
      "outputs": [
        {
          "output_type": "stream",
          "name": "stderr",
          "text": [
            "<ipython-input-58-63f30083211f>:4: FutureWarning: The default of observed=False is deprecated and will be changed to True in a future version of pandas. Pass observed=False to retain current behavior or observed=True to adopt the future default and silence this warning.\n",
            "  groups = q5_eda_both_df.groupby(['e_female_off_bins','treatment'])\n"
          ]
        },
        {
          "output_type": "stream",
          "name": "stdout",
          "text": [
            "Average, Endline Sensitivity Increase Incidence - By Female Officer Bins\n",
            "e_female_off_bins  treatment\n",
            "(-0.001, 1.0]      Control      0.457143\n",
            "                   Treatment    0.442177\n",
            "(1.0, 6.0]         Control      0.506024\n",
            "                   Treatment    0.404255\n",
            "Name: sensitivity_inc, dtype: float64\n",
            "Counts, Endline Sensitivity Increase Incidence - By Female Officer Bins\n",
            "e_female_off_bins  treatment\n",
            "(-0.001, 1.0]      Control      280\n",
            "                   Treatment    588\n",
            "(1.0, 6.0]         Control       83\n",
            "                   Treatment    188\n",
            "Name: sensitivity_inc, dtype: int64\n"
          ]
        }
      ]
    },
    {
      "cell_type": "code",
      "source": [
        "# Binning Station Characteristic Fields for Examining Baseline Sensitivity Score Means;\n",
        "# Women Led Help Desk\n",
        "\n",
        "groups = q5_eda_both_df.groupby(['women_whd','treatment'])\n",
        "averages = groups['b_sensitivity_x'].mean()\n",
        "print(\"Average, Baseline Sensitivity Score - By Women Head Desk\")\n",
        "print(averages)\n",
        "\n",
        "counts = groups['b_sensitivity_x'].count()\n",
        "print(\"Counts, Baseline Sensitivity Score - By Women Head Desks\")\n",
        "print(counts)"
      ],
      "metadata": {
        "colab": {
          "base_uri": "https://localhost:8080/"
        },
        "id": "aBIXRvdWcl9F",
        "outputId": "caec20b7-1dde-4265-9427-3f11466d42ae"
      },
      "execution_count": null,
      "outputs": [
        {
          "output_type": "stream",
          "name": "stdout",
          "text": [
            "Average, Baseline Sensitivity Score - By Women Head Desk\n",
            "women_whd  treatment\n",
            "0.0        Control      6.842105\n",
            "           Treatment    7.299213\n",
            "1.0        Treatment    7.193384\n",
            "Name: b_sensitivity_x, dtype: float64\n",
            "Counts, Baseline Sensitivity Score - By Women Head Desks\n",
            "women_whd  treatment\n",
            "0.0        Control      361\n",
            "           Treatment    381\n",
            "1.0        Treatment    393\n",
            "Name: b_sensitivity_x, dtype: int64\n"
          ]
        }
      ]
    },
    {
      "cell_type": "markdown",
      "source": [
        "Women led help desk was a treatment feature, so assuming we should comparing treatment for whd=1 to treatment for whd=0."
      ],
      "metadata": {
        "id": "NkRlhoKUqCkE"
      }
    },
    {
      "cell_type": "code",
      "source": [
        "# Binning Station Characteristic Fields for Examining Endline Sensitivity Score Means;\n",
        "# Women Led Help Desk\n",
        "\n",
        "groups = q5_eda_both_df.groupby(['women_whd','treatment'])\n",
        "averages = groups['e_sensitivity'].mean()\n",
        "print(\"Average, Endline Sensitivity Score - By Women Head Desk\")\n",
        "print(averages)\n",
        "\n",
        "counts = groups['e_sensitivity'].count()\n",
        "print(\"Counts, Endline Sensitivity Score - By Women Head Desks\")\n",
        "print(counts)"
      ],
      "metadata": {
        "colab": {
          "base_uri": "https://localhost:8080/"
        },
        "id": "EPzPNfsPcIN7",
        "outputId": "b998c4c5-ea17-4d11-91d6-5476bdc32bb8"
      },
      "execution_count": null,
      "outputs": [
        {
          "output_type": "stream",
          "name": "stdout",
          "text": [
            "Average, Endline Sensitivity Score - By Women Head Desk\n",
            "women_whd  treatment\n",
            "0.0        Control      7.442478\n",
            "           Treatment    7.495798\n",
            "1.0        Treatment    7.521505\n",
            "Name: e_sensitivity, dtype: float64\n",
            "Counts, Endline Sensitivity Score - By Women Head Desks\n",
            "women_whd  treatment\n",
            "0.0        Control      339\n",
            "           Treatment    357\n",
            "1.0        Treatment    372\n",
            "Name: e_sensitivity, dtype: int64\n"
          ]
        }
      ]
    },
    {
      "cell_type": "code",
      "source": [
        "# Binning Station Characteristic Fields for Examining Endline Sensitivity Score Means;\n",
        "# Women Led Help Desk\n",
        "\n",
        "groups = q5_eda_both_df.groupby(['women_whd','treatment'])\n",
        "averages = groups['sensitivity_diff'].mean()\n",
        "print(\"Average, Sensitivity Score Difference - By Women Head Desk\")\n",
        "print(averages)\n",
        "\n",
        "counts = groups['sensitivity_diff'].count()\n",
        "print(\"Counts, Sensitivity Score Difference - By Women Head Desks\")\n",
        "print(counts)"
      ],
      "metadata": {
        "colab": {
          "base_uri": "https://localhost:8080/"
        },
        "id": "rTr1k1ji6-mi",
        "outputId": "fa318830-8d3b-4a5b-90c0-c7eae44abfc0"
      },
      "execution_count": null,
      "outputs": [
        {
          "output_type": "stream",
          "name": "stdout",
          "text": [
            "Average, Sensitivity Score Difference - By Women Head Desk\n",
            "women_whd  treatment\n",
            "0.0        Control      0.626113\n",
            "           Treatment    0.213483\n",
            "1.0        Treatment    0.342318\n",
            "Name: sensitivity_diff, dtype: float64\n",
            "Counts, Sensitivity Score Difference - By Women Head Desks\n",
            "women_whd  treatment\n",
            "0.0        Control      337\n",
            "           Treatment    356\n",
            "1.0        Treatment    371\n",
            "Name: sensitivity_diff, dtype: int64\n"
          ]
        }
      ]
    },
    {
      "cell_type": "markdown",
      "source": [
        "Women led helpdesks had largest increase in sensitivity scores among treatment groups.  But, the control group had the highest increase"
      ],
      "metadata": {
        "id": "WPJbARAiq2Er"
      }
    },
    {
      "cell_type": "code",
      "source": [
        "# Binning Station Characteristic Fields for Examining Endline Sensitivity Score Means;\n",
        "# Women Led Help Desk\n",
        "\n",
        "groups = q5_eda_both_df.groupby(['women_whd','treatment'])\n",
        "averages = groups['sensitivity_inc'].mean()\n",
        "print(\"Average, Sensitivity Increase Incidence - By Women Head Desk\")\n",
        "print(averages)\n",
        "\n",
        "counts = groups['sensitivity_inc'].count()\n",
        "print(\"Counts, Sensitivity Increase Incidence - By Women Head Desks\")\n",
        "print(counts)"
      ],
      "metadata": {
        "colab": {
          "base_uri": "https://localhost:8080/"
        },
        "id": "f7UGVEO57VFo",
        "outputId": "099ac9d0-c130-492e-aa33-da2d621e3f03"
      },
      "execution_count": null,
      "outputs": [
        {
          "output_type": "stream",
          "name": "stdout",
          "text": [
            "Average, Sensitivity Increase Incidence - By Women Head Desk\n",
            "women_whd  treatment\n",
            "0.0        Control      0.468320\n",
            "           Treatment    0.431937\n",
            "1.0        Treatment    0.434010\n",
            "Name: sensitivity_inc, dtype: float64\n",
            "Counts, Sensitivity Increase Incidence - By Women Head Desks\n",
            "women_whd  treatment\n",
            "0.0        Control      363\n",
            "           Treatment    382\n",
            "1.0        Treatment    394\n",
            "Name: sensitivity_inc, dtype: int64\n"
          ]
        }
      ]
    },
    {
      "cell_type": "markdown",
      "source": [
        "Almost identical increase in sensitivity index increasers among whd=0 and whd=1 treatment groups"
      ],
      "metadata": {
        "id": "bKQiYnQIrJQQ"
      }
    },
    {
      "cell_type": "code",
      "source": [
        "# Binning Station Characteristic Fields for Examining Baseline Sensitivity Score Means;\n",
        "# Urban vs Rural\n",
        "\n",
        "groups = q5_eda_both_df.groupby(['urban','treatment'])\n",
        "averages = groups['b_sensitivity_x'].mean()\n",
        "print(\"Average, Baseline Sensitivity Score - By Urban/Rural\")\n",
        "print(averages)\n",
        "\n",
        "counts = groups['b_sensitivity_x'].count()\n",
        "print(\"Counts, Baseline Sensitivity Score - By Urban/Rural\")\n",
        "print(counts)"
      ],
      "metadata": {
        "colab": {
          "base_uri": "https://localhost:8080/"
        },
        "id": "tm8uRroH8fhB",
        "outputId": "78ff4026-db9b-46dc-be5f-e5cdfd871d14"
      },
      "execution_count": null,
      "outputs": [
        {
          "output_type": "stream",
          "name": "stdout",
          "text": [
            "Average, Baseline Sensitivity Score - By Urban/Rural\n",
            "urban  treatment\n",
            "Rural  Control      7.205000\n",
            "       Treatment    7.157500\n",
            "Urban  Control      6.391304\n",
            "       Treatment    7.339572\n",
            "Name: b_sensitivity_x, dtype: float64\n",
            "Counts, Baseline Sensitivity Score - By Urban/Rural\n",
            "urban  treatment\n",
            "Rural  Control      200\n",
            "       Treatment    400\n",
            "Urban  Control      161\n",
            "       Treatment    374\n",
            "Name: b_sensitivity_x, dtype: int64\n"
          ]
        }
      ]
    },
    {
      "cell_type": "code",
      "source": [
        "# Binning Station Characteristic Fields for Examining Endline Sensitivity Score Means;\n",
        "# Urban vs Rural\n",
        "\n",
        "groups = q5_eda_both_df.groupby(['urban','treatment'])\n",
        "averages = groups['e_sensitivity'].mean()\n",
        "print(\"Average, Endline Sensitivity Score - By Urban/Rural\")\n",
        "print(averages)\n",
        "\n",
        "counts = groups['e_sensitivity'].count()\n",
        "print(\"Counts, Endline Sensitivity Score - By Urban/Rural\")\n",
        "print(counts)"
      ],
      "metadata": {
        "colab": {
          "base_uri": "https://localhost:8080/"
        },
        "id": "MeVQxbto8fXN",
        "outputId": "46ea2aec-343c-4933-9314-cb4cbf95361e"
      },
      "execution_count": null,
      "outputs": [
        {
          "output_type": "stream",
          "name": "stdout",
          "text": [
            "Average, Endline Sensitivity Score - By Urban/Rural\n",
            "urban  treatment\n",
            "Rural  Control      7.588235\n",
            "       Treatment    7.892183\n",
            "Urban  Control      7.263158\n",
            "       Treatment    7.111732\n",
            "Name: e_sensitivity, dtype: float64\n",
            "Counts, Endline Sensitivity Score - By Urban/Rural\n",
            "urban  treatment\n",
            "Rural  Control      187\n",
            "       Treatment    371\n",
            "Urban  Control      152\n",
            "       Treatment    358\n",
            "Name: e_sensitivity, dtype: int64\n"
          ]
        }
      ]
    },
    {
      "cell_type": "code",
      "source": [
        "# Binning Station Characteristic Fields for Examining Endline Sensitivity Score Means;\n",
        "# Urban vs Rural\n",
        "\n",
        "groups = q5_eda_both_df.groupby(['urban','treatment'])\n",
        "averages = groups['sensitivity_diff'].mean()\n",
        "print(\"Average, Sensitivity Score Difference - By Urban/Rural\")\n",
        "print(averages)\n",
        "\n",
        "counts = groups['sensitivity_diff'].count()\n",
        "print(\"Counts, Sensitivity Score Difference - By Urban/Rural\")\n",
        "print(counts)"
      ],
      "metadata": {
        "colab": {
          "base_uri": "https://localhost:8080/"
        },
        "id": "oD3jzZqP8fNZ",
        "outputId": "bf923ee2-97d1-4bd5-fa78-8e8efa53a680"
      },
      "execution_count": null,
      "outputs": [
        {
          "output_type": "stream",
          "name": "stdout",
          "text": [
            "Average, Sensitivity Score Difference - By Urban/Rural\n",
            "urban  treatment\n",
            "Rural  Control      0.413978\n",
            "       Treatment    0.740541\n",
            "Urban  Control      0.887417\n",
            "       Treatment   -0.198880\n",
            "Name: sensitivity_diff, dtype: float64\n",
            "Counts, Sensitivity Score Difference - By Urban/Rural\n",
            "urban  treatment\n",
            "Rural  Control      186\n",
            "       Treatment    370\n",
            "Urban  Control      151\n",
            "       Treatment    357\n",
            "Name: sensitivity_diff, dtype: int64\n"
          ]
        }
      ]
    },
    {
      "cell_type": "markdown",
      "source": [
        "Urban stations had the only case of a decline in sensitivity during the study (negative impact? Also may be correlated/confounded with high number of officers negative relationship too)."
      ],
      "metadata": {
        "id": "PfFz9FA2raJo"
      }
    },
    {
      "cell_type": "code",
      "source": [
        "# Binning Station Characteristic Fields for Examining Endline Sensitivity Score Means;\n",
        "# Urban vs Rural\n",
        "\n",
        "groups = q5_eda_both_df.groupby(['urban','treatment'])\n",
        "averages = groups['sensitivity_inc'].mean()\n",
        "print(\"Average, Sensitivity Increase Incidence - By Urban/Rural\")\n",
        "print(averages)\n",
        "\n",
        "counts = groups['sensitivity_inc'].count()\n",
        "print(\"Counts, Sensitivity Increase Incidence - By Urban/Rural\")\n",
        "print(counts)"
      ],
      "metadata": {
        "colab": {
          "base_uri": "https://localhost:8080/"
        },
        "id": "bg6jXrpg8fDI",
        "outputId": "6dbb2274-171b-4943-b3d1-9f8b13533dcd"
      },
      "execution_count": null,
      "outputs": [
        {
          "output_type": "stream",
          "name": "stdout",
          "text": [
            "Average, Sensitivity Increase Incidence - By Urban/Rural\n",
            "urban  treatment\n",
            "Rural  Control      0.437811\n",
            "       Treatment    0.468828\n",
            "Urban  Control      0.506173\n",
            "       Treatment    0.394667\n",
            "Name: sensitivity_inc, dtype: float64\n",
            "Counts, Sensitivity Increase Incidence - By Urban/Rural\n",
            "urban  treatment\n",
            "Rural  Control      201\n",
            "       Treatment    401\n",
            "Urban  Control      162\n",
            "       Treatment    375\n",
            "Name: sensitivity_inc, dtype: int64\n"
          ]
        }
      ]
    },
    {
      "cell_type": "markdown",
      "source": [
        "Urban Stations had the lowest incidence of increasers."
      ],
      "metadata": {
        "id": "3Cvesu-9rzu4"
      }
    }
  ],
  "metadata": {
    "colab": {
      "provenance": [],
      "include_colab_link": true
    },
    "kernelspec": {
      "display_name": "Python 3 (ipykernel)",
      "language": "python",
      "name": "python3"
    },
    "language_info": {
      "codemirror_mode": {
        "name": "ipython",
        "version": 3
      },
      "file_extension": ".py",
      "mimetype": "text/x-python",
      "name": "python",
      "nbconvert_exporter": "python",
      "pygments_lexer": "ipython3",
      "version": "3.12.4"
    }
  },
  "nbformat": 4,
  "nbformat_minor": 0
}