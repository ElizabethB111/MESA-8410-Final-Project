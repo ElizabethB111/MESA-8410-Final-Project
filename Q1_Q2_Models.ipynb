{
  "cells": [
    {
      "cell_type": "markdown",
      "metadata": {
        "id": "view-in-github",
        "colab_type": "text"
      },
      "source": [
        "<a href=\"https://colab.research.google.com/github/ElizabethB111/MESA-8410-Final-Project/blob/main/Q1_Q2_Models.ipynb\" target=\"_parent\"><img src=\"https://colab.research.google.com/assets/colab-badge.svg\" alt=\"Open In Colab\"/></a>"
      ]
    },
    {
      "cell_type": "markdown",
      "metadata": {
        "id": "ZYdSEUesf4u5"
      },
      "source": [
        "# **Models for Q1:**\n",
        "#Addressing Question 1: Are WHD more effective when women or men are running them, with effectiveness indicated by actions (FIR, DIR, arrests) and lessening of CAW?\n",
        "\n",
        "FIR = First Information Reports\n",
        "\n",
        "DIR = Domestic Incidence Reports\n",
        "\n",
        "CAW = Crimes Against Women\n",
        "\n",
        "#Chose a linear regression model to show relationships between mean station-level reports and whether or not there is a statistical difference between woman-run or regular WHD.\n",
        "\n",
        "**Further down the document, see Models for Q2.**"
      ]
    },
    {
      "cell_type": "code",
      "execution_count": null,
      "metadata": {
        "id": "n-VwsNHNf4u8",
        "colab": {
          "base_uri": "https://localhost:8080/"
        },
        "outputId": "ce026c4a-d940-44c5-b4b8-1d7491047e0e"
      },
      "outputs": [
        {
          "output_type": "stream",
          "name": "stdout",
          "text": [
            "Requirement already satisfied: forestplot in /usr/local/lib/python3.10/dist-packages (0.4.1)\n",
            "Requirement already satisfied: pandas in /usr/local/lib/python3.10/dist-packages (from forestplot) (2.2.2)\n",
            "Requirement already satisfied: numpy in /usr/local/lib/python3.10/dist-packages (from forestplot) (1.26.4)\n",
            "Requirement already satisfied: matplotlib in /usr/local/lib/python3.10/dist-packages (from forestplot) (3.8.0)\n",
            "Requirement already satisfied: matplotlib-inline<=0.1.3 in /usr/local/lib/python3.10/dist-packages (from forestplot) (0.1.3)\n",
            "Requirement already satisfied: traitlets in /usr/local/lib/python3.10/dist-packages (from matplotlib-inline<=0.1.3->forestplot) (5.7.1)\n",
            "Requirement already satisfied: contourpy>=1.0.1 in /usr/local/lib/python3.10/dist-packages (from matplotlib->forestplot) (1.3.1)\n",
            "Requirement already satisfied: cycler>=0.10 in /usr/local/lib/python3.10/dist-packages (from matplotlib->forestplot) (0.12.1)\n",
            "Requirement already satisfied: fonttools>=4.22.0 in /usr/local/lib/python3.10/dist-packages (from matplotlib->forestplot) (4.54.1)\n",
            "Requirement already satisfied: kiwisolver>=1.0.1 in /usr/local/lib/python3.10/dist-packages (from matplotlib->forestplot) (1.4.7)\n",
            "Requirement already satisfied: packaging>=20.0 in /usr/local/lib/python3.10/dist-packages (from matplotlib->forestplot) (24.2)\n",
            "Requirement already satisfied: pillow>=6.2.0 in /usr/local/lib/python3.10/dist-packages (from matplotlib->forestplot) (11.0.0)\n",
            "Requirement already satisfied: pyparsing>=2.3.1 in /usr/local/lib/python3.10/dist-packages (from matplotlib->forestplot) (3.2.0)\n",
            "Requirement already satisfied: python-dateutil>=2.7 in /usr/local/lib/python3.10/dist-packages (from matplotlib->forestplot) (2.8.2)\n",
            "Requirement already satisfied: pytz>=2020.1 in /usr/local/lib/python3.10/dist-packages (from pandas->forestplot) (2024.2)\n",
            "Requirement already satisfied: tzdata>=2022.7 in /usr/local/lib/python3.10/dist-packages (from pandas->forestplot) (2024.2)\n",
            "Requirement already satisfied: six>=1.5 in /usr/local/lib/python3.10/dist-packages (from python-dateutil>=2.7->matplotlib->forestplot) (1.16.0)\n"
          ]
        }
      ],
      "source": [
        "# IMPORT LIBRARIES BELOW\n",
        "import pandas as pd\n",
        "import seaborn as sns\n",
        "import matplotlib.pyplot as plt\n",
        "import numpy as np\n",
        "# Add a special library for working with tables:\n",
        "from tabulate import tabulate\n",
        "# Let's install \"forestplot\", which contains some nice code for making coefficient plots\n",
        "!pip install forestplot\n",
        "# Then, let's import the library\n",
        "import forestplot as fp\n"
      ]
    },
    {
      "cell_type": "markdown",
      "metadata": {
        "id": "IKG02a90f4u9"
      },
      "source": [
        "### Reading in the data\n",
        "First mount the google drive;\n",
        "The data is in csv format and stored in \"Colab Notebooks/Final Project/Data/\". Import the data into a dataframe named `admin_wide_cleaned_data`."
      ]
    },
    {
      "cell_type": "code",
      "execution_count": null,
      "metadata": {
        "id": "xEipUI-mf4u9",
        "colab": {
          "base_uri": "https://localhost:8080/"
        },
        "outputId": "a2b7cf24-cada-4535-a26c-57002842165c"
      },
      "outputs": [
        {
          "output_type": "stream",
          "name": "stdout",
          "text": [
            "Drive already mounted at /content/drive; to attempt to forcibly remount, call drive.mount(\"/content/drive\", force_remount=True).\n"
          ]
        }
      ],
      "source": [
        "# the code below allows you to access Google Drive.\n",
        "from google.colab import drive\n",
        "\n",
        "drive.mount('/content/drive')\n",
        "\n",
        "# root_dir is the path to your My_Drive folder.\n",
        "root_dir = \"/content/drive/My Drive/\"\n",
        "\n",
        "# Store the dataframes in the following directory.\n",
        "data_folder = root_dir + \"Colab Notebooks/Final Project/Data/\"\n",
        "\n",
        "# the CSV data file contains admin_wide_data with dropped columns and checked for no missing values\n",
        "inputfile1 = \"/content/drive/My Drive/Colab Notebooks/Final Project/Data/admin_wide_station_level_means_data.csv\"\n",
        "\n",
        "\n",
        "# Read the CSV file into a dataframe\n",
        "admin_data = pd.read_csv(inputfile1)\n"
      ]
    },
    {
      "cell_type": "markdown",
      "source": [
        "\n",
        "\n",
        "Remove control row (which has no whd run by either men or women) to focus on the research question."
      ],
      "metadata": {
        "id": "Fw5sL0pbsBaA"
      }
    },
    {
      "cell_type": "code",
      "source": [
        "# Create a boolean mask for rows where both columns are 0\n",
        "mask = (admin_data['regular_whd'] == 0) & (admin_data['women_whd'] == 0)\n",
        "\n",
        "# Apply the inverted mask to filter admin_wide_cleaned_data\n",
        "filtered_data = admin_data[~mask]"
      ],
      "metadata": {
        "id": "Y3jUlz8tpCZu"
      },
      "execution_count": null,
      "outputs": []
    },
    {
      "cell_type": "markdown",
      "source": [
        "After removing control rows, make sure the resulting value counts are expected for regular_whd and women_whd."
      ],
      "metadata": {
        "id": "9l-7nubDrwPJ"
      }
    },
    {
      "cell_type": "code",
      "source": [
        "filtered_data['regular_whd'].value_counts()"
      ],
      "metadata": {
        "id": "tgb3PHy9qOrj",
        "colab": {
          "base_uri": "https://localhost:8080/",
          "height": 178
        },
        "outputId": "86447e7e-7fa0-4629-ceab-42ea2d82cadf"
      },
      "execution_count": null,
      "outputs": [
        {
          "output_type": "execute_result",
          "data": {
            "text/plain": [
              "regular_whd\n",
              "1.0    61\n",
              "0.0    59\n",
              "Name: count, dtype: int64"
            ],
            "text/html": [
              "<div>\n",
              "<style scoped>\n",
              "    .dataframe tbody tr th:only-of-type {\n",
              "        vertical-align: middle;\n",
              "    }\n",
              "\n",
              "    .dataframe tbody tr th {\n",
              "        vertical-align: top;\n",
              "    }\n",
              "\n",
              "    .dataframe thead th {\n",
              "        text-align: right;\n",
              "    }\n",
              "</style>\n",
              "<table border=\"1\" class=\"dataframe\">\n",
              "  <thead>\n",
              "    <tr style=\"text-align: right;\">\n",
              "      <th></th>\n",
              "      <th>count</th>\n",
              "    </tr>\n",
              "    <tr>\n",
              "      <th>regular_whd</th>\n",
              "      <th></th>\n",
              "    </tr>\n",
              "  </thead>\n",
              "  <tbody>\n",
              "    <tr>\n",
              "      <th>1.0</th>\n",
              "      <td>61</td>\n",
              "    </tr>\n",
              "    <tr>\n",
              "      <th>0.0</th>\n",
              "      <td>59</td>\n",
              "    </tr>\n",
              "  </tbody>\n",
              "</table>\n",
              "</div><br><label><b>dtype:</b> int64</label>"
            ]
          },
          "metadata": {},
          "execution_count": 63
        }
      ]
    },
    {
      "cell_type": "code",
      "source": [
        "filtered_data['women_whd'].value_counts()"
      ],
      "metadata": {
        "id": "K_etVaSyqWrW",
        "colab": {
          "base_uri": "https://localhost:8080/",
          "height": 178
        },
        "outputId": "1b53a7b9-c6f3-4387-f5de-3b66e86bb68f"
      },
      "execution_count": null,
      "outputs": [
        {
          "output_type": "execute_result",
          "data": {
            "text/plain": [
              "women_whd\n",
              "0.0    61\n",
              "1.0    59\n",
              "Name: count, dtype: int64"
            ],
            "text/html": [
              "<div>\n",
              "<style scoped>\n",
              "    .dataframe tbody tr th:only-of-type {\n",
              "        vertical-align: middle;\n",
              "    }\n",
              "\n",
              "    .dataframe tbody tr th {\n",
              "        vertical-align: top;\n",
              "    }\n",
              "\n",
              "    .dataframe thead th {\n",
              "        text-align: right;\n",
              "    }\n",
              "</style>\n",
              "<table border=\"1\" class=\"dataframe\">\n",
              "  <thead>\n",
              "    <tr style=\"text-align: right;\">\n",
              "      <th></th>\n",
              "      <th>count</th>\n",
              "    </tr>\n",
              "    <tr>\n",
              "      <th>women_whd</th>\n",
              "      <th></th>\n",
              "    </tr>\n",
              "  </thead>\n",
              "  <tbody>\n",
              "    <tr>\n",
              "      <th>0.0</th>\n",
              "      <td>61</td>\n",
              "    </tr>\n",
              "    <tr>\n",
              "      <th>1.0</th>\n",
              "      <td>59</td>\n",
              "    </tr>\n",
              "  </tbody>\n",
              "</table>\n",
              "</div><br><label><b>dtype:</b> int64</label>"
            ]
          },
          "metadata": {},
          "execution_count": 64
        }
      ]
    },
    {
      "cell_type": "code",
      "source": [
        "filtered_data.shape"
      ],
      "metadata": {
        "colab": {
          "base_uri": "https://localhost:8080/"
        },
        "id": "gnLsxiWB0gHB",
        "outputId": "90af4f72-6e24-48a1-dfa5-96f365a0ae2e"
      },
      "execution_count": null,
      "outputs": [
        {
          "output_type": "execute_result",
          "data": {
            "text/plain": [
              "(120, 10)"
            ]
          },
          "metadata": {},
          "execution_count": 65
        }
      ]
    },
    {
      "cell_type": "code",
      "source": [
        "\n",
        "from sklearn.linear_model import LinearRegression\n"
      ],
      "metadata": {
        "id": "a56SD37isWJV"
      },
      "execution_count": null,
      "outputs": []
    },
    {
      "cell_type": "code",
      "source": [
        "x = filtered_data[['women_whd']]\n",
        "y = filtered_data ['e_caw_rate']\n",
        "from sklearn.model_selection import train_test_split\n"
      ],
      "metadata": {
        "id": "RmPkfzUTSuNe"
      },
      "execution_count": null,
      "outputs": []
    },
    {
      "cell_type": "code",
      "source": [
        "mean_ones = y[x['women_whd'] == 1].mean()\n",
        "mean_zeros = y[x ['women_whd']== 0].mean()\n",
        "diff_means = mean_ones - mean_zeros\n",
        "\n",
        "print(\"Mean of ones:\", mean_ones)\n",
        "print(\"Mean of zeros:\", mean_zeros)\n",
        "print(\"Difference in means:\", diff_means)"
      ],
      "metadata": {
        "colab": {
          "base_uri": "https://localhost:8080/"
        },
        "id": "NBq9UAZborCH",
        "outputId": "aed7304a-7852-4c00-d096-343d6b148c63"
      },
      "execution_count": null,
      "outputs": [
        {
          "output_type": "stream",
          "name": "stdout",
          "text": [
            "Mean of ones: 0.10883036415254238\n",
            "Mean of zeros: 0.06267096704918032\n",
            "Difference in means: 0.04615939710336206\n"
          ]
        }
      ]
    },
    {
      "cell_type": "code",
      "source": [
        "\n",
        "# Create and fit the linear regression model\n",
        "model = LinearRegression()\n",
        "model.fit(x, y)\n",
        "\n",
        "# Make predictions\n",
        "y_pred = model.predict(x)\n",
        "\n",
        "# Print the coefficients\n",
        "print(\"Intercept:\", model.intercept_)\n",
        "print(\"Coefficient:\", model.coef_)\n",
        "\n",
        "# Scatterplot of the data with the regression line\n",
        "plt.scatter(x, y)\n",
        "plt.plot(x, y_pred, color='red')\n",
        "plt.title(\"Endline CAW Rate\")\n",
        "plt.show()"
      ],
      "metadata": {
        "colab": {
          "base_uri": "https://localhost:8080/",
          "height": 316
        },
        "id": "o6McVbi31Dry",
        "outputId": "9f935a9e-375a-4e1f-eb9d-fa2d8abceb36"
      },
      "execution_count": null,
      "outputs": [
        {
          "output_type": "stream",
          "name": "stdout",
          "text": [
            "Intercept: 0.06267096704918032\n",
            "Coefficient: [0.0461594]\n"
          ]
        },
        {
          "output_type": "display_data",
          "data": {
            "text/plain": [
              "<Figure size 432x288 with 1 Axes>"
            ],
            "image/png": "[encoded data removed]"
          },
          "metadata": {
            "needs_background": "light"
          }
        }
      ]
    },
    {
      "cell_type": "code",
      "source": [
        "# Fit a regression using statsmodels for y on x\n",
        "\n",
        "import statsmodels.api as sm\n",
        "\n",
        "# Add a constant to the independent variable\n",
        "x = sm.add_constant(x)\n",
        "\n",
        "# Fit the regression model\n",
        "model = sm.OLS(y, x).fit()\n",
        "\n",
        "# Print the summary of the model\n",
        "print(model.summary())"
      ],
      "metadata": {
        "colab": {
          "base_uri": "https://localhost:8080/"
        },
        "id": "l9r5CCKQqAyp",
        "outputId": "4d56a1a3-eb70-495f-ab64-45a4421c7799"
      },
      "execution_count": null,
      "outputs": [
        {
          "output_type": "stream",
          "name": "stdout",
          "text": [
            "                            OLS Regression Results                            \n",
            "==============================================================================\n",
            "Dep. Variable:             e_caw_rate   R-squared:                       0.030\n",
            "Model:                            OLS   Adj. R-squared:                  0.022\n",
            "Method:                 Least Squares   F-statistic:                     3.622\n",
            "Date:                Sun, 17 Nov 2024   Prob (F-statistic):             0.0595\n",
            "Time:                        00:07:35   Log-Likelihood:                 72.982\n",
            "No. Observations:                 120   AIC:                            -142.0\n",
            "Df Residuals:                     118   BIC:                            -136.4\n",
            "Df Model:                           1                                         \n",
            "Covariance Type:            nonrobust                                         \n",
            "==============================================================================\n",
            "                 coef    std err          t      P>|t|      [0.025      0.975]\n",
            "------------------------------------------------------------------------------\n",
            "const          0.0627      0.017      3.685      0.000       0.029       0.096\n",
            "women_whd      0.0462      0.024      1.903      0.059      -0.002       0.094\n",
            "==============================================================================\n",
            "Omnibus:                      113.938   Durbin-Watson:                   1.862\n",
            "Prob(Omnibus):                  0.000   Jarque-Bera (JB):             1557.233\n",
            "Skew:                           3.225   Prob(JB):                         0.00\n",
            "Kurtosis:                      19.427   Cond. No.                         2.60\n",
            "==============================================================================\n",
            "\n",
            "Notes:\n",
            "[1] Standard Errors assume that the covariance matrix of the errors is correctly specified.\n"
          ]
        }
      ]
    },
    {
      "cell_type": "markdown",
      "source": [
        "#The mean of reported CAW at women-run WHD (0.063) is slightly higher (0.046 coefficient) than regular WHD.\n",
        "#Since the p-value is 0.059, there is no statistical difference in CAW reports between woman-run and regular WHD."
      ],
      "metadata": {
        "id": "dWrN9lXarr5l"
      }
    },
    {
      "cell_type": "code",
      "source": [
        "x = filtered_data[['women_whd']]\n",
        "y = filtered_data ['e_fir_overall_count']"
      ],
      "metadata": {
        "id": "KIfaX9eRsbWT"
      },
      "execution_count": null,
      "outputs": []
    },
    {
      "cell_type": "code",
      "source": [
        "mean_ones = y[x['women_whd'] == 1].mean()\n",
        "mean_zeros = y[x ['women_whd']== 0].mean()\n",
        "diff_means = mean_ones - mean_zeros\n",
        "\n",
        "print(\"Mean of ones:\", mean_ones)\n",
        "print(\"Mean of zeros:\", mean_zeros)\n",
        "print(\"Difference in means:\", diff_means)"
      ],
      "metadata": {
        "colab": {
          "base_uri": "https://localhost:8080/"
        },
        "id": "I_HQBzMzsnr_",
        "outputId": "e242e22c-7beb-4c7d-bff0-73c29f7d868e"
      },
      "execution_count": null,
      "outputs": [
        {
          "output_type": "stream",
          "name": "stdout",
          "text": [
            "Mean of ones: 33.58050847457627\n",
            "Mean of zeros: 32.36065573770492\n",
            "Difference in means: 1.2198527368713528\n"
          ]
        }
      ]
    },
    {
      "cell_type": "code",
      "source": [
        "# Create and fit the linear regression model\n",
        "model = LinearRegression()\n",
        "model.fit(x, y)\n",
        "\n",
        "# Make predictions\n",
        "y_pred = model.predict(x)\n",
        "\n",
        "# Print the coefficients\n",
        "print(\"Intercept:\", model.intercept_)\n",
        "print(\"Coefficient:\", model.coef_)\n",
        "\n",
        "# Scatterplot of the data with the regression line\n",
        "plt.scatter(x, y)\n",
        "plt.plot(x, y_pred, color='red')\n",
        "plt.show()"
      ],
      "metadata": {
        "colab": {
          "base_uri": "https://localhost:8080/",
          "height": 300
        },
        "id": "AyDJXngHss1P",
        "outputId": "9b60c490-e1aa-493d-ab19-2274dc27e907"
      },
      "execution_count": null,
      "outputs": [
        {
          "output_type": "stream",
          "name": "stdout",
          "text": [
            "Intercept: 32.36065573770492\n",
            "Coefficient: [1.21985274]\n"
          ]
        },
        {
          "output_type": "display_data",
          "data": {
            "text/plain": [
              "<Figure size 432x288 with 1 Axes>"
            ],
            "image/png": "[encoded data removed]"
          },
          "metadata": {
            "needs_background": "light"
          }
        }
      ]
    },
    {
      "cell_type": "code",
      "source": [
        "# Fit a regression using statsmodels for y on x\n",
        "\n",
        "# Add a constant to the independent variable\n",
        "x = sm.add_constant(x)\n",
        "\n",
        "# Fit the regression model\n",
        "model = sm.OLS(y, x).fit()\n",
        "\n",
        "# Print the summary of the model\n",
        "print(model.summary())"
      ],
      "metadata": {
        "colab": {
          "base_uri": "https://localhost:8080/"
        },
        "id": "2kxrQJ26sxxE",
        "outputId": "d722fc4b-4e35-4c7c-d08a-b97b4fd432bb"
      },
      "execution_count": null,
      "outputs": [
        {
          "output_type": "stream",
          "name": "stdout",
          "text": [
            "                             OLS Regression Results                            \n",
            "===============================================================================\n",
            "Dep. Variable:     e_fir_overall_count   R-squared:                       0.001\n",
            "Model:                             OLS   Adj. R-squared:                 -0.007\n",
            "Method:                  Least Squares   F-statistic:                    0.1626\n",
            "Date:                 Sun, 17 Nov 2024   Prob (F-statistic):              0.688\n",
            "Time:                         00:07:36   Log-Likelihood:                -506.16\n",
            "No. Observations:                  120   AIC:                             1016.\n",
            "Df Residuals:                      118   BIC:                             1022.\n",
            "Df Model:                            1                                         \n",
            "Covariance Type:             nonrobust                                         \n",
            "==============================================================================\n",
            "                 coef    std err          t      P>|t|      [0.025      0.975]\n",
            "------------------------------------------------------------------------------\n",
            "const         32.3607      2.121     15.255      0.000      28.160      36.561\n",
            "women_whd      1.2199      3.025      0.403      0.688      -4.771       7.211\n",
            "==============================================================================\n",
            "Omnibus:                        8.997   Durbin-Watson:                   1.377\n",
            "Prob(Omnibus):                  0.011   Jarque-Bera (JB):                9.210\n",
            "Skew:                           0.676   Prob(JB):                       0.0100\n",
            "Kurtosis:                       3.127   Cond. No.                         2.60\n",
            "==============================================================================\n",
            "\n",
            "Notes:\n",
            "[1] Standard Errors assume that the covariance matrix of the errors is correctly specified.\n"
          ]
        }
      ]
    },
    {
      "cell_type": "markdown",
      "source": [
        "#The mean of overall FIR at women-run WHD (32.36) is slightly higher (1.22 coefficient) than regular WHD.\n",
        "#With a p-value of 0.688, there is no statistically significant difference in overall FIR between woman-run and regular WHD."
      ],
      "metadata": {
        "id": "mSrJNBnfs40I"
      }
    },
    {
      "cell_type": "code",
      "source": [
        "x = filtered_data[['women_whd']]\n",
        "y = filtered_data ['e_fir_caw_count']"
      ],
      "metadata": {
        "id": "moC52cjLtlVE"
      },
      "execution_count": null,
      "outputs": []
    },
    {
      "cell_type": "code",
      "source": [
        "mean_ones = y[x['women_whd'] == 1].mean()\n",
        "mean_zeros = y[x ['women_whd']== 0].mean()\n",
        "diff_means = mean_ones - mean_zeros\n",
        "\n",
        "print(\"Mean of ones:\", mean_ones)\n",
        "print(\"Mean of zeros:\", mean_zeros)\n",
        "print(\"Difference in means:\", diff_means)"
      ],
      "metadata": {
        "colab": {
          "base_uri": "https://localhost:8080/"
        },
        "id": "VXgBqm7Dtq9h",
        "outputId": "c2e83272-ad2d-4974-a730-43b018085aa5"
      },
      "execution_count": null,
      "outputs": [
        {
          "output_type": "stream",
          "name": "stdout",
          "text": [
            "Mean of ones: 4.970338983050848\n",
            "Mean of zeros: 4.098360655737705\n",
            "Difference in means: 0.8719783273131432\n"
          ]
        }
      ]
    },
    {
      "cell_type": "code",
      "source": [
        "# Create and fit the linear regression model\n",
        "model = LinearRegression()\n",
        "model.fit(x, y)\n",
        "\n",
        "# Make predictions\n",
        "y_pred = model.predict(x)\n",
        "\n",
        "# Print the coefficients\n",
        "print(\"Intercept:\", model.intercept_)\n",
        "print(\"Coefficient:\", model.coef_)\n",
        "\n",
        "# Scatterplot of the data with the regression line\n",
        "plt.scatter(x, y)\n",
        "plt.plot(x, y_pred, color='red')\n",
        "plt.show()"
      ],
      "metadata": {
        "colab": {
          "base_uri": "https://localhost:8080/",
          "height": 300
        },
        "id": "Ke9W4OthttwN",
        "outputId": "3348f62f-b7df-4be8-b5f4-c7a6d1bac3d3"
      },
      "execution_count": null,
      "outputs": [
        {
          "output_type": "stream",
          "name": "stdout",
          "text": [
            "Intercept: 4.0983606557377055\n",
            "Coefficient: [0.87197833]\n"
          ]
        },
        {
          "output_type": "display_data",
          "data": {
            "text/plain": [
              "<Figure size 432x288 with 1 Axes>"
            ],
            "image/png": "[encoded data removed]"
          },
          "metadata": {
            "needs_background": "light"
          }
        }
      ]
    },
    {
      "cell_type": "code",
      "source": [
        "# Fit a regression using statsmodels for y on x\n",
        "\n",
        "# Add a constant to the independent variable\n",
        "x = sm.add_constant(x)\n",
        "\n",
        "# Fit the regression model\n",
        "model = sm.OLS(y, x).fit()\n",
        "\n",
        "# Print the summary of the model\n",
        "print(model.summary())"
      ],
      "metadata": {
        "colab": {
          "base_uri": "https://localhost:8080/"
        },
        "id": "mg6mAW4atxWI",
        "outputId": "36422a01-8434-49da-f642-64ec5fbc9420"
      },
      "execution_count": null,
      "outputs": [
        {
          "output_type": "stream",
          "name": "stdout",
          "text": [
            "                            OLS Regression Results                            \n",
            "==============================================================================\n",
            "Dep. Variable:        e_fir_caw_count   R-squared:                       0.018\n",
            "Model:                            OLS   Adj. R-squared:                  0.010\n",
            "Method:                 Least Squares   F-statistic:                     2.187\n",
            "Date:                Sun, 17 Nov 2024   Prob (F-statistic):              0.142\n",
            "Time:                        00:07:36   Log-Likelihood:                -309.93\n",
            "No. Observations:                 120   AIC:                             623.9\n",
            "Df Residuals:                     118   BIC:                             629.4\n",
            "Df Model:                           1                                         \n",
            "Covariance Type:            nonrobust                                         \n",
            "==============================================================================\n",
            "                 coef    std err          t      P>|t|      [0.025      0.975]\n",
            "------------------------------------------------------------------------------\n",
            "const          4.0984      0.413      9.913      0.000       3.280       4.917\n",
            "women_whd      0.8720      0.590      1.479      0.142      -0.296       2.040\n",
            "==============================================================================\n",
            "Omnibus:                        9.211   Durbin-Watson:                   1.788\n",
            "Prob(Omnibus):                  0.010   Jarque-Bera (JB):                9.866\n",
            "Skew:                           0.701   Prob(JB):                      0.00720\n",
            "Kurtosis:                       2.898   Cond. No.                         2.60\n",
            "==============================================================================\n",
            "\n",
            "Notes:\n",
            "[1] Standard Errors assume that the covariance matrix of the errors is correctly specified.\n"
          ]
        }
      ]
    },
    {
      "cell_type": "markdown",
      "source": [
        "#The mean of FIR CAW reports at women-run WHD (4.1) is slightly higher (0.87 coefficient) than regular WHD.\n",
        "#With a p-value of 0.142, there is no statistically significant difference in FIR CAW reports between woman-run and regular WHD."
      ],
      "metadata": {
        "id": "EzYL4lkpt1Tu"
      }
    },
    {
      "cell_type": "code",
      "source": [
        "x = filtered_data[['women_whd']]\n",
        "y = filtered_data ['e_fir_bywomen_count']"
      ],
      "metadata": {
        "id": "v74YzFwyuHzF"
      },
      "execution_count": null,
      "outputs": []
    },
    {
      "cell_type": "code",
      "source": [
        "mean_ones = y[x['women_whd'] == 1].mean()\n",
        "mean_zeros = y[x ['women_whd']== 0].mean()\n",
        "diff_means = mean_ones - mean_zeros\n",
        "\n",
        "print(\"Mean of ones:\", mean_ones)\n",
        "print(\"Mean of zeros:\", mean_zeros)\n",
        "print(\"Difference in means:\", diff_means)"
      ],
      "metadata": {
        "colab": {
          "base_uri": "https://localhost:8080/"
        },
        "id": "koj_cg2PuRef",
        "outputId": "0499312e-3598-4e28-8c42-efd95f4da106"
      },
      "execution_count": null,
      "outputs": [
        {
          "output_type": "stream",
          "name": "stdout",
          "text": [
            "Mean of ones: 3.125\n",
            "Mean of zeros: 2.7151639344262297\n",
            "Difference in means: 0.4098360655737703\n"
          ]
        }
      ]
    },
    {
      "cell_type": "code",
      "source": [
        "# Create and fit the linear regression model\n",
        "model = LinearRegression()\n",
        "model.fit(x, y)\n",
        "\n",
        "# Make predictions\n",
        "y_pred = model.predict(x)\n",
        "\n",
        "# Print the coefficients\n",
        "print(\"Intercept:\", model.intercept_)\n",
        "print(\"Coefficient:\", model.coef_)\n",
        "\n",
        "# Scatterplot of the data with the regression line\n",
        "plt.scatter(x, y)\n",
        "plt.plot(x, y_pred, color='red')\n",
        "plt.show()"
      ],
      "metadata": {
        "colab": {
          "base_uri": "https://localhost:8080/",
          "height": 300
        },
        "id": "z0B8P51ZuUYA",
        "outputId": "2c9ee9aa-c477-425f-86d3-757b0df17f48"
      },
      "execution_count": null,
      "outputs": [
        {
          "output_type": "stream",
          "name": "stdout",
          "text": [
            "Intercept: 2.7151639344262293\n",
            "Coefficient: [0.40983607]\n"
          ]
        },
        {
          "output_type": "display_data",
          "data": {
            "text/plain": [
              "<Figure size 432x288 with 1 Axes>"
            ],
            "image/png": "[encoded data removed]"
          },
          "metadata": {
            "needs_background": "light"
          }
        }
      ]
    },
    {
      "cell_type": "code",
      "source": [
        "# Fit a regression using statsmodels for y on x\n",
        "\n",
        "# Add a constant to the independent variable\n",
        "x = sm.add_constant(x)\n",
        "\n",
        "# Fit the regression model\n",
        "model = sm.OLS(y, x).fit()\n",
        "\n",
        "# Print the summary of the model\n",
        "print(model.summary())"
      ],
      "metadata": {
        "colab": {
          "base_uri": "https://localhost:8080/"
        },
        "id": "sV5tquvSuXpY",
        "outputId": "17b38a8e-79c2-4443-b3e9-9c71f658dce3"
      },
      "execution_count": null,
      "outputs": [
        {
          "output_type": "stream",
          "name": "stdout",
          "text": [
            "                             OLS Regression Results                            \n",
            "===============================================================================\n",
            "Dep. Variable:     e_fir_bywomen_count   R-squared:                       0.016\n",
            "Model:                             OLS   Adj. R-squared:                  0.007\n",
            "Method:                  Least Squares   F-statistic:                     1.877\n",
            "Date:                 Sun, 17 Nov 2024   Prob (F-statistic):              0.173\n",
            "Time:                         00:07:36   Log-Likelihood:                -228.51\n",
            "No. Observations:                  120   AIC:                             461.0\n",
            "Df Residuals:                      118   BIC:                             466.6\n",
            "Df Model:                            1                                         \n",
            "Covariance Type:             nonrobust                                         \n",
            "==============================================================================\n",
            "                 coef    std err          t      P>|t|      [0.025      0.975]\n",
            "------------------------------------------------------------------------------\n",
            "const          2.7152      0.210     12.943      0.000       2.300       3.131\n",
            "women_whd      0.4098      0.299      1.370      0.173      -0.183       1.002\n",
            "==============================================================================\n",
            "Omnibus:                        8.471   Durbin-Watson:                   1.697\n",
            "Prob(Omnibus):                  0.014   Jarque-Bera (JB):                3.887\n",
            "Skew:                           0.170   Prob(JB):                        0.143\n",
            "Kurtosis:                       2.187   Cond. No.                         2.60\n",
            "==============================================================================\n",
            "\n",
            "Notes:\n",
            "[1] Standard Errors assume that the covariance matrix of the errors is correctly specified.\n"
          ]
        }
      ]
    },
    {
      "cell_type": "markdown",
      "source": [
        "#The mean of FIR CAW reports by women at women-run WHD (2.72) is slightly higher (0.41 coefficient) than regular WHD.\n",
        "#With a p-value of 0.173, there is no statistically significant difference in FIR CAW reports by women between woman-run and regular WHD."
      ],
      "metadata": {
        "id": "26Ua9HvguaIr"
      }
    },
    {
      "cell_type": "code",
      "source": [
        "x = filtered_data[['women_whd']]\n",
        "y = filtered_data ['e_arrest_count']"
      ],
      "metadata": {
        "id": "L1PNhfwGusfr"
      },
      "execution_count": null,
      "outputs": []
    },
    {
      "cell_type": "code",
      "source": [
        "mean_ones = y[x['women_whd'] == 1].mean()\n",
        "mean_zeros = y[x ['women_whd']== 0].mean()\n",
        "diff_means = mean_ones - mean_zeros\n",
        "\n",
        "print(\"Mean of ones:\", mean_ones)\n",
        "print(\"Mean of zeros:\", mean_zeros)\n",
        "print(\"Difference in means:\", diff_means)"
      ],
      "metadata": {
        "colab": {
          "base_uri": "https://localhost:8080/"
        },
        "id": "NhNXLbbPuzu1",
        "outputId": "fa6c2ef0-e18b-4e1a-f367-24432eb3274d"
      },
      "execution_count": null,
      "outputs": [
        {
          "output_type": "stream",
          "name": "stdout",
          "text": [
            "Mean of ones: 4.120762711864407\n",
            "Mean of zeros: 3.6045081967213113\n",
            "Difference in means: 0.5162545151430953\n"
          ]
        }
      ]
    },
    {
      "cell_type": "code",
      "source": [
        "# Create and fit the linear regression model\n",
        "model = LinearRegression()\n",
        "model.fit(x, y)\n",
        "\n",
        "# Make predictions\n",
        "y_pred = model.predict(x)\n",
        "\n",
        "# Print the coefficients\n",
        "print(\"Intercept:\", model.intercept_)\n",
        "print(\"Coefficient:\", model.coef_)\n",
        "\n",
        "# Scatterplot of the data with the regression line\n",
        "plt.scatter(x, y)\n",
        "plt.plot(x, y_pred, color='red')\n",
        "plt.show()"
      ],
      "metadata": {
        "colab": {
          "base_uri": "https://localhost:8080/",
          "height": 300
        },
        "id": "WaKfMfVfu2RI",
        "outputId": "a85a8f1d-3d9f-4314-f5a3-e27e07cd389f"
      },
      "execution_count": null,
      "outputs": [
        {
          "output_type": "stream",
          "name": "stdout",
          "text": [
            "Intercept: 3.6045081967213113\n",
            "Coefficient: [0.51625452]\n"
          ]
        },
        {
          "output_type": "display_data",
          "data": {
            "text/plain": [
              "<Figure size 432x288 with 1 Axes>"
            ],
            "image/png": "[encoded data removed]"
          },
          "metadata": {
            "needs_background": "light"
          }
        }
      ]
    },
    {
      "cell_type": "code",
      "source": [
        "# Fit a regression using statsmodels for y on x\n",
        "\n",
        "# Add a constant to the independent variable\n",
        "x = sm.add_constant(x)\n",
        "\n",
        "# Fit the regression model\n",
        "model = sm.OLS(y, x).fit()\n",
        "\n",
        "# Print the summary of the model\n",
        "print(model.summary())"
      ],
      "metadata": {
        "colab": {
          "base_uri": "https://localhost:8080/"
        },
        "id": "CyC9iHedu4mx",
        "outputId": "439c52d1-f458-4fe4-f5e0-37ad8b596583"
      },
      "execution_count": null,
      "outputs": [
        {
          "output_type": "stream",
          "name": "stdout",
          "text": [
            "                            OLS Regression Results                            \n",
            "==============================================================================\n",
            "Dep. Variable:         e_arrest_count   R-squared:                       0.005\n",
            "Model:                            OLS   Adj. R-squared:                 -0.003\n",
            "Method:                 Least Squares   F-statistic:                    0.6299\n",
            "Date:                Sun, 17 Nov 2024   Prob (F-statistic):              0.429\n",
            "Time:                        00:07:37   Log-Likelihood:                -321.71\n",
            "No. Observations:                 120   AIC:                             647.4\n",
            "Df Residuals:                     118   BIC:                             653.0\n",
            "Df Model:                           1                                         \n",
            "Covariance Type:            nonrobust                                         \n",
            "==============================================================================\n",
            "                 coef    std err          t      P>|t|      [0.025      0.975]\n",
            "------------------------------------------------------------------------------\n",
            "const          3.6045      0.456      7.903      0.000       2.701       4.508\n",
            "women_whd      0.5163      0.650      0.794      0.429      -0.772       1.804\n",
            "==============================================================================\n",
            "Omnibus:                       27.296   Durbin-Watson:                   1.590\n",
            "Prob(Omnibus):                  0.000   Jarque-Bera (JB):               36.925\n",
            "Skew:                           1.245   Prob(JB):                     9.59e-09\n",
            "Kurtosis:                       4.091   Cond. No.                         2.60\n",
            "==============================================================================\n",
            "\n",
            "Notes:\n",
            "[1] Standard Errors assume that the covariance matrix of the errors is correctly specified.\n"
          ]
        }
      ]
    },
    {
      "cell_type": "markdown",
      "source": [
        "\n",
        "#The mean of arrests as a result of women-run WHD (3.6) is slightly higher (0.52 coefficient) than regular WHD.\n",
        "#With a p-value of 0.429, there is no statistically significant difference in arrests between woman-run and regular WHD."
      ],
      "metadata": {
        "id": "xnDTDWIzu7nL"
      }
    },
    {
      "cell_type": "code",
      "source": [
        "x = filtered_data[['women_whd']]\n",
        "y = filtered_data ['e_dir_count']"
      ],
      "metadata": {
        "id": "oc_IGUvivL8E"
      },
      "execution_count": null,
      "outputs": []
    },
    {
      "cell_type": "code",
      "source": [
        "mean_ones = y[x['women_whd'] == 1].mean()\n",
        "mean_zeros = y[x ['women_whd']== 0].mean()\n",
        "diff_means = mean_ones - mean_zeros\n",
        "\n",
        "print(\"Mean of ones:\", mean_ones)\n",
        "print(\"Mean of zeros:\", mean_zeros)\n",
        "print(\"Difference in means:\", diff_means)"
      ],
      "metadata": {
        "colab": {
          "base_uri": "https://localhost:8080/"
        },
        "id": "YXAb0pjrvPfs",
        "outputId": "e2411879-bd81-4541-970b-b09117782625"
      },
      "execution_count": null,
      "outputs": [
        {
          "output_type": "stream",
          "name": "stdout",
          "text": [
            "Mean of ones: 0.885593220338983\n",
            "Mean of zeros: 0.9057377049180327\n",
            "Difference in means: -0.020144484579049715\n"
          ]
        }
      ]
    },
    {
      "cell_type": "code",
      "source": [
        "# Create and fit the linear regression model\n",
        "model = LinearRegression()\n",
        "model.fit(x, y)\n",
        "\n",
        "# Make predictions\n",
        "y_pred = model.predict(x)\n",
        "\n",
        "# Print the coefficients\n",
        "print(\"Intercept:\", model.intercept_)\n",
        "print(\"Coefficient:\", model.coef_)\n",
        "\n",
        "# Scatterplot of the data with the regression line\n",
        "plt.scatter(x, y)\n",
        "plt.plot(x, y_pred, color='red')\n",
        "plt.show()"
      ],
      "metadata": {
        "colab": {
          "base_uri": "https://localhost:8080/",
          "height": 300
        },
        "id": "rafTzLLFvR5T",
        "outputId": "2b1878e3-f9ec-4a72-eace-9fe76e856995"
      },
      "execution_count": null,
      "outputs": [
        {
          "output_type": "stream",
          "name": "stdout",
          "text": [
            "Intercept: 0.9057377049180328\n",
            "Coefficient: [-0.02014448]\n"
          ]
        },
        {
          "output_type": "display_data",
          "data": {
            "text/plain": [
              "<Figure size 432x288 with 1 Axes>"
            ],
            "image/png": "[encoded data removed]"
          },
          "metadata": {
            "needs_background": "light"
          }
        }
      ]
    },
    {
      "cell_type": "code",
      "source": [
        "# Fit a regression using statsmodels for y on x\n",
        "\n",
        "# Add a constant to the independent variable\n",
        "x = sm.add_constant(x)\n",
        "\n",
        "# Fit the regression model\n",
        "model = sm.OLS(y, x).fit()\n",
        "\n",
        "# Print the summary of the model\n",
        "print(model.summary())"
      ],
      "metadata": {
        "colab": {
          "base_uri": "https://localhost:8080/"
        },
        "id": "VaqKAibtvUcB",
        "outputId": "353d954c-9556-4b83-98bf-82398bd65a4e"
      },
      "execution_count": null,
      "outputs": [
        {
          "output_type": "stream",
          "name": "stdout",
          "text": [
            "                            OLS Regression Results                            \n",
            "==============================================================================\n",
            "Dep. Variable:            e_dir_count   R-squared:                       0.000\n",
            "Model:                            OLS   Adj. R-squared:                 -0.008\n",
            "Method:                 Least Squares   F-statistic:                  0.009217\n",
            "Date:                Sun, 17 Nov 2024   Prob (F-statistic):              0.924\n",
            "Time:                        00:07:37   Log-Likelihood:                -185.94\n",
            "No. Observations:                 120   AIC:                             375.9\n",
            "Df Residuals:                     118   BIC:                             381.5\n",
            "Df Model:                           1                                         \n",
            "Covariance Type:            nonrobust                                         \n",
            "==============================================================================\n",
            "                 coef    std err          t      P>|t|      [0.025      0.975]\n",
            "------------------------------------------------------------------------------\n",
            "const          0.9057      0.147      6.156      0.000       0.614       1.197\n",
            "women_whd     -0.0201      0.210     -0.096      0.924      -0.436       0.395\n",
            "==============================================================================\n",
            "Omnibus:                       60.263   Durbin-Watson:                   2.118\n",
            "Prob(Omnibus):                  0.000   Jarque-Bera (JB):              184.165\n",
            "Skew:                           1.916   Prob(JB):                     1.02e-40\n",
            "Kurtosis:                       7.707   Cond. No.                         2.60\n",
            "==============================================================================\n",
            "\n",
            "Notes:\n",
            "[1] Standard Errors assume that the covariance matrix of the errors is correctly specified.\n"
          ]
        }
      ]
    },
    {
      "cell_type": "markdown",
      "source": [
        "#The mean of DIR at women-run WHD (0.91) is negligibly lower (-0.02 coefficient) than regular WHD.\n",
        "#With a p-value of 0.924, there is no statistically significant difference in DIR between woman-run and regular WHD."
      ],
      "metadata": {
        "id": "1gZ1FakVvY3t"
      }
    },
    {
      "cell_type": "markdown",
      "source": [
        "**These statistics seem to say that there is no statistically significant advantage to woman-run WHD versus regular WHD (run by women or men).**\n",
        "The original paper agrees that there is no statistical difference in DIR and arrests between woman-run and regular WHD.\n",
        "However, the original paper wrote that FIR in CAW cases by women was statistically significant (p=.03, .06). This may require further digging to sort out.\n",
        "However, in the tables in the original paper (on p 4, Fig. 2), the bins are far apart, making it appear that the differences are larger between woman-run and regular WHD and yet have the same numbers. We ran into the same issue in our tables, but this still does not explain the statistical discrepancies.  "
      ],
      "metadata": {
        "id": "6ukeyDpTvqVL"
      }
    },
    {
      "cell_type": "markdown",
      "source": [
        "\n",
        "\n",
        "\n",
        "\n",
        "\n",
        "# **Models for Q2:**\n",
        "##Addressing Question 2: How much does a WHD in a police station promote the reporting of GBV compared to a police station with no WHD?\n",
        "\n",
        "GBV = Gender-Based Violence"
      ],
      "metadata": {
        "id": "Tz-eKi_m2SGp"
      }
    },
    {
      "cell_type": "markdown",
      "source": [
        "Separate treatment and control. Then, randomly subtract half from both women_whd and regular_whd and add the remainder together. Compare this to control.\n",
        "This is because the question involves having a WHD (any type) vs not having a WHD."
      ],
      "metadata": {
        "id": "D9sR5nv958hY"
      }
    },
    {
      "cell_type": "code",
      "source": [
        "#asked Gemini for starters on this paragraph of code:\n",
        "#Separate treatment and control groups:\n",
        "treatment_data = admin_data[admin_data['treatment'] == 'Treatment']\n",
        "control_data = admin_data[admin_data['treatment'] == 'Control']\n",
        "\n",
        "#Calculate the number of rows to remove from treatment_data:\n",
        "num_rows_to_remove = len(treatment_data) // 2\n",
        "\n",
        "#Randomly select indices to drop:\n",
        "indices_to_drop = treatment_data.sample(n=num_rows_to_remove, random_state=42).index\n",
        "\n",
        "#Drop the selected rows from treatment_data:\n",
        "treatment_data = treatment_data.drop(indices_to_drop)\n",
        "\n",
        "#Check - should be 60\n",
        "treatment_data.shape\n",
        "#treatment_data.value_counts()"
      ],
      "metadata": {
        "id": "Xuc95n440YgT"
      },
      "execution_count": null,
      "outputs": []
    },
    {
      "cell_type": "code",
      "source": [
        "#Calculate the sum of 'e_caw_rate' for combined_sample and control_data\n",
        "control_e_caw_rate = control_data['e_caw_rate'].sum()\n",
        "treatment_e_caw_rate = treatment_data['e_caw_rate'].sum()\n",
        "\n",
        "print(\"Control Group:\")\n",
        "print(control_e_caw_rate)\n",
        "print(\"\\nTreatment Group:\")\n",
        "print(treatment_e_caw_rate)"
      ],
      "metadata": {
        "id": "_pCxRXp02Rqo"
      },
      "execution_count": null,
      "outputs": []
    },
    {
      "cell_type": "code",
      "source": [
        "x = control_data[['e_caw_rate']]\n",
        "y = treatment_data [['e_caw_rate']]"
      ],
      "metadata": {
        "id": "Amb5pLW1467u"
      },
      "execution_count": null,
      "outputs": []
    },
    {
      "cell_type": "code",
      "source": [
        "mean_treatment = y.mean()\n",
        "mean_control = x.mean()\n",
        "diff_means = mean_treatment - mean_control\n",
        "\n",
        "print(\"Mean of Treatment:\", mean_treatment)\n",
        "print(\"Mean of Control:\", mean_control)\n",
        "print(\"Difference in means:\", diff_means)"
      ],
      "metadata": {
        "id": "EUV63cBm5LsC"
      },
      "execution_count": null,
      "outputs": []
    },
    {
      "cell_type": "code",
      "source": [
        "# Create and fit the linear regression model\n",
        "model = LinearRegression()\n",
        "model.fit(x, y)\n",
        "\n",
        "# Make predictions\n",
        "y_pred = model.predict(x)\n",
        "\n",
        "# Print the coefficients\n",
        "print(\"Intercept:\", model.intercept_)\n",
        "print(\"Coefficient:\", model.coef_)\n",
        "\n",
        "# Scatterplot of the data with the regression line\n",
        "plt.scatter(x, y)\n",
        "plt.plot(x, y_pred, color='red')\n",
        "plt.title(\"Endline CAW Rate\")\n",
        "plt.show()"
      ],
      "metadata": {
        "id": "ZXFhmk9Y6MD4"
      },
      "execution_count": null,
      "outputs": []
    },
    {
      "cell_type": "code",
      "source": [
        "# Fit a regression using statsmodels for y on x\n",
        "\n",
        "# Add a constant to the independent variable\n",
        "x = sm.add_constant(x)\n",
        "# Reset the indices of both x and y to ensure they are aligned\n",
        "# Before fitting the model.\n",
        "x = x.reset_index(drop=True)\n",
        "y = y.reset_index(drop=True)\n",
        "\n",
        "# Fit the regression model\n",
        "model = sm.OLS(y, x).fit()\n",
        "\n",
        "# Print the summary of the model\n",
        "print(model.summary())"
      ],
      "metadata": {
        "id": "O8RlKsHP6mHH"
      },
      "execution_count": null,
      "outputs": []
    },
    {
      "cell_type": "markdown",
      "source": [
        "#The mean of CAW rates at stations with a WHD (0.065) is slightly lower (0.13 coefficient) than without a WHD.\n",
        "With a p-value of 0.310, there is no statistically significant difference in CAW reports between stations with and without WHD."
      ],
      "metadata": {
        "id": "3mYSu47K8eq7"
      }
    },
    {
      "cell_type": "code",
      "source": [
        "\n",
        "control_e_dir_count = control_data['e_dir_count'].sum()\n",
        "treatment_e_dir_count = treatment_data['e_dir_count'].sum()\n",
        "\n",
        "print(\"Control Group:\")\n",
        "print(control_e_dir_count)\n",
        "print(\"\\nTreatment Group:\")\n",
        "print(treatment_e_dir_count)"
      ],
      "metadata": {
        "id": "cCZK9LLx_WRv"
      },
      "execution_count": null,
      "outputs": []
    },
    {
      "cell_type": "code",
      "source": [
        "x = control_data[['e_dir_count']]\n",
        "y = treatment_data [['e_dir_count']]"
      ],
      "metadata": {
        "id": "YfZr30a67L5l"
      },
      "execution_count": null,
      "outputs": []
    },
    {
      "cell_type": "code",
      "source": [
        "mean_treatment = y.mean()\n",
        "mean_control = x.mean()\n",
        "diff_means = mean_treatment - mean_control\n",
        "\n",
        "print(\"Mean of Treatment:\", mean_treatment)\n",
        "print(\"Mean of Control:\", mean_control)\n",
        "print(\"Difference in means:\", diff_means)"
      ],
      "metadata": {
        "id": "wKxt_eYh7SDT"
      },
      "execution_count": null,
      "outputs": []
    },
    {
      "cell_type": "code",
      "source": [
        "# Create and fit the linear regression model\n",
        "model = LinearRegression()\n",
        "model.fit(x, y)\n",
        "\n",
        "# Make predictions\n",
        "y_pred = model.predict(x)\n",
        "\n",
        "# Print the coefficients\n",
        "print(\"Intercept:\", model.intercept_)\n",
        "print(\"Coefficient:\", model.coef_)\n",
        "\n",
        "# Scatterplot of the data with the regression line\n",
        "plt.scatter(x, y)\n",
        "plt.plot(x, y_pred, color='red')\n",
        "plt.title(\"Endline DIR Count\")\n",
        "plt.xlabel(\"Control Stations\") # Add X-axis label\n",
        "plt.ylabel(\"Treatment Stations\")\n",
        "plt.show()"
      ],
      "metadata": {
        "id": "u7VywyMs7Vdb"
      },
      "execution_count": null,
      "outputs": []
    },
    {
      "cell_type": "code",
      "source": [
        "# Fit a regression using statsmodels for y on x\n",
        "\n",
        "# Add a constant to the independent variable\n",
        "x = sm.add_constant(x)\n",
        "# Reset the indices of both x and y to ensure they are aligned\n",
        "# Before fitting the model.\n",
        "x = x.reset_index(drop=True)\n",
        "y = y.reset_index(drop=True)\n",
        "\n",
        "# Fit the regression model\n",
        "model = sm.OLS(y, x).fit()\n",
        "\n",
        "# Print the summary of the model\n",
        "print(model.summary())"
      ],
      "metadata": {
        "id": "r-r7NQ5T7ZP2"
      },
      "execution_count": null,
      "outputs": []
    },
    {
      "cell_type": "markdown",
      "source": [
        "#The mean of DIR at stations with a WHD (0.84) is slightly higher (-0.38 coefficient) than without a WHD.\n",
        "With a p-value of 0.310, there is no statistically significant difference in DIR between stations with and without WHD."
      ],
      "metadata": {
        "id": "dQkrlQuZ8-V6"
      }
    },
    {
      "cell_type": "code",
      "source": [
        "\n",
        "control_e_arrest_count = control_data['e_arrest_count'].sum()\n",
        "treatment_e_arrest_count = treatment_data['e_arrest_count'].sum()\n",
        "\n",
        "print(\"Control Group:\")\n",
        "print(control_e_arrest_count)\n",
        "print(\"\\nTreatment Group:\")\n",
        "print(treatment_e_arrest_count)"
      ],
      "metadata": {
        "id": "fWNXARTwAo70"
      },
      "execution_count": null,
      "outputs": []
    },
    {
      "cell_type": "code",
      "source": [
        "x = control_data[['e_arrest_count']]\n",
        "y = treatment_data [['e_arrest_count']]"
      ],
      "metadata": {
        "id": "QRw4IwLF7erH"
      },
      "execution_count": null,
      "outputs": []
    },
    {
      "cell_type": "code",
      "source": [
        "mean_treatment = y.mean()\n",
        "mean_control = x.mean()\n",
        "diff_means = mean_treatment - mean_control\n",
        "\n",
        "print(\"Mean of Treatment:\", mean_treatment)\n",
        "print(\"Mean of Control:\", mean_control)\n",
        "print(\"Difference in means:\", diff_means)"
      ],
      "metadata": {
        "id": "lXuAg-zT7kIO"
      },
      "execution_count": null,
      "outputs": []
    },
    {
      "cell_type": "code",
      "source": [
        "# Create and fit the linear regression model\n",
        "model = LinearRegression()\n",
        "model.fit(x, y)\n",
        "\n",
        "# Make predictions\n",
        "y_pred = model.predict(x)\n",
        "\n",
        "# Print the coefficients\n",
        "print(\"Intercept:\", model.intercept_)\n",
        "print(\"Coefficient:\", model.coef_)\n",
        "\n",
        "# Scatterplot of the data with the regression line\n",
        "plt.scatter(x, y)\n",
        "plt.plot(x, y_pred, color='red')\n",
        "plt.title(\"Endline Arrest Count\")\n",
        "plt.xlabel(\"Control Stations\") # Add X-axis label\n",
        "plt.ylabel(\"Treatment Stations\")\n",
        "plt.show()"
      ],
      "metadata": {
        "id": "ePIlTKyc7n_l"
      },
      "execution_count": null,
      "outputs": []
    },
    {
      "cell_type": "code",
      "source": [
        "# Fit a regression using statsmodels for y on x\n",
        "\n",
        "# Add a constant to the independent variable\n",
        "x = sm.add_constant(x)\n",
        "# Reset the indices of both x and y to ensure they are aligned\n",
        "# Before fitting the model.\n",
        "x = x.reset_index(drop=True)\n",
        "y = y.reset_index(drop=True)\n",
        "\n",
        "# Fit the regression model\n",
        "model = sm.OLS(y, x).fit()\n",
        "\n",
        "# Print the summary of the model\n",
        "print(model.summary())"
      ],
      "metadata": {
        "id": "rHUvAXQw7vBh"
      },
      "execution_count": null,
      "outputs": []
    },
    {
      "cell_type": "markdown",
      "source": [
        "The mean of arrests at stations with a WHD (3.9) is slightly higher (-0.07 coefficient) than without a WHD.\n",
        "With a p-value of 0.611, there is no statistically significant difference in arrests between stations with and without WHD."
      ],
      "metadata": {
        "id": "mndvq6U89YtV"
      }
    },
    {
      "cell_type": "code",
      "source": [
        "\n",
        "\n",
        "control_e_fir_bywomen_count = control_data['e_fir_bywomen_count'].sum()\n",
        "treatment_e_fir_bywomen_count = treatment_data['e_fir_bywomen_count'].sum()\n",
        "\n",
        "print(\"Control Group:\")\n",
        "print(control_e_fir_bywomen_count)\n",
        "print(\"\\nTreatment Group:\")\n",
        "print(treatment_e_fir_bywomen_count)"
      ],
      "metadata": {
        "id": "6A6KJXbNB9aw"
      },
      "execution_count": null,
      "outputs": []
    },
    {
      "cell_type": "code",
      "source": [
        "x = control_data[['e_fir_bywomen_count']]\n",
        "y = treatment_data [['e_fir_bywomen_count']]"
      ],
      "metadata": {
        "id": "dkpap31V7ycX"
      },
      "execution_count": null,
      "outputs": []
    },
    {
      "cell_type": "code",
      "source": [
        "mean_treatment = y.mean()\n",
        "mean_control = x.mean()\n",
        "diff_means = mean_treatment - mean_control\n",
        "\n",
        "print(\"Mean of Treatment:\", mean_treatment)\n",
        "print(\"Mean of Control:\", mean_control)\n",
        "print(\"Difference in means:\", diff_means)"
      ],
      "metadata": {
        "id": "sek8VAv_75L7"
      },
      "execution_count": null,
      "outputs": []
    },
    {
      "cell_type": "code",
      "source": [
        "# Create and fit the linear regression model\n",
        "model = LinearRegression()\n",
        "model.fit(x, y)\n",
        "\n",
        "# Make predictions\n",
        "y_pred = model.predict(x)\n",
        "\n",
        "# Print the coefficients\n",
        "print(\"Intercept:\", model.intercept_)\n",
        "print(\"Coefficient:\", model.coef_)\n",
        "\n",
        "# Scatterplot of the data with the regression line\n",
        "plt.scatter(x, y)\n",
        "plt.plot(x, y_pred, color='red')\n",
        "plt.title(\"Endline FIR by Women Count\")\n",
        "plt.show()"
      ],
      "metadata": {
        "id": "0XzhJ-rk78oW"
      },
      "execution_count": null,
      "outputs": []
    },
    {
      "cell_type": "code",
      "source": [
        "# Fit a regression using statsmodels for y on x\n",
        "\n",
        "# Add a constant to the independent variable\n",
        "x = sm.add_constant(x)\n",
        "# Reset the indices of both x and y to ensure they are aligned\n",
        "# Before fitting the model.\n",
        "x = x.reset_index(drop=True)\n",
        "y = y.reset_index(drop=True)\n",
        "\n",
        "# Fit the regression model\n",
        "model = sm.OLS(y, x).fit()\n",
        "\n",
        "# Print the summary of the model\n",
        "print(model.summary())"
      ],
      "metadata": {
        "id": "jfKago0k7_Jp"
      },
      "execution_count": null,
      "outputs": []
    },
    {
      "cell_type": "markdown",
      "source": [
        "The mean of FIR by women at stations without a WHD (2.76) is slightly lower (0.02 coefficient) than with a WHD.\n",
        "With a p-value of 0.904, there is no statistically significant difference in FIR by women between stations with and without WHD."
      ],
      "metadata": {
        "id": "hcY4vfmx9j1W"
      }
    },
    {
      "cell_type": "code",
      "source": [
        "\n",
        "control_e_fir_overall_count = control_data['e_fir_overall_count'].sum()\n",
        "treatment_e_fir_overall_count = treatment_data['e_fir_overall_count'].sum()\n",
        "\n",
        "print(\"Control Group:\")\n",
        "print(control_e_fir_overall_count)\n",
        "print(\"\\nTreatment Group:\")\n",
        "print(treatment_e_fir_overall_count)"
      ],
      "metadata": {
        "id": "QQkdoHYSDQNT"
      },
      "execution_count": null,
      "outputs": []
    },
    {
      "cell_type": "code",
      "source": [
        "x = control_data[['e_fir_overall_count']]\n",
        "y = treatment_data [['e_fir_overall_count']]"
      ],
      "metadata": {
        "id": "JOo9MDey8DNp"
      },
      "execution_count": null,
      "outputs": []
    },
    {
      "cell_type": "code",
      "source": [
        "mean_treatment = y.mean()\n",
        "mean_control = x.mean()\n",
        "diff_means = mean_treatment - mean_control\n",
        "\n",
        "print(\"Mean of Treatment:\", mean_treatment)\n",
        "print(\"Mean of Control:\", mean_control)\n",
        "print(\"Difference in means:\", diff_means)"
      ],
      "metadata": {
        "id": "YIiAv4B18H6j"
      },
      "execution_count": null,
      "outputs": []
    },
    {
      "cell_type": "code",
      "source": [
        "# Create and fit the linear regression model\n",
        "model = LinearRegression()\n",
        "model.fit(x, y)\n",
        "\n",
        "# Make predictions\n",
        "y_pred = model.predict(x)\n",
        "\n",
        "# Print the coefficients\n",
        "print(\"Intercept:\", model.intercept_)\n",
        "print(\"Coefficient:\", model.coef_)\n",
        "\n",
        "# Scatterplot of the data with the regression line\n",
        "plt.scatter(x, y)\n",
        "plt.plot(x, y_pred, color='red')\n",
        "plt.title(\"Endline FIR Overall Count\")\n",
        "plt.xlabel(\"Control Stations\")\n",
        "plt.ylabel(\"Treatment Stations\")\n",
        "plt.title(\"Endline FIR Overall Count\")\n",
        "plt.show()"
      ],
      "metadata": {
        "id": "9xVtBpzZ8LXH"
      },
      "execution_count": null,
      "outputs": []
    },
    {
      "cell_type": "code",
      "source": [
        "# Fit a regression using statsmodels for y on x\n",
        "\n",
        "# Add a constant to the independent variable\n",
        "x = sm.add_constant(x)\n",
        "# Reset the indices of both x and y to ensure they are aligned\n",
        "# Before fitting the model.\n",
        "x = x.reset_index(drop=True)\n",
        "y = y.reset_index(drop=True)\n",
        "\n",
        "# Fit the regression model\n",
        "model = sm.OLS(y, x).fit()\n",
        "\n",
        "# Print the summary of the model\n",
        "print(model.summary())"
      ],
      "metadata": {
        "id": "Xtw4L2658NyO"
      },
      "execution_count": null,
      "outputs": []
    },
    {
      "cell_type": "markdown",
      "source": [
        "#The mean of FIR overall count at stations without a WHD (24.43) is lower (0.23 coefficient) than with a WHD.\n",
        "#With a p-value of 0.02, there is a definite statistically significant difference in FIR overall count between stations with and without WHD."
      ],
      "metadata": {
        "id": "F_oU3jlR9wbk"
      }
    },
    {
      "cell_type": "code",
      "source": [
        "columns_to_compare = ['e_fir_caw_count', 'e_fir_overall_count', 'e_fir_bywomen_count', 'e_dir_count', 'e_arrest_count']\n",
        "\n",
        "treatment_data['control'] = 0\n",
        "control_data['control'] = 1\n",
        "\n",
        "grouped_data = pd.concat([treatment_data, control_data]).groupby('control')[columns_to_compare].sum().reset_index()\n",
        "\n",
        "fig, ax = plt.subplots(figsize=(10, 6))\n",
        "\n",
        "width = 0.2\n",
        "x = grouped_data['control']\n",
        "\n",
        "for i, column in enumerate(columns_to_compare):\n",
        "    ax.bar(x.index + i * width, grouped_data[column], width, label=column)\n",
        "\n",
        "ax.set_xlabel('Treatment (0) Vs Control Stations (1)')\n",
        "ax.set_ylabel('Count')\n",
        "ax.set_title('Comparing Endline FIR, DIR, Arrests from Control Vs Treatment')\n",
        "ax.set_xticks(x.index + width)\n",
        "ax.set_xticklabels(x)\n",
        "ax.legend()\n",
        "\n",
        "plt.xticks(rotation=45, ha='right')\n",
        "plt.tight_layout()\n",
        "plt.show()"
      ],
      "metadata": {
        "id": "2O362HRAmKmc"
      },
      "execution_count": null,
      "outputs": []
    }
  ],
  "metadata": {
    "colab": {
      "provenance": [],
      "include_colab_link": true
    },
    "kernelspec": {
      "display_name": "Python 3 (ipykernel)",
      "language": "python",
      "name": "python3"
    },
    "language_info": {
      "codemirror_mode": {
        "name": "ipython",
        "version": 3
      },
      "file_extension": ".py",
      "mimetype": "text/x-python",
      "name": "python",
      "nbconvert_exporter": "python",
      "pygments_lexer": "ipython3",
      "version": "3.12.4"
    }
  },
  "nbformat": 4,
  "nbformat_minor": 0
}